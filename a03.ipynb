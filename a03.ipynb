{
 "cells": [
  {
   "cell_type": "markdown",
   "metadata": {},
   "source": [
    "# Настройка collab"
   ]
  },
  {
   "cell_type": "code",
   "execution_count": null,
   "metadata": {
    "colab": {
     "base_uri": "https://localhost:8080/",
     "height": 269
    },
    "colab_type": "code",
    "collapsed": true,
    "id": "GsWAiuMlgzqo",
    "outputId": "f88da05b-ddff-44af-9655-052a260ed1bd"
   },
   "outputs": [],
   "source": [
    "!pip install kaggle pymorphy2"
   ]
  },
  {
   "cell_type": "code",
   "execution_count": null,
   "metadata": {
    "colab": {},
    "colab_type": "code",
    "collapsed": true,
    "id": "_lwbyrblgzqt"
   },
   "outputs": [],
   "source": [
    "import json\n",
    "import os"
   ]
  },
  {
   "cell_type": "code",
   "execution_count": null,
   "metadata": {
    "colab": {},
    "colab_type": "code",
    "collapsed": true,
    "id": "xPxXTzodgzqx"
   },
   "outputs": [],
   "source": [
    "if not os.path.isdir('/root/.kaggle'):\n",
    "    os.makedirs('/root/.kaggle')\n",
    "with open('/root/.kaggle/kaggle.json', 'w') as file:\n",
    "    json.dump({\"username\": \"\", \"key\": \"\"}, file)"
   ]
  },
  {
   "cell_type": "code",
   "execution_count": null,
   "metadata": {
    "colab": {},
    "colab_type": "code",
    "collapsed": true,
    "id": "HYhsjXtygzq0"
   },
   "outputs": [],
   "source": [
    "!chmod 600 \"/root/.kaggle/kaggle.json\""
   ]
  },
  {
   "cell_type": "code",
   "execution_count": null,
   "metadata": {
    "colab": {},
    "colab_type": "code",
    "collapsed": true,
    "id": "ja_FK2JOgzq4"
   },
   "outputs": [],
   "source": [
    "if not os.path.isdir('data'):\n",
    "    os.makedirs('data')"
   ]
  },
  {
   "cell_type": "code",
   "execution_count": null,
   "metadata": {
    "colab": {
     "base_uri": "https://localhost:8080/",
     "height": 67
    },
    "colab_type": "code",
    "collapsed": true,
    "id": "bReEq6dhgzq7",
    "outputId": "220dd860-81c2-4c8d-ad66-64f0dffa831b"
   },
   "outputs": [],
   "source": [
    "!kaggle competitions download -c nlp-workshop-diagnosis-prediction --path data"
   ]
  },
  {
   "cell_type": "markdown",
   "metadata": {
    "colab_type": "text",
    "id": "rzWf6TzJgzq_"
   },
   "source": [
    "# Local"
   ]
  },
  {
   "cell_type": "code",
   "execution_count": 1,
   "metadata": {
    "colab": {},
    "colab_type": "code",
    "collapsed": true,
    "id": "pah39plhgzrA"
   },
   "outputs": [],
   "source": [
    "import zipfile"
   ]
  },
  {
   "cell_type": "code",
   "execution_count": 2,
   "metadata": {
    "colab": {},
    "colab_type": "code",
    "collapsed": true,
    "id": "AzQOimEcgzrE"
   },
   "outputs": [],
   "source": [
    "import numpy as np\n",
    "import pandas as pd"
   ]
  },
  {
   "cell_type": "code",
   "execution_count": 3,
   "metadata": {
    "colab": {},
    "colab_type": "code",
    "collapsed": true,
    "id": "XBfaeKIggzrI"
   },
   "outputs": [],
   "source": [
    "import matplotlib.pyplot as plt"
   ]
  },
  {
   "cell_type": "code",
   "execution_count": 4,
   "metadata": {
    "colab": {},
    "colab_type": "code",
    "collapsed": true,
    "id": "aoGUaN09gzrM"
   },
   "outputs": [],
   "source": [
    "%matplotlib inline"
   ]
  },
  {
   "cell_type": "code",
   "execution_count": 91,
   "metadata": {
    "colab": {},
    "colab_type": "code",
    "collapsed": true,
    "id": "l4StJUm-gzrQ"
   },
   "outputs": [],
   "source": [
    "pd.options.display.max_columns = 50\n",
    "pd.options.display.max_colwidth = 500"
   ]
  },
  {
   "cell_type": "markdown",
   "metadata": {
    "colab_type": "text",
    "id": "RDe89K4HgzrT"
   },
   "source": [
    "# Read data"
   ]
  },
  {
   "cell_type": "code",
   "execution_count": 6,
   "metadata": {
    "colab": {
     "base_uri": "https://localhost:8080/",
     "height": 50
    },
    "colab_type": "code",
    "id": "3GTZWAI6gzrU",
    "outputId": "babc78d4-ab7c-4b07-fdba-0e4aa657a85b"
   },
   "outputs": [
    {
     "name": "stdout",
     "output_type": "stream",
     "text": [
      "names: ['train.csv']\n",
      "names: ['test.csv']\n"
     ]
    }
   ],
   "source": [
    "with zipfile.ZipFile(\"data/train.csv.zip\") as z:\n",
    "    names = z.namelist()\n",
    "    print(f\"names: {names}\")\n",
    "    with z.open(names[0]) as f:\n",
    "        pd_train = pd.read_csv(f, index_col=0)\n",
    "        \n",
    "with zipfile.ZipFile(\"data/test.csv.zip\") as z:\n",
    "    names = z.namelist()\n",
    "    print(f\"names: {names}\")\n",
    "    with z.open(names[0]) as f:\n",
    "        pd_test = pd.read_csv(f, index_col=0)\n",
    "        \n",
    "pd_sample = pd.read_csv(\"data/sample_submission.csv\")"
   ]
  },
  {
   "cell_type": "code",
   "execution_count": 7,
   "metadata": {
    "colab": {
     "base_uri": "https://localhost:8080/",
     "height": 140
    },
    "colab_type": "code",
    "id": "wNlhYiuqgzra",
    "outputId": "5b70b687-e612-4d67-8db3-8ddff79e9945"
   },
   "outputs": [
    {
     "data": {
      "text/html": [
       "<div>\n",
       "<style scoped>\n",
       "    .dataframe tbody tr th:only-of-type {\n",
       "        vertical-align: middle;\n",
       "    }\n",
       "\n",
       "    .dataframe tbody tr th {\n",
       "        vertical-align: top;\n",
       "    }\n",
       "\n",
       "    .dataframe thead th {\n",
       "        text-align: right;\n",
       "    }\n",
       "</style>\n",
       "<table border=\"1\" class=\"dataframe\">\n",
       "  <thead>\n",
       "    <tr style=\"text-align: right;\">\n",
       "      <th></th>\n",
       "      <th>Id_Пациента</th>\n",
       "      <th>Возраст</th>\n",
       "      <th>Диагноз</th>\n",
       "      <th>Жалобы</th>\n",
       "      <th>Источник_рекламы</th>\n",
       "      <th>Клиника</th>\n",
       "      <th>Код_диагноза</th>\n",
       "      <th>Пол</th>\n",
       "      <th>Услуга</th>\n",
       "    </tr>\n",
       "  </thead>\n",
       "  <tbody>\n",
       "    <tr>\n",
       "      <th>0</th>\n",
       "      <td>115819</td>\n",
       "      <td>54</td>\n",
       "      <td>Гипертензивная болезнь сердца [гипертоническая...</td>\n",
       "      <td>на повышение ад утром до 140/90 мм.рт.ст., пер...</td>\n",
       "      <td>Другое</td>\n",
       "      <td>5</td>\n",
       "      <td>I11</td>\n",
       "      <td>2</td>\n",
       "      <td>Прием врача-кардиолога  повторный, амбулаторный</td>\n",
       "    </tr>\n",
       "    <tr>\n",
       "      <th>1</th>\n",
       "      <td>399973</td>\n",
       "      <td>32</td>\n",
       "      <td>Доброкачественное новообразование молочной железы</td>\n",
       "      <td>На наличие опухоли в левой молочной железе</td>\n",
       "      <td>Другое</td>\n",
       "      <td>3</td>\n",
       "      <td>D24</td>\n",
       "      <td>2</td>\n",
       "      <td>Прием врача-онколога (маммолога), повторный, а...</td>\n",
       "    </tr>\n",
       "  </tbody>\n",
       "</table>\n",
       "</div>"
      ],
      "text/plain": [
       "   Id_Пациента  Возраст                                            Диагноз  \\\n",
       "0       115819       54  Гипертензивная болезнь сердца [гипертоническая...   \n",
       "1       399973       32  Доброкачественное новообразование молочной железы   \n",
       "\n",
       "                                              Жалобы Источник_рекламы  \\\n",
       "0  на повышение ад утром до 140/90 мм.рт.ст., пер...           Другое   \n",
       "1         На наличие опухоли в левой молочной железе           Другое   \n",
       "\n",
       "   Клиника Код_диагноза  Пол  \\\n",
       "0        5          I11    2   \n",
       "1        3          D24    2   \n",
       "\n",
       "                                              Услуга  \n",
       "0    Прием врача-кардиолога  повторный, амбулаторный  \n",
       "1  Прием врача-онколога (маммолога), повторный, а...  "
      ]
     },
     "execution_count": 7,
     "metadata": {},
     "output_type": "execute_result"
    }
   ],
   "source": [
    "pd_train.head(2)"
   ]
  },
  {
   "cell_type": "code",
   "execution_count": 8,
   "metadata": {
    "colab": {
     "base_uri": "https://localhost:8080/",
     "height": 106
    },
    "colab_type": "code",
    "id": "C3ba5Rcxgzrh",
    "outputId": "8a86e108-329f-42c1-e904-4c40061257a1"
   },
   "outputs": [
    {
     "data": {
      "text/html": [
       "<div>\n",
       "<style scoped>\n",
       "    .dataframe tbody tr th:only-of-type {\n",
       "        vertical-align: middle;\n",
       "    }\n",
       "\n",
       "    .dataframe tbody tr th {\n",
       "        vertical-align: top;\n",
       "    }\n",
       "\n",
       "    .dataframe thead th {\n",
       "        text-align: right;\n",
       "    }\n",
       "</style>\n",
       "<table border=\"1\" class=\"dataframe\">\n",
       "  <thead>\n",
       "    <tr style=\"text-align: right;\">\n",
       "      <th></th>\n",
       "      <th>Id_Пациента</th>\n",
       "      <th>Возраст</th>\n",
       "      <th>Жалобы</th>\n",
       "      <th>Источник_рекламы</th>\n",
       "      <th>Клиника</th>\n",
       "      <th>Пол</th>\n",
       "      <th>Услуга</th>\n",
       "    </tr>\n",
       "  </thead>\n",
       "  <tbody>\n",
       "    <tr>\n",
       "      <th>0</th>\n",
       "      <td>598841</td>\n",
       "      <td>43</td>\n",
       "      <td>на момент осмотра не предъявляет</td>\n",
       "      <td>Рекомендации знакомых</td>\n",
       "      <td>5</td>\n",
       "      <td>2</td>\n",
       "      <td>Прием врача-акушера-гинеколога повторный, амбу...</td>\n",
       "    </tr>\n",
       "    <tr>\n",
       "      <th>1</th>\n",
       "      <td>596613</td>\n",
       "      <td>37</td>\n",
       "      <td>На слабость, головную боль, на расфокусировку ...</td>\n",
       "      <td>Зарегистрировался на сайте</td>\n",
       "      <td>3</td>\n",
       "      <td>1</td>\n",
       "      <td>Прием врача-кардиолога  повторный, амбулаторный</td>\n",
       "    </tr>\n",
       "  </tbody>\n",
       "</table>\n",
       "</div>"
      ],
      "text/plain": [
       "   Id_Пациента  Возраст                                             Жалобы  \\\n",
       "0       598841       43                   на момент осмотра не предъявляет   \n",
       "1       596613       37  На слабость, головную боль, на расфокусировку ...   \n",
       "\n",
       "             Источник_рекламы  Клиника  Пол  \\\n",
       "0       Рекомендации знакомых        5    2   \n",
       "1  Зарегистрировался на сайте        3    1   \n",
       "\n",
       "                                              Услуга  \n",
       "0  Прием врача-акушера-гинеколога повторный, амбу...  \n",
       "1    Прием врача-кардиолога  повторный, амбулаторный  "
      ]
     },
     "execution_count": 8,
     "metadata": {},
     "output_type": "execute_result"
    }
   ],
   "source": [
    "pd_test.head(2)"
   ]
  },
  {
   "cell_type": "code",
   "execution_count": 9,
   "metadata": {
    "colab": {
     "base_uri": "https://localhost:8080/",
     "height": 106
    },
    "colab_type": "code",
    "id": "9RNx-u6mgzrm",
    "outputId": "9728322d-c53b-4845-bba0-e14d95131652"
   },
   "outputs": [
    {
     "data": {
      "text/html": [
       "<div>\n",
       "<style scoped>\n",
       "    .dataframe tbody tr th:only-of-type {\n",
       "        vertical-align: middle;\n",
       "    }\n",
       "\n",
       "    .dataframe tbody tr th {\n",
       "        vertical-align: top;\n",
       "    }\n",
       "\n",
       "    .dataframe thead th {\n",
       "        text-align: right;\n",
       "    }\n",
       "</style>\n",
       "<table border=\"1\" class=\"dataframe\">\n",
       "  <thead>\n",
       "    <tr style=\"text-align: right;\">\n",
       "      <th></th>\n",
       "      <th>index</th>\n",
       "      <th>Код_диагноза</th>\n",
       "    </tr>\n",
       "  </thead>\n",
       "  <tbody>\n",
       "    <tr>\n",
       "      <th>0</th>\n",
       "      <td>0</td>\n",
       "      <td>J06.9</td>\n",
       "    </tr>\n",
       "    <tr>\n",
       "      <th>1</th>\n",
       "      <td>1</td>\n",
       "      <td>J06.9</td>\n",
       "    </tr>\n",
       "  </tbody>\n",
       "</table>\n",
       "</div>"
      ],
      "text/plain": [
       "   index Код_диагноза\n",
       "0      0        J06.9\n",
       "1      1        J06.9"
      ]
     },
     "execution_count": 9,
     "metadata": {},
     "output_type": "execute_result"
    }
   ],
   "source": [
    "pd_sample.head(2)"
   ]
  },
  {
   "cell_type": "code",
   "execution_count": 10,
   "metadata": {
    "colab": {
     "base_uri": "https://localhost:8080/",
     "height": 34
    },
    "colab_type": "code",
    "id": "3_HqQRYqgzrr",
    "outputId": "28cb909e-67f7-4fc3-887c-29b8e610885e"
   },
   "outputs": [
    {
     "data": {
      "text/plain": [
       "((49619, 9), (12021, 7), (12021, 2))"
      ]
     },
     "execution_count": 10,
     "metadata": {},
     "output_type": "execute_result"
    }
   ],
   "source": [
    "pd_train.shape, pd_test.shape, pd_sample.shape"
   ]
  },
  {
   "cell_type": "markdown",
   "metadata": {
    "colab_type": "text",
    "id": "U-vwIeYwgzrx"
   },
   "source": [
    "# Target"
   ]
  },
  {
   "cell_type": "code",
   "execution_count": 11,
   "metadata": {
    "colab": {
     "base_uri": "https://localhost:8080/",
     "height": 302
    },
    "colab_type": "code",
    "id": "Xk5uJknAgzry",
    "outputId": "5dda1dcd-a51a-4785-be93-30df196c247a"
   },
   "outputs": [
    {
     "data": {
      "text/plain": [
       "<matplotlib.axes._subplots.AxesSubplot at 0x7fda85d32b00>"
      ]
     },
     "execution_count": 11,
     "metadata": {},
     "output_type": "execute_result"
    },
    {
     "data": {
      "image/png": "[encoded data removed]",
      "text/plain": [
       "<Figure size 432x288 with 1 Axes>"
      ]
     },
     "metadata": {
      "needs_background": "light"
     },
     "output_type": "display_data"
    }
   ],
   "source": [
    "pd_train[\"Код_диагноза\"].value_counts(normalize=True).cumsum().reset_index(drop=True) \\\n",
    "    .plot(grid=True, yticks=np.arange(0, 1.01, 0.1))"
   ]
  },
  {
   "cell_type": "code",
   "execution_count": 12,
   "metadata": {
    "colab": {},
    "colab_type": "code",
    "collapsed": true,
    "id": "TthGd1Dngzr2"
   },
   "outputs": [],
   "source": [
    "target_dict = pd_train[\"Код_диагноза\"].value_counts().reset_index()[\"index\"]\n",
    "target_dict = target_dict.reset_index().set_index(\"index\")\n",
    "target_dict.iloc[1200:] = -1\n",
    "target_dict_code2ix = target_dict['level_0'].to_dict()\n",
    "target_dict_ix2code = {v: k for k, v in target_dict_code2ix.items() if v >= 0}"
   ]
  },
  {
   "cell_type": "markdown",
   "metadata": {},
   "source": [
    "Оставляем 1200 фичей, что покрывает более 98% примеров. Остальное выбрасываем.\n",
    "Если выбросить больше, то тереям в качестве (выброшенные классы могли хорошо предсказываться)\n",
    "Если выбросить меньше, то остаются классы, где пример всего один."
   ]
  },
  {
   "cell_type": "code",
   "execution_count": 13,
   "metadata": {
    "colab": {},
    "colab_type": "code",
    "collapsed": true,
    "id": "P8oGJgchgzr5"
   },
   "outputs": [],
   "source": [
    "pd_train[\"y\"] = pd_train[\"Код_диагноза\"].map(target_dict_code2ix)"
   ]
  },
  {
   "cell_type": "code",
   "execution_count": 14,
   "metadata": {
    "colab": {},
    "colab_type": "code",
    "collapsed": true,
    "id": "nM5eeECCgzr8"
   },
   "outputs": [],
   "source": [
    "X = pd_train.loc[pd_train[\"y\"].ge(0), [\"Id_Пациента\", \"Возраст\", \"Жалобы\", \"Источник_рекламы\", \"Клиника\", \"Пол\", \"Услуга\"]].copy()\n",
    "y = pd_train.loc[pd_train[\"y\"].ge(0), \"y\"].values"
   ]
  },
  {
   "cell_type": "code",
   "execution_count": 15,
   "metadata": {
    "colab": {
     "base_uri": "https://localhost:8080/",
     "height": 54
    },
    "colab_type": "code",
    "id": "ginxIl7Ygzr_",
    "outputId": "27dd641d-a2e2-4ae9-a0e9-a429427d988d"
   },
   "outputs": [
    {
     "data": {
      "text/plain": [
       "((48681, 7), (48681,))"
      ]
     },
     "execution_count": 15,
     "metadata": {},
     "output_type": "execute_result"
    }
   ],
   "source": [
    "X.shape, y.shape"
   ]
  },
  {
   "cell_type": "code",
   "execution_count": 16,
   "metadata": {
    "colab": {},
    "colab_type": "code",
    "collapsed": true,
    "id": "5JnMl7F8gzsD"
   },
   "outputs": [],
   "source": [
    "from sklearn.model_selection import train_test_split\n",
    "i_train, i_test = train_test_split(np.arange(y.shape[0]), test_size=0.3, stratify=y)"
   ]
  },
  {
   "cell_type": "markdown",
   "metadata": {
    "colab_type": "text",
    "id": "OR6j-VbEgzsS"
   },
   "source": [
    "# Features"
   ]
  },
  {
   "cell_type": "code",
   "execution_count": 20,
   "metadata": {
    "colab": {},
    "colab_type": "code",
    "collapsed": true,
    "id": "OKWT5cNUgzsT"
   },
   "outputs": [],
   "source": [
    "from sklearn.base import BaseEstimator, TransformerMixin"
   ]
  },
  {
   "cell_type": "code",
   "execution_count": 21,
   "metadata": {
    "colab": {},
    "colab_type": "code",
    "collapsed": true,
    "id": "buZLgYv3gzsV"
   },
   "outputs": [],
   "source": [
    "class ColumnSelector(BaseEstimator, TransformerMixin):\n",
    "    def __init__(self, col_name):\n",
    "        self.col_name = col_name\n",
    "        \n",
    "    def fit(self, X, y=None):\n",
    "        return self\n",
    "    \n",
    "    def transform(self, X, y=None):\n",
    "        return X[self.col_name].values"
   ]
  },
  {
   "cell_type": "markdown",
   "metadata": {
    "colab_type": "text",
    "id": "3jyj_Zg9gzsZ"
   },
   "source": [
    "## MorphAnalyzer"
   ]
  },
  {
   "cell_type": "code",
   "execution_count": 22,
   "metadata": {
    "colab": {},
    "colab_type": "code",
    "collapsed": true,
    "id": "V_SVZXcFgzsa"
   },
   "outputs": [],
   "source": [
    "from pymorphy2 import MorphAnalyzer"
   ]
  },
  {
   "cell_type": "code",
   "execution_count": 23,
   "metadata": {
    "colab": {},
    "colab_type": "code",
    "collapsed": true,
    "id": "jUChpmRTgzsf"
   },
   "outputs": [],
   "source": [
    "morph = MorphAnalyzer()"
   ]
  },
  {
   "cell_type": "code",
   "execution_count": 24,
   "metadata": {
    "colab": {
     "base_uri": "https://localhost:8080/",
     "height": 70
    },
    "colab_type": "code",
    "id": "RkeV6qLegzsj",
    "outputId": "9039034f-9ee1-4473-b793-acaba8a06fd9"
   },
   "outputs": [
    {
     "data": {
      "text/plain": [
       "[Parse(word='раму', tag=OpencorporaTag('NOUN,inan,masc,Geox sing,datv'), normal_form='рам', score=0.5, methods_stack=((<DictionaryAnalyzer>, 'раму', 32, 2),)),\n",
       " Parse(word='раму', tag=OpencorporaTag('NOUN,inan,femn sing,accs'), normal_form='рама', score=0.5, methods_stack=((<DictionaryAnalyzer>, 'раму', 55, 3),))]"
      ]
     },
     "execution_count": 24,
     "metadata": {},
     "output_type": "execute_result"
    }
   ],
   "source": [
    "morph.parse(\"раму\")"
   ]
  },
  {
   "cell_type": "code",
   "execution_count": 25,
   "metadata": {
    "colab": {},
    "colab_type": "code",
    "collapsed": true,
    "id": "pbsyv1ragzsm"
   },
   "outputs": [],
   "source": [
    "import re"
   ]
  },
  {
   "cell_type": "code",
   "execution_count": 26,
   "metadata": {
    "colab": {},
    "colab_type": "code",
    "collapsed": true,
    "id": "BRxpi-hwgzsp"
   },
   "outputs": [],
   "source": [
    "class Normalizer(BaseEstimator, TransformerMixin):\n",
    "    \"\"\"Приводит слова к нормальной форме.\n",
    "    \n",
    "    `_cache` нужен чтобы ускорить обработку. Словарь небольшой (порядка 2000 слов), памяти на кеш много не нужно.\n",
    "    \"\"\"\n",
    "    _cache = {}\n",
    "    \n",
    "    @staticmethod\n",
    "    def _process(line):\n",
    "        def norm(word):\n",
    "            if word in Normalizer._cache:\n",
    "                return Normalizer._cache[word]\n",
    "            \n",
    "            n = morph.parse(word)[0].normal_form\n",
    "            Normalizer._cache[word] = n\n",
    "            \n",
    "            return n\n",
    "        \n",
    "        return \" \".join([norm(word) for word in re.findall(r\"\\w+\", line.lower())])\n",
    "    \n",
    "    def __init__(self):\n",
    "        pass\n",
    "        \n",
    "    def fit(self, X, y=None):\n",
    "        return self\n",
    "    \n",
    "    def transform(self, X, y=None):\n",
    "        return np.array([self._process(line) for line in X])"
   ]
  },
  {
   "cell_type": "code",
   "execution_count": 27,
   "metadata": {
    "colab": {
     "base_uri": "https://localhost:8080/",
     "height": 54
    },
    "colab_type": "code",
    "id": "HC2qDWxjgzsr",
    "outputId": "93a9e33f-8498-4dc9-9a41-77ab255b83ab"
   },
   "outputs": [
    {
     "data": {
      "text/plain": [
       "array(['мама мыло рам', 'папа чинить сапог'], dtype='<U17')"
      ]
     },
     "execution_count": 27,
     "metadata": {},
     "output_type": "execute_result"
    }
   ],
   "source": [
    "Normalizer().fit_transform([\"Мама мыла- раму\", \"Папа чинил сапоги\"])"
   ]
  },
  {
   "cell_type": "markdown",
   "metadata": {
    "colab_type": "text",
    "id": "pZzt0Ydcgzsv"
   },
   "source": [
    "## Услуга"
   ]
  },
  {
   "cell_type": "code",
   "execution_count": 28,
   "metadata": {
    "colab": {},
    "colab_type": "code",
    "collapsed": true,
    "id": "_rRCo6B-gzsw"
   },
   "outputs": [],
   "source": [
    "from sklearn.pipeline import Pipeline\n",
    "from sklearn.feature_extraction.text import TfidfVectorizer"
   ]
  },
  {
   "cell_type": "code",
   "execution_count": 29,
   "metadata": {
    "colab": {},
    "colab_type": "code",
    "collapsed": true,
    "id": "GLMFtEeSgzs3"
   },
   "outputs": [],
   "source": [
    "pipe_service = Pipeline([\n",
    "    ('select', ColumnSelector(\"Услуга\")),\n",
    "    ('norm', Normalizer()),\n",
    "    ('tfidf', TfidfVectorizer()),\n",
    "])"
   ]
  },
  {
   "cell_type": "code",
   "execution_count": 30,
   "metadata": {
    "colab": {
     "base_uri": "https://localhost:8080/",
     "height": 70
    },
    "colab_type": "code",
    "id": "gGhl5UJ6gztA",
    "outputId": "263de43f-300f-4888-ec16-86ccc89aedee"
   },
   "outputs": [
    {
     "name": "stdout",
     "output_type": "stream",
     "text": [
      "CPU times: user 604 ms, sys: 21.6 ms, total: 626 ms\n",
      "Wall time: 625 ms\n"
     ]
    }
   ],
   "source": [
    "%%time\n",
    "# pipe_service.set_params(tfidf__token_pattern=r\"\\b\\w{,5}\")\n",
    "X_service = pipe_service.fit_transform(X)"
   ]
  },
  {
   "cell_type": "code",
   "execution_count": 31,
   "metadata": {
    "colab": {
     "base_uri": "https://localhost:8080/",
     "height": 54
    },
    "colab_type": "code",
    "id": "2tnQi7-sgztG",
    "outputId": "d88ec8cb-156b-4c5e-8fae-a02494efd0f3"
   },
   "outputs": [
    {
     "data": {
      "text/plain": [
       "(48681, 241)"
      ]
     },
     "execution_count": 31,
     "metadata": {},
     "output_type": "execute_result"
    }
   ],
   "source": [
    "X_service.shape"
   ]
  },
  {
   "cell_type": "code",
   "execution_count": null,
   "metadata": {
    "colab": {
     "base_uri": "https://localhost:8080/",
     "height": 4086
    },
    "colab_type": "code",
    "id": "D_mKwmu1gztL",
    "outputId": "a28511f7-c9c1-42db-e9a3-fef65295dec7"
   },
   "outputs": [],
   "source": [
    "pipe_service.named_steps[\"tfidf\"].vocabulary_"
   ]
  },
  {
   "cell_type": "markdown",
   "metadata": {
    "colab_type": "text",
    "id": "MTvjamWEgztQ"
   },
   "source": [
    "## Жалоба"
   ]
  },
  {
   "cell_type": "code",
   "execution_count": 33,
   "metadata": {
    "colab": {},
    "colab_type": "code",
    "collapsed": true,
    "id": "z1Jrr6k4gztT"
   },
   "outputs": [],
   "source": [
    "from sklearn.pipeline import Pipeline\n",
    "from sklearn.feature_extraction.text import TfidfVectorizer"
   ]
  },
  {
   "cell_type": "code",
   "execution_count": 34,
   "metadata": {
    "colab": {},
    "colab_type": "code",
    "collapsed": true,
    "id": "dc8yHu0EgztW"
   },
   "outputs": [],
   "source": [
    "pipe_symptom = Pipeline([\n",
    "    ('select', ColumnSelector(\"Жалобы\")),\n",
    "    ('norm', Normalizer()),\n",
    "    ('tfidf', TfidfVectorizer(min_df=4, max_df=0.6, max_features=10000)),\n",
    "])"
   ]
  },
  {
   "cell_type": "code",
   "execution_count": 35,
   "metadata": {
    "colab": {
     "base_uri": "https://localhost:8080/",
     "height": 70
    },
    "colab_type": "code",
    "id": "2xUF8tJhgztY",
    "outputId": "42728a07-1fb5-44f0-9bf8-cc94f0c5c40e"
   },
   "outputs": [
    {
     "name": "stdout",
     "output_type": "stream",
     "text": [
      "CPU times: user 1.46 s, sys: 36.6 ms, total: 1.5 s\n",
      "Wall time: 1.5 s\n"
     ]
    }
   ],
   "source": [
    "%%time\n",
    "# pipe_service.set_params(tfidf__token_pattern=r\"\\b\\w{,5}\")\n",
    "X_symptom = pipe_symptom.fit_transform(X)"
   ]
  },
  {
   "cell_type": "code",
   "execution_count": 36,
   "metadata": {
    "colab": {
     "base_uri": "https://localhost:8080/",
     "height": 54
    },
    "colab_type": "code",
    "id": "aCc35Wz0gztb",
    "outputId": "d146cbdc-9821-4451-d83a-72b15ec9e739"
   },
   "outputs": [
    {
     "data": {
      "text/plain": [
       "(48681, 2221)"
      ]
     },
     "execution_count": 36,
     "metadata": {},
     "output_type": "execute_result"
    }
   ],
   "source": [
    "X_symptom.shape"
   ]
  },
  {
   "cell_type": "code",
   "execution_count": 37,
   "metadata": {
    "colab": {
     "base_uri": "https://localhost:8080/",
     "height": 70
    },
    "colab_type": "code",
    "id": "bwVpRJRxgztf",
    "outputId": "361d0abb-6c8d-4f5b-af05-abeb66ecc270"
   },
   "outputs": [
    {
     "data": {
      "text/plain": [
       "<48681x2221 sparse matrix of type '<class 'numpy.float64'>'\n",
       "\twith 333412 stored elements in Compressed Sparse Row format>"
      ]
     },
     "execution_count": 37,
     "metadata": {},
     "output_type": "execute_result"
    }
   ],
   "source": [
    "X_symptom"
   ]
  },
  {
   "cell_type": "code",
   "execution_count": null,
   "metadata": {
    "colab": {
     "base_uri": "https://localhost:8080/",
     "height": 16854
    },
    "colab_type": "code",
    "id": "zASGRUaYgztk",
    "outputId": "3568eb3e-824c-4504-f67c-4a59cd89048d"
   },
   "outputs": [],
   "source": [
    "pipe_symptom.named_steps[\"tfidf\"].vocabulary_"
   ]
  },
  {
   "cell_type": "markdown",
   "metadata": {
    "colab_type": "text",
    "id": "LEstpE-kgztp"
   },
   "source": [
    "## Клиника"
   ]
  },
  {
   "cell_type": "code",
   "execution_count": 39,
   "metadata": {
    "colab": {
     "base_uri": "https://localhost:8080/",
     "height": 154
    },
    "colab_type": "code",
    "id": "COX7H0xrgztq",
    "outputId": "1eee1c57-17e7-46da-f486-431f2b3f59ac"
   },
   "outputs": [
    {
     "data": {
      "text/plain": [
       "3     34445\n",
       "6      5541\n",
       "5      5407\n",
       "2      3128\n",
       "15      158\n",
       "19        2\n",
       "Name: Клиника, dtype: int64"
      ]
     },
     "execution_count": 39,
     "metadata": {},
     "output_type": "execute_result"
    }
   ],
   "source": [
    "X[\"Клиника\"].value_counts()"
   ]
  },
  {
   "cell_type": "code",
   "execution_count": 40,
   "metadata": {
    "colab": {},
    "colab_type": "code",
    "collapsed": true,
    "id": "2Vu7ixsPgztu"
   },
   "outputs": [],
   "source": [
    "from sklearn.preprocessing import OneHotEncoder"
   ]
  },
  {
   "cell_type": "code",
   "execution_count": 41,
   "metadata": {
    "colab": {},
    "colab_type": "code",
    "collapsed": true,
    "id": "zFmwnU6bgztx"
   },
   "outputs": [],
   "source": [
    "pipe_clinic = Pipeline([\n",
    "    ('select', ColumnSelector([\"Клиника\"])),\n",
    "    ('ohe', OneHotEncoder(sparse=False, categories='auto', handle_unknown=\"ignore\")),\n",
    "])"
   ]
  },
  {
   "cell_type": "code",
   "execution_count": 42,
   "metadata": {
    "colab": {},
    "colab_type": "code",
    "collapsed": true,
    "id": "6r4Uebuwgzt4"
   },
   "outputs": [],
   "source": [
    "X_clinic = pipe_clinic.fit_transform(X)"
   ]
  },
  {
   "cell_type": "code",
   "execution_count": 43,
   "metadata": {
    "colab": {
     "base_uri": "https://localhost:8080/",
     "height": 54
    },
    "colab_type": "code",
    "id": "H7qxCvxzgzt6",
    "outputId": "f54033a3-3b6f-4ef3-b96f-0754b63b66ea"
   },
   "outputs": [
    {
     "data": {
      "text/plain": [
       "(48681, 6)"
      ]
     },
     "execution_count": 43,
     "metadata": {},
     "output_type": "execute_result"
    }
   ],
   "source": [
    "X_clinic.shape"
   ]
  },
  {
   "cell_type": "code",
   "execution_count": 44,
   "metadata": {
    "colab": {
     "base_uri": "https://localhost:8080/",
     "height": 154
    },
    "colab_type": "code",
    "id": "XQy-1hzZgzt9",
    "outputId": "66aa19df-c2c3-448c-ef3c-ff8663181c20"
   },
   "outputs": [
    {
     "data": {
      "text/plain": [
       "array([[0., 0., 1., 0., 0., 0.],\n",
       "       [0., 1., 0., 0., 0., 0.],\n",
       "       [0., 0., 0., 1., 0., 0.],\n",
       "       ...,\n",
       "       [0., 1., 0., 0., 0., 0.],\n",
       "       [0., 1., 0., 0., 0., 0.],\n",
       "       [0., 1., 0., 0., 0., 0.]])"
      ]
     },
     "execution_count": 44,
     "metadata": {},
     "output_type": "execute_result"
    }
   ],
   "source": [
    "X_clinic"
   ]
  },
  {
   "cell_type": "markdown",
   "metadata": {
    "colab_type": "text",
    "id": "Xa-Z_DamgzuA"
   },
   "source": [
    "## Пол"
   ]
  },
  {
   "cell_type": "code",
   "execution_count": 45,
   "metadata": {
    "colab": {
     "base_uri": "https://localhost:8080/",
     "height": 87
    },
    "colab_type": "code",
    "id": "08J4v_DTgzuA",
    "outputId": "b54efff3-e3a4-4115-e2cc-d7b582b58c06"
   },
   "outputs": [
    {
     "data": {
      "text/plain": [
       "2    33754\n",
       "1    14927\n",
       "Name: Пол, dtype: int64"
      ]
     },
     "execution_count": 45,
     "metadata": {},
     "output_type": "execute_result"
    }
   ],
   "source": [
    "X[\"Пол\"].value_counts()"
   ]
  },
  {
   "cell_type": "code",
   "execution_count": 46,
   "metadata": {
    "colab": {},
    "colab_type": "code",
    "collapsed": true,
    "id": "DFnToE0xgzuD"
   },
   "outputs": [],
   "source": [
    "from sklearn.preprocessing import OneHotEncoder"
   ]
  },
  {
   "cell_type": "code",
   "execution_count": 47,
   "metadata": {
    "colab": {},
    "colab_type": "code",
    "collapsed": true,
    "id": "YwKRVsw0gzuF"
   },
   "outputs": [],
   "source": [
    "pipe_sex = Pipeline([\n",
    "    ('select', ColumnSelector([\"Пол\"])),\n",
    "    ('ohe', OneHotEncoder(sparse=False, categories='auto', handle_unknown=\"ignore\")),\n",
    "])"
   ]
  },
  {
   "cell_type": "code",
   "execution_count": 48,
   "metadata": {
    "colab": {},
    "colab_type": "code",
    "collapsed": true,
    "id": "9zwa2E6TgzuH"
   },
   "outputs": [],
   "source": [
    "X_sex = pipe_sex.fit_transform(X)"
   ]
  },
  {
   "cell_type": "code",
   "execution_count": 49,
   "metadata": {
    "colab": {
     "base_uri": "https://localhost:8080/",
     "height": 54
    },
    "colab_type": "code",
    "id": "pJUZMdFugzuL",
    "outputId": "537b78d0-5c57-4430-f2d7-9e1ef59d604d"
   },
   "outputs": [
    {
     "data": {
      "text/plain": [
       "(48681, 2)"
      ]
     },
     "execution_count": 49,
     "metadata": {},
     "output_type": "execute_result"
    }
   ],
   "source": [
    "X_sex.shape"
   ]
  },
  {
   "cell_type": "code",
   "execution_count": 50,
   "metadata": {
    "colab": {
     "base_uri": "https://localhost:8080/",
     "height": 154
    },
    "colab_type": "code",
    "id": "sPuUY49AgzuO",
    "outputId": "4bc2145a-09e8-43c0-9a5c-8fcfbb491c99"
   },
   "outputs": [
    {
     "data": {
      "text/plain": [
       "array([[0., 1.],\n",
       "       [0., 1.],\n",
       "       [0., 1.],\n",
       "       ...,\n",
       "       [0., 1.],\n",
       "       [0., 1.],\n",
       "       [0., 1.]])"
      ]
     },
     "execution_count": 50,
     "metadata": {},
     "output_type": "execute_result"
    }
   ],
   "source": [
    "X_sex"
   ]
  },
  {
   "cell_type": "markdown",
   "metadata": {
    "colab_type": "text",
    "id": "0GRDMw06gzuS"
   },
   "source": [
    "## Возраст"
   ]
  },
  {
   "cell_type": "code",
   "execution_count": 51,
   "metadata": {
    "colab": {
     "base_uri": "https://localhost:8080/",
     "height": 302
    },
    "colab_type": "code",
    "id": "CYCUw1e2gzuT",
    "outputId": "c6891b70-39e4-410b-e90b-fa03d69cd4b9",
    "scrolled": true
   },
   "outputs": [
    {
     "data": {
      "text/plain": [
       "<matplotlib.axes._subplots.AxesSubplot at 0x7fda816f0c88>"
      ]
     },
     "execution_count": 51,
     "metadata": {},
     "output_type": "execute_result"
    },
    {
     "data": {
      "image/png": "[encoded data removed]",
      "text/plain": [
       "<Figure size 432x288 with 1 Axes>"
      ]
     },
     "metadata": {
      "needs_background": "light"
     },
     "output_type": "display_data"
    }
   ],
   "source": [
    "X[\"Возраст\"].clip(0, 100).hist()"
   ]
  },
  {
   "cell_type": "code",
   "execution_count": 52,
   "metadata": {
    "colab": {},
    "colab_type": "code",
    "collapsed": true,
    "id": "TZOkXyopgzuW"
   },
   "outputs": [],
   "source": [
    "class ClipTransformer(BaseEstimator, TransformerMixin):\n",
    "    def __init__(self):\n",
    "        pass\n",
    "        \n",
    "    def fit(self, X, y=None):\n",
    "        return self\n",
    "    \n",
    "    def transform(self, X, y=None):\n",
    "        return np.clip(X, 0, 100)"
   ]
  },
  {
   "cell_type": "code",
   "execution_count": 53,
   "metadata": {
    "colab": {},
    "colab_type": "code",
    "collapsed": true,
    "id": "sxL7TQ35gzuY"
   },
   "outputs": [],
   "source": [
    "from sklearn.preprocessing import MinMaxScaler"
   ]
  },
  {
   "cell_type": "code",
   "execution_count": 54,
   "metadata": {
    "colab": {},
    "colab_type": "code",
    "collapsed": true,
    "id": "4VaCj5zhgzua"
   },
   "outputs": [],
   "source": [
    "pipe_age = Pipeline([\n",
    "    ('select', ColumnSelector([\"Возраст\"])),\n",
    "    ('clip', ClipTransformer()),\n",
    "    ('norm', MinMaxScaler()),\n",
    "])"
   ]
  },
  {
   "cell_type": "code",
   "execution_count": 55,
   "metadata": {
    "colab": {
     "base_uri": "https://localhost:8080/",
     "height": 70
    },
    "colab_type": "code",
    "id": "VAOgyQgTgzuc",
    "outputId": "e853769a-d3b6-4b87-ac25-1b3e02cf40e2"
   },
   "outputs": [
    {
     "name": "stderr",
     "output_type": "stream",
     "text": [
      "/data/ruanvd3/miniconda3/envs/venv36/lib/python3.6/site-packages/sklearn/utils/validation.py:595: DataConversionWarning: Data with input dtype int64 was converted to float64 by MinMaxScaler.\n",
      "  warnings.warn(msg, DataConversionWarning)\n"
     ]
    }
   ],
   "source": [
    "X_age = pipe_age.fit_transform(X)"
   ]
  },
  {
   "cell_type": "code",
   "execution_count": 56,
   "metadata": {
    "colab": {
     "base_uri": "https://localhost:8080/",
     "height": 54
    },
    "colab_type": "code",
    "id": "MrPmDeyVgzuf",
    "outputId": "18094abc-f3a2-4fcf-d61f-d525ee234d16"
   },
   "outputs": [
    {
     "data": {
      "text/plain": [
       "(48681, 1)"
      ]
     },
     "execution_count": 56,
     "metadata": {},
     "output_type": "execute_result"
    }
   ],
   "source": [
    "X_age.shape"
   ]
  },
  {
   "cell_type": "code",
   "execution_count": 57,
   "metadata": {
    "colab": {
     "base_uri": "https://localhost:8080/",
     "height": 154
    },
    "colab_type": "code",
    "id": "U3HpaxjAgzui",
    "outputId": "204aa186-e171-45b6-e282-21f8deca7003"
   },
   "outputs": [
    {
     "data": {
      "text/plain": [
       "array([[0.53535354],\n",
       "       [0.31313131],\n",
       "       [0.71717172],\n",
       "       ...,\n",
       "       [0.67676768],\n",
       "       [0.29292929],\n",
       "       [0.24242424]])"
      ]
     },
     "execution_count": 57,
     "metadata": {},
     "output_type": "execute_result"
    }
   ],
   "source": [
    "X_age"
   ]
  },
  {
   "cell_type": "markdown",
   "metadata": {
    "colab_type": "text",
    "id": "kAFseCTQgzuk"
   },
   "source": [
    "## Источник_рекламы"
   ]
  },
  {
   "cell_type": "code",
   "execution_count": 58,
   "metadata": {
    "colab": {
     "base_uri": "https://localhost:8080/",
     "height": 1078
    },
    "colab_type": "code",
    "id": "JL51Xv9kgzul",
    "outputId": "821965f6-0ed9-4e74-eec6-275b416e6d10",
    "scrolled": true
   },
   "outputs": [
    {
     "data": {
      "text/plain": [
       "Другое                                 29045\n",
       "Интернет                                8570\n",
       "Рекомендации знакомых                   7054\n",
       "Зарегистрировался на сайте              1265\n",
       "Живет-работает рядом                     844\n",
       "Страховая                                422\n",
       "Щиты,уличная реклама                     390\n",
       "Рекомендации к доктору                   317\n",
       "Кутузовский                              156\n",
       "Гефест                                   117\n",
       "Врач Бегма Андрей Николаевич              47\n",
       "Листовки                                  33\n",
       "Кунцево                                   30\n",
       "дельта                                    23\n",
       "не назвала                                23\n",
       "ООО Дельта                                21\n",
       "ДМС                                       21\n",
       "Врач Суван-оол Марина Анатольевна         19\n",
       "Уклеина Наталья Григорьевна               15\n",
       "Радио                                     14\n",
       "Сайт ИП Веревошников                      14\n",
       "МедЭлит                                   13\n",
       "Врач Чабан Ольга Васильевна               11\n",
       "Лосиный остров ,Беляево                    9\n",
       "алиханова                                  8\n",
       "сл                                         8\n",
       "дск-1                                      8\n",
       "добромед                                   8\n",
       "медоблако                                  7\n",
       "Врач Кулик Наталья Леонидовна              7\n",
       "                                       ...  \n",
       "смклиник                                   1\n",
       "Врач Абрамова Ирина Петровна               1\n",
       "Руденко А.А,                               1\n",
       "свой доктор                                1\n",
       "клиника Парамита                           1\n",
       "Дягилев                                    1\n",
       "Врач Трунев Евгений Валериевич             1\n",
       "Врач Кошелева Татьяна Николаевна           1\n",
       "Врач Хряков Евгений Владимирович           1\n",
       "Врач Егорчев Алексей Юрьевич               1\n",
       "поликлиника.ру                             1\n",
       "Веллнес 365                                1\n",
       "40 П-КА                                    1\n",
       "Врач Рахманин Виталий Александрович        1\n",
       "Врач Сёмин Евгений Владимирович            1\n",
       "ордиянц                                    1\n",
       "Институт Склифосовского                    1\n",
       "медДиагностика.проф                        1\n",
       "пармита                                    1\n",
       "оао медецина                               1\n",
       "Врач Миронов Антон Александрович           1\n",
       "от чижовой                                 1\n",
       "Врач Мезин Андрей Николаевич               1\n",
       "Врач Охорзина Наталья Анатольевна          1\n",
       "Врач Руденко Алексей Александрович         1\n",
       "Врач Соколов Дмитрий Александрович         1\n",
       "Running Expert спорт. комплекс             1\n",
       "натали мед                                 1\n",
       "Врач Соболева Мария Михайловна             1\n",
       "Врач Галкин Петр Всеволодович              1\n",
       "Name: Источник_рекламы, Length: 114, dtype: int64"
      ]
     },
     "execution_count": 58,
     "metadata": {},
     "output_type": "execute_result"
    }
   ],
   "source": [
    "X[\"Источник_рекламы\"].value_counts()"
   ]
  },
  {
   "cell_type": "code",
   "execution_count": 59,
   "metadata": {
    "colab": {},
    "colab_type": "code",
    "collapsed": true,
    "id": "zvypaNqTgzup"
   },
   "outputs": [],
   "source": [
    "from sklearn.preprocessing import OneHotEncoder"
   ]
  },
  {
   "cell_type": "code",
   "execution_count": 60,
   "metadata": {
    "colab": {},
    "colab_type": "code",
    "collapsed": true,
    "id": "fiX4Hj_6gzur"
   },
   "outputs": [],
   "source": [
    "pipe_adv = Pipeline([\n",
    "    ('select', ColumnSelector([\"Источник_рекламы\"])),\n",
    "    ('ohe', OneHotEncoder(sparse=False, handle_unknown=\"ignore\")),\n",
    "])"
   ]
  },
  {
   "cell_type": "code",
   "execution_count": 61,
   "metadata": {
    "colab": {},
    "colab_type": "code",
    "collapsed": true,
    "id": "zBAhuvDKgzuu"
   },
   "outputs": [],
   "source": [
    "X_adv = pipe_adv.fit_transform(X)"
   ]
  },
  {
   "cell_type": "code",
   "execution_count": 62,
   "metadata": {
    "colab": {
     "base_uri": "https://localhost:8080/",
     "height": 154
    },
    "colab_type": "code",
    "id": "DNCL1KcSgzux",
    "outputId": "87f4361d-f0b3-46ce-ec89-ea792a76e421"
   },
   "outputs": [
    {
     "data": {
      "text/plain": [
       "array([[0., 0., 0., ..., 0., 0., 0.],\n",
       "       [0., 0., 0., ..., 0., 0., 0.],\n",
       "       [0., 0., 0., ..., 0., 0., 0.],\n",
       "       ...,\n",
       "       [0., 0., 0., ..., 0., 0., 0.],\n",
       "       [0., 0., 0., ..., 0., 0., 0.],\n",
       "       [0., 0., 0., ..., 0., 0., 0.]])"
      ]
     },
     "execution_count": 62,
     "metadata": {},
     "output_type": "execute_result"
    }
   ],
   "source": [
    "X_adv"
   ]
  },
  {
   "cell_type": "code",
   "execution_count": 63,
   "metadata": {
    "colab": {
     "base_uri": "https://localhost:8080/",
     "height": 54
    },
    "colab_type": "code",
    "id": "Sh0ikO5rgzu0",
    "outputId": "079b6c2e-f450-42fb-cd70-deebe98876e2"
   },
   "outputs": [
    {
     "data": {
      "text/plain": [
       "(48681, 114)"
      ]
     },
     "execution_count": 63,
     "metadata": {},
     "output_type": "execute_result"
    }
   ],
   "source": [
    "X_adv.shape"
   ]
  },
  {
   "cell_type": "markdown",
   "metadata": {
    "colab": {},
    "colab_type": "code",
    "collapsed": true,
    "id": "CIJXUi3Pgzu1"
   },
   "source": [
    "## Client"
   ]
  },
  {
   "cell_type": "markdown",
   "metadata": {},
   "source": [
    "Среди жалоб встречатся \"прежние\". Непонятно что из этого следует.\n",
    "Для больше ясности надо посмотреть жалобы от предыдущих приемов. Соберем все жалобы от всех приемов и добавим их отдельным полем `Жалобы_2`.\n",
    "На всякий случай, добавим историю услуг - это был тот же самый врач, или другой. Все услуги, которые оказывались клиенту в поле `Услуга_2`"
   ]
  },
  {
   "cell_type": "code",
   "execution_count": null,
   "metadata": {
    "colab": {},
    "colab_type": "code",
    "id": "7lAr7KTWgzu3",
    "scrolled": true
   },
   "outputs": [],
   "source": [
    "pd_train[pd_train[\"Id_Пациента\"].isin(pd_train[\"Id_Пациента\"].value_counts()\n",
    "                                      [pd_train[\"Id_Пациента\"].value_counts().eq(2)].index)] \\\n",
    "    .sort_values(\"Id_Пациента\")"
   ]
  },
  {
   "cell_type": "code",
   "execution_count": 224,
   "metadata": {
    "collapsed": true
   },
   "outputs": [],
   "source": [
    "def append_other_rows(df, field, exclude_self=True):\n",
    "    \"\"\"Добавляет новое поле '{field}_2', в котором записывает значения из поля '{field}',\n",
    "    которое встречается в других записях этого клиента.\n",
    "    \n",
    "    :param exclude_self: Если True, то текущая жадоба не входит в Жалобы_2.\n",
    "        Иначе Жалобы_2 включает в себя текст из текущей жалобы.\n",
    "    \"\"\"\n",
    "    new_field = f\"{field}_2\"\n",
    "    t = pd.merge(df[\"Id_Пациента\"],\n",
    "                 df.groupby(\"Id_Пациента\")[field].agg(lambda x: {k: v for k, v in x.items()}).rename(new_field),\n",
    "                 left_on=\"Id_Пациента\", right_index=True)\n",
    "    t[new_field] = t.apply(lambda x: \" \".join([v for k, v in x[new_field].items() if x.name != k or not exclude_self]), axis=1)\n",
    "    df[new_field] = t[new_field]"
   ]
  },
  {
   "cell_type": "code",
   "execution_count": 225,
   "metadata": {
    "collapsed": true
   },
   "outputs": [],
   "source": [
    "append_other_rows(X, \"Жалобы\", exclude_self=False)\n",
    "append_other_rows(X, \"Услуга\", exclude_self=False)\n",
    "\n",
    "append_other_rows(pd_test, \"Жалобы\", exclude_self=False)\n",
    "append_other_rows(pd_test, \"Услуга\", exclude_self=False)"
   ]
  },
  {
   "cell_type": "code",
   "execution_count": null,
   "metadata": {
    "colab": {},
    "colab_type": "code",
    "id": "Hjug7Qprgzu5"
   },
   "outputs": [],
   "source": [
    "X"
   ]
  },
  {
   "cell_type": "code",
   "execution_count": 227,
   "metadata": {
    "colab": {},
    "colab_type": "code",
    "collapsed": true,
    "id": "z1Jrr6k4gztT"
   },
   "outputs": [],
   "source": [
    "from sklearn.pipeline import Pipeline\n",
    "from sklearn.feature_extraction.text import TfidfVectorizer"
   ]
  },
  {
   "cell_type": "code",
   "execution_count": 228,
   "metadata": {
    "colab": {},
    "colab_type": "code",
    "collapsed": true,
    "id": "dc8yHu0EgztW"
   },
   "outputs": [],
   "source": [
    "pipe_symptom2 = Pipeline([\n",
    "    ('select', ColumnSelector(\"Жалобы_2\")),\n",
    "    ('norm', Normalizer()),\n",
    "    ('tfidf', pipe_symptom.named_steps[\"tfidf\"]),  # исользуем старый tfidf\n",
    "])"
   ]
  },
  {
   "cell_type": "code",
   "execution_count": 229,
   "metadata": {
    "colab": {
     "base_uri": "https://localhost:8080/",
     "height": 70
    },
    "colab_type": "code",
    "id": "2xUF8tJhgztY",
    "outputId": "42728a07-1fb5-44f0-9bf8-cc94f0c5c40e"
   },
   "outputs": [
    {
     "name": "stdout",
     "output_type": "stream",
     "text": [
      "CPU times: user 3.88 s, sys: 83.1 ms, total: 3.97 s\n",
      "Wall time: 3.96 s\n"
     ]
    }
   ],
   "source": [
    "%%time\n",
    "X_symptom2 = pipe_symptom2.transform(X)"
   ]
  },
  {
   "cell_type": "code",
   "execution_count": 230,
   "metadata": {
    "colab": {
     "base_uri": "https://localhost:8080/",
     "height": 54
    },
    "colab_type": "code",
    "id": "aCc35Wz0gztb",
    "outputId": "d146cbdc-9821-4451-d83a-72b15ec9e739"
   },
   "outputs": [
    {
     "data": {
      "text/plain": [
       "(48681, 2221)"
      ]
     },
     "execution_count": 230,
     "metadata": {},
     "output_type": "execute_result"
    }
   ],
   "source": [
    "X_symptom2.shape"
   ]
  },
  {
   "cell_type": "code",
   "execution_count": 231,
   "metadata": {
    "colab": {
     "base_uri": "https://localhost:8080/",
     "height": 70
    },
    "colab_type": "code",
    "id": "bwVpRJRxgztf",
    "outputId": "361d0abb-6c8d-4f5b-af05-abeb66ecc270"
   },
   "outputs": [
    {
     "data": {
      "text/plain": [
       "<48681x2221 sparse matrix of type '<class 'numpy.float64'>'\n",
       "\twith 1166981 stored elements in Compressed Sparse Row format>"
      ]
     },
     "execution_count": 231,
     "metadata": {},
     "output_type": "execute_result"
    }
   ],
   "source": [
    "X_symptom2"
   ]
  },
  {
   "cell_type": "code",
   "execution_count": null,
   "metadata": {
    "colab": {
     "base_uri": "https://localhost:8080/",
     "height": 16854
    },
    "colab_type": "code",
    "id": "zASGRUaYgztk",
    "outputId": "3568eb3e-824c-4504-f67c-4a59cd89048d"
   },
   "outputs": [],
   "source": [
    "pipe_symptom2.named_steps[\"tfidf\"].vocabulary_"
   ]
  },
  {
   "cell_type": "code",
   "execution_count": 233,
   "metadata": {
    "colab": {},
    "colab_type": "code",
    "collapsed": true,
    "id": "_rRCo6B-gzsw"
   },
   "outputs": [],
   "source": [
    "from sklearn.pipeline import Pipeline\n",
    "from sklearn.feature_extraction.text import TfidfVectorizer"
   ]
  },
  {
   "cell_type": "code",
   "execution_count": 234,
   "metadata": {
    "colab": {},
    "colab_type": "code",
    "collapsed": true,
    "id": "GLMFtEeSgzs3"
   },
   "outputs": [],
   "source": [
    "pipe_service2 = Pipeline([\n",
    "    ('select', ColumnSelector(\"Услуга_2\")),\n",
    "    ('norm', Normalizer()),\n",
    "    ('tfidf', pipe_service.named_steps[\"tfidf\"]),\n",
    "])"
   ]
  },
  {
   "cell_type": "code",
   "execution_count": 235,
   "metadata": {
    "colab": {
     "base_uri": "https://localhost:8080/",
     "height": 70
    },
    "colab_type": "code",
    "id": "gGhl5UJ6gztA",
    "outputId": "263de43f-300f-4888-ec16-86ccc89aedee"
   },
   "outputs": [
    {
     "name": "stdout",
     "output_type": "stream",
     "text": [
      "CPU times: user 2.34 s, sys: 54 ms, total: 2.39 s\n",
      "Wall time: 2.39 s\n"
     ]
    }
   ],
   "source": [
    "%%time\n",
    "X_service2 = pipe_service2.transform(X)"
   ]
  },
  {
   "cell_type": "code",
   "execution_count": 236,
   "metadata": {
    "colab": {
     "base_uri": "https://localhost:8080/",
     "height": 54
    },
    "colab_type": "code",
    "id": "2tnQi7-sgztG",
    "outputId": "d88ec8cb-156b-4c5e-8fae-a02494efd0f3"
   },
   "outputs": [
    {
     "data": {
      "text/plain": [
       "(48681, 241)"
      ]
     },
     "execution_count": 236,
     "metadata": {},
     "output_type": "execute_result"
    }
   ],
   "source": [
    "X_service2.shape"
   ]
  },
  {
   "cell_type": "code",
   "execution_count": null,
   "metadata": {
    "colab": {
     "base_uri": "https://localhost:8080/",
     "height": 4086
    },
    "colab_type": "code",
    "id": "D_mKwmu1gztL",
    "outputId": "a28511f7-c9c1-42db-e9a3-fef65295dec7"
   },
   "outputs": [],
   "source": [
    "pipe_service2.named_steps[\"tfidf\"].vocabulary_"
   ]
  },
  {
   "cell_type": "code",
   "execution_count": null,
   "metadata": {
    "collapsed": true
   },
   "outputs": [],
   "source": []
  },
  {
   "cell_type": "code",
   "execution_count": null,
   "metadata": {
    "collapsed": true
   },
   "outputs": [],
   "source": []
  },
  {
   "cell_type": "code",
   "execution_count": null,
   "metadata": {
    "collapsed": true
   },
   "outputs": [],
   "source": []
  },
  {
   "cell_type": "markdown",
   "metadata": {
    "colab_type": "text",
    "collapsed": true,
    "id": "EePpYQyxgzvD"
   },
   "source": [
    "# NN"
   ]
  },
  {
   "cell_type": "code",
   "execution_count": 64,
   "metadata": {
    "colab": {
     "base_uri": "https://localhost:8080/",
     "height": 34
    },
    "colab_type": "code",
    "id": "iCCwcm79gzvD",
    "outputId": "5852445e-90a2-43da-f2f1-0669d10eec93"
   },
   "outputs": [
    {
     "name": "stderr",
     "output_type": "stream",
     "text": [
      "Using TensorFlow backend.\n"
     ]
    }
   ],
   "source": [
    "import keras\n",
    "import keras.backend as K\n",
    "from keras import layers\n",
    "from keras import Model"
   ]
  },
  {
   "cell_type": "code",
   "execution_count": 65,
   "metadata": {
    "collapsed": true
   },
   "outputs": [],
   "source": [
    "import tensorflow as tf\n",
    "from keras.backend.tensorflow_backend import set_session\n",
    "\n",
    "config = tf.ConfigProto()\n",
    "config.gpu_options.allow_growth = True\n",
    "config.log_device_placement = True\n",
    "session = tf.Session(config=config)\n",
    "set_session(tf.Session(config=config))"
   ]
  },
  {
   "cell_type": "code",
   "execution_count": 66,
   "metadata": {
    "colab": {},
    "colab_type": "code",
    "collapsed": true,
    "id": "FNAfkAu7gzvG"
   },
   "outputs": [],
   "source": [
    "from IPython.display import SVG\n",
    "from keras.utils.vis_utils import model_to_dot"
   ]
  },
  {
   "cell_type": "code",
   "execution_count": 297,
   "metadata": {
    "collapsed": true
   },
   "outputs": [],
   "source": [
    "def get_model():\n",
    "    i_service = layers.Input(shape=(X_service.shape[1],), name=\"service\")\n",
    "    i_service2 = layers.Input(shape=(X_service2.shape[1],), name=\"service2\")\n",
    "    i_clinic = layers.Input(shape=(X_clinic.shape[1],), name=\"clinic\")\n",
    "\n",
    "    i_adv = layers.Input(shape=(X_adv.shape[1],), name=\"adv\")\n",
    "    l_adv = layers.Dense(32, activation=\"relu\")(i_adv)\n",
    "    l_adv = layers.BatchNormalization()(l_adv)\n",
    "\n",
    "    i_sex = layers.Input(shape=(X_sex.shape[1],), name=\"sex\")\n",
    "    i_age = layers.Input(shape=(X_age.shape[1],), name=\"age\")\n",
    "    \n",
    "    i_sym = layers.Input(shape=(X_symptom.shape[1],))\n",
    "    l_sym = layers.Dropout(0.2)(i_sym)\n",
    "    l_sym = layers.Dense(256, activation=\"relu\", kernel_regularizer=keras.regularizers.l2(0.005))(l_sym)\n",
    "    l_sym = layers.BatchNormalization()(l_sym)\n",
    "    m_sym = Model(inputs=i_sym, outputs=l_sym)    \n",
    "\n",
    "    i_symptom = layers.Input(shape=(X_symptom.shape[1],), name=\"symptom\")\n",
    "    l_symptom = m_sym(i_symptom)\n",
    "\n",
    "    i_symptom2 = layers.Input(shape=(X_symptom2.shape[1],), name=\"symptom2\")\n",
    "    l_symptom2 = m_sym(i_symptom2)\n",
    "\n",
    "    h_m1 = layers.concatenate([i_service, i_clinic])\n",
    "    h_m1 = layers.Dense(64, name=\"h_service\")(h_m1)\n",
    "    h_m1 = layers.BatchNormalization()(h_m1)\n",
    "    \n",
    "    h_m2 = layers.concatenate([i_sex, i_age])\n",
    "    h_m2 = layers.Dense(64, name=\"h_person\")(h_m2)\n",
    "    h_m2 = layers.BatchNormalization()(h_m2)\n",
    "    \n",
    "    h_merge = layers.concatenate([h_m1, l_adv, h_m2])\n",
    "    h_merge = layers.Dropout(0.2)(h_merge)\n",
    "    h_merge = layers.Dense(256, activation=\"relu\")(h_merge)\n",
    "    h_merge = layers.BatchNormalization()(h_merge)\n",
    "    \n",
    "    h_m3 = layers.concatenate([i_service, i_service2])\n",
    "    h_m3 = layers.Dense(64, activation=\"relu\", name=\"h_service_all\")(h_m3)\n",
    "    h_m3 = layers.BatchNormalization()(h_m3)\n",
    "\n",
    "    h_merge2 = layers.concatenate([h_merge, l_symptom, l_symptom2, h_m3])\n",
    "    h_merge2 = layers.BatchNormalization()(h_merge2)\n",
    "    h_merge2 = layers.Dropout(0.4)(h_merge2)\n",
    "    h_merge2 = layers.Dense(768, activation=\"relu\")(h_merge2)\n",
    "    h_merge2 = layers.Dropout(0.5)(h_merge2)\n",
    "\n",
    "    o_diagnosis = layers.Dense(1200, activation=\"softmax\")(h_merge2)\n",
    "\n",
    "    model = Model(inputs=[i_service, i_service2, i_clinic, i_adv, i_sex, i_age, i_symptom, i_symptom2],\n",
    "                  outputs=[o_diagnosis])\n",
    "    \n",
    "    model.compile(optimizer=keras.optimizers.adam(lr=0.0005 / 2, decay=0.0001),\n",
    "              metrics=[\"categorical_accuracy\"], loss=\"categorical_crossentropy\")\n",
    "    \n",
    "    return model"
   ]
  },
  {
   "cell_type": "code",
   "execution_count": 292,
   "metadata": {
    "colab": {
     "base_uri": "https://localhost:8080/",
     "height": 138
    },
    "colab_type": "code",
    "collapsed": true,
    "id": "U_fy7MilgzvJ",
    "outputId": "42859d88-1276-4490-bfb4-9d132795f765"
   },
   "outputs": [],
   "source": [
    "model = get_model()"
   ]
  },
  {
   "cell_type": "code",
   "execution_count": 293,
   "metadata": {
    "colab": {
     "base_uri": "https://localhost:8080/",
     "height": 1058
    },
    "colab_type": "code",
    "id": "JA5TSK62gzvK",
    "outputId": "89a284f2-22b2-4696-b483-3b0204eaeef0",
    "scrolled": false
   },
   "outputs": [
    {
     "name": "stdout",
     "output_type": "stream",
     "text": [
      "__________________________________________________________________________________________________\n",
      "Layer (type)                    Output Shape         Param #     Connected to                     \n",
      "==================================================================================================\n",
      "service (InputLayer)            (None, 241)          0                                            \n",
      "__________________________________________________________________________________________________\n",
      "clinic (InputLayer)             (None, 6)            0                                            \n",
      "__________________________________________________________________________________________________\n",
      "sex (InputLayer)                (None, 2)            0                                            \n",
      "__________________________________________________________________________________________________\n",
      "age (InputLayer)                (None, 1)            0                                            \n",
      "__________________________________________________________________________________________________\n",
      "concatenate_87 (Concatenate)    (None, 247)          0           service[0][0]                    \n",
      "                                                                 clinic[0][0]                     \n",
      "__________________________________________________________________________________________________\n",
      "adv (InputLayer)                (None, 114)          0                                            \n",
      "__________________________________________________________________________________________________\n",
      "concatenate_88 (Concatenate)    (None, 3)            0           sex[0][0]                        \n",
      "                                                                 age[0][0]                        \n",
      "__________________________________________________________________________________________________\n",
      "h_service (Dense)               (None, 64)           15872       concatenate_87[0][0]             \n",
      "__________________________________________________________________________________________________\n",
      "dense_152 (Dense)               (None, 32)           3680        adv[0][0]                        \n",
      "__________________________________________________________________________________________________\n",
      "h_person (Dense)                (None, 64)           256         concatenate_88[0][0]             \n",
      "__________________________________________________________________________________________________\n",
      "batch_normalization_118 (BatchN (None, 64)           256         h_service[0][0]                  \n",
      "__________________________________________________________________________________________________\n",
      "batch_normalization_116 (BatchN (None, 32)           128         dense_152[0][0]                  \n",
      "__________________________________________________________________________________________________\n",
      "batch_normalization_119 (BatchN (None, 64)           256         h_person[0][0]                   \n",
      "__________________________________________________________________________________________________\n",
      "concatenate_89 (Concatenate)    (None, 160)          0           batch_normalization_118[0][0]    \n",
      "                                                                 batch_normalization_116[0][0]    \n",
      "                                                                 batch_normalization_119[0][0]    \n",
      "__________________________________________________________________________________________________\n",
      "service2 (InputLayer)           (None, 241)          0                                            \n",
      "__________________________________________________________________________________________________\n",
      "dropout_98 (Dropout)            (None, 160)          0           concatenate_89[0][0]             \n",
      "__________________________________________________________________________________________________\n",
      "concatenate_90 (Concatenate)    (None, 482)          0           service[0][0]                    \n",
      "                                                                 service2[0][0]                   \n",
      "__________________________________________________________________________________________________\n",
      "dense_154 (Dense)               (None, 256)          41216       dropout_98[0][0]                 \n",
      "__________________________________________________________________________________________________\n",
      "symptom (InputLayer)            (None, 2221)         0                                            \n",
      "__________________________________________________________________________________________________\n",
      "symptom2 (InputLayer)           (None, 2221)         0                                            \n",
      "__________________________________________________________________________________________________\n",
      "h_service_all (Dense)           (None, 64)           30912       concatenate_90[0][0]             \n",
      "__________________________________________________________________________________________________\n",
      "batch_normalization_120 (BatchN (None, 256)          1024        dense_154[0][0]                  \n",
      "__________________________________________________________________________________________________\n",
      "model_21 (Model)                (None, 256)          569856      symptom[0][0]                    \n",
      "                                                                 symptom2[0][0]                   \n",
      "__________________________________________________________________________________________________\n",
      "batch_normalization_121 (BatchN (None, 64)           256         h_service_all[0][0]              \n",
      "__________________________________________________________________________________________________\n",
      "concatenate_91 (Concatenate)    (None, 832)          0           batch_normalization_120[0][0]    \n",
      "                                                                 model_21[1][0]                   \n",
      "                                                                 model_21[2][0]                   \n",
      "                                                                 batch_normalization_121[0][0]    \n",
      "__________________________________________________________________________________________________\n",
      "batch_normalization_122 (BatchN (None, 832)          3328        concatenate_91[0][0]             \n",
      "__________________________________________________________________________________________________\n",
      "dropout_99 (Dropout)            (None, 832)          0           batch_normalization_122[0][0]    \n",
      "__________________________________________________________________________________________________\n",
      "dense_155 (Dense)               (None, 768)          639744      dropout_99[0][0]                 \n",
      "__________________________________________________________________________________________________\n",
      "dropout_100 (Dropout)           (None, 768)          0           dense_155[0][0]                  \n",
      "__________________________________________________________________________________________________\n",
      "dense_156 (Dense)               (None, 1200)         922800      dropout_100[0][0]                \n",
      "==================================================================================================\n",
      "Total params: 2,229,584\n",
      "Trainable params: 2,226,448\n",
      "Non-trainable params: 3,136\n",
      "__________________________________________________________________________________________________\n"
     ]
    }
   ],
   "source": [
    "model.summary()"
   ]
  },
  {
   "cell_type": "code",
   "execution_count": 308,
   "metadata": {
    "collapsed": true
   },
   "outputs": [],
   "source": [
    "from keras.utils import plot_model\n",
    "plot_model(model, to_file='model.png', show_shapes=True)"
   ]
  },
  {
   "cell_type": "code",
   "execution_count": 294,
   "metadata": {
    "colab": {
     "base_uri": "https://localhost:8080/",
     "height": 1442
    },
    "colab_type": "code",
    "id": "vISq8eTrgzvM",
    "outputId": "1e5c25a0-1121-4084-aa39-3e456cb2f96c",
    "scrolled": false
   },
   "outputs": [
    {
     "data": {
      "image/svg+xml": [
       "<svg height=\"1148pt\" viewBox=\"0.00 0.00 1650.00 1148.00\" width=\"1650pt\" xmlns=\"http://www.w3.org/2000/svg\" xmlns:xlink=\"http://www.w3.org/1999/xlink\">\n",
       "<g class=\"graph\" id=\"graph0\" transform=\"scale(1 1) rotate(0) translate(4 1144)\">\n",
       "<title>G</title>\n",
       "<polygon fill=\"white\" points=\"-4,5 -4,-1144 1647,-1144 1647,5 -4,5\" stroke=\"white\"/>\n",
       "<!-- 140571224566416 -->\n",
       "<g class=\"node\" id=\"node1\"><title>140571224566416</title>\n",
       "<polygon fill=\"none\" points=\"1097,-1093 1097,-1139 1357,-1139 1357,-1093 1097,-1093\" stroke=\"black\"/>\n",
       "<text font-family=\"Times,serif\" font-size=\"14.00\" text-anchor=\"middle\" x=\"1158\" y=\"-1112.3\">service: InputLayer</text>\n",
       "<polyline fill=\"none\" points=\"1219,-1093 1219,-1139 \" stroke=\"black\"/>\n",
       "<text font-family=\"Times,serif\" font-size=\"14.00\" text-anchor=\"middle\" x=\"1246.5\" y=\"-1123.8\">input:</text>\n",
       "<polyline fill=\"none\" points=\"1219,-1116 1274,-1116 \" stroke=\"black\"/>\n",
       "<text font-family=\"Times,serif\" font-size=\"14.00\" text-anchor=\"middle\" x=\"1246.5\" y=\"-1100.8\">output:</text>\n",
       "<polyline fill=\"none\" points=\"1274,-1093 1274,-1139 \" stroke=\"black\"/>\n",
       "<text font-family=\"Times,serif\" font-size=\"14.00\" text-anchor=\"middle\" x=\"1315.5\" y=\"-1123.8\">(None, 241)</text>\n",
       "<polyline fill=\"none\" points=\"1274,-1116 1357,-1116 \" stroke=\"black\"/>\n",
       "<text font-family=\"Times,serif\" font-size=\"14.00\" text-anchor=\"middle\" x=\"1315.5\" y=\"-1100.8\">(None, 241)</text>\n",
       "</g>\n",
       "<!-- 140571222966568 -->\n",
       "<g class=\"node\" id=\"node5\"><title>140571222966568</title>\n",
       "<polygon fill=\"none\" points=\"840,-1009 840,-1055 1222,-1055 1222,-1009 840,-1009\" stroke=\"black\"/>\n",
       "<text font-family=\"Times,serif\" font-size=\"14.00\" text-anchor=\"middle\" x=\"927.5\" y=\"-1028.3\">concatenate_87: Concatenate</text>\n",
       "<polyline fill=\"none\" points=\"1015,-1009 1015,-1055 \" stroke=\"black\"/>\n",
       "<text font-family=\"Times,serif\" font-size=\"14.00\" text-anchor=\"middle\" x=\"1042.5\" y=\"-1039.8\">input:</text>\n",
       "<polyline fill=\"none\" points=\"1015,-1032 1070,-1032 \" stroke=\"black\"/>\n",
       "<text font-family=\"Times,serif\" font-size=\"14.00\" text-anchor=\"middle\" x=\"1042.5\" y=\"-1016.8\">output:</text>\n",
       "<polyline fill=\"none\" points=\"1070,-1009 1070,-1055 \" stroke=\"black\"/>\n",
       "<text font-family=\"Times,serif\" font-size=\"14.00\" text-anchor=\"middle\" x=\"1146\" y=\"-1039.8\">[(None, 241), (None, 6)]</text>\n",
       "<polyline fill=\"none\" points=\"1070,-1032 1222,-1032 \" stroke=\"black\"/>\n",
       "<text font-family=\"Times,serif\" font-size=\"14.00\" text-anchor=\"middle\" x=\"1146\" y=\"-1016.8\">(None, 247)</text>\n",
       "</g>\n",
       "<!-- 140571224566416&#45;&gt;140571222966568 -->\n",
       "<g class=\"edge\" id=\"edge1\"><title>140571224566416-&gt;140571222966568</title>\n",
       "<path d=\"M1174.22,-1092.92C1149.28,-1082.48 1119.33,-1069.95 1093.28,-1059.06\" fill=\"none\" stroke=\"black\"/>\n",
       "<polygon fill=\"black\" points=\"1094.45,-1055.75 1083.88,-1055.12 1091.75,-1062.21 1094.45,-1055.75\" stroke=\"black\"/>\n",
       "</g>\n",
       "<!-- 140571218030544 -->\n",
       "<g class=\"node\" id=\"node17\"><title>140571218030544</title>\n",
       "<polygon fill=\"none\" points=\"1240.5,-1009 1240.5,-1055 1635.5,-1055 1635.5,-1009 1240.5,-1009\" stroke=\"black\"/>\n",
       "<text font-family=\"Times,serif\" font-size=\"14.00\" text-anchor=\"middle\" x=\"1328\" y=\"-1028.3\">concatenate_90: Concatenate</text>\n",
       "<polyline fill=\"none\" points=\"1415.5,-1009 1415.5,-1055 \" stroke=\"black\"/>\n",
       "<text font-family=\"Times,serif\" font-size=\"14.00\" text-anchor=\"middle\" x=\"1443\" y=\"-1039.8\">input:</text>\n",
       "<polyline fill=\"none\" points=\"1415.5,-1032 1470.5,-1032 \" stroke=\"black\"/>\n",
       "<text font-family=\"Times,serif\" font-size=\"14.00\" text-anchor=\"middle\" x=\"1443\" y=\"-1016.8\">output:</text>\n",
       "<polyline fill=\"none\" points=\"1470.5,-1009 1470.5,-1055 \" stroke=\"black\"/>\n",
       "<text font-family=\"Times,serif\" font-size=\"14.00\" text-anchor=\"middle\" x=\"1553\" y=\"-1039.8\">[(None, 241), (None, 241)]</text>\n",
       "<polyline fill=\"none\" points=\"1470.5,-1032 1635.5,-1032 \" stroke=\"black\"/>\n",
       "<text font-family=\"Times,serif\" font-size=\"14.00\" text-anchor=\"middle\" x=\"1553\" y=\"-1016.8\">(None, 482)</text>\n",
       "</g>\n",
       "<!-- 140571224566416&#45;&gt;140571218030544 -->\n",
       "<g class=\"edge\" id=\"edge15\"><title>140571224566416-&gt;140571218030544</title>\n",
       "<path d=\"M1283.82,-1092.92C1310.91,-1082.39 1343.48,-1069.73 1371.69,-1058.77\" fill=\"none\" stroke=\"black\"/>\n",
       "<polygon fill=\"black\" points=\"1373.02,-1062.01 1381.08,-1055.12 1370.49,-1055.48 1373.02,-1062.01\" stroke=\"black\"/>\n",
       "</g>\n",
       "<!-- 140571224565632 -->\n",
       "<g class=\"node\" id=\"node2\"><title>140571224565632</title>\n",
       "<polygon fill=\"none\" points=\"841,-1093 841,-1139 1079,-1139 1079,-1093 841,-1093\" stroke=\"black\"/>\n",
       "<text font-family=\"Times,serif\" font-size=\"14.00\" text-anchor=\"middle\" x=\"898\" y=\"-1112.3\">clinic: InputLayer</text>\n",
       "<polyline fill=\"none\" points=\"955,-1093 955,-1139 \" stroke=\"black\"/>\n",
       "<text font-family=\"Times,serif\" font-size=\"14.00\" text-anchor=\"middle\" x=\"982.5\" y=\"-1123.8\">input:</text>\n",
       "<polyline fill=\"none\" points=\"955,-1116 1010,-1116 \" stroke=\"black\"/>\n",
       "<text font-family=\"Times,serif\" font-size=\"14.00\" text-anchor=\"middle\" x=\"982.5\" y=\"-1100.8\">output:</text>\n",
       "<polyline fill=\"none\" points=\"1010,-1093 1010,-1139 \" stroke=\"black\"/>\n",
       "<text font-family=\"Times,serif\" font-size=\"14.00\" text-anchor=\"middle\" x=\"1044.5\" y=\"-1123.8\">(None, 6)</text>\n",
       "<polyline fill=\"none\" points=\"1010,-1116 1079,-1116 \" stroke=\"black\"/>\n",
       "<text font-family=\"Times,serif\" font-size=\"14.00\" text-anchor=\"middle\" x=\"1044.5\" y=\"-1100.8\">(None, 6)</text>\n",
       "</g>\n",
       "<!-- 140571224565632&#45;&gt;140571222966568 -->\n",
       "<g class=\"edge\" id=\"edge2\"><title>140571224565632-&gt;140571222966568</title>\n",
       "<path d=\"M979.401,-1092.59C987.371,-1083.39 996.714,-1072.6 1005.24,-1062.75\" fill=\"none\" stroke=\"black\"/>\n",
       "<polygon fill=\"black\" points=\"1007.97,-1064.95 1011.87,-1055.1 1002.68,-1060.36 1007.97,-1064.95\" stroke=\"black\"/>\n",
       "</g>\n",
       "<!-- 140571224566640 -->\n",
       "<g class=\"node\" id=\"node3\"><title>140571224566640</title>\n",
       "<polygon fill=\"none\" points=\"554,-1093 554,-1139 780,-1139 780,-1093 554,-1093\" stroke=\"black\"/>\n",
       "<text font-family=\"Times,serif\" font-size=\"14.00\" text-anchor=\"middle\" x=\"605\" y=\"-1112.3\">sex: InputLayer</text>\n",
       "<polyline fill=\"none\" points=\"656,-1093 656,-1139 \" stroke=\"black\"/>\n",
       "<text font-family=\"Times,serif\" font-size=\"14.00\" text-anchor=\"middle\" x=\"683.5\" y=\"-1123.8\">input:</text>\n",
       "<polyline fill=\"none\" points=\"656,-1116 711,-1116 \" stroke=\"black\"/>\n",
       "<text font-family=\"Times,serif\" font-size=\"14.00\" text-anchor=\"middle\" x=\"683.5\" y=\"-1100.8\">output:</text>\n",
       "<polyline fill=\"none\" points=\"711,-1093 711,-1139 \" stroke=\"black\"/>\n",
       "<text font-family=\"Times,serif\" font-size=\"14.00\" text-anchor=\"middle\" x=\"745.5\" y=\"-1123.8\">(None, 2)</text>\n",
       "<polyline fill=\"none\" points=\"711,-1116 780,-1116 \" stroke=\"black\"/>\n",
       "<text font-family=\"Times,serif\" font-size=\"14.00\" text-anchor=\"middle\" x=\"745.5\" y=\"-1100.8\">(None, 2)</text>\n",
       "</g>\n",
       "<!-- 140571220617648 -->\n",
       "<g class=\"node\" id=\"node7\"><title>140571220617648</title>\n",
       "<polygon fill=\"none\" points=\"440,-1009 440,-1055 808,-1055 808,-1009 440,-1009\" stroke=\"black\"/>\n",
       "<text font-family=\"Times,serif\" font-size=\"14.00\" text-anchor=\"middle\" x=\"527.5\" y=\"-1028.3\">concatenate_88: Concatenate</text>\n",
       "<polyline fill=\"none\" points=\"615,-1009 615,-1055 \" stroke=\"black\"/>\n",
       "<text font-family=\"Times,serif\" font-size=\"14.00\" text-anchor=\"middle\" x=\"642.5\" y=\"-1039.8\">input:</text>\n",
       "<polyline fill=\"none\" points=\"615,-1032 670,-1032 \" stroke=\"black\"/>\n",
       "<text font-family=\"Times,serif\" font-size=\"14.00\" text-anchor=\"middle\" x=\"642.5\" y=\"-1016.8\">output:</text>\n",
       "<polyline fill=\"none\" points=\"670,-1009 670,-1055 \" stroke=\"black\"/>\n",
       "<text font-family=\"Times,serif\" font-size=\"14.00\" text-anchor=\"middle\" x=\"739\" y=\"-1039.8\">[(None, 2), (None, 1)]</text>\n",
       "<polyline fill=\"none\" points=\"670,-1032 808,-1032 \" stroke=\"black\"/>\n",
       "<text font-family=\"Times,serif\" font-size=\"14.00\" text-anchor=\"middle\" x=\"739\" y=\"-1016.8\">(None, 3)</text>\n",
       "</g>\n",
       "<!-- 140571224566640&#45;&gt;140571220617648 -->\n",
       "<g class=\"edge\" id=\"edge3\"><title>140571224566640-&gt;140571220617648</title>\n",
       "<path d=\"M655.25,-1092.59C650.662,-1083.84 645.323,-1073.66 640.37,-1064.22\" fill=\"none\" stroke=\"black\"/>\n",
       "<polygon fill=\"black\" points=\"643.331,-1062.33 635.587,-1055.1 637.131,-1065.58 643.331,-1062.33\" stroke=\"black\"/>\n",
       "</g>\n",
       "<!-- 140571224965016 -->\n",
       "<g class=\"node\" id=\"node4\"><title>140571224965016</title>\n",
       "<polygon fill=\"none\" points=\"308.5,-1093 308.5,-1139 535.5,-1139 535.5,-1093 308.5,-1093\" stroke=\"black\"/>\n",
       "<text font-family=\"Times,serif\" font-size=\"14.00\" text-anchor=\"middle\" x=\"360\" y=\"-1112.3\">age: InputLayer</text>\n",
       "<polyline fill=\"none\" points=\"411.5,-1093 411.5,-1139 \" stroke=\"black\"/>\n",
       "<text font-family=\"Times,serif\" font-size=\"14.00\" text-anchor=\"middle\" x=\"439\" y=\"-1123.8\">input:</text>\n",
       "<polyline fill=\"none\" points=\"411.5,-1116 466.5,-1116 \" stroke=\"black\"/>\n",
       "<text font-family=\"Times,serif\" font-size=\"14.00\" text-anchor=\"middle\" x=\"439\" y=\"-1100.8\">output:</text>\n",
       "<polyline fill=\"none\" points=\"466.5,-1093 466.5,-1139 \" stroke=\"black\"/>\n",
       "<text font-family=\"Times,serif\" font-size=\"14.00\" text-anchor=\"middle\" x=\"501\" y=\"-1123.8\">(None, 1)</text>\n",
       "<polyline fill=\"none\" points=\"466.5,-1116 535.5,-1116 \" stroke=\"black\"/>\n",
       "<text font-family=\"Times,serif\" font-size=\"14.00\" text-anchor=\"middle\" x=\"501\" y=\"-1100.8\">(None, 1)</text>\n",
       "</g>\n",
       "<!-- 140571224965016&#45;&gt;140571220617648 -->\n",
       "<g class=\"edge\" id=\"edge4\"><title>140571224965016-&gt;140571220617648</title>\n",
       "<path d=\"M476.398,-1092.92C502.217,-1082.44 533.24,-1069.84 560.167,-1058.91\" fill=\"none\" stroke=\"black\"/>\n",
       "<polygon fill=\"black\" points=\"561.556,-1062.13 569.505,-1055.12 558.923,-1055.64 561.556,-1062.13\" stroke=\"black\"/>\n",
       "</g>\n",
       "<!-- 140571222969928 -->\n",
       "<g class=\"node\" id=\"node8\"><title>140571222969928</title>\n",
       "<polygon fill=\"none\" points=\"914,-925 914,-971 1162,-971 1162,-925 914,-925\" stroke=\"black\"/>\n",
       "<text font-family=\"Times,serif\" font-size=\"14.00\" text-anchor=\"middle\" x=\"969\" y=\"-944.3\">h_service: Dense</text>\n",
       "<polyline fill=\"none\" points=\"1024,-925 1024,-971 \" stroke=\"black\"/>\n",
       "<text font-family=\"Times,serif\" font-size=\"14.00\" text-anchor=\"middle\" x=\"1051.5\" y=\"-955.8\">input:</text>\n",
       "<polyline fill=\"none\" points=\"1024,-948 1079,-948 \" stroke=\"black\"/>\n",
       "<text font-family=\"Times,serif\" font-size=\"14.00\" text-anchor=\"middle\" x=\"1051.5\" y=\"-932.8\">output:</text>\n",
       "<polyline fill=\"none\" points=\"1079,-925 1079,-971 \" stroke=\"black\"/>\n",
       "<text font-family=\"Times,serif\" font-size=\"14.00\" text-anchor=\"middle\" x=\"1120.5\" y=\"-955.8\">(None, 247)</text>\n",
       "<polyline fill=\"none\" points=\"1079,-948 1162,-948 \" stroke=\"black\"/>\n",
       "<text font-family=\"Times,serif\" font-size=\"14.00\" text-anchor=\"middle\" x=\"1120.5\" y=\"-932.8\">(None, 64)</text>\n",
       "</g>\n",
       "<!-- 140571222966568&#45;&gt;140571222969928 -->\n",
       "<g class=\"edge\" id=\"edge5\"><title>140571222966568-&gt;140571222969928</title>\n",
       "<path d=\"M1032.91,-1008.59C1033.64,-1000.12 1034.47,-990.297 1035.26,-981.104\" fill=\"none\" stroke=\"black\"/>\n",
       "<polygon fill=\"black\" points=\"1038.75,-981.357 1036.11,-971.096 1031.78,-980.762 1038.75,-981.357\" stroke=\"black\"/>\n",
       "</g>\n",
       "<!-- 140571224565464 -->\n",
       "<g class=\"node\" id=\"node6\"><title>140571224565464</title>\n",
       "<polygon fill=\"none\" points=\"81,-1009 81,-1055 323,-1055 323,-1009 81,-1009\" stroke=\"black\"/>\n",
       "<text font-family=\"Times,serif\" font-size=\"14.00\" text-anchor=\"middle\" x=\"133\" y=\"-1028.3\">adv: InputLayer</text>\n",
       "<polyline fill=\"none\" points=\"185,-1009 185,-1055 \" stroke=\"black\"/>\n",
       "<text font-family=\"Times,serif\" font-size=\"14.00\" text-anchor=\"middle\" x=\"212.5\" y=\"-1039.8\">input:</text>\n",
       "<polyline fill=\"none\" points=\"185,-1032 240,-1032 \" stroke=\"black\"/>\n",
       "<text font-family=\"Times,serif\" font-size=\"14.00\" text-anchor=\"middle\" x=\"212.5\" y=\"-1016.8\">output:</text>\n",
       "<polyline fill=\"none\" points=\"240,-1009 240,-1055 \" stroke=\"black\"/>\n",
       "<text font-family=\"Times,serif\" font-size=\"14.00\" text-anchor=\"middle\" x=\"281.5\" y=\"-1039.8\">(None, 114)</text>\n",
       "<polyline fill=\"none\" points=\"240,-1032 323,-1032 \" stroke=\"black\"/>\n",
       "<text font-family=\"Times,serif\" font-size=\"14.00\" text-anchor=\"middle\" x=\"281.5\" y=\"-1016.8\">(None, 114)</text>\n",
       "</g>\n",
       "<!-- 140571224563952 -->\n",
       "<g class=\"node\" id=\"node9\"><title>140571224563952</title>\n",
       "<polygon fill=\"none\" points=\"75,-925 75,-971 329,-971 329,-925 75,-925\" stroke=\"black\"/>\n",
       "<text font-family=\"Times,serif\" font-size=\"14.00\" text-anchor=\"middle\" x=\"133\" y=\"-944.3\">dense_152: Dense</text>\n",
       "<polyline fill=\"none\" points=\"191,-925 191,-971 \" stroke=\"black\"/>\n",
       "<text font-family=\"Times,serif\" font-size=\"14.00\" text-anchor=\"middle\" x=\"218.5\" y=\"-955.8\">input:</text>\n",
       "<polyline fill=\"none\" points=\"191,-948 246,-948 \" stroke=\"black\"/>\n",
       "<text font-family=\"Times,serif\" font-size=\"14.00\" text-anchor=\"middle\" x=\"218.5\" y=\"-932.8\">output:</text>\n",
       "<polyline fill=\"none\" points=\"246,-925 246,-971 \" stroke=\"black\"/>\n",
       "<text font-family=\"Times,serif\" font-size=\"14.00\" text-anchor=\"middle\" x=\"287.5\" y=\"-955.8\">(None, 114)</text>\n",
       "<polyline fill=\"none\" points=\"246,-948 329,-948 \" stroke=\"black\"/>\n",
       "<text font-family=\"Times,serif\" font-size=\"14.00\" text-anchor=\"middle\" x=\"287.5\" y=\"-932.8\">(None, 32)</text>\n",
       "</g>\n",
       "<!-- 140571224565464&#45;&gt;140571224563952 -->\n",
       "<g class=\"edge\" id=\"edge6\"><title>140571224565464-&gt;140571224563952</title>\n",
       "<path d=\"M202,-1008.59C202,-1000.12 202,-990.297 202,-981.104\" fill=\"none\" stroke=\"black\"/>\n",
       "<polygon fill=\"black\" points=\"205.5,-981.096 202,-971.096 198.5,-981.096 205.5,-981.096\" stroke=\"black\"/>\n",
       "</g>\n",
       "<!-- 140571219693464 -->\n",
       "<g class=\"node\" id=\"node10\"><title>140571219693464</title>\n",
       "<polygon fill=\"none\" points=\"505,-925 505,-971 743,-971 743,-925 505,-925\" stroke=\"black\"/>\n",
       "<text font-family=\"Times,serif\" font-size=\"14.00\" text-anchor=\"middle\" x=\"558.5\" y=\"-944.3\">h_person: Dense</text>\n",
       "<polyline fill=\"none\" points=\"612,-925 612,-971 \" stroke=\"black\"/>\n",
       "<text font-family=\"Times,serif\" font-size=\"14.00\" text-anchor=\"middle\" x=\"639.5\" y=\"-955.8\">input:</text>\n",
       "<polyline fill=\"none\" points=\"612,-948 667,-948 \" stroke=\"black\"/>\n",
       "<text font-family=\"Times,serif\" font-size=\"14.00\" text-anchor=\"middle\" x=\"639.5\" y=\"-932.8\">output:</text>\n",
       "<polyline fill=\"none\" points=\"667,-925 667,-971 \" stroke=\"black\"/>\n",
       "<text font-family=\"Times,serif\" font-size=\"14.00\" text-anchor=\"middle\" x=\"705\" y=\"-955.8\">(None, 3)</text>\n",
       "<polyline fill=\"none\" points=\"667,-948 743,-948 \" stroke=\"black\"/>\n",
       "<text font-family=\"Times,serif\" font-size=\"14.00\" text-anchor=\"middle\" x=\"705\" y=\"-932.8\">(None, 64)</text>\n",
       "</g>\n",
       "<!-- 140571220617648&#45;&gt;140571219693464 -->\n",
       "<g class=\"edge\" id=\"edge7\"><title>140571220617648-&gt;140571219693464</title>\n",
       "<path d=\"M624,-1008.59C624,-1000.12 624,-990.297 624,-981.104\" fill=\"none\" stroke=\"black\"/>\n",
       "<polygon fill=\"black\" points=\"627.5,-981.096 624,-971.096 620.5,-981.096 627.5,-981.096\" stroke=\"black\"/>\n",
       "</g>\n",
       "<!-- 140571222076440 -->\n",
       "<g class=\"node\" id=\"node11\"><title>140571222076440</title>\n",
       "<polygon fill=\"none\" points=\"844,-841 844,-887 1248,-887 1248,-841 844,-841\" stroke=\"black\"/>\n",
       "<text font-family=\"Times,serif\" font-size=\"14.00\" text-anchor=\"middle\" x=\"980.5\" y=\"-860.3\">batch_normalization_118: BatchNormalization</text>\n",
       "<polyline fill=\"none\" points=\"1117,-841 1117,-887 \" stroke=\"black\"/>\n",
       "<text font-family=\"Times,serif\" font-size=\"14.00\" text-anchor=\"middle\" x=\"1144.5\" y=\"-871.8\">input:</text>\n",
       "<polyline fill=\"none\" points=\"1117,-864 1172,-864 \" stroke=\"black\"/>\n",
       "<text font-family=\"Times,serif\" font-size=\"14.00\" text-anchor=\"middle\" x=\"1144.5\" y=\"-848.8\">output:</text>\n",
       "<polyline fill=\"none\" points=\"1172,-841 1172,-887 \" stroke=\"black\"/>\n",
       "<text font-family=\"Times,serif\" font-size=\"14.00\" text-anchor=\"middle\" x=\"1210\" y=\"-871.8\">(None, 64)</text>\n",
       "<polyline fill=\"none\" points=\"1172,-864 1248,-864 \" stroke=\"black\"/>\n",
       "<text font-family=\"Times,serif\" font-size=\"14.00\" text-anchor=\"middle\" x=\"1210\" y=\"-848.8\">(None, 64)</text>\n",
       "</g>\n",
       "<!-- 140571222969928&#45;&gt;140571222076440 -->\n",
       "<g class=\"edge\" id=\"edge8\"><title>140571222969928-&gt;140571222076440</title>\n",
       "<path d=\"M1040.19,-924.593C1041.01,-916.118 1041.97,-906.297 1042.87,-897.104\" fill=\"none\" stroke=\"black\"/>\n",
       "<polygon fill=\"black\" points=\"1046.36,-897.388 1043.84,-887.096 1039.39,-896.709 1046.36,-897.388\" stroke=\"black\"/>\n",
       "</g>\n",
       "<!-- 140571269883160 -->\n",
       "<g class=\"node\" id=\"node12\"><title>140571269883160</title>\n",
       "<polygon fill=\"none\" points=\"0,-841 0,-887 404,-887 404,-841 0,-841\" stroke=\"black\"/>\n",
       "<text font-family=\"Times,serif\" font-size=\"14.00\" text-anchor=\"middle\" x=\"136.5\" y=\"-860.3\">batch_normalization_116: BatchNormalization</text>\n",
       "<polyline fill=\"none\" points=\"273,-841 273,-887 \" stroke=\"black\"/>\n",
       "<text font-family=\"Times,serif\" font-size=\"14.00\" text-anchor=\"middle\" x=\"300.5\" y=\"-871.8\">input:</text>\n",
       "<polyline fill=\"none\" points=\"273,-864 328,-864 \" stroke=\"black\"/>\n",
       "<text font-family=\"Times,serif\" font-size=\"14.00\" text-anchor=\"middle\" x=\"300.5\" y=\"-848.8\">output:</text>\n",
       "<polyline fill=\"none\" points=\"328,-841 328,-887 \" stroke=\"black\"/>\n",
       "<text font-family=\"Times,serif\" font-size=\"14.00\" text-anchor=\"middle\" x=\"366\" y=\"-871.8\">(None, 32)</text>\n",
       "<polyline fill=\"none\" points=\"328,-864 404,-864 \" stroke=\"black\"/>\n",
       "<text font-family=\"Times,serif\" font-size=\"14.00\" text-anchor=\"middle\" x=\"366\" y=\"-848.8\">(None, 32)</text>\n",
       "</g>\n",
       "<!-- 140571224563952&#45;&gt;140571269883160 -->\n",
       "<g class=\"edge\" id=\"edge9\"><title>140571224563952-&gt;140571269883160</title>\n",
       "<path d=\"M202,-924.593C202,-916.118 202,-906.297 202,-897.104\" fill=\"none\" stroke=\"black\"/>\n",
       "<polygon fill=\"black\" points=\"205.5,-897.096 202,-887.096 198.5,-897.096 205.5,-897.096\" stroke=\"black\"/>\n",
       "</g>\n",
       "<!-- 140571219189264 -->\n",
       "<g class=\"node\" id=\"node13\"><title>140571219189264</title>\n",
       "<polygon fill=\"none\" points=\"422,-841 422,-887 826,-887 826,-841 422,-841\" stroke=\"black\"/>\n",
       "<text font-family=\"Times,serif\" font-size=\"14.00\" text-anchor=\"middle\" x=\"558.5\" y=\"-860.3\">batch_normalization_119: BatchNormalization</text>\n",
       "<polyline fill=\"none\" points=\"695,-841 695,-887 \" stroke=\"black\"/>\n",
       "<text font-family=\"Times,serif\" font-size=\"14.00\" text-anchor=\"middle\" x=\"722.5\" y=\"-871.8\">input:</text>\n",
       "<polyline fill=\"none\" points=\"695,-864 750,-864 \" stroke=\"black\"/>\n",
       "<text font-family=\"Times,serif\" font-size=\"14.00\" text-anchor=\"middle\" x=\"722.5\" y=\"-848.8\">output:</text>\n",
       "<polyline fill=\"none\" points=\"750,-841 750,-887 \" stroke=\"black\"/>\n",
       "<text font-family=\"Times,serif\" font-size=\"14.00\" text-anchor=\"middle\" x=\"788\" y=\"-871.8\">(None, 64)</text>\n",
       "<polyline fill=\"none\" points=\"750,-864 826,-864 \" stroke=\"black\"/>\n",
       "<text font-family=\"Times,serif\" font-size=\"14.00\" text-anchor=\"middle\" x=\"788\" y=\"-848.8\">(None, 64)</text>\n",
       "</g>\n",
       "<!-- 140571219693464&#45;&gt;140571219189264 -->\n",
       "<g class=\"edge\" id=\"edge10\"><title>140571219693464-&gt;140571219189264</title>\n",
       "<path d=\"M624,-924.593C624,-916.118 624,-906.297 624,-897.104\" fill=\"none\" stroke=\"black\"/>\n",
       "<polygon fill=\"black\" points=\"627.5,-897.096 624,-887.096 620.5,-897.096 627.5,-897.096\" stroke=\"black\"/>\n",
       "</g>\n",
       "<!-- 140571219458648 -->\n",
       "<g class=\"node\" id=\"node14\"><title>140571219458648</title>\n",
       "<polygon fill=\"none\" points=\"400,-757 400,-803 848,-803 848,-757 400,-757\" stroke=\"black\"/>\n",
       "<text font-family=\"Times,serif\" font-size=\"14.00\" text-anchor=\"middle\" x=\"487.5\" y=\"-776.3\">concatenate_89: Concatenate</text>\n",
       "<polyline fill=\"none\" points=\"575,-757 575,-803 \" stroke=\"black\"/>\n",
       "<text font-family=\"Times,serif\" font-size=\"14.00\" text-anchor=\"middle\" x=\"602.5\" y=\"-787.8\">input:</text>\n",
       "<polyline fill=\"none\" points=\"575,-780 630,-780 \" stroke=\"black\"/>\n",
       "<text font-family=\"Times,serif\" font-size=\"14.00\" text-anchor=\"middle\" x=\"602.5\" y=\"-764.8\">output:</text>\n",
       "<polyline fill=\"none\" points=\"630,-757 630,-803 \" stroke=\"black\"/>\n",
       "<text font-family=\"Times,serif\" font-size=\"14.00\" text-anchor=\"middle\" x=\"739\" y=\"-787.8\">[(None, 64), (None, 32), (None, 64)]</text>\n",
       "<polyline fill=\"none\" points=\"630,-780 848,-780 \" stroke=\"black\"/>\n",
       "<text font-family=\"Times,serif\" font-size=\"14.00\" text-anchor=\"middle\" x=\"739\" y=\"-764.8\">(None, 160)</text>\n",
       "</g>\n",
       "<!-- 140571222076440&#45;&gt;140571219458648 -->\n",
       "<g class=\"edge\" id=\"edge11\"><title>140571222076440-&gt;140571219458648</title>\n",
       "<path d=\"M932.634,-840.972C875.4,-829.85 805.872,-816.34 747.307,-804.96\" fill=\"none\" stroke=\"black\"/>\n",
       "<polygon fill=\"black\" points=\"747.741,-801.479 737.257,-803.007 746.406,-808.351 747.741,-801.479\" stroke=\"black\"/>\n",
       "</g>\n",
       "<!-- 140571269883160&#45;&gt;140571219458648 -->\n",
       "<g class=\"edge\" id=\"edge12\"><title>140571269883160-&gt;140571219458648</title>\n",
       "<path d=\"M315.366,-840.972C372.6,-829.85 442.128,-816.34 500.693,-804.96\" fill=\"none\" stroke=\"black\"/>\n",
       "<polygon fill=\"black\" points=\"501.594,-808.351 510.743,-803.007 500.259,-801.479 501.594,-808.351\" stroke=\"black\"/>\n",
       "</g>\n",
       "<!-- 140571219189264&#45;&gt;140571219458648 -->\n",
       "<g class=\"edge\" id=\"edge13\"><title>140571219189264-&gt;140571219458648</title>\n",
       "<path d=\"M624,-840.593C624,-832.118 624,-822.297 624,-813.104\" fill=\"none\" stroke=\"black\"/>\n",
       "<polygon fill=\"black\" points=\"627.5,-813.096 624,-803.096 620.5,-813.096 627.5,-813.096\" stroke=\"black\"/>\n",
       "</g>\n",
       "<!-- 140571218624016 -->\n",
       "<g class=\"node\" id=\"node16\"><title>140571218624016</title>\n",
       "<polygon fill=\"none\" points=\"502.5,-673 502.5,-719 771.5,-719 771.5,-673 502.5,-673\" stroke=\"black\"/>\n",
       "<text font-family=\"Times,serif\" font-size=\"14.00\" text-anchor=\"middle\" x=\"568\" y=\"-692.3\">dropout_98: Dropout</text>\n",
       "<polyline fill=\"none\" points=\"633.5,-673 633.5,-719 \" stroke=\"black\"/>\n",
       "<text font-family=\"Times,serif\" font-size=\"14.00\" text-anchor=\"middle\" x=\"661\" y=\"-703.8\">input:</text>\n",
       "<polyline fill=\"none\" points=\"633.5,-696 688.5,-696 \" stroke=\"black\"/>\n",
       "<text font-family=\"Times,serif\" font-size=\"14.00\" text-anchor=\"middle\" x=\"661\" y=\"-680.8\">output:</text>\n",
       "<polyline fill=\"none\" points=\"688.5,-673 688.5,-719 \" stroke=\"black\"/>\n",
       "<text font-family=\"Times,serif\" font-size=\"14.00\" text-anchor=\"middle\" x=\"730\" y=\"-703.8\">(None, 160)</text>\n",
       "<polyline fill=\"none\" points=\"688.5,-696 771.5,-696 \" stroke=\"black\"/>\n",
       "<text font-family=\"Times,serif\" font-size=\"14.00\" text-anchor=\"middle\" x=\"730\" y=\"-680.8\">(None, 160)</text>\n",
       "</g>\n",
       "<!-- 140571219458648&#45;&gt;140571218624016 -->\n",
       "<g class=\"edge\" id=\"edge14\"><title>140571219458648-&gt;140571218624016</title>\n",
       "<path d=\"M627.552,-756.593C628.896,-748.118 630.453,-738.297 631.91,-729.104\" fill=\"none\" stroke=\"black\"/>\n",
       "<polygon fill=\"black\" points=\"635.388,-729.521 633.497,-719.096 628.474,-728.424 635.388,-729.521\" stroke=\"black\"/>\n",
       "</g>\n",
       "<!-- 140571224565800 -->\n",
       "<g class=\"node\" id=\"node15\"><title>140571224565800</title>\n",
       "<polygon fill=\"none\" points=\"1375.5,-1093 1375.5,-1139 1642.5,-1139 1642.5,-1093 1375.5,-1093\" stroke=\"black\"/>\n",
       "<text font-family=\"Times,serif\" font-size=\"14.00\" text-anchor=\"middle\" x=\"1440\" y=\"-1112.3\">service2: InputLayer</text>\n",
       "<polyline fill=\"none\" points=\"1504.5,-1093 1504.5,-1139 \" stroke=\"black\"/>\n",
       "<text font-family=\"Times,serif\" font-size=\"14.00\" text-anchor=\"middle\" x=\"1532\" y=\"-1123.8\">input:</text>\n",
       "<polyline fill=\"none\" points=\"1504.5,-1116 1559.5,-1116 \" stroke=\"black\"/>\n",
       "<text font-family=\"Times,serif\" font-size=\"14.00\" text-anchor=\"middle\" x=\"1532\" y=\"-1100.8\">output:</text>\n",
       "<polyline fill=\"none\" points=\"1559.5,-1093 1559.5,-1139 \" stroke=\"black\"/>\n",
       "<text font-family=\"Times,serif\" font-size=\"14.00\" text-anchor=\"middle\" x=\"1601\" y=\"-1123.8\">(None, 241)</text>\n",
       "<polyline fill=\"none\" points=\"1559.5,-1116 1642.5,-1116 \" stroke=\"black\"/>\n",
       "<text font-family=\"Times,serif\" font-size=\"14.00\" text-anchor=\"middle\" x=\"1601\" y=\"-1100.8\">(None, 241)</text>\n",
       "</g>\n",
       "<!-- 140571224565800&#45;&gt;140571218030544 -->\n",
       "<g class=\"edge\" id=\"edge16\"><title>140571224565800-&gt;140571218030544</title>\n",
       "<path d=\"M1489.6,-1092.59C1481.63,-1083.39 1472.29,-1072.6 1463.76,-1062.75\" fill=\"none\" stroke=\"black\"/>\n",
       "<polygon fill=\"black\" points=\"1466.32,-1060.36 1457.13,-1055.1 1461.03,-1064.95 1466.32,-1060.36\" stroke=\"black\"/>\n",
       "</g>\n",
       "<!-- 140571218263568 -->\n",
       "<g class=\"node\" id=\"node18\"><title>140571218263568</title>\n",
       "<polygon fill=\"none\" points=\"513,-589 513,-635 767,-635 767,-589 513,-589\" stroke=\"black\"/>\n",
       "<text font-family=\"Times,serif\" font-size=\"14.00\" text-anchor=\"middle\" x=\"571\" y=\"-608.3\">dense_154: Dense</text>\n",
       "<polyline fill=\"none\" points=\"629,-589 629,-635 \" stroke=\"black\"/>\n",
       "<text font-family=\"Times,serif\" font-size=\"14.00\" text-anchor=\"middle\" x=\"656.5\" y=\"-619.8\">input:</text>\n",
       "<polyline fill=\"none\" points=\"629,-612 684,-612 \" stroke=\"black\"/>\n",
       "<text font-family=\"Times,serif\" font-size=\"14.00\" text-anchor=\"middle\" x=\"656.5\" y=\"-596.8\">output:</text>\n",
       "<polyline fill=\"none\" points=\"684,-589 684,-635 \" stroke=\"black\"/>\n",
       "<text font-family=\"Times,serif\" font-size=\"14.00\" text-anchor=\"middle\" x=\"725.5\" y=\"-619.8\">(None, 160)</text>\n",
       "<polyline fill=\"none\" points=\"684,-612 767,-612 \" stroke=\"black\"/>\n",
       "<text font-family=\"Times,serif\" font-size=\"14.00\" text-anchor=\"middle\" x=\"725.5\" y=\"-596.8\">(None, 256)</text>\n",
       "</g>\n",
       "<!-- 140571218624016&#45;&gt;140571218263568 -->\n",
       "<g class=\"edge\" id=\"edge17\"><title>140571218624016-&gt;140571218263568</title>\n",
       "<path d=\"M637.82,-672.593C638.13,-664.118 638.489,-654.297 638.825,-645.104\" fill=\"none\" stroke=\"black\"/>\n",
       "<polygon fill=\"black\" points=\"642.324,-645.217 639.192,-635.096 635.328,-644.961 642.324,-645.217\" stroke=\"black\"/>\n",
       "</g>\n",
       "<!-- 140571217397352 -->\n",
       "<g class=\"node\" id=\"node21\"><title>140571217397352</title>\n",
       "<polygon fill=\"none\" points=\"1275,-841 1275,-887 1543,-887 1543,-841 1275,-841\" stroke=\"black\"/>\n",
       "<text font-family=\"Times,serif\" font-size=\"14.00\" text-anchor=\"middle\" x=\"1340\" y=\"-860.3\">h_service_all: Dense</text>\n",
       "<polyline fill=\"none\" points=\"1405,-841 1405,-887 \" stroke=\"black\"/>\n",
       "<text font-family=\"Times,serif\" font-size=\"14.00\" text-anchor=\"middle\" x=\"1432.5\" y=\"-871.8\">input:</text>\n",
       "<polyline fill=\"none\" points=\"1405,-864 1460,-864 \" stroke=\"black\"/>\n",
       "<text font-family=\"Times,serif\" font-size=\"14.00\" text-anchor=\"middle\" x=\"1432.5\" y=\"-848.8\">output:</text>\n",
       "<polyline fill=\"none\" points=\"1460,-841 1460,-887 \" stroke=\"black\"/>\n",
       "<text font-family=\"Times,serif\" font-size=\"14.00\" text-anchor=\"middle\" x=\"1501.5\" y=\"-871.8\">(None, 482)</text>\n",
       "<polyline fill=\"none\" points=\"1460,-864 1543,-864 \" stroke=\"black\"/>\n",
       "<text font-family=\"Times,serif\" font-size=\"14.00\" text-anchor=\"middle\" x=\"1501.5\" y=\"-848.8\">(None, 64)</text>\n",
       "</g>\n",
       "<!-- 140571218030544&#45;&gt;140571217397352 -->\n",
       "<g class=\"edge\" id=\"edge18\"><title>140571218030544-&gt;140571217397352</title>\n",
       "<path d=\"M1434.15,-1008.96C1429.14,-980.307 1420.37,-930.063 1414.62,-897.159\" fill=\"none\" stroke=\"black\"/>\n",
       "<polygon fill=\"black\" points=\"1418.04,-896.383 1412.87,-887.135 1411.14,-897.588 1418.04,-896.383\" stroke=\"black\"/>\n",
       "</g>\n",
       "<!-- 140571218027968 -->\n",
       "<g class=\"node\" id=\"node22\"><title>140571218027968</title>\n",
       "<polygon fill=\"none\" points=\"493.5,-505 493.5,-551 904.5,-551 904.5,-505 493.5,-505\" stroke=\"black\"/>\n",
       "<text font-family=\"Times,serif\" font-size=\"14.00\" text-anchor=\"middle\" x=\"630\" y=\"-524.3\">batch_normalization_120: BatchNormalization</text>\n",
       "<polyline fill=\"none\" points=\"766.5,-505 766.5,-551 \" stroke=\"black\"/>\n",
       "<text font-family=\"Times,serif\" font-size=\"14.00\" text-anchor=\"middle\" x=\"794\" y=\"-535.8\">input:</text>\n",
       "<polyline fill=\"none\" points=\"766.5,-528 821.5,-528 \" stroke=\"black\"/>\n",
       "<text font-family=\"Times,serif\" font-size=\"14.00\" text-anchor=\"middle\" x=\"794\" y=\"-512.8\">output:</text>\n",
       "<polyline fill=\"none\" points=\"821.5,-505 821.5,-551 \" stroke=\"black\"/>\n",
       "<text font-family=\"Times,serif\" font-size=\"14.00\" text-anchor=\"middle\" x=\"863\" y=\"-535.8\">(None, 256)</text>\n",
       "<polyline fill=\"none\" points=\"821.5,-528 904.5,-528 \" stroke=\"black\"/>\n",
       "<text font-family=\"Times,serif\" font-size=\"14.00\" text-anchor=\"middle\" x=\"863\" y=\"-512.8\">(None, 256)</text>\n",
       "</g>\n",
       "<!-- 140571218263568&#45;&gt;140571218027968 -->\n",
       "<g class=\"edge\" id=\"edge19\"><title>140571218263568-&gt;140571218027968</title>\n",
       "<path d=\"M656.122,-588.593C662.614,-579.571 670.202,-569.025 677.175,-559.333\" fill=\"none\" stroke=\"black\"/>\n",
       "<polygon fill=\"black\" points=\"680.102,-561.257 683.102,-551.096 674.42,-557.169 680.102,-561.257\" stroke=\"black\"/>\n",
       "</g>\n",
       "<!-- 140571222966904 -->\n",
       "<g class=\"node\" id=\"node19\"><title>140571222966904</title>\n",
       "<polygon fill=\"none\" points=\"787,-589 787,-635 1067,-635 1067,-589 787,-589\" stroke=\"black\"/>\n",
       "<text font-family=\"Times,serif\" font-size=\"14.00\" text-anchor=\"middle\" x=\"855\" y=\"-608.3\">symptom: InputLayer</text>\n",
       "<polyline fill=\"none\" points=\"923,-589 923,-635 \" stroke=\"black\"/>\n",
       "<text font-family=\"Times,serif\" font-size=\"14.00\" text-anchor=\"middle\" x=\"950.5\" y=\"-619.8\">input:</text>\n",
       "<polyline fill=\"none\" points=\"923,-612 978,-612 \" stroke=\"black\"/>\n",
       "<text font-family=\"Times,serif\" font-size=\"14.00\" text-anchor=\"middle\" x=\"950.5\" y=\"-596.8\">output:</text>\n",
       "<polyline fill=\"none\" points=\"978,-589 978,-635 \" stroke=\"black\"/>\n",
       "<text font-family=\"Times,serif\" font-size=\"14.00\" text-anchor=\"middle\" x=\"1022.5\" y=\"-619.8\">(None, 2221)</text>\n",
       "<polyline fill=\"none\" points=\"978,-612 1067,-612 \" stroke=\"black\"/>\n",
       "<text font-family=\"Times,serif\" font-size=\"14.00\" text-anchor=\"middle\" x=\"1022.5\" y=\"-596.8\">(None, 2221)</text>\n",
       "</g>\n",
       "<!-- 140571224004424 -->\n",
       "<g class=\"node\" id=\"node23\"><title>140571224004424</title>\n",
       "<polygon fill=\"none\" points=\"981.5,-505 981.5,-551 1240.5,-551 1240.5,-505 981.5,-505\" stroke=\"black\"/>\n",
       "<text font-family=\"Times,serif\" font-size=\"14.00\" text-anchor=\"middle\" x=\"1039\" y=\"-524.3\">model_21: Model</text>\n",
       "<polyline fill=\"none\" points=\"1096.5,-505 1096.5,-551 \" stroke=\"black\"/>\n",
       "<text font-family=\"Times,serif\" font-size=\"14.00\" text-anchor=\"middle\" x=\"1124\" y=\"-535.8\">input:</text>\n",
       "<polyline fill=\"none\" points=\"1096.5,-528 1151.5,-528 \" stroke=\"black\"/>\n",
       "<text font-family=\"Times,serif\" font-size=\"14.00\" text-anchor=\"middle\" x=\"1124\" y=\"-512.8\">output:</text>\n",
       "<polyline fill=\"none\" points=\"1151.5,-505 1151.5,-551 \" stroke=\"black\"/>\n",
       "<text font-family=\"Times,serif\" font-size=\"14.00\" text-anchor=\"middle\" x=\"1196\" y=\"-535.8\">(None, 2221)</text>\n",
       "<polyline fill=\"none\" points=\"1151.5,-528 1240.5,-528 \" stroke=\"black\"/>\n",
       "<text font-family=\"Times,serif\" font-size=\"14.00\" text-anchor=\"middle\" x=\"1196\" y=\"-512.8\">(None, 256)</text>\n",
       "</g>\n",
       "<!-- 140571222966904&#45;&gt;140571224004424 -->\n",
       "<g class=\"edge\" id=\"edge20\"><title>140571222966904-&gt;140571224004424</title>\n",
       "<path d=\"M976.793,-588.81C1000,-578.467 1027.78,-566.086 1052.03,-555.278\" fill=\"none\" stroke=\"black\"/>\n",
       "<polygon fill=\"black\" points=\"1053.78,-558.333 1061.49,-551.066 1050.93,-551.94 1053.78,-558.333\" stroke=\"black\"/>\n",
       "</g>\n",
       "<!-- 140571222970096 -->\n",
       "<g class=\"node\" id=\"node20\"><title>140571222970096</title>\n",
       "<polygon fill=\"none\" points=\"1085.5,-589 1085.5,-635 1372.5,-635 1372.5,-589 1085.5,-589\" stroke=\"black\"/>\n",
       "<text font-family=\"Times,serif\" font-size=\"14.00\" text-anchor=\"middle\" x=\"1157\" y=\"-608.3\">symptom2: InputLayer</text>\n",
       "<polyline fill=\"none\" points=\"1228.5,-589 1228.5,-635 \" stroke=\"black\"/>\n",
       "<text font-family=\"Times,serif\" font-size=\"14.00\" text-anchor=\"middle\" x=\"1256\" y=\"-619.8\">input:</text>\n",
       "<polyline fill=\"none\" points=\"1228.5,-612 1283.5,-612 \" stroke=\"black\"/>\n",
       "<text font-family=\"Times,serif\" font-size=\"14.00\" text-anchor=\"middle\" x=\"1256\" y=\"-596.8\">output:</text>\n",
       "<polyline fill=\"none\" points=\"1283.5,-589 1283.5,-635 \" stroke=\"black\"/>\n",
       "<text font-family=\"Times,serif\" font-size=\"14.00\" text-anchor=\"middle\" x=\"1328\" y=\"-619.8\">(None, 2221)</text>\n",
       "<polyline fill=\"none\" points=\"1283.5,-612 1372.5,-612 \" stroke=\"black\"/>\n",
       "<text font-family=\"Times,serif\" font-size=\"14.00\" text-anchor=\"middle\" x=\"1328\" y=\"-596.8\">(None, 2221)</text>\n",
       "</g>\n",
       "<!-- 140571222970096&#45;&gt;140571224004424 -->\n",
       "<g class=\"edge\" id=\"edge21\"><title>140571222970096-&gt;140571224004424</title>\n",
       "<path d=\"M1197.07,-588.81C1183.03,-579.056 1166.39,-567.489 1151.49,-557.139\" fill=\"none\" stroke=\"black\"/>\n",
       "<polygon fill=\"black\" points=\"1153.17,-554.041 1142.96,-551.208 1149.17,-559.789 1153.17,-554.041\" stroke=\"black\"/>\n",
       "</g>\n",
       "<!-- 140571217030056 -->\n",
       "<g class=\"node\" id=\"node24\"><title>140571217030056</title>\n",
       "<polygon fill=\"none\" points=\"1206,-757 1206,-803 1610,-803 1610,-757 1206,-757\" stroke=\"black\"/>\n",
       "<text font-family=\"Times,serif\" font-size=\"14.00\" text-anchor=\"middle\" x=\"1342.5\" y=\"-776.3\">batch_normalization_121: BatchNormalization</text>\n",
       "<polyline fill=\"none\" points=\"1479,-757 1479,-803 \" stroke=\"black\"/>\n",
       "<text font-family=\"Times,serif\" font-size=\"14.00\" text-anchor=\"middle\" x=\"1506.5\" y=\"-787.8\">input:</text>\n",
       "<polyline fill=\"none\" points=\"1479,-780 1534,-780 \" stroke=\"black\"/>\n",
       "<text font-family=\"Times,serif\" font-size=\"14.00\" text-anchor=\"middle\" x=\"1506.5\" y=\"-764.8\">output:</text>\n",
       "<polyline fill=\"none\" points=\"1534,-757 1534,-803 \" stroke=\"black\"/>\n",
       "<text font-family=\"Times,serif\" font-size=\"14.00\" text-anchor=\"middle\" x=\"1572\" y=\"-787.8\">(None, 64)</text>\n",
       "<polyline fill=\"none\" points=\"1534,-780 1610,-780 \" stroke=\"black\"/>\n",
       "<text font-family=\"Times,serif\" font-size=\"14.00\" text-anchor=\"middle\" x=\"1572\" y=\"-764.8\">(None, 64)</text>\n",
       "</g>\n",
       "<!-- 140571217397352&#45;&gt;140571217030056 -->\n",
       "<g class=\"edge\" id=\"edge22\"><title>140571217397352-&gt;140571217030056</title>\n",
       "<path d=\"M1408.73,-840.593C1408.62,-832.118 1408.5,-822.297 1408.39,-813.104\" fill=\"none\" stroke=\"black\"/>\n",
       "<polygon fill=\"black\" points=\"1411.89,-813.052 1408.27,-803.096 1404.89,-813.138 1411.89,-813.052\" stroke=\"black\"/>\n",
       "</g>\n",
       "<!-- 140571216809824 -->\n",
       "<g class=\"node\" id=\"node25\"><title>140571216809824</title>\n",
       "<polygon fill=\"none\" points=\"843.5,-421 843.5,-467 1378.5,-467 1378.5,-421 843.5,-421\" stroke=\"black\"/>\n",
       "<text font-family=\"Times,serif\" font-size=\"14.00\" text-anchor=\"middle\" x=\"931\" y=\"-440.3\">concatenate_91: Concatenate</text>\n",
       "<polyline fill=\"none\" points=\"1018.5,-421 1018.5,-467 \" stroke=\"black\"/>\n",
       "<text font-family=\"Times,serif\" font-size=\"14.00\" text-anchor=\"middle\" x=\"1046\" y=\"-451.8\">input:</text>\n",
       "<polyline fill=\"none\" points=\"1018.5,-444 1073.5,-444 \" stroke=\"black\"/>\n",
       "<text font-family=\"Times,serif\" font-size=\"14.00\" text-anchor=\"middle\" x=\"1046\" y=\"-428.8\">output:</text>\n",
       "<polyline fill=\"none\" points=\"1073.5,-421 1073.5,-467 \" stroke=\"black\"/>\n",
       "<text font-family=\"Times,serif\" font-size=\"14.00\" text-anchor=\"middle\" x=\"1226\" y=\"-451.8\">[(None, 256), (None, 256), (None, 256), (None, 64)]</text>\n",
       "<polyline fill=\"none\" points=\"1073.5,-444 1378.5,-444 \" stroke=\"black\"/>\n",
       "<text font-family=\"Times,serif\" font-size=\"14.00\" text-anchor=\"middle\" x=\"1226\" y=\"-428.8\">(None, 832)</text>\n",
       "</g>\n",
       "<!-- 140571218027968&#45;&gt;140571216809824 -->\n",
       "<g class=\"edge\" id=\"edge23\"><title>140571218027968-&gt;140571216809824</title>\n",
       "<path d=\"M809.679,-504.972C865.557,-493.85 933.438,-480.34 990.615,-468.96\" fill=\"none\" stroke=\"black\"/>\n",
       "<polygon fill=\"black\" points=\"991.302,-472.392 1000.43,-467.007 989.936,-465.527 991.302,-472.392\" stroke=\"black\"/>\n",
       "</g>\n",
       "<!-- 140571224004424&#45;&gt;140571216809824 -->\n",
       "<g class=\"edge\" id=\"edge24\"><title>140571224004424-&gt;140571216809824</title>\n",
       "<path d=\"M1111,-504.593C1111,-496.118 1111,-486.297 1111,-477.104\" fill=\"none\" stroke=\"black\"/>\n",
       "<polygon fill=\"black\" points=\"1114.5,-477.096 1111,-467.096 1107.5,-477.096 1114.5,-477.096\" stroke=\"black\"/>\n",
       "</g>\n",
       "<!-- 140571217030056&#45;&gt;140571216809824 -->\n",
       "<g class=\"edge\" id=\"edge26\"><title>140571217030056-&gt;140571216809824</title>\n",
       "<path d=\"M1410.51,-756.934C1413.67,-719.126 1415.09,-640.93 1381,-588 1342.21,-527.788 1269.23,-491.31 1208.91,-470.281\" fill=\"none\" stroke=\"black\"/>\n",
       "<polygon fill=\"black\" points=\"1209.94,-466.935 1199.35,-467.038 1207.69,-473.564 1209.94,-466.935\" stroke=\"black\"/>\n",
       "</g>\n",
       "<!-- 140571215966504 -->\n",
       "<g class=\"node\" id=\"node26\"><title>140571215966504</title>\n",
       "<polygon fill=\"none\" points=\"905.5,-337 905.5,-383 1316.5,-383 1316.5,-337 905.5,-337\" stroke=\"black\"/>\n",
       "<text font-family=\"Times,serif\" font-size=\"14.00\" text-anchor=\"middle\" x=\"1042\" y=\"-356.3\">batch_normalization_122: BatchNormalization</text>\n",
       "<polyline fill=\"none\" points=\"1178.5,-337 1178.5,-383 \" stroke=\"black\"/>\n",
       "<text font-family=\"Times,serif\" font-size=\"14.00\" text-anchor=\"middle\" x=\"1206\" y=\"-367.8\">input:</text>\n",
       "<polyline fill=\"none\" points=\"1178.5,-360 1233.5,-360 \" stroke=\"black\"/>\n",
       "<text font-family=\"Times,serif\" font-size=\"14.00\" text-anchor=\"middle\" x=\"1206\" y=\"-344.8\">output:</text>\n",
       "<polyline fill=\"none\" points=\"1233.5,-337 1233.5,-383 \" stroke=\"black\"/>\n",
       "<text font-family=\"Times,serif\" font-size=\"14.00\" text-anchor=\"middle\" x=\"1275\" y=\"-367.8\">(None, 832)</text>\n",
       "<polyline fill=\"none\" points=\"1233.5,-360 1316.5,-360 \" stroke=\"black\"/>\n",
       "<text font-family=\"Times,serif\" font-size=\"14.00\" text-anchor=\"middle\" x=\"1275\" y=\"-344.8\">(None, 832)</text>\n",
       "</g>\n",
       "<!-- 140571216809824&#45;&gt;140571215966504 -->\n",
       "<g class=\"edge\" id=\"edge27\"><title>140571216809824-&gt;140571215966504</title>\n",
       "<path d=\"M1111,-420.593C1111,-412.118 1111,-402.297 1111,-393.104\" fill=\"none\" stroke=\"black\"/>\n",
       "<polygon fill=\"black\" points=\"1114.5,-393.096 1111,-383.096 1107.5,-393.096 1114.5,-393.096\" stroke=\"black\"/>\n",
       "</g>\n",
       "<!-- 140571215281400 -->\n",
       "<g class=\"node\" id=\"node27\"><title>140571215281400</title>\n",
       "<polygon fill=\"none\" points=\"976.5,-253 976.5,-299 1245.5,-299 1245.5,-253 976.5,-253\" stroke=\"black\"/>\n",
       "<text font-family=\"Times,serif\" font-size=\"14.00\" text-anchor=\"middle\" x=\"1042\" y=\"-272.3\">dropout_99: Dropout</text>\n",
       "<polyline fill=\"none\" points=\"1107.5,-253 1107.5,-299 \" stroke=\"black\"/>\n",
       "<text font-family=\"Times,serif\" font-size=\"14.00\" text-anchor=\"middle\" x=\"1135\" y=\"-283.8\">input:</text>\n",
       "<polyline fill=\"none\" points=\"1107.5,-276 1162.5,-276 \" stroke=\"black\"/>\n",
       "<text font-family=\"Times,serif\" font-size=\"14.00\" text-anchor=\"middle\" x=\"1135\" y=\"-260.8\">output:</text>\n",
       "<polyline fill=\"none\" points=\"1162.5,-253 1162.5,-299 \" stroke=\"black\"/>\n",
       "<text font-family=\"Times,serif\" font-size=\"14.00\" text-anchor=\"middle\" x=\"1204\" y=\"-283.8\">(None, 832)</text>\n",
       "<polyline fill=\"none\" points=\"1162.5,-276 1245.5,-276 \" stroke=\"black\"/>\n",
       "<text font-family=\"Times,serif\" font-size=\"14.00\" text-anchor=\"middle\" x=\"1204\" y=\"-260.8\">(None, 832)</text>\n",
       "</g>\n",
       "<!-- 140571215966504&#45;&gt;140571215281400 -->\n",
       "<g class=\"edge\" id=\"edge28\"><title>140571215966504-&gt;140571215281400</title>\n",
       "<path d=\"M1111,-336.593C1111,-328.118 1111,-318.297 1111,-309.104\" fill=\"none\" stroke=\"black\"/>\n",
       "<polygon fill=\"black\" points=\"1114.5,-309.096 1111,-299.096 1107.5,-309.096 1114.5,-309.096\" stroke=\"black\"/>\n",
       "</g>\n",
       "<!-- 140571215629896 -->\n",
       "<g class=\"node\" id=\"node28\"><title>140571215629896</title>\n",
       "<polygon fill=\"none\" points=\"984,-169 984,-215 1238,-215 1238,-169 984,-169\" stroke=\"black\"/>\n",
       "<text font-family=\"Times,serif\" font-size=\"14.00\" text-anchor=\"middle\" x=\"1042\" y=\"-188.3\">dense_155: Dense</text>\n",
       "<polyline fill=\"none\" points=\"1100,-169 1100,-215 \" stroke=\"black\"/>\n",
       "<text font-family=\"Times,serif\" font-size=\"14.00\" text-anchor=\"middle\" x=\"1127.5\" y=\"-199.8\">input:</text>\n",
       "<polyline fill=\"none\" points=\"1100,-192 1155,-192 \" stroke=\"black\"/>\n",
       "<text font-family=\"Times,serif\" font-size=\"14.00\" text-anchor=\"middle\" x=\"1127.5\" y=\"-176.8\">output:</text>\n",
       "<polyline fill=\"none\" points=\"1155,-169 1155,-215 \" stroke=\"black\"/>\n",
       "<text font-family=\"Times,serif\" font-size=\"14.00\" text-anchor=\"middle\" x=\"1196.5\" y=\"-199.8\">(None, 832)</text>\n",
       "<polyline fill=\"none\" points=\"1155,-192 1238,-192 \" stroke=\"black\"/>\n",
       "<text font-family=\"Times,serif\" font-size=\"14.00\" text-anchor=\"middle\" x=\"1196.5\" y=\"-176.8\">(None, 768)</text>\n",
       "</g>\n",
       "<!-- 140571215281400&#45;&gt;140571215629896 -->\n",
       "<g class=\"edge\" id=\"edge29\"><title>140571215281400-&gt;140571215629896</title>\n",
       "<path d=\"M1111,-252.593C1111,-244.118 1111,-234.297 1111,-225.104\" fill=\"none\" stroke=\"black\"/>\n",
       "<polygon fill=\"black\" points=\"1114.5,-225.096 1111,-215.096 1107.5,-225.096 1114.5,-225.096\" stroke=\"black\"/>\n",
       "</g>\n",
       "<!-- 140571215096632 -->\n",
       "<g class=\"node\" id=\"node29\"><title>140571215096632</title>\n",
       "<polygon fill=\"none\" points=\"973,-85 973,-131 1249,-131 1249,-85 973,-85\" stroke=\"black\"/>\n",
       "<text font-family=\"Times,serif\" font-size=\"14.00\" text-anchor=\"middle\" x=\"1042\" y=\"-104.3\">dropout_100: Dropout</text>\n",
       "<polyline fill=\"none\" points=\"1111,-85 1111,-131 \" stroke=\"black\"/>\n",
       "<text font-family=\"Times,serif\" font-size=\"14.00\" text-anchor=\"middle\" x=\"1138.5\" y=\"-115.8\">input:</text>\n",
       "<polyline fill=\"none\" points=\"1111,-108 1166,-108 \" stroke=\"black\"/>\n",
       "<text font-family=\"Times,serif\" font-size=\"14.00\" text-anchor=\"middle\" x=\"1138.5\" y=\"-92.8\">output:</text>\n",
       "<polyline fill=\"none\" points=\"1166,-85 1166,-131 \" stroke=\"black\"/>\n",
       "<text font-family=\"Times,serif\" font-size=\"14.00\" text-anchor=\"middle\" x=\"1207.5\" y=\"-115.8\">(None, 768)</text>\n",
       "<polyline fill=\"none\" points=\"1166,-108 1249,-108 \" stroke=\"black\"/>\n",
       "<text font-family=\"Times,serif\" font-size=\"14.00\" text-anchor=\"middle\" x=\"1207.5\" y=\"-92.8\">(None, 768)</text>\n",
       "</g>\n",
       "<!-- 140571215629896&#45;&gt;140571215096632 -->\n",
       "<g class=\"edge\" id=\"edge30\"><title>140571215629896-&gt;140571215096632</title>\n",
       "<path d=\"M1111,-168.593C1111,-160.118 1111,-150.297 1111,-141.104\" fill=\"none\" stroke=\"black\"/>\n",
       "<polygon fill=\"black\" points=\"1114.5,-141.096 1111,-131.096 1107.5,-141.096 1114.5,-141.096\" stroke=\"black\"/>\n",
       "</g>\n",
       "<!-- 140571214404408 -->\n",
       "<g class=\"node\" id=\"node30\"><title>140571214404408</title>\n",
       "<polygon fill=\"none\" points=\"981,-1 981,-47 1241,-47 1241,-1 981,-1\" stroke=\"black\"/>\n",
       "<text font-family=\"Times,serif\" font-size=\"14.00\" text-anchor=\"middle\" x=\"1039\" y=\"-20.3\">dense_156: Dense</text>\n",
       "<polyline fill=\"none\" points=\"1097,-1 1097,-47 \" stroke=\"black\"/>\n",
       "<text font-family=\"Times,serif\" font-size=\"14.00\" text-anchor=\"middle\" x=\"1124.5\" y=\"-31.8\">input:</text>\n",
       "<polyline fill=\"none\" points=\"1097,-24 1152,-24 \" stroke=\"black\"/>\n",
       "<text font-family=\"Times,serif\" font-size=\"14.00\" text-anchor=\"middle\" x=\"1124.5\" y=\"-8.8\">output:</text>\n",
       "<polyline fill=\"none\" points=\"1152,-1 1152,-47 \" stroke=\"black\"/>\n",
       "<text font-family=\"Times,serif\" font-size=\"14.00\" text-anchor=\"middle\" x=\"1196.5\" y=\"-31.8\">(None, 768)</text>\n",
       "<polyline fill=\"none\" points=\"1152,-24 1241,-24 \" stroke=\"black\"/>\n",
       "<text font-family=\"Times,serif\" font-size=\"14.00\" text-anchor=\"middle\" x=\"1196.5\" y=\"-8.8\">(None, 1200)</text>\n",
       "</g>\n",
       "<!-- 140571215096632&#45;&gt;140571214404408 -->\n",
       "<g class=\"edge\" id=\"edge31\"><title>140571215096632-&gt;140571214404408</title>\n",
       "<path d=\"M1111,-84.5931C1111,-76.1177 1111,-66.2974 1111,-57.104\" fill=\"none\" stroke=\"black\"/>\n",
       "<polygon fill=\"black\" points=\"1114.5,-57.0958 1111,-47.0959 1107.5,-57.0959 1114.5,-57.0958\" stroke=\"black\"/>\n",
       "</g>\n",
       "</g>\n",
       "</svg>"
      ],
      "text/plain": [
       "<IPython.core.display.SVG object>"
      ]
     },
     "execution_count": 294,
     "metadata": {},
     "output_type": "execute_result"
    }
   ],
   "source": [
    "SVG(model_to_dot(model, show_shapes=True).create(prog='dot', format='svg'))"
   ]
  },
  {
   "cell_type": "code",
   "execution_count": 295,
   "metadata": {
    "colab": {},
    "colab_type": "code",
    "collapsed": true,
    "id": "freXdqhbgzvN"
   },
   "outputs": [],
   "source": [
    "X_input = [X_service, X_service2, X_clinic, X_adv, X_sex, X_age, X_symptom, X_symptom2]\n",
    "\n",
    "X_train = [m[i_train] for m in X_input]\n",
    "X_test = [m[i_test] for m in X_input]\n",
    "\n",
    "y_train = [keras.utils.to_categorical(y)[i_train]]\n",
    "y_test = [keras.utils.to_categorical(y)[i_test]]"
   ]
  },
  {
   "cell_type": "code",
   "execution_count": 296,
   "metadata": {
    "colab": {
     "base_uri": "https://localhost:8080/",
     "height": 776
    },
    "colab_type": "code",
    "id": "A2QlSur4gzvO",
    "outputId": "391d008b-9c9e-41cd-ee94-82d74871bcf1",
    "scrolled": false
   },
   "outputs": [
    {
     "name": "stdout",
     "output_type": "stream",
     "text": [
      "Train on 34076 samples, validate on 14605 samples\n",
      "Epoch 1/50\n",
      " - 31s - loss: 6.9362 - categorical_accuracy: 0.1981 - val_loss: 4.5331 - val_categorical_accuracy: 0.3232\n",
      "Epoch 2/50\n",
      " - 6s - loss: 4.4101 - categorical_accuracy: 0.2770 - val_loss: 3.5805 - val_categorical_accuracy: 0.3559\n",
      "Epoch 3/50\n",
      " - 6s - loss: 3.6813 - categorical_accuracy: 0.3089 - val_loss: 3.1787 - val_categorical_accuracy: 0.3735\n",
      "Epoch 4/50\n",
      " - 6s - loss: 3.2890 - categorical_accuracy: 0.3330 - val_loss: 2.9685 - val_categorical_accuracy: 0.3830\n",
      "Epoch 5/50\n",
      " - 6s - loss: 3.0485 - categorical_accuracy: 0.3464 - val_loss: 2.8431 - val_categorical_accuracy: 0.3897\n",
      "Epoch 6/50\n",
      " - 6s - loss: 2.8768 - categorical_accuracy: 0.3625 - val_loss: 2.7688 - val_categorical_accuracy: 0.3950\n",
      "Epoch 7/50\n",
      " - 6s - loss: 2.7427 - categorical_accuracy: 0.3740 - val_loss: 2.7081 - val_categorical_accuracy: 0.4010\n",
      "Epoch 8/50\n",
      " - 6s - loss: 2.6334 - categorical_accuracy: 0.3891 - val_loss: 2.6687 - val_categorical_accuracy: 0.4046\n",
      "Epoch 9/50\n",
      " - 6s - loss: 2.5357 - categorical_accuracy: 0.4023 - val_loss: 2.6375 - val_categorical_accuracy: 0.4103\n",
      "Epoch 10/50\n",
      " - 6s - loss: 2.4521 - categorical_accuracy: 0.4123 - val_loss: 2.6167 - val_categorical_accuracy: 0.4080\n",
      "Epoch 11/50\n",
      " - 6s - loss: 2.3869 - categorical_accuracy: 0.4212 - val_loss: 2.6171 - val_categorical_accuracy: 0.4091\n",
      "Epoch 12/50\n",
      " - 6s - loss: 2.3222 - categorical_accuracy: 0.4316 - val_loss: 2.5991 - val_categorical_accuracy: 0.4112\n",
      "Epoch 13/50\n",
      " - 6s - loss: 2.2649 - categorical_accuracy: 0.4414 - val_loss: 2.5940 - val_categorical_accuracy: 0.4140\n",
      "Epoch 14/50\n",
      " - 6s - loss: 2.2121 - categorical_accuracy: 0.4514 - val_loss: 2.5949 - val_categorical_accuracy: 0.4122\n",
      "Epoch 15/50\n",
      " - 6s - loss: 2.1754 - categorical_accuracy: 0.4558 - val_loss: 2.5975 - val_categorical_accuracy: 0.4151\n",
      "Epoch 16/50\n",
      " - 6s - loss: 2.1215 - categorical_accuracy: 0.4698 - val_loss: 2.5967 - val_categorical_accuracy: 0.4103\n",
      "Epoch 17/50\n",
      " - 6s - loss: 2.0730 - categorical_accuracy: 0.4798 - val_loss: 2.5877 - val_categorical_accuracy: 0.4149\n",
      "Epoch 18/50\n",
      " - 6s - loss: 2.0262 - categorical_accuracy: 0.4856 - val_loss: 2.5919 - val_categorical_accuracy: 0.4166\n",
      "Epoch 19/50\n",
      " - 6s - loss: 2.0026 - categorical_accuracy: 0.4891 - val_loss: 2.6041 - val_categorical_accuracy: 0.4190\n",
      "Epoch 20/50\n",
      " - 6s - loss: 1.9596 - categorical_accuracy: 0.4988 - val_loss: 2.6049 - val_categorical_accuracy: 0.4168\n",
      "Epoch 21/50\n",
      " - 6s - loss: 1.9245 - categorical_accuracy: 0.5086 - val_loss: 2.6211 - val_categorical_accuracy: 0.4157\n",
      "Epoch 22/50\n",
      " - 6s - loss: 1.8948 - categorical_accuracy: 0.5153 - val_loss: 2.6147 - val_categorical_accuracy: 0.4212\n",
      "Epoch 23/50\n",
      " - 6s - loss: 1.8768 - categorical_accuracy: 0.5196 - val_loss: 2.6188 - val_categorical_accuracy: 0.4186\n",
      "Epoch 24/50\n",
      " - 6s - loss: 1.8440 - categorical_accuracy: 0.5228 - val_loss: 2.6178 - val_categorical_accuracy: 0.4190\n",
      "Epoch 25/50\n",
      " - 6s - loss: 1.8126 - categorical_accuracy: 0.5326 - val_loss: 2.6376 - val_categorical_accuracy: 0.4222\n",
      "Epoch 26/50\n",
      " - 6s - loss: 1.8003 - categorical_accuracy: 0.5341 - val_loss: 2.6385 - val_categorical_accuracy: 0.4229\n",
      "Epoch 27/50\n"
     ]
    },
    {
     "ename": "KeyboardInterrupt",
     "evalue": "",
     "output_type": "error",
     "traceback": [
      "\u001b[0;31m---------------------------------------------------------------------------\u001b[0m",
      "\u001b[0;31mKeyboardInterrupt\u001b[0m                         Traceback (most recent call last)",
      "\u001b[0;32m<ipython-input-296-5454a3359535>\u001b[0m in \u001b[0;36m<module>\u001b[0;34m\u001b[0m\n\u001b[0;32m----> 1\u001b[0;31m \u001b[0mhistory\u001b[0m \u001b[0;34m=\u001b[0m \u001b[0mmodel\u001b[0m\u001b[0;34m.\u001b[0m\u001b[0mfit\u001b[0m\u001b[0;34m(\u001b[0m\u001b[0mX_train\u001b[0m\u001b[0;34m,\u001b[0m \u001b[0my_train\u001b[0m\u001b[0;34m,\u001b[0m \u001b[0mbatch_size\u001b[0m\u001b[0;34m=\u001b[0m\u001b[0;36m128\u001b[0m\u001b[0;34m,\u001b[0m \u001b[0mepochs\u001b[0m\u001b[0;34m=\u001b[0m\u001b[0;36m50\u001b[0m\u001b[0;34m,\u001b[0m \u001b[0mverbose\u001b[0m\u001b[0;34m=\u001b[0m\u001b[0;36m2\u001b[0m\u001b[0;34m,\u001b[0m \u001b[0mvalidation_data\u001b[0m\u001b[0;34m=\u001b[0m\u001b[0;34m(\u001b[0m\u001b[0mX_test\u001b[0m\u001b[0;34m,\u001b[0m \u001b[0my_test\u001b[0m\u001b[0;34m)\u001b[0m\u001b[0;34m)\u001b[0m\u001b[0;34m\u001b[0m\u001b[0;34m\u001b[0m\u001b[0m\n\u001b[0m",
      "\u001b[0;32m/data/ruanvd3/miniconda3/envs/venv36/lib/python3.6/site-packages/keras/engine/training.py\u001b[0m in \u001b[0;36mfit\u001b[0;34m(self, x, y, batch_size, epochs, verbose, callbacks, validation_split, validation_data, shuffle, class_weight, sample_weight, initial_epoch, steps_per_epoch, validation_steps, **kwargs)\u001b[0m\n\u001b[1;32m   1037\u001b[0m                                         \u001b[0minitial_epoch\u001b[0m\u001b[0;34m=\u001b[0m\u001b[0minitial_epoch\u001b[0m\u001b[0;34m,\u001b[0m\u001b[0;34m\u001b[0m\u001b[0;34m\u001b[0m\u001b[0m\n\u001b[1;32m   1038\u001b[0m                                         \u001b[0msteps_per_epoch\u001b[0m\u001b[0;34m=\u001b[0m\u001b[0msteps_per_epoch\u001b[0m\u001b[0;34m,\u001b[0m\u001b[0;34m\u001b[0m\u001b[0;34m\u001b[0m\u001b[0m\n\u001b[0;32m-> 1039\u001b[0;31m                                         validation_steps=validation_steps)\n\u001b[0m\u001b[1;32m   1040\u001b[0m \u001b[0;34m\u001b[0m\u001b[0m\n\u001b[1;32m   1041\u001b[0m     def evaluate(self, x=None, y=None,\n",
      "\u001b[0;32m/data/ruanvd3/miniconda3/envs/venv36/lib/python3.6/site-packages/keras/engine/training_arrays.py\u001b[0m in \u001b[0;36mfit_loop\u001b[0;34m(model, f, ins, out_labels, batch_size, epochs, verbose, callbacks, val_f, val_ins, shuffle, callback_metrics, initial_epoch, steps_per_epoch, validation_steps)\u001b[0m\n\u001b[1;32m    183\u001b[0m                         \u001b[0;31m# Do not slice the training phase flag.\u001b[0m\u001b[0;34m\u001b[0m\u001b[0;34m\u001b[0m\u001b[0;34m\u001b[0m\u001b[0m\n\u001b[1;32m    184\u001b[0m                         ins_batch = slice_arrays(\n\u001b[0;32m--> 185\u001b[0;31m                             ins[:-1], batch_ids) + [ins[-1]]\n\u001b[0m\u001b[1;32m    186\u001b[0m                     \u001b[0;32melse\u001b[0m\u001b[0;34m:\u001b[0m\u001b[0;34m\u001b[0m\u001b[0;34m\u001b[0m\u001b[0m\n\u001b[1;32m    187\u001b[0m                         \u001b[0mins_batch\u001b[0m \u001b[0;34m=\u001b[0m \u001b[0mslice_arrays\u001b[0m\u001b[0;34m(\u001b[0m\u001b[0mins\u001b[0m\u001b[0;34m,\u001b[0m \u001b[0mbatch_ids\u001b[0m\u001b[0;34m)\u001b[0m\u001b[0;34m\u001b[0m\u001b[0;34m\u001b[0m\u001b[0m\n",
      "\u001b[0;32m/data/ruanvd3/miniconda3/envs/venv36/lib/python3.6/site-packages/keras/utils/generic_utils.py\u001b[0m in \u001b[0;36mslice_arrays\u001b[0;34m(arrays, start, stop)\u001b[0m\n\u001b[1;32m    519\u001b[0m     \u001b[0;32mif\u001b[0m \u001b[0marrays\u001b[0m \u001b[0;32mis\u001b[0m \u001b[0;32mNone\u001b[0m\u001b[0;34m:\u001b[0m\u001b[0;34m\u001b[0m\u001b[0;34m\u001b[0m\u001b[0m\n\u001b[1;32m    520\u001b[0m         \u001b[0;32mreturn\u001b[0m \u001b[0;34m[\u001b[0m\u001b[0;32mNone\u001b[0m\u001b[0;34m]\u001b[0m\u001b[0;34m\u001b[0m\u001b[0;34m\u001b[0m\u001b[0m\n\u001b[0;32m--> 521\u001b[0;31m     \u001b[0;32melif\u001b[0m \u001b[0misinstance\u001b[0m\u001b[0;34m(\u001b[0m\u001b[0marrays\u001b[0m\u001b[0;34m,\u001b[0m \u001b[0mlist\u001b[0m\u001b[0;34m)\u001b[0m\u001b[0;34m:\u001b[0m\u001b[0;34m\u001b[0m\u001b[0;34m\u001b[0m\u001b[0m\n\u001b[0m\u001b[1;32m    522\u001b[0m         \u001b[0;32mif\u001b[0m \u001b[0mhasattr\u001b[0m\u001b[0;34m(\u001b[0m\u001b[0mstart\u001b[0m\u001b[0;34m,\u001b[0m \u001b[0;34m'__len__'\u001b[0m\u001b[0;34m)\u001b[0m\u001b[0;34m:\u001b[0m\u001b[0;34m\u001b[0m\u001b[0;34m\u001b[0m\u001b[0m\n\u001b[1;32m    523\u001b[0m             \u001b[0;31m# hdf5 datasets only support list objects as indices\u001b[0m\u001b[0;34m\u001b[0m\u001b[0;34m\u001b[0m\u001b[0;34m\u001b[0m\u001b[0m\n",
      "\u001b[0;31mKeyboardInterrupt\u001b[0m: "
     ]
    }
   ],
   "source": [
    "history = model.fit(X_train, y_train, batch_size=128, epochs=50, verbose=2, validation_data=(X_test, y_test))"
   ]
  },
  {
   "cell_type": "code",
   "execution_count": null,
   "metadata": {
    "collapsed": true
   },
   "outputs": [],
   "source": [
    "# Epoch 50/50\n",
    "# - 6s - loss: 1.4011 - categorical_accuracy: 0.6394 - val_loss: 2.7788 - val_categorical_accuracy: 0.4286"
   ]
  },
  {
   "cell_type": "code",
   "execution_count": null,
   "metadata": {
    "colab": {
     "base_uri": "https://localhost:8080/",
     "height": 282
    },
    "colab_type": "code",
    "collapsed": true,
    "id": "MpGmklpggzvQ",
    "outputId": "bcf15069-11fa-49ae-d4c0-d2f78262eb38"
   },
   "outputs": [],
   "source": [
    "pd.DataFrame(history.history)[[\"categorical_accuracy\", \"val_categorical_accuracy\"]] \\\n",
    "    .plot(grid=True)"
   ]
  },
  {
   "cell_type": "code",
   "execution_count": null,
   "metadata": {
    "colab": {},
    "colab_type": "code",
    "collapsed": true,
    "id": "2fOpPioOgzvS"
   },
   "outputs": [],
   "source": []
  },
  {
   "cell_type": "code",
   "execution_count": null,
   "metadata": {
    "colab": {
     "base_uri": "https://localhost:8080/",
     "height": 7913
    },
    "colab_type": "code",
    "id": "Vt6jTyVIgzvT",
    "outputId": "3dcba329-7217-4ef1-a84a-80ffdcde6580",
    "scrolled": true
   },
   "outputs": [],
   "source": [
    "for l in model.layers:\n",
    "    for i, w in enumerate(l.get_weights()):\n",
    "        _name = f\"{l.name}__{i}\"\n",
    "        plt.hist(w.flatten())\n",
    "        plt.title(_name)\n",
    "        plt.show()"
   ]
  },
  {
   "cell_type": "code",
   "execution_count": 0,
   "metadata": {
    "colab": {},
    "colab_type": "code",
    "collapsed": true,
    "id": "Thrh2dcUgzvU"
   },
   "outputs": [],
   "source": []
  },
  {
   "cell_type": "markdown",
   "metadata": {
    "colab_type": "text",
    "id": "_qIfPYz2gzvV"
   },
   "source": [
    "# Submit"
   ]
  },
  {
   "cell_type": "code",
   "execution_count": 298,
   "metadata": {
    "colab": {},
    "colab_type": "code",
    "collapsed": true,
    "id": "-KBmfSkpgzvW"
   },
   "outputs": [],
   "source": [
    "# X_input = [X_service, X_service2, X_clinic, X_adv, X_sex, X_age, X_symptom, X_symptom2]\n",
    "\n",
    "X_test_inp = [\n",
    "    pipe_service.transform(pd_test),\n",
    "    pipe_service2.transform(pd_test),\n",
    "    pipe_clinic.transform(pd_test), \n",
    "    pipe_adv.transform(pd_test),\n",
    "    pipe_sex.transform(pd_test),\n",
    "    pipe_age.transform(pd_test),\n",
    "    pipe_symptom.transform(pd_test),\n",
    "    pipe_symptom2.transform(pd_test),\n",
    "]"
   ]
  },
  {
   "cell_type": "code",
   "execution_count": 299,
   "metadata": {
    "colab": {},
    "colab_type": "code",
    "collapsed": true,
    "id": "5-cuV-CCgzvX"
   },
   "outputs": [],
   "source": [
    "model = get_model()"
   ]
  },
  {
   "cell_type": "code",
   "execution_count": 300,
   "metadata": {
    "colab": {
     "base_uri": "https://localhost:8080/",
     "height": 706
    },
    "colab_type": "code",
    "id": "rdkkQcMfgzvY",
    "outputId": "3d931ca4-830e-4873-ddb8-265da18cacb5"
   },
   "outputs": [
    {
     "name": "stdout",
     "output_type": "stream",
     "text": [
      "Epoch 1/30\n",
      " - 32s - loss: 5.5678 - categorical_accuracy: 0.2208\n",
      "Epoch 2/30\n",
      " - 7s - loss: 3.8607 - categorical_accuracy: 0.2974\n",
      "Epoch 3/30\n",
      " - 7s - loss: 3.3250 - categorical_accuracy: 0.3244\n",
      "Epoch 4/30\n",
      " - 7s - loss: 3.0338 - categorical_accuracy: 0.3435\n",
      "Epoch 5/30\n",
      " - 7s - loss: 2.8367 - categorical_accuracy: 0.3596\n",
      "Epoch 6/30\n",
      " - 7s - loss: 2.6904 - categorical_accuracy: 0.3738\n",
      "Epoch 7/30\n",
      " - 7s - loss: 2.5871 - categorical_accuracy: 0.3841\n",
      "Epoch 8/30\n",
      " - 7s - loss: 2.4964 - categorical_accuracy: 0.3975\n",
      "Epoch 9/30\n",
      " - 7s - loss: 2.4131 - categorical_accuracy: 0.4111\n",
      "Epoch 10/30\n",
      " - 8s - loss: 2.3445 - categorical_accuracy: 0.4203\n",
      "Epoch 11/30\n",
      " - 8s - loss: 2.2888 - categorical_accuracy: 0.4280\n",
      "Epoch 12/30\n",
      " - 7s - loss: 2.2258 - categorical_accuracy: 0.4357\n",
      "Epoch 13/30\n",
      " - 7s - loss: 2.1816 - categorical_accuracy: 0.4465\n",
      "Epoch 14/30\n",
      " - 7s - loss: 2.1338 - categorical_accuracy: 0.4555\n",
      "Epoch 15/30\n",
      " - 7s - loss: 2.0925 - categorical_accuracy: 0.4630\n",
      "Epoch 16/30\n",
      " - 7s - loss: 2.0506 - categorical_accuracy: 0.4691\n",
      "Epoch 17/30\n",
      " - 7s - loss: 2.0094 - categorical_accuracy: 0.4778\n",
      "Epoch 18/30\n",
      " - 7s - loss: 1.9888 - categorical_accuracy: 0.4791\n",
      "Epoch 19/30\n",
      " - 7s - loss: 1.9547 - categorical_accuracy: 0.4910\n",
      "Epoch 20/30\n",
      " - 7s - loss: 1.9310 - categorical_accuracy: 0.4927\n",
      "Epoch 21/30\n",
      " - 8s - loss: 1.9018 - categorical_accuracy: 0.4998\n",
      "Epoch 22/30\n",
      " - 7s - loss: 1.8792 - categorical_accuracy: 0.5015\n",
      "Epoch 23/30\n",
      " - 7s - loss: 1.8513 - categorical_accuracy: 0.5113\n",
      "Epoch 24/30\n",
      " - 7s - loss: 1.8273 - categorical_accuracy: 0.5158\n",
      "Epoch 25/30\n",
      " - 7s - loss: 1.8124 - categorical_accuracy: 0.5191\n",
      "Epoch 26/30\n",
      " - 7s - loss: 1.7934 - categorical_accuracy: 0.5231\n",
      "Epoch 27/30\n",
      " - 7s - loss: 1.7639 - categorical_accuracy: 0.5285\n",
      "Epoch 28/30\n",
      " - 7s - loss: 1.7487 - categorical_accuracy: 0.5295\n",
      "Epoch 29/30\n",
      " - 7s - loss: 1.7327 - categorical_accuracy: 0.5358\n",
      "Epoch 30/30\n",
      " - 7s - loss: 1.7055 - categorical_accuracy: 0.5402\n"
     ]
    },
    {
     "data": {
      "text/plain": [
       "<keras.callbacks.History at 0x7fd9302e6da0>"
      ]
     },
     "execution_count": 300,
     "metadata": {},
     "output_type": "execute_result"
    }
   ],
   "source": [
    "model.fit(X_input, keras.utils.to_categorical(y), batch_size=128, epochs=30, verbose=2)"
   ]
  },
  {
   "cell_type": "code",
   "execution_count": 301,
   "metadata": {
    "colab": {},
    "colab_type": "code",
    "collapsed": true,
    "id": "MZszmN-agzva"
   },
   "outputs": [],
   "source": [
    "y_predict = model.predict(X_test_inp, batch_size=128)"
   ]
  },
  {
   "cell_type": "code",
   "execution_count": 302,
   "metadata": {
    "colab": {},
    "colab_type": "code",
    "collapsed": true,
    "id": "oGCMW9BEgzvb"
   },
   "outputs": [],
   "source": [
    "pd_submit = pd.DataFrame({\"index\": pd_test.index})\n",
    "pd_submit[\"y_predict\"] = y_predict.argmax(axis=1)\n",
    "pd_submit[\"Код_диагноза\"] = pd_submit[\"y_predict\"].map(target_dict_ix2code).fillna(target_dict_ix2code[0])"
   ]
  },
  {
   "cell_type": "code",
   "execution_count": 303,
   "metadata": {
    "colab": {},
    "colab_type": "code",
    "collapsed": true,
    "id": "JsfvFloziBSv"
   },
   "outputs": [],
   "source": [
    "submit_file_name = \"submit_a03_30epochs_samevectors.csv\""
   ]
  },
  {
   "cell_type": "code",
   "execution_count": 304,
   "metadata": {
    "colab": {},
    "colab_type": "code",
    "collapsed": true,
    "id": "lI96_AOPgzvc"
   },
   "outputs": [],
   "source": [
    "pd_submit[[\"index\", \"Код_диагноза\"]].to_csv(submit_file_name, index=None)"
   ]
  },
  {
   "cell_type": "code",
   "execution_count": 88,
   "metadata": {
    "colab": {
     "base_uri": "https://localhost:8080/",
     "height": 50
    },
    "colab_type": "code",
    "id": "x8fcZ7f6gzvd",
    "outputId": "91884939-452c-469f-b55e-6915226197a0"
   },
   "outputs": [
    {
     "name": "stdout",
     "output_type": "stream",
     "text": [
      "100% 125k/125k [00:07<00:00, 17.4kB/s]\n",
      "Successfully submitted to NLP workshop. Diagnosis prediction"
     ]
    }
   ],
   "source": [
    "!kaggle competitions submit -c nlp-workshop-diagnosis-prediction -f $submit_file_name -m \"With small tuning\""
   ]
  },
  {
   "cell_type": "code",
   "execution_count": 0,
   "metadata": {
    "colab": {},
    "colab_type": "code",
    "collapsed": true,
    "id": "0i1LH7EKif1R"
   },
   "outputs": [],
   "source": []
  }
 ],
 "metadata": {
  "accelerator": "GPU",
  "colab": {
   "name": "a02.ipynb",
   "provenance": [],
   "version": "0.3.2"
  },
  "kernelspec": {
   "display_name": "Python 3",
   "language": "python",
   "name": "python3"
  },
  "language_info": {
   "codemirror_mode": {
    "name": "ipython",
    "version": 3
   },
   "file_extension": ".py",
   "mimetype": "text/x-python",
   "name": "python",
   "nbconvert_exporter": "python",
   "pygments_lexer": "ipython3",
   "version": "3.6.3"
  },
  "toc": {
   "base_numbering": 1,
   "nav_menu": {},
   "number_sections": true,
   "sideBar": true,
   "skip_h1_title": false,
   "title_cell": "Table of Contents",
   "title_sidebar": "Contents",
   "toc_cell": false,
   "toc_position": {},
   "toc_section_display": true,
   "toc_window_display": true
  }
 },
 "nbformat": 4,
 "nbformat_minor": 1
}
