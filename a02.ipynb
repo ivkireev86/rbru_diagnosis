{
 "cells": [
  {
   "cell_type": "code",
   "execution_count": 1,
   "metadata": {
    "colab": {
     "base_uri": "https://localhost:8080/",
     "height": 269
    },
    "colab_type": "code",
    "id": "GsWAiuMlgzqo",
    "outputId": "f88da05b-ddff-44af-9655-052a260ed1bd"
   },
   "outputs": [
    {
     "name": "stdout",
     "output_type": "stream",
     "text": [
      "Requirement already satisfied: kaggle in /usr/local/lib/python3.6/dist-packages (1.5.3)\n",
      "Requirement already satisfied: pymorphy2 in /usr/local/lib/python3.6/dist-packages (0.8)\n",
      "Requirement already satisfied: urllib3<1.25,>=1.21.1 in /usr/local/lib/python3.6/dist-packages (from kaggle) (1.22)\n",
      "Requirement already satisfied: six>=1.10 in /usr/local/lib/python3.6/dist-packages (from kaggle) (1.11.0)\n",
      "Requirement already satisfied: certifi in /usr/local/lib/python3.6/dist-packages (from kaggle) (2018.11.29)\n",
      "Requirement already satisfied: python-dateutil in /usr/local/lib/python3.6/dist-packages (from kaggle) (2.5.3)\n",
      "Requirement already satisfied: requests in /usr/local/lib/python3.6/dist-packages (from kaggle) (2.18.4)\n",
      "Requirement already satisfied: tqdm in /usr/local/lib/python3.6/dist-packages (from kaggle) (4.28.1)\n",
      "Requirement already satisfied: python-slugify in /usr/local/lib/python3.6/dist-packages (from kaggle) (3.0.0)\n",
      "Requirement already satisfied: docopt>=0.6 in /usr/local/lib/python3.6/dist-packages (from pymorphy2) (0.6.2)\n",
      "Requirement already satisfied: dawg-python>=0.7 in /usr/local/lib/python3.6/dist-packages (from pymorphy2) (0.7.2)\n",
      "Requirement already satisfied: pymorphy2-dicts<3.0,>=2.4 in /usr/local/lib/python3.6/dist-packages (from pymorphy2) (2.4.393442.3710985)\n",
      "Requirement already satisfied: idna<2.7,>=2.5 in /usr/local/lib/python3.6/dist-packages (from requests->kaggle) (2.6)\n",
      "Requirement already satisfied: chardet<3.1.0,>=3.0.2 in /usr/local/lib/python3.6/dist-packages (from requests->kaggle) (3.0.4)\n",
      "Requirement already satisfied: text-unidecode==1.2 in /usr/local/lib/python3.6/dist-packages (from python-slugify->kaggle) (1.2)\n"
     ]
    }
   ],
   "source": [
    "!pip install kaggle pymorphy2"
   ]
  },
  {
   "cell_type": "code",
   "execution_count": 0,
   "metadata": {
    "colab": {},
    "colab_type": "code",
    "collapsed": true,
    "id": "_lwbyrblgzqt"
   },
   "outputs": [],
   "source": [
    "import json\n",
    "import os"
   ]
  },
  {
   "cell_type": "code",
   "execution_count": 0,
   "metadata": {
    "colab": {},
    "colab_type": "code",
    "collapsed": true,
    "id": "xPxXTzodgzqx"
   },
   "outputs": [],
   "source": [
    "if not os.path.isdir('/root/.kaggle'):\n",
    "    os.makedirs('/root/.kaggle')\n",
    "with open('/root/.kaggle/kaggle.json', 'w') as file:\n",
    "    json.dump({\"username\": \"ivkireev\", \"key\": \"fd08df0228dd035e267daa48e37cbde7\"}, file)"
   ]
  },
  {
   "cell_type": "code",
   "execution_count": 0,
   "metadata": {
    "colab": {},
    "colab_type": "code",
    "collapsed": true,
    "id": "HYhsjXtygzq0"
   },
   "outputs": [],
   "source": [
    "!chmod 600 \"/root/.kaggle/kaggle.json\""
   ]
  },
  {
   "cell_type": "code",
   "execution_count": 0,
   "metadata": {
    "colab": {},
    "colab_type": "code",
    "collapsed": true,
    "id": "ja_FK2JOgzq4"
   },
   "outputs": [],
   "source": [
    "if not os.path.isdir('data'):\n",
    "    os.makedirs('data')"
   ]
  },
  {
   "cell_type": "code",
   "execution_count": 6,
   "metadata": {
    "colab": {
     "base_uri": "https://localhost:8080/",
     "height": 67
    },
    "colab_type": "code",
    "id": "bReEq6dhgzq7",
    "outputId": "220dd860-81c2-4c8d-ad66-64f0dffa831b"
   },
   "outputs": [
    {
     "name": "stdout",
     "output_type": "stream",
     "text": [
      "test.csv.zip: Skipping, found more recently modified local copy (use --force to force download)\n",
      "train.csv.zip: Skipping, found more recently modified local copy (use --force to force download)\n",
      "sample_submission.csv: Skipping, found more recently modified local copy (use --force to force download)\n"
     ]
    }
   ],
   "source": [
    "!kaggle competitions download -c nlp-workshop-diagnosis-prediction --path data"
   ]
  },
  {
   "cell_type": "markdown",
   "metadata": {
    "colab_type": "text",
    "id": "rzWf6TzJgzq_"
   },
   "source": [
    "# Local"
   ]
  },
  {
   "cell_type": "code",
   "execution_count": 0,
   "metadata": {
    "colab": {},
    "colab_type": "code",
    "collapsed": true,
    "id": "pah39plhgzrA"
   },
   "outputs": [],
   "source": [
    "import zipfile"
   ]
  },
  {
   "cell_type": "code",
   "execution_count": 0,
   "metadata": {
    "colab": {},
    "colab_type": "code",
    "collapsed": true,
    "id": "AzQOimEcgzrE"
   },
   "outputs": [],
   "source": [
    "import numpy as np\n",
    "import pandas as pd"
   ]
  },
  {
   "cell_type": "code",
   "execution_count": 0,
   "metadata": {
    "colab": {},
    "colab_type": "code",
    "collapsed": true,
    "id": "XBfaeKIggzrI"
   },
   "outputs": [],
   "source": [
    "import matplotlib.pyplot as plt"
   ]
  },
  {
   "cell_type": "code",
   "execution_count": 0,
   "metadata": {
    "colab": {},
    "colab_type": "code",
    "collapsed": true,
    "id": "aoGUaN09gzrM"
   },
   "outputs": [],
   "source": [
    "%matplotlib inline"
   ]
  },
  {
   "cell_type": "code",
   "execution_count": 0,
   "metadata": {
    "colab": {},
    "colab_type": "code",
    "collapsed": true,
    "id": "l4StJUm-gzrQ"
   },
   "outputs": [],
   "source": [
    "pd.options.display.max_columns = 50"
   ]
  },
  {
   "cell_type": "markdown",
   "metadata": {
    "colab_type": "text",
    "id": "RDe89K4HgzrT"
   },
   "source": [
    "# Read data"
   ]
  },
  {
   "cell_type": "code",
   "execution_count": 12,
   "metadata": {
    "colab": {
     "base_uri": "https://localhost:8080/",
     "height": 50
    },
    "colab_type": "code",
    "id": "3GTZWAI6gzrU",
    "outputId": "babc78d4-ab7c-4b07-fdba-0e4aa657a85b"
   },
   "outputs": [
    {
     "name": "stdout",
     "output_type": "stream",
     "text": [
      "names: ['train.csv']\n",
      "names: ['test.csv']\n"
     ]
    }
   ],
   "source": [
    "with zipfile.ZipFile(\"data/train.csv.zip\") as z:\n",
    "    names = z.namelist()\n",
    "    print(f\"names: {names}\")\n",
    "    with z.open(names[0]) as f:\n",
    "        pd_train = pd.read_csv(f, index_col=0)\n",
    "        \n",
    "with zipfile.ZipFile(\"data/test.csv.zip\") as z:\n",
    "    names = z.namelist()\n",
    "    print(f\"names: {names}\")\n",
    "    with z.open(names[0]) as f:\n",
    "        pd_test = pd.read_csv(f, index_col=0)\n",
    "        \n",
    "pd_sample = pd.read_csv(\"data/sample_submission.csv\")"
   ]
  },
  {
   "cell_type": "code",
   "execution_count": 13,
   "metadata": {
    "colab": {
     "base_uri": "https://localhost:8080/",
     "height": 140
    },
    "colab_type": "code",
    "id": "wNlhYiuqgzra",
    "outputId": "5b70b687-e612-4d67-8db3-8ddff79e9945"
   },
   "outputs": [
    {
     "data": {
      "text/html": [
       "<div>\n",
       "<style scoped>\n",
       "    .dataframe tbody tr th:only-of-type {\n",
       "        vertical-align: middle;\n",
       "    }\n",
       "\n",
       "    .dataframe tbody tr th {\n",
       "        vertical-align: top;\n",
       "    }\n",
       "\n",
       "    .dataframe thead th {\n",
       "        text-align: right;\n",
       "    }\n",
       "</style>\n",
       "<table border=\"1\" class=\"dataframe\">\n",
       "  <thead>\n",
       "    <tr style=\"text-align: right;\">\n",
       "      <th></th>\n",
       "      <th>Id_Пациента</th>\n",
       "      <th>Возраст</th>\n",
       "      <th>Диагноз</th>\n",
       "      <th>Жалобы</th>\n",
       "      <th>Источник_рекламы</th>\n",
       "      <th>Клиника</th>\n",
       "      <th>Код_диагноза</th>\n",
       "      <th>Пол</th>\n",
       "      <th>Услуга</th>\n",
       "    </tr>\n",
       "  </thead>\n",
       "  <tbody>\n",
       "    <tr>\n",
       "      <th>0</th>\n",
       "      <td>115819</td>\n",
       "      <td>54</td>\n",
       "      <td>Гипертензивная болезнь сердца [гипертоническая...</td>\n",
       "      <td>на повышение ад утром до 140/90 мм.рт.ст., пер...</td>\n",
       "      <td>Другое</td>\n",
       "      <td>5</td>\n",
       "      <td>I11</td>\n",
       "      <td>2</td>\n",
       "      <td>Прием врача-кардиолога  повторный, амбулаторный</td>\n",
       "    </tr>\n",
       "    <tr>\n",
       "      <th>1</th>\n",
       "      <td>399973</td>\n",
       "      <td>32</td>\n",
       "      <td>Доброкачественное новообразование молочной железы</td>\n",
       "      <td>На наличие опухоли в левой молочной железе</td>\n",
       "      <td>Другое</td>\n",
       "      <td>3</td>\n",
       "      <td>D24</td>\n",
       "      <td>2</td>\n",
       "      <td>Прием врача-онколога (маммолога), повторный, а...</td>\n",
       "    </tr>\n",
       "  </tbody>\n",
       "</table>\n",
       "</div>"
      ],
      "text/plain": [
       "   Id_Пациента  Возраст                                            Диагноз  \\\n",
       "0       115819       54  Гипертензивная болезнь сердца [гипертоническая...   \n",
       "1       399973       32  Доброкачественное новообразование молочной железы   \n",
       "\n",
       "                                              Жалобы Источник_рекламы  \\\n",
       "0  на повышение ад утром до 140/90 мм.рт.ст., пер...           Другое   \n",
       "1         На наличие опухоли в левой молочной железе           Другое   \n",
       "\n",
       "   Клиника Код_диагноза  Пол  \\\n",
       "0        5          I11    2   \n",
       "1        3          D24    2   \n",
       "\n",
       "                                              Услуга  \n",
       "0    Прием врача-кардиолога  повторный, амбулаторный  \n",
       "1  Прием врача-онколога (маммолога), повторный, а...  "
      ]
     },
     "execution_count": 13,
     "metadata": {
      "tags": []
     },
     "output_type": "execute_result"
    }
   ],
   "source": [
    "pd_train.head(2)"
   ]
  },
  {
   "cell_type": "code",
   "execution_count": 14,
   "metadata": {
    "colab": {
     "base_uri": "https://localhost:8080/",
     "height": 106
    },
    "colab_type": "code",
    "id": "C3ba5Rcxgzrh",
    "outputId": "8a86e108-329f-42c1-e904-4c40061257a1"
   },
   "outputs": [
    {
     "data": {
      "text/html": [
       "<div>\n",
       "<style scoped>\n",
       "    .dataframe tbody tr th:only-of-type {\n",
       "        vertical-align: middle;\n",
       "    }\n",
       "\n",
       "    .dataframe tbody tr th {\n",
       "        vertical-align: top;\n",
       "    }\n",
       "\n",
       "    .dataframe thead th {\n",
       "        text-align: right;\n",
       "    }\n",
       "</style>\n",
       "<table border=\"1\" class=\"dataframe\">\n",
       "  <thead>\n",
       "    <tr style=\"text-align: right;\">\n",
       "      <th></th>\n",
       "      <th>Id_Пациента</th>\n",
       "      <th>Возраст</th>\n",
       "      <th>Жалобы</th>\n",
       "      <th>Источник_рекламы</th>\n",
       "      <th>Клиника</th>\n",
       "      <th>Пол</th>\n",
       "      <th>Услуга</th>\n",
       "    </tr>\n",
       "  </thead>\n",
       "  <tbody>\n",
       "    <tr>\n",
       "      <th>0</th>\n",
       "      <td>598841</td>\n",
       "      <td>43</td>\n",
       "      <td>на момент осмотра не предъявляет</td>\n",
       "      <td>Рекомендации знакомых</td>\n",
       "      <td>5</td>\n",
       "      <td>2</td>\n",
       "      <td>Прием врача-акушера-гинеколога повторный, амбу...</td>\n",
       "    </tr>\n",
       "    <tr>\n",
       "      <th>1</th>\n",
       "      <td>596613</td>\n",
       "      <td>37</td>\n",
       "      <td>На слабость, головную боль, на расфокусировку ...</td>\n",
       "      <td>Зарегистрировался на сайте</td>\n",
       "      <td>3</td>\n",
       "      <td>1</td>\n",
       "      <td>Прием врача-кардиолога  повторный, амбулаторный</td>\n",
       "    </tr>\n",
       "  </tbody>\n",
       "</table>\n",
       "</div>"
      ],
      "text/plain": [
       "   Id_Пациента  Возраст                                             Жалобы  \\\n",
       "0       598841       43                   на момент осмотра не предъявляет   \n",
       "1       596613       37  На слабость, головную боль, на расфокусировку ...   \n",
       "\n",
       "             Источник_рекламы  Клиника  Пол  \\\n",
       "0       Рекомендации знакомых        5    2   \n",
       "1  Зарегистрировался на сайте        3    1   \n",
       "\n",
       "                                              Услуга  \n",
       "0  Прием врача-акушера-гинеколога повторный, амбу...  \n",
       "1    Прием врача-кардиолога  повторный, амбулаторный  "
      ]
     },
     "execution_count": 14,
     "metadata": {
      "tags": []
     },
     "output_type": "execute_result"
    }
   ],
   "source": [
    "pd_test.head(2)"
   ]
  },
  {
   "cell_type": "code",
   "execution_count": 15,
   "metadata": {
    "colab": {
     "base_uri": "https://localhost:8080/",
     "height": 106
    },
    "colab_type": "code",
    "id": "9RNx-u6mgzrm",
    "outputId": "9728322d-c53b-4845-bba0-e14d95131652"
   },
   "outputs": [
    {
     "data": {
      "text/html": [
       "<div>\n",
       "<style scoped>\n",
       "    .dataframe tbody tr th:only-of-type {\n",
       "        vertical-align: middle;\n",
       "    }\n",
       "\n",
       "    .dataframe tbody tr th {\n",
       "        vertical-align: top;\n",
       "    }\n",
       "\n",
       "    .dataframe thead th {\n",
       "        text-align: right;\n",
       "    }\n",
       "</style>\n",
       "<table border=\"1\" class=\"dataframe\">\n",
       "  <thead>\n",
       "    <tr style=\"text-align: right;\">\n",
       "      <th></th>\n",
       "      <th>index</th>\n",
       "      <th>Код_диагноза</th>\n",
       "    </tr>\n",
       "  </thead>\n",
       "  <tbody>\n",
       "    <tr>\n",
       "      <th>0</th>\n",
       "      <td>0</td>\n",
       "      <td>J06.9</td>\n",
       "    </tr>\n",
       "    <tr>\n",
       "      <th>1</th>\n",
       "      <td>1</td>\n",
       "      <td>J06.9</td>\n",
       "    </tr>\n",
       "  </tbody>\n",
       "</table>\n",
       "</div>"
      ],
      "text/plain": [
       "   index Код_диагноза\n",
       "0      0        J06.9\n",
       "1      1        J06.9"
      ]
     },
     "execution_count": 15,
     "metadata": {
      "tags": []
     },
     "output_type": "execute_result"
    }
   ],
   "source": [
    "pd_sample.head(2)"
   ]
  },
  {
   "cell_type": "code",
   "execution_count": 16,
   "metadata": {
    "colab": {
     "base_uri": "https://localhost:8080/",
     "height": 34
    },
    "colab_type": "code",
    "id": "3_HqQRYqgzrr",
    "outputId": "28cb909e-67f7-4fc3-887c-29b8e610885e"
   },
   "outputs": [
    {
     "data": {
      "text/plain": [
       "((49619, 9), (12021, 7), (12021, 2))"
      ]
     },
     "execution_count": 16,
     "metadata": {
      "tags": []
     },
     "output_type": "execute_result"
    }
   ],
   "source": [
    "pd_train.shape, pd_test.shape, pd_sample.shape"
   ]
  },
  {
   "cell_type": "markdown",
   "metadata": {
    "colab_type": "text",
    "id": "U-vwIeYwgzrx"
   },
   "source": [
    "# Target"
   ]
  },
  {
   "cell_type": "code",
   "execution_count": 17,
   "metadata": {
    "colab": {
     "base_uri": "https://localhost:8080/",
     "height": 302
    },
    "colab_type": "code",
    "id": "Xk5uJknAgzry",
    "outputId": "5dda1dcd-a51a-4785-be93-30df196c247a"
   },
   "outputs": [
    {
     "data": {
      "text/plain": [
       "<matplotlib.axes._subplots.AxesSubplot at 0x7f117b1a3c88>"
      ]
     },
     "execution_count": 17,
     "metadata": {
      "tags": []
     },
     "output_type": "execute_result"
    },
    {
     "data": {
      "image/png": "[encoded data removed]",
      "text/plain": [
       "<Figure size 432x288 with 1 Axes>"
      ]
     },
     "metadata": {
      "tags": []
     },
     "output_type": "display_data"
    }
   ],
   "source": [
    "pd_train[\"Код_диагноза\"].value_counts(normalize=True).cumsum().reset_index(drop=True) \\\n",
    "    .plot(grid=True, yticks=np.arange(0, 1.01, 0.1))"
   ]
  },
  {
   "cell_type": "code",
   "execution_count": 0,
   "metadata": {
    "colab": {},
    "colab_type": "code",
    "collapsed": true,
    "id": "TthGd1Dngzr2"
   },
   "outputs": [],
   "source": [
    "target_dict = pd_train[\"Код_диагноза\"].value_counts().reset_index()[\"index\"]\n",
    "target_dict = target_dict.reset_index().set_index(\"index\")\n",
    "target_dict.iloc[1200:] = -1\n",
    "target_dict_code2ix = target_dict['level_0'].to_dict()\n",
    "target_dict_ix2code = {v: k for k, v in target_dict_code2ix.items() if v >= 0}"
   ]
  },
  {
   "cell_type": "code",
   "execution_count": 0,
   "metadata": {
    "colab": {},
    "colab_type": "code",
    "collapsed": true,
    "id": "P8oGJgchgzr5"
   },
   "outputs": [],
   "source": [
    "pd_train[\"y\"] = pd_train[\"Код_диагноза\"].map(target_dict_code2ix)"
   ]
  },
  {
   "cell_type": "code",
   "execution_count": 0,
   "metadata": {
    "colab": {},
    "colab_type": "code",
    "collapsed": true,
    "id": "nM5eeECCgzr8"
   },
   "outputs": [],
   "source": [
    "X = pd_train.loc[pd_train[\"y\"].ge(0), [\"Id_Пациента\", \"Возраст\", \"Жалобы\", \"Источник_рекламы\", \"Клиника\", \"Пол\", \"Услуга\"]].copy()\n",
    "y = pd_train.loc[pd_train[\"y\"].ge(0), \"y\"].values"
   ]
  },
  {
   "cell_type": "code",
   "execution_count": 21,
   "metadata": {
    "colab": {
     "base_uri": "https://localhost:8080/",
     "height": 54
    },
    "colab_type": "code",
    "id": "ginxIl7Ygzr_",
    "outputId": "27dd641d-a2e2-4ae9-a0e9-a429427d988d"
   },
   "outputs": [
    {
     "data": {
      "text/plain": [
       "((48681, 7), (48681,))"
      ]
     },
     "execution_count": 21,
     "metadata": {
      "tags": []
     },
     "output_type": "execute_result"
    }
   ],
   "source": [
    "X.shape, y.shape"
   ]
  },
  {
   "cell_type": "code",
   "execution_count": 0,
   "metadata": {
    "colab": {},
    "colab_type": "code",
    "collapsed": true,
    "id": "5JnMl7F8gzsD"
   },
   "outputs": [],
   "source": [
    "from sklearn.model_selection import train_test_split\n",
    "i_train, i_test = train_test_split(np.arange(y.shape[0]), test_size=0.3, stratify=y)"
   ]
  },
  {
   "cell_type": "markdown",
   "metadata": {
    "colab_type": "text",
    "id": "zRBcEMIbgzsF"
   },
   "source": [
    "# Model"
   ]
  },
  {
   "cell_type": "code",
   "execution_count": 23,
   "metadata": {
    "colab": {
     "base_uri": "https://localhost:8080/",
     "height": 54
    },
    "colab_type": "code",
    "id": "JGBLRkLEgzsG",
    "outputId": "769d844b-b17f-4814-8762-87ce0c9403eb"
   },
   "outputs": [
    {
     "data": {
      "text/plain": [
       "'0.20.3'"
      ]
     },
     "execution_count": 23,
     "metadata": {
      "tags": []
     },
     "output_type": "execute_result"
    }
   ],
   "source": [
    "import sklearn\n",
    "sklearn.__version__"
   ]
  },
  {
   "cell_type": "code",
   "execution_count": 0,
   "metadata": {
    "colab": {},
    "colab_type": "code",
    "collapsed": true,
    "id": "U3Is3QVAgzsL"
   },
   "outputs": [],
   "source": [
    "from sklearn.model_selection import StratifiedKFold\n",
    "from tqdm import tqdm_notebook\n",
    "\n",
    "class StratifiedKFoldTqdm(StratifiedKFold):\n",
    "    def __init__(self, **kwargs):\n",
    "        super().__init__(**kwargs)\n",
    "    \n",
    "    def split(self, X, y, groups=None):\n",
    "        return tqdm_notebook(super().split(X, y, None), total=self.n_splits)    \n",
    "        \n",
    "cv_skf = StratifiedKFoldTqdm(n_splits=5, random_state=42)"
   ]
  },
  {
   "cell_type": "code",
   "execution_count": 0,
   "metadata": {
    "colab": {},
    "colab_type": "code",
    "collapsed": true,
    "id": "oY2NUglKgzsO"
   },
   "outputs": [],
   "source": [
    "from sklearn.model_selection import cross_val_score"
   ]
  },
  {
   "cell_type": "markdown",
   "metadata": {
    "colab_type": "text",
    "id": "OR6j-VbEgzsS"
   },
   "source": [
    "# Features"
   ]
  },
  {
   "cell_type": "code",
   "execution_count": 0,
   "metadata": {
    "colab": {},
    "colab_type": "code",
    "collapsed": true,
    "id": "OKWT5cNUgzsT"
   },
   "outputs": [],
   "source": [
    "from sklearn.base import BaseEstimator, TransformerMixin"
   ]
  },
  {
   "cell_type": "code",
   "execution_count": 0,
   "metadata": {
    "colab": {},
    "colab_type": "code",
    "collapsed": true,
    "id": "buZLgYv3gzsV"
   },
   "outputs": [],
   "source": [
    "class ColumnSelector(BaseEstimator, TransformerMixin):\n",
    "    def __init__(self, col_name):\n",
    "        self.col_name = col_name\n",
    "        \n",
    "    def fit(self, X, y=None):\n",
    "        return self\n",
    "    \n",
    "    def transform(self, X, y=None):\n",
    "        return X[self.col_name].values"
   ]
  },
  {
   "cell_type": "markdown",
   "metadata": {
    "colab_type": "text",
    "id": "3jyj_Zg9gzsZ"
   },
   "source": [
    "## MorphAnalyzer"
   ]
  },
  {
   "cell_type": "code",
   "execution_count": 0,
   "metadata": {
    "colab": {},
    "colab_type": "code",
    "collapsed": true,
    "id": "V_SVZXcFgzsa"
   },
   "outputs": [],
   "source": [
    "from pymorphy2 import MorphAnalyzer"
   ]
  },
  {
   "cell_type": "code",
   "execution_count": 0,
   "metadata": {
    "colab": {},
    "colab_type": "code",
    "collapsed": true,
    "id": "jUChpmRTgzsf"
   },
   "outputs": [],
   "source": [
    "morph = MorphAnalyzer()"
   ]
  },
  {
   "cell_type": "code",
   "execution_count": 30,
   "metadata": {
    "colab": {
     "base_uri": "https://localhost:8080/",
     "height": 70
    },
    "colab_type": "code",
    "id": "RkeV6qLegzsj",
    "outputId": "9039034f-9ee1-4473-b793-acaba8a06fd9"
   },
   "outputs": [
    {
     "data": {
      "text/plain": [
       "[Parse(word='раму', tag=OpencorporaTag('NOUN,inan,masc,Geox sing,datv'), normal_form='рам', score=0.5, methods_stack=((<DictionaryAnalyzer>, 'раму', 32, 2),)),\n",
       " Parse(word='раму', tag=OpencorporaTag('NOUN,inan,femn sing,accs'), normal_form='рама', score=0.5, methods_stack=((<DictionaryAnalyzer>, 'раму', 55, 3),))]"
      ]
     },
     "execution_count": 30,
     "metadata": {
      "tags": []
     },
     "output_type": "execute_result"
    }
   ],
   "source": [
    "morph.parse(\"раму\")"
   ]
  },
  {
   "cell_type": "code",
   "execution_count": 0,
   "metadata": {
    "colab": {},
    "colab_type": "code",
    "collapsed": true,
    "id": "pbsyv1ragzsm"
   },
   "outputs": [],
   "source": [
    "import re"
   ]
  },
  {
   "cell_type": "code",
   "execution_count": 0,
   "metadata": {
    "colab": {},
    "colab_type": "code",
    "collapsed": true,
    "id": "BRxpi-hwgzsp"
   },
   "outputs": [],
   "source": [
    "class Normalizer(BaseEstimator, TransformerMixin):\n",
    "    _cache = {}\n",
    "    \n",
    "    @staticmethod\n",
    "    def _process(line):\n",
    "        def norm(word):\n",
    "            if word in Normalizer._cache:\n",
    "                return Normalizer._cache[word]\n",
    "            \n",
    "            n = morph.parse(word)[0].normal_form\n",
    "            Normalizer._cache[word] = n\n",
    "            \n",
    "            return n\n",
    "        \n",
    "        return \" \".join([norm(word) for word in re.findall(r\"\\w+\", line.lower())])\n",
    "    \n",
    "    def __init__(self):\n",
    "        pass\n",
    "        \n",
    "    def fit(self, X, y=None):\n",
    "        return self\n",
    "    \n",
    "    def transform(self, X, y=None):\n",
    "        return np.array([self._process(line) for line in X])"
   ]
  },
  {
   "cell_type": "code",
   "execution_count": 33,
   "metadata": {
    "colab": {
     "base_uri": "https://localhost:8080/",
     "height": 54
    },
    "colab_type": "code",
    "id": "HC2qDWxjgzsr",
    "outputId": "93a9e33f-8498-4dc9-9a41-77ab255b83ab"
   },
   "outputs": [
    {
     "data": {
      "text/plain": [
       "array(['мама мыло рам', 'папа чинить сапог'], dtype='<U17')"
      ]
     },
     "execution_count": 33,
     "metadata": {
      "tags": []
     },
     "output_type": "execute_result"
    }
   ],
   "source": [
    "Normalizer().fit_transform([\"Мама мыла- раму\", \"Папа чинил сапоги\"])"
   ]
  },
  {
   "cell_type": "markdown",
   "metadata": {
    "colab_type": "text",
    "id": "pZzt0Ydcgzsv"
   },
   "source": [
    "## Услуга"
   ]
  },
  {
   "cell_type": "code",
   "execution_count": 0,
   "metadata": {
    "colab": {},
    "colab_type": "code",
    "collapsed": true,
    "id": "_rRCo6B-gzsw"
   },
   "outputs": [],
   "source": [
    "from sklearn.pipeline import Pipeline\n",
    "from sklearn.feature_extraction.text import TfidfVectorizer"
   ]
  },
  {
   "cell_type": "code",
   "execution_count": 0,
   "metadata": {
    "colab": {},
    "colab_type": "code",
    "collapsed": true,
    "id": "GLMFtEeSgzs3"
   },
   "outputs": [],
   "source": [
    "pipe_service = Pipeline([\n",
    "    ('select', ColumnSelector(\"Услуга\")),\n",
    "    ('norm', Normalizer()),\n",
    "    ('tfidf', TfidfVectorizer()),\n",
    "])"
   ]
  },
  {
   "cell_type": "code",
   "execution_count": 36,
   "metadata": {
    "colab": {
     "base_uri": "https://localhost:8080/",
     "height": 70
    },
    "colab_type": "code",
    "id": "gGhl5UJ6gztA",
    "outputId": "263de43f-300f-4888-ec16-86ccc89aedee"
   },
   "outputs": [
    {
     "name": "stdout",
     "output_type": "stream",
     "text": [
      "CPU times: user 735 ms, sys: 18.2 ms, total: 754 ms\n",
      "Wall time: 763 ms\n"
     ]
    }
   ],
   "source": [
    "%%time\n",
    "# pipe_service.set_params(tfidf__token_pattern=r\"\\b\\w{,5}\")\n",
    "X_service = pipe_service.fit_transform(X)"
   ]
  },
  {
   "cell_type": "code",
   "execution_count": 37,
   "metadata": {
    "colab": {
     "base_uri": "https://localhost:8080/",
     "height": 54
    },
    "colab_type": "code",
    "id": "2tnQi7-sgztG",
    "outputId": "d88ec8cb-156b-4c5e-8fae-a02494efd0f3"
   },
   "outputs": [
    {
     "data": {
      "text/plain": [
       "(48681, 241)"
      ]
     },
     "execution_count": 37,
     "metadata": {
      "tags": []
     },
     "output_type": "execute_result"
    }
   ],
   "source": [
    "X_service.shape"
   ]
  },
  {
   "cell_type": "code",
   "execution_count": 38,
   "metadata": {
    "colab": {
     "base_uri": "https://localhost:8080/",
     "height": 4086
    },
    "colab_type": "code",
    "id": "D_mKwmu1gztL",
    "outputId": "a28511f7-c9c1-42db-e9a3-fef65295dec7"
   },
   "outputs": [
    {
     "data": {
      "text/plain": [
       "{'001': 0,\n",
       " '15': 1,\n",
       " '18': 2,\n",
       " '28': 3,\n",
       " 'air': 4,\n",
       " 'flow': 5,\n",
       " 'акушер': 6,\n",
       " 'акция': 7,\n",
       " 'аллерголог': 8,\n",
       " 'амбулаторный': 9,\n",
       " 'анатомический': 10,\n",
       " 'ангиохирург': 11,\n",
       " 'андролог': 12,\n",
       " 'анестезия': 13,\n",
       " 'апп': 14,\n",
       " 'аппарат': 15,\n",
       " 'аппликационный': 16,\n",
       " 'бассейн': 17,\n",
       " 'без': 18,\n",
       " 'беременный': 19,\n",
       " 'бесплатный': 20,\n",
       " 'бесплый': 21,\n",
       " 'бинокулярный': 22,\n",
       " 'биомикроскопия': 23,\n",
       " 'блокада': 24,\n",
       " 'более': 25,\n",
       " 'больший': 26,\n",
       " 'бца': 27,\n",
       " 'ваш': 28,\n",
       " 'ведущий': 29,\n",
       " 'весь': 30,\n",
       " 'водянка': 31,\n",
       " 'волновой': 32,\n",
       " 'восстановление': 33,\n",
       " 'врач': 34,\n",
       " 'врачебный': 35,\n",
       " 'временной': 36,\n",
       " 'выдача': 37,\n",
       " 'выписка': 38,\n",
       " 'гастроэнтеролог': 39,\n",
       " 'гастроэнтерологический': 40,\n",
       " 'гибдд': 41,\n",
       " 'гинеколог': 42,\n",
       " 'гипсовый': 43,\n",
       " 'главный': 44,\n",
       " 'глаз': 45,\n",
       " 'глазной': 46,\n",
       " 'гнойный': 47,\n",
       " 'гомеопатический': 48,\n",
       " 'гомеосиниатрия': 49,\n",
       " 'групон': 50,\n",
       " 'день': 51,\n",
       " 'дерматовенеролог': 52,\n",
       " 'детский': 53,\n",
       " 'диагноз': 54,\n",
       " 'диагностический': 55,\n",
       " 'диаметр': 56,\n",
       " 'динамический': 57,\n",
       " 'для': 58,\n",
       " 'дневник': 59,\n",
       " 'дно': 60,\n",
       " 'до': 61,\n",
       " 'за': 62,\n",
       " 'зав': 63,\n",
       " 'заключительный': 64,\n",
       " 'зам': 65,\n",
       " 'запись': 66,\n",
       " 'здоровье': 67,\n",
       " 'зона': 68,\n",
       " 'зрачок': 69,\n",
       " 'зрение': 70,\n",
       " 'зуб': 71,\n",
       " 'зубной': 72,\n",
       " 'из': 73,\n",
       " 'или': 74,\n",
       " 'иммунолог': 75,\n",
       " 'импортный': 76,\n",
       " 'инородный': 77,\n",
       " 'инфильтрационный': 78,\n",
       " 'исследование': 79,\n",
       " 'камень': 80,\n",
       " 'канал': 81,\n",
       " 'кардио': 82,\n",
       " 'кардиолог': 83,\n",
       " 'кардиотокография': 84,\n",
       " 'кариес': 85,\n",
       " 'карман': 86,\n",
       " 'карта': 87,\n",
       " 'колопроктолог': 88,\n",
       " 'кольпоскопия': 89,\n",
       " 'комплексный': 90,\n",
       " 'композит': 91,\n",
       " 'компрессия': 92,\n",
       " 'компьютерный': 93,\n",
       " 'конечность': 94,\n",
       " 'консилиум': 95,\n",
       " 'консультация': 96,\n",
       " 'контактный': 97,\n",
       " 'конъюнктив': 98,\n",
       " 'коронка': 99,\n",
       " 'кровоток': 100,\n",
       " 'ктг': 101,\n",
       " 'курс': 102,\n",
       " 'лак': 103,\n",
       " 'лакуна': 104,\n",
       " 'лечебный': 105,\n",
       " 'лечение': 106,\n",
       " 'лечить': 107,\n",
       " 'линза': 108,\n",
       " 'лонгет': 109,\n",
       " 'лфк': 110,\n",
       " 'малое': 111,\n",
       " 'маммолога': 112,\n",
       " 'мануальный': 113,\n",
       " 'материал': 114,\n",
       " 'медикаментозный': 115,\n",
       " 'медицинский': 116,\n",
       " 'метод': 117,\n",
       " 'метр': 118,\n",
       " 'миндалина': 119,\n",
       " 'мрт': 120,\n",
       " 'мртпо': 121,\n",
       " 'мхц': 122,\n",
       " 'мягкий': 123,\n",
       " 'на': 124,\n",
       " 'наблюдение': 125,\n",
       " 'наличный': 126,\n",
       " 'наложение': 127,\n",
       " 'налёт': 128,\n",
       " 'наш': 129,\n",
       " 'ндс': 130,\n",
       " 'невролог': 131,\n",
       " 'неврологоа': 132,\n",
       " 'нейрохирург': 133,\n",
       " 'нижний': 134,\n",
       " 'новообразование': 135,\n",
       " 'нос': 136,\n",
       " 'область': 137,\n",
       " 'оболочка': 138,\n",
       " 'обработка': 139,\n",
       " 'обследование': 140,\n",
       " 'онколог': 141,\n",
       " 'операция': 142,\n",
       " 'ортопед': 143,\n",
       " 'осмотр': 144,\n",
       " 'отделение': 145,\n",
       " 'отечественный': 146,\n",
       " 'отоларинголог': 147,\n",
       " 'оториноларинголог': 148,\n",
       " 'отрезка': 149,\n",
       " 'оформление': 150,\n",
       " 'офтальмолог': 151,\n",
       " 'оценка': 152,\n",
       " 'паравертебральный': 153,\n",
       " 'пародонтальный': 154,\n",
       " 'паста': 155,\n",
       " 'патологический': 156,\n",
       " 'педиатр': 157,\n",
       " 'первичный': 158,\n",
       " 'перевязка': 159,\n",
       " 'передний': 160,\n",
       " 'перемещение': 161,\n",
       " 'пигментировать': 162,\n",
       " 'пластический': 163,\n",
       " 'плод': 164,\n",
       " 'пломба': 165,\n",
       " 'пломбировка': 166,\n",
       " 'по': 167,\n",
       " 'повторный': 168,\n",
       " 'повязка': 169,\n",
       " 'подбор': 170,\n",
       " 'покрытие': 171,\n",
       " 'полимерный': 172,\n",
       " 'полировка': 173,\n",
       " 'полость': 174,\n",
       " 'после': 175,\n",
       " 'последующий': 176,\n",
       " 'послеоперационный': 177,\n",
       " 'пр': 178,\n",
       " 'предвакцинальный': 179,\n",
       " 'препарат': 180,\n",
       " 'при': 181,\n",
       " 'приемврач': 182,\n",
       " 'приём': 183,\n",
       " 'программа': 184,\n",
       " 'пройтец': 185,\n",
       " 'промывание': 186,\n",
       " 'простой': 187,\n",
       " 'профилактический': 188,\n",
       " 'процедура': 189,\n",
       " 'психотерапевт': 190,\n",
       " 'пульмонолог': 191,\n",
       " 'пульпит': 192,\n",
       " 'пункция': 193,\n",
       " 'радиовизиография': 194,\n",
       " 'рамка': 195,\n",
       " 'рана': 196,\n",
       " 'расширеный': 197,\n",
       " 'расширить': 198,\n",
       " 'реабилитация': 199,\n",
       " 'реабилитолог': 200,\n",
       " 'ревматолог': 201,\n",
       " 'рефлексотерапевт': 202,\n",
       " 'рефлексотерапия': 203,\n",
       " 'рефрактометрия': 204,\n",
       " 'рот': 205,\n",
       " 'сантиметр': 206,\n",
       " 'светоотверждать': 207,\n",
       " 'светоотверждаюший': 208,\n",
       " 'снятие': 209,\n",
       " 'специалист': 210,\n",
       " 'справка': 211,\n",
       " 'стома': 212,\n",
       " 'стоматит': 213,\n",
       " 'стоматолог': 214,\n",
       " 'сумка': 215,\n",
       " 'сустав': 216,\n",
       " 'суставный': 217,\n",
       " 'тело': 218,\n",
       " 'терапевт': 219,\n",
       " 'терапия': 220,\n",
       " 'травматолог': 221,\n",
       " 'травмотолог': 222,\n",
       " 'трихолог': 223,\n",
       " 'удаление': 224,\n",
       " 'ударно': 225,\n",
       " 'узи': 226,\n",
       " 'ультразвук': 227,\n",
       " 'уролог': 228,\n",
       " 'учёт': 229,\n",
       " 'физкультура': 230,\n",
       " 'флеболог': 231,\n",
       " 'фтор': 232,\n",
       " 'хирург': 233,\n",
       " 'цикл': 234,\n",
       " 'четыре': 235,\n",
       " 'чистый': 236,\n",
       " 'шов': 237,\n",
       " 'эластический': 238,\n",
       " 'эндокринолог': 239,\n",
       " 'яичко': 240}"
      ]
     },
     "execution_count": 38,
     "metadata": {
      "tags": []
     },
     "output_type": "execute_result"
    }
   ],
   "source": [
    "pipe_service.named_steps[\"tfidf\"].vocabulary_"
   ]
  },
  {
   "cell_type": "markdown",
   "metadata": {
    "colab_type": "text",
    "id": "MTvjamWEgztQ"
   },
   "source": [
    "## Жалоба"
   ]
  },
  {
   "cell_type": "code",
   "execution_count": 0,
   "metadata": {
    "colab": {},
    "colab_type": "code",
    "collapsed": true,
    "id": "z1Jrr6k4gztT"
   },
   "outputs": [],
   "source": [
    "from sklearn.pipeline import Pipeline\n",
    "from sklearn.feature_extraction.text import TfidfVectorizer"
   ]
  },
  {
   "cell_type": "code",
   "execution_count": 0,
   "metadata": {
    "colab": {},
    "colab_type": "code",
    "collapsed": true,
    "id": "dc8yHu0EgztW"
   },
   "outputs": [],
   "source": [
    "pipe_symptom = Pipeline([\n",
    "    ('select', ColumnSelector(\"Жалобы\")),\n",
    "    ('norm', Normalizer()),\n",
    "    ('tfidf', TfidfVectorizer(min_df=4, max_df=0.6, max_features=10000)),\n",
    "])"
   ]
  },
  {
   "cell_type": "code",
   "execution_count": 41,
   "metadata": {
    "colab": {
     "base_uri": "https://localhost:8080/",
     "height": 70
    },
    "colab_type": "code",
    "id": "2xUF8tJhgztY",
    "outputId": "42728a07-1fb5-44f0-9bf8-cc94f0c5c40e"
   },
   "outputs": [
    {
     "name": "stdout",
     "output_type": "stream",
     "text": [
      "CPU times: user 4.1 s, sys: 63 ms, total: 4.16 s\n",
      "Wall time: 4.17 s\n"
     ]
    }
   ],
   "source": [
    "%%time\n",
    "# pipe_service.set_params(tfidf__token_pattern=r\"\\b\\w{,5}\")\n",
    "X_symptom = pipe_symptom.fit_transform(X)"
   ]
  },
  {
   "cell_type": "code",
   "execution_count": 42,
   "metadata": {
    "colab": {
     "base_uri": "https://localhost:8080/",
     "height": 54
    },
    "colab_type": "code",
    "id": "aCc35Wz0gztb",
    "outputId": "d146cbdc-9821-4451-d83a-72b15ec9e739"
   },
   "outputs": [
    {
     "data": {
      "text/plain": [
       "(48681, 2222)"
      ]
     },
     "execution_count": 42,
     "metadata": {
      "tags": []
     },
     "output_type": "execute_result"
    }
   ],
   "source": [
    "X_symptom.shape"
   ]
  },
  {
   "cell_type": "code",
   "execution_count": 43,
   "metadata": {
    "colab": {
     "base_uri": "https://localhost:8080/",
     "height": 70
    },
    "colab_type": "code",
    "id": "bwVpRJRxgztf",
    "outputId": "361d0abb-6c8d-4f5b-af05-abeb66ecc270"
   },
   "outputs": [
    {
     "data": {
      "text/plain": [
       "<48681x2222 sparse matrix of type '<class 'numpy.float64'>'\n",
       "\twith 333441 stored elements in Compressed Sparse Row format>"
      ]
     },
     "execution_count": 43,
     "metadata": {
      "tags": []
     },
     "output_type": "execute_result"
    }
   ],
   "source": [
    "X_symptom"
   ]
  },
  {
   "cell_type": "code",
   "execution_count": 44,
   "metadata": {
    "colab": {
     "base_uri": "https://localhost:8080/",
     "height": 16854
    },
    "colab_type": "code",
    "id": "zASGRUaYgztk",
    "outputId": "3568eb3e-824c-4504-f67c-4a59cd89048d"
   },
   "outputs": [
    {
     "data": {
      "text/plain": [
       "{'повышение': 1349,\n",
       " 'ада': 106,\n",
       " 'утром': 2057,\n",
       " 'до': 466,\n",
       " '140': 23,\n",
       " '90': 96,\n",
       " 'мм': 886,\n",
       " 'рт': 1680,\n",
       " 'ст': 1850,\n",
       " 'периодич': 1293,\n",
       " 'головокружение': 376,\n",
       " 'наличие': 951,\n",
       " 'опухоль': 1155,\n",
       " 'левый': 764,\n",
       " 'молочный': 894,\n",
       " 'железо': 510,\n",
       " 'активный': 112,\n",
       " 'жалоба': 499,\n",
       " 'нет': 1032,\n",
       " 'сохраняться': 1823,\n",
       " 'боль': 187,\n",
       " 'спина': 1832,\n",
       " 'поясница': 1472,\n",
       " 'скованность': 1761,\n",
       " 'она': 1136,\n",
       " 'дискомфорт': 444,\n",
       " 'горло': 385,\n",
       " 'слабый': 1771,\n",
       " 'першение': 1304,\n",
       " 'слабость': 1769,\n",
       " 'палец': 1236,\n",
       " 'правый': 1478,\n",
       " 'кисть': 661,\n",
       " 'не': 983,\n",
       " 'измениться': 596,\n",
       " 'момент': 895,\n",
       " 'первое': 1261,\n",
       " 'приём': 1531,\n",
       " 'по': 1335,\n",
       " 'цикл': 2128,\n",
       " 'паховый': 1255,\n",
       " 'подвздошный': 1357,\n",
       " 'область': 1092,\n",
       " 'фон': 2093,\n",
       " 'лечение': 772,\n",
       " 'самочувствие': 1692,\n",
       " 'улучшение': 2020,\n",
       " 'болевой': 177,\n",
       " 'диспептический': 449,\n",
       " 'синдром': 1749,\n",
       " 'выразить': 319,\n",
       " 'аппетит': 132,\n",
       " 'норма': 1065,\n",
       " 'переносить': 1275,\n",
       " 'хорошо': 2114,\n",
       " 'отмечаться': 1204,\n",
       " 'положительный': 1418,\n",
       " 'клинико': 668,\n",
       " 'эндоскопический': 2187,\n",
       " 'динамик': 440,\n",
       " 'осмотр': 1165,\n",
       " 'предъявлять': 1488,\n",
       " 'повышенный': 1350,\n",
       " 'слюноотделение': 1785,\n",
       " 'настоящее': 968,\n",
       " 'время': 296,\n",
       " 'лечиться': 773,\n",
       " 'стоматолог': 1869,\n",
       " 'тошнота': 1954,\n",
       " 'тяжесть': 1988,\n",
       " 'после': 1441,\n",
       " 'диета': 436,\n",
       " 'стул': 1883,\n",
       " 'кашица': 653,\n",
       " 'иногда': 607,\n",
       " 'примесь': 1517,\n",
       " 'слизь': 1778,\n",
       " 'живот': 515,\n",
       " 'стопа': 1871,\n",
       " 'иррадиировать': 619,\n",
       " 'интенсивность': 610,\n",
       " 'ваш': 211,\n",
       " 'балл': 143,\n",
       " 'периодический': 1295,\n",
       " 'головной': 375,\n",
       " 'лобный': 788,\n",
       " 'часть': 2136,\n",
       " 'при': 1504,\n",
       " 'цифра': 2130,\n",
       " 'активно': 110,\n",
       " 'учащённый': 2067,\n",
       " 'мочеиспускание': 903,\n",
       " 'чувство': 2151,\n",
       " 'неполный': 1010,\n",
       " 'опорожнение': 1147,\n",
       " 'мочевой': 900,\n",
       " 'пузырь': 1584,\n",
       " 'поясничный': 1473,\n",
       " 'ночью': 1079,\n",
       " 'мочиться': 906,\n",
       " 'подташнивать': 1377,\n",
       " 'голов': 371,\n",
       " 'напряжённость': 960,\n",
       " 'раздражительность': 1610,\n",
       " 'сухость': 1910,\n",
       " 'рот': 1677,\n",
       " 'трудность': 1978,\n",
       " 'пища': 1309,\n",
       " 'отдел': 1185,\n",
       " 'позвоночник': 1386,\n",
       " 'без': 147,\n",
       " 'иррадиация': 618,\n",
       " 'покашливание': 1403,\n",
       " 'провести': 1536,\n",
       " 'выделение': 304,\n",
       " 'стать': 1858,\n",
       " 'маленький': 823,\n",
       " 'казеозный': 637,\n",
       " 'пробка': 1532,\n",
       " 'из': 590,\n",
       " 'высыпание': 323,\n",
       " 'кожа': 673,\n",
       " 'туловище': 1981,\n",
       " 'плечо': 1325,\n",
       " 'редко': 1653,\n",
       " 'онемение': 1137,\n",
       " 'немой': 1003,\n",
       " 'хотеть': 2115,\n",
       " 'ведение': 220,\n",
       " 'беременность': 155,\n",
       " 'впервые': 290,\n",
       " 'указанный': 2016,\n",
       " 'неделя': 990,\n",
       " 'назад': 944,\n",
       " 'полгода': 1407,\n",
       " 'отмечать': 1203,\n",
       " 'появление': 1467,\n",
       " 'опухолевидный': 1154,\n",
       " 'образование': 1102,\n",
       " 'самостоятельно': 1690,\n",
       " 'мазь': 818,\n",
       " 'течение': 1939,\n",
       " 'длительный': 458,\n",
       " 'страдать': 1876,\n",
       " 'анамнез': 124,\n",
       " 'год': 366,\n",
       " 'уровень': 2038,\n",
       " 'чсс': 2147,\n",
       " 'особенно': 1170,\n",
       " 'физический': 2084,\n",
       " 'нагрузка': 932,\n",
       " 'покраснение': 1405,\n",
       " 'глаз': 353,\n",
       " 'небольшой': 984,\n",
       " 'заложенность': 546,\n",
       " 'нос': 1070,\n",
       " 'вечер': 233,\n",
       " 'незначительный': 996,\n",
       " 'давление': 404,\n",
       " 'усталость': 2050,\n",
       " 'снижение': 1790,\n",
       " 'зрение': 583,\n",
       " 'вблизи': 212,\n",
       " 'быстрый': 204,\n",
       " 'утомляемость': 2053,\n",
       " 'работа': 1597,\n",
       " 'за': 525,\n",
       " 'пк': 1312,\n",
       " 'шея': 2164,\n",
       " 'несистемный': 1025,\n",
       " 'характер': 2102,\n",
       " 'нарушение': 966,\n",
       " 'сон': 1804,\n",
       " 'тип': 1942,\n",
       " 'ночное': 1076,\n",
       " 'пробуждение': 1534,\n",
       " 'слово': 1780,\n",
       " 'память': 1238,\n",
       " 'деликатный': 423,\n",
       " 'тянущий': 1990,\n",
       " 'проекция': 1547,\n",
       " 'слева': 1773,\n",
       " 'боков': 175,\n",
       " 'наклон': 949,\n",
       " 'зудеть': 588,\n",
       " 'нога': 1058,\n",
       " 'день': 424,\n",
       " 'отделение': 1186,\n",
       " 'лакуна': 762,\n",
       " 'миндалина': 879,\n",
       " 'слизистый': 1777,\n",
       " 'насморк': 967,\n",
       " 'сухой': 1909,\n",
       " 'надсадный': 943,\n",
       " 'кашель': 651,\n",
       " 'температура': 1932,\n",
       " 'тело': 1926,\n",
       " '37': 71,\n",
       " 'гр': 388,\n",
       " 'общий': 1110,\n",
       " 'усиливаться': 2046,\n",
       " 'движение': 414,\n",
       " 'явка': 2210,\n",
       " 'профилактический': 1569,\n",
       " 'плата': 1323,\n",
       " 'крестцовый': 732,\n",
       " 'бель': 154,\n",
       " 'обильный': 1090,\n",
       " 'месячный': 864,\n",
       " 'пятка': 1594,\n",
       " 'тенденция': 1934,\n",
       " 'нормализация': 1066,\n",
       " 'кома': 688,\n",
       " 'частый': 2135,\n",
       " 'изжога': 593,\n",
       " 'отрыжка': 1211,\n",
       " 'воздух': 273,\n",
       " 'срыгивание': 1848,\n",
       " 'ощущение': 1232,\n",
       " 'нехватка': 1039,\n",
       " 'сопровождаться': 1806,\n",
       " 'сердцебиение': 1734,\n",
       " 'делать': 422,\n",
       " 'глубокий': 358,\n",
       " 'вдох': 218,\n",
       " 'болезненность': 180,\n",
       " 'большой': 193,\n",
       " 'справа': 1838,\n",
       " 'глотание': 356,\n",
       " 'теменной': 1928,\n",
       " 'локализация': 793,\n",
       " 'нестабильность': 1030,\n",
       " '160': 28,\n",
       " '100': 12,\n",
       " 'сильный': 1746,\n",
       " 'литр': 782,\n",
       " 'том': 1949,\n",
       " 'град': 390,\n",
       " 'задний': 539,\n",
       " 'поверхность': 1339,\n",
       " 'результат': 1661,\n",
       " 'анализ': 121,\n",
       " '38': 74,\n",
       " 'вздутие': 237,\n",
       " 'газообразование': 333,\n",
       " 'околопупочный': 1128,\n",
       " 'эпизодический': 2198,\n",
       " 'грудь': 395,\n",
       " 'затруднение': 562,\n",
       " 'носовой': 1073,\n",
       " 'дыхание': 486,\n",
       " 'скудный': 1764,\n",
       " 'отделять': 1187,\n",
       " 'полость': 1420,\n",
       " 'проводить': 1537,\n",
       " 'беспокоить': 161,\n",
       " 'метеозависимость': 865,\n",
       " 'периодически': 1294,\n",
       " 'возникать': 275,\n",
       " 'ход': 2108,\n",
       " 'прежний': 1493,\n",
       " 'отекание': 1189,\n",
       " 'стоп': 1870,\n",
       " 'нижний': 1046,\n",
       " 'запор': 555,\n",
       " 'много': 888,\n",
       " 'менструальный': 855,\n",
       " 'последний': 1442,\n",
       " 'от': 1180,\n",
       " '24': 55,\n",
       " 'далее': 406,\n",
       " 'метр': 868,\n",
       " '22': 52,\n",
       " 'июнь': 633,\n",
       " 'задержка': 537,\n",
       " 'мес': 860,\n",
       " 'продолжаться': 1543,\n",
       " 'июль': 632,\n",
       " 'обильно': 1089,\n",
       " 'начало': 978,\n",
       " 'дюфастон': 489,\n",
       " '12': 16,\n",
       " 'раз': 1603,\n",
       " 'мазать': 813,\n",
       " 'болезненный': 181,\n",
       " 'внизу': 261,\n",
       " 'невыраженный': 988,\n",
       " 'кр': 722,\n",
       " 'физ': 2082,\n",
       " 'кишечник': 662,\n",
       " 'вновь': 263,\n",
       " 'склонность': 1760,\n",
       " 'тугой': 1979,\n",
       " 'затуманивание': 566,\n",
       " 'зрительный': 584,\n",
       " 'утомление': 2052,\n",
       " 'рука': 1683,\n",
       " 'дрожь': 480,\n",
       " 'вес': 230,\n",
       " 'килограмм': 657,\n",
       " 'трещина': 1971,\n",
       " 'редкий': 1652,\n",
       " 'возможно': 274,\n",
       " 'пятно': 1595,\n",
       " 'шелушение': 2162,\n",
       " 'число': 2143,\n",
       " 'тревога': 1963,\n",
       " 'неустойчивость': 1037,\n",
       " 'настроение': 970,\n",
       " 'гол': 367,\n",
       " 'блокада': 171,\n",
       " 'медикаментозный': 838,\n",
       " '80': 92,\n",
       " 'мама': 828,\n",
       " 'февраль': 2077,\n",
       " '2015': 45,\n",
       " 'консультация': 699,\n",
       " 'обследование': 1107,\n",
       " 'умеренный': 2027,\n",
       " 'затруднённость': 565,\n",
       " 'тупой': 1983,\n",
       " 'лобок': 789,\n",
       " 'разбитость': 1604,\n",
       " 'увеличение': 1992,\n",
       " 'шейный': 2161,\n",
       " 'подчелюстной': 1379,\n",
       " 'ломота': 799,\n",
       " 'мышца': 923,\n",
       " 'оба': 1086,\n",
       " 'ухо': 2059,\n",
       " 'связывать': 1712,\n",
       " 'антибиотик': 127,\n",
       " 'подойти': 1372,\n",
       " 'фгдс': 2076,\n",
       " 'малопродуктивный': 827,\n",
       " 'кашлеь': 655,\n",
       " 'мокрота': 892,\n",
       " 'утро': 2056,\n",
       " 'зеленоватый': 578,\n",
       " 'сгусток': 1717,\n",
       " 'осиплость': 1161,\n",
       " 'голос': 379,\n",
       " 'лицо': 784,\n",
       " 'право': 1477,\n",
       " 'коленный': 679,\n",
       " 'сустав': 1904,\n",
       " 'ходьба': 2110,\n",
       " 'половый': 1416,\n",
       " 'путь': 1592,\n",
       " 'жжение': 514,\n",
       " 'влагалище': 251,\n",
       " 'височный': 247,\n",
       " 'прострел': 1558,\n",
       " 'горизонтальный': 384,\n",
       " 'положение': 1417,\n",
       " 'физй': 2085,\n",
       " 'спортивный': 1837,\n",
       " 'занятие': 552,\n",
       " 'менструация': 856,\n",
       " 'обратиться': 1103,\n",
       " 'мхц': 920,\n",
       " 'врач': 294,\n",
       " 'уролог': 2039,\n",
       " 'через': 2142,\n",
       " 'месяц': 863,\n",
       " 'сдать': 1720,\n",
       " 'он': 1135,\n",
       " 'клиника': 667,\n",
       " 'мазка': 815,\n",
       " 'выявить': 327,\n",
       " 'гарднерелла': 335,\n",
       " 'посев': 1437,\n",
       " 'флор': 2090,\n",
       " 'уретра': 2037,\n",
       " 'повторный': 1344,\n",
       " 'цель': 2125,\n",
       " 'проведение': 1535,\n",
       " 'расширить': 1640,\n",
       " 'кольпоскопия': 684,\n",
       " 'грудной': 393,\n",
       " 'клетка': 665,\n",
       " 'перегрузка': 1264,\n",
       " 'резкий': 1659,\n",
       " 'острый': 1179,\n",
       " 'утолщение': 2051,\n",
       " 'век': 221,\n",
       " 'плотный': 1327,\n",
       " 'вдали': 215,\n",
       " 'потливость': 1454,\n",
       " 'ноющий': 1081,\n",
       " 'ограничение': 1118,\n",
       " 'настоящий': 969,\n",
       " 'дообследование': 471,\n",
       " 'ягодица': 2213,\n",
       " 'бедро': 146,\n",
       " 'динамика': 441,\n",
       " 'состояние': 1813,\n",
       " 'удовлетворительный': 2004,\n",
       " 'интенсивный': 611,\n",
       " 'эпигастральный': 2192,\n",
       " 'натощак': 974,\n",
       " '39': 76,\n",
       " 'осмтр': 1167,\n",
       " 'приступ': 1525,\n",
       " 'рвота': 1641,\n",
       " 'умеренно': 2026,\n",
       " 'уплотнение': 2031,\n",
       " 'бок': 174,\n",
       " 'также': 1919,\n",
       " 'покой': 1404,\n",
       " 'самоконтроль': 1688,\n",
       " 'пульс': 1587,\n",
       " '120': 17,\n",
       " 'уд': 1998,\n",
       " 'мина': 878,\n",
       " 'неустойчивый': 1038,\n",
       " '180': 35,\n",
       " 'затылочный': 568,\n",
       " 'пациент': 1256,\n",
       " 'контроль': 702,\n",
       " 'кровянистый': 743,\n",
       " 'неприятный': 1014,\n",
       " 'запах': 553,\n",
       " 'подъесть': 1380,\n",
       " 'кожный': 674,\n",
       " 'покров': 1406,\n",
       " 'нагрубание': 931,\n",
       " 'пальпация': 1237,\n",
       " 'гиперемия': 347,\n",
       " 'для': 461,\n",
       " 'постановка': 1445,\n",
       " 'учёт': 2069,\n",
       " 'жёлтый': 523,\n",
       " 'зелёный': 579,\n",
       " 'цвет': 2122,\n",
       " 'прозрачный': 1549,\n",
       " 'количество': 683,\n",
       " 'близкий': 169,\n",
       " 'расстояние': 1632,\n",
       " 'инфильтрат': 613,\n",
       " 'отечь': 1190,\n",
       " 'надбровный': 936,\n",
       " 'дуга': 483,\n",
       " 'ухудшение': 2061,\n",
       " 'концентрация': 704,\n",
       " 'внимание': 262,\n",
       " 'текущий': 1925,\n",
       " 'событие': 1795,\n",
       " 'звон': 572,\n",
       " 'бессоница': 163,\n",
       " 'перед': 1265,\n",
       " 'операция': 1144,\n",
       " 'повод': 1340,\n",
       " 'предьявлять': 1490,\n",
       " 'субфебрильный': 1890,\n",
       " 'голеностопный': 368,\n",
       " 'затылок': 567,\n",
       " 'конс': 697,\n",
       " 'объём': 1112,\n",
       " 'отсутствие': 1213,\n",
       " 'брак': 194,\n",
       " 'зубной': 586,\n",
       " 'камень': 642,\n",
       " 'кровоточивость': 740,\n",
       " 'десна': 428,\n",
       " 'кариозный': 647,\n",
       " 'сладкое': 1772,\n",
       " 'холодное': 2112,\n",
       " 'фронтальный': 2098,\n",
       " 'зуб': 585,\n",
       " 'верхний': 229,\n",
       " 'челюсть': 2139,\n",
       " 'новый': 1057,\n",
       " '150': 26,\n",
       " 'днём': 465,\n",
       " '10': 11,\n",
       " '15': 25,\n",
       " 'покалывание': 1399,\n",
       " 'язык': 2216,\n",
       " 'системный': 1755,\n",
       " 'жидкий': 516,\n",
       " 'продуктивный': 1546,\n",
       " 'подошвенный': 1374,\n",
       " 'ти': 1940,\n",
       " 'лоб': 786,\n",
       " 'поворот': 1341,\n",
       " 'лопатка': 801,\n",
       " 'связать': 1711,\n",
       " 'почти': 1463,\n",
       " 'ягодичный': 2214,\n",
       " 'локтевой': 796,\n",
       " 'отросток': 1210,\n",
       " 'прямая': 1581,\n",
       " 'кишка': 663,\n",
       " 'кровь': 742,\n",
       " 'бумага': 200,\n",
       " 'регулярный': 1651,\n",
       " 'подреберье': 1375,\n",
       " 'эпигастрия': 2193,\n",
       " 'погрешность': 1353,\n",
       " 'неоформленный': 1008,\n",
       " 'слабо': 1767,\n",
       " '26': 57,\n",
       " '16г': 30,\n",
       " 'дальний': 408,\n",
       " 'зуд': 587,\n",
       " 'родинка': 1674,\n",
       " 'сутки': 1906,\n",
       " 'выпадение': 311,\n",
       " 'волос': 283,\n",
       " 'уменьшение': 2023,\n",
       " 'узел': 2009,\n",
       " 'подбородок': 1356,\n",
       " 'выспаний': 322,\n",
       " 'тазобедренный': 1917,\n",
       " 'светлый': 1700,\n",
       " 'свободный': 1706,\n",
       " 'работоспособность': 1599,\n",
       " 'хороший': 2113,\n",
       " 'постоянный': 1449,\n",
       " 'хронический': 2119,\n",
       " 'летучий': 771,\n",
       " 'бл': 168,\n",
       " 'ваха': 210,\n",
       " 'учащение': 2065,\n",
       " 'рецидивировать': 1667,\n",
       " 'корочка': 715,\n",
       " 'покачивание': 1401,\n",
       " 'предплечье': 1486,\n",
       " 'перхоть': 1303,\n",
       " 'прыщ': 1580,\n",
       " 'усидивающийся': 2042,\n",
       " 'статический': 1857,\n",
       " 'щитовидный': 2174,\n",
       " 'железа': 509,\n",
       " 'вялость': 330,\n",
       " 'голень': 369,\n",
       " 'сонливость': 1805,\n",
       " 'жажда': 498,\n",
       " 'уха': 2058,\n",
       " 'беспокойство': 162,\n",
       " 'направить': 957,\n",
       " 'дерматолог': 427,\n",
       " 'наблюдаться': 927,\n",
       " 'миома': 882,\n",
       " 'матка': 834,\n",
       " 'друг': 481,\n",
       " 'лпу': 804,\n",
       " 'нервный': 1019,\n",
       " 'перенапряжение': 1272,\n",
       " 'желудок': 512,\n",
       " 'сочленение': 1824,\n",
       " 'заложенносить': 545,\n",
       " 'тахикардия': 1922,\n",
       " 'одышка': 1125,\n",
       " 'пациентка': 1257,\n",
       " 'простреливать': 1559,\n",
       " 'копчик': 709,\n",
       " 'периорбитальный': 1301,\n",
       " 'перидоический': 1291,\n",
       " 'плечевой': 1324,\n",
       " 'отёчность': 1221,\n",
       " 'изменение': 595,\n",
       " 'ногтевой': 1060,\n",
       " 'пластина': 1321,\n",
       " 'подмышечный': 1367,\n",
       " 'впадина': 289,\n",
       " 'несколько': 1027,\n",
       " 'внезапный': 259,\n",
       " 'диффузный': 455,\n",
       " 'эпизод': 2196,\n",
       " 'сознание': 1799,\n",
       " 'однако': 1121,\n",
       " 'менее': 852,\n",
       " 'увеличиться': 1994,\n",
       " 'подвижность': 1358,\n",
       " 'транспорт': 1959,\n",
       " 'смена': 1786,\n",
       " 'запрокидывание': 556,\n",
       " 'завершить': 531,\n",
       " 'курс': 756,\n",
       " 'медикоментозный': 839,\n",
       " 'терапия': 1936,\n",
       " 'исчезнуть': 630,\n",
       " 'дизурия': 438,\n",
       " 'поллакиурия': 1412,\n",
       " 'малое': 825,\n",
       " 'таз': 1916,\n",
       " 'уменьшиться': 2025,\n",
       " 'вдаль': 216,\n",
       " 'песок': 1305,\n",
       " 'стекание': 1860,\n",
       " 'стенка': 1863,\n",
       " 'глотка': 357,\n",
       " 'слезотечение': 1776,\n",
       " 'около': 1127,\n",
       " 'грудина': 392,\n",
       " 'проходить': 1571,\n",
       " 'два': 412,\n",
       " 'сторона': 1873,\n",
       " 'перемена': 1271,\n",
       " 'тренировка': 1967,\n",
       " 'протяжение': 1568,\n",
       " 'конечность': 695,\n",
       " 'давящий': 405,\n",
       " 'глазной': 354,\n",
       " 'яблоко': 2208,\n",
       " 'половина': 1415,\n",
       " 'двоение': 415,\n",
       " 'предмет': 1482,\n",
       " 'резь': 1662,\n",
       " 'визит': 242,\n",
       " 'предоперационный': 1484,\n",
       " 'терапевт': 1935,\n",
       " 'взятие': 238,\n",
       " 'контрольный': 703,\n",
       " 'прижигание': 1511,\n",
       " 'подташнивание': 1376,\n",
       " 'снизить': 1791,\n",
       " 'покалывать': 1400,\n",
       " 'промежность': 1554,\n",
       " 'варикозный': 209,\n",
       " 'расширение': 1639,\n",
       " 'вено': 223,\n",
       " 'наш': 982,\n",
       " 'лучезапястный': 806,\n",
       " 'гнойный': 363,\n",
       " 'менстраница': 854,\n",
       " 'учащенность': 2066,\n",
       " 'ослабление': 1163,\n",
       " 'эрекция': 2200,\n",
       " 'что': 2149,\n",
       " 'нерв': 1018,\n",
       " 'наружное': 964,\n",
       " 'орган': 1158,\n",
       " '1раз': 40,\n",
       " 'двукратный': 416,\n",
       " 'блуждать': 172,\n",
       " 'весь': 232,\n",
       " 'горечь': 383,\n",
       " 'ротовой': 1679,\n",
       " 'утренний': 2055,\n",
       " 'часы': 2137,\n",
       " 'густой': 403,\n",
       " 'носоглотка': 1074,\n",
       " 'погода': 1352,\n",
       " 'перелом': 1270,\n",
       " 'послеоперационный': 1444,\n",
       " 'рана': 1619,\n",
       " 'чёткий': 2156,\n",
       " 'связь': 1713,\n",
       " 'различный': 1612,\n",
       " 'спин': 1831,\n",
       " '170': 32,\n",
       " 'максимально': 821,\n",
       " 'мл': 884,\n",
       " 'купирование': 750,\n",
       " 'подёргивание': 1383,\n",
       " 'процедура': 1573,\n",
       " 'определение': 1150,\n",
       " 'над': 934,\n",
       " 'сосок': 1811,\n",
       " 'нормальный': 1068,\n",
       " 'преимущественно': 1494,\n",
       " 'голодный': 378,\n",
       " 'чувствительность': 2150,\n",
       " 'заболеваемость': 526,\n",
       " 'простуда': 1560,\n",
       " 'респираторный': 1666,\n",
       " 'инфекция': 612,\n",
       " 'осложнение': 1164,\n",
       " 'потребность': 1456,\n",
       " 'переход': 1287,\n",
       " '60': 88,\n",
       " 'послабление': 1440,\n",
       " 'анальный': 123,\n",
       " 'неинтенсивный': 998,\n",
       " 'единичный': 492,\n",
       " 'императивный': 605,\n",
       " 'позыв': 1396,\n",
       " 'преходящий': 1503,\n",
       " 'наружный': 965,\n",
       " 'поп': 1432,\n",
       " 'под': 1354,\n",
       " 'гнойничковый': 362,\n",
       " 'загноение': 535,\n",
       " 'воспаление': 287,\n",
       " 'но': 1054,\n",
       " 'между': 841,\n",
       " 'колющий': 686,\n",
       " 'переднебоков': 1266,\n",
       " 'омотр': 1134,\n",
       " 'конец': 694,\n",
       " 'рабочий': 1600,\n",
       " 'управление': 2035,\n",
       " 'автомобиль': 105,\n",
       " 'эпизодически': 2197,\n",
       " 'удушье': 2005,\n",
       " 'плаксивость': 1315,\n",
       " 'передний': 1267,\n",
       " 'отсутствовать': 1214,\n",
       " 'лёгкое': 810,\n",
       " 'вправо': 292,\n",
       " 'охриплость': 1224,\n",
       " 'вокруг': 281,\n",
       " 'губа': 401,\n",
       " 'мочеипускание': 901,\n",
       " 'адаптировать': 107,\n",
       " 'повышеный': 1351,\n",
       " 'середина': 1735,\n",
       " 'щека': 2170,\n",
       " 'угол': 1995,\n",
       " 'ii': 98,\n",
       " 'несмотря': 1028,\n",
       " 'продолжать': 1542,\n",
       " 'немотивированный': 1004,\n",
       " 'чихание': 2145,\n",
       " 'яичко': 2217,\n",
       " 'сидение': 1742,\n",
       " 'надплечий': 941,\n",
       " 'хгч': 2104,\n",
       " '08': 8,\n",
       " '2016г': 48,\n",
       " 'мёд': 926,\n",
       " 'желтоватый': 511,\n",
       " 'практически': 1479,\n",
       " 'возобновление': 279,\n",
       " 'они': 1139,\n",
       " 'острота': 1178,\n",
       " 'масса': 831,\n",
       " 'стабильный': 1853,\n",
       " 'спорт': 1836,\n",
       " 'питание': 1308,\n",
       " 'мошонка': 910,\n",
       " 'тревожность': 1964,\n",
       " 'жара': 503,\n",
       " 'или': 601,\n",
       " 'холод': 2111,\n",
       " 'оценивать': 1226,\n",
       " 'озноб': 1126,\n",
       " 'пришлый': 1530,\n",
       " 'начать': 979,\n",
       " 'познабливание': 1391,\n",
       " 'размытость': 1615,\n",
       " 'мушка': 919,\n",
       " 'напряжение': 959,\n",
       " 'проводиться': 1538,\n",
       " 'бесплатный': 159,\n",
       " 'выписка': 313,\n",
       " 'который': 720,\n",
       " 'диагноз': 433,\n",
       " 'сантиметр': 1694,\n",
       " 'минимальный': 880,\n",
       " 'стрелять': 1878,\n",
       " 'рост': 1676,\n",
       " 'новообразование': 1056,\n",
       " 'желание': 508,\n",
       " 'вмс': 256,\n",
       " '4с': 84,\n",
       " 'кресцов': 733,\n",
       " 'напор': 956,\n",
       " 'струить': 1881,\n",
       " 'достаточный': 474,\n",
       " 'быть': 206,\n",
       " 'однократный': 1123,\n",
       " 'пройти': 1550,\n",
       " 'недержание': 991,\n",
       " 'мочить': 905,\n",
       " 'биохимический': 167,\n",
       " 'предел': 1481,\n",
       " 'усиление': 2043,\n",
       " 'обострение': 1100,\n",
       " 'бронхит': 196,\n",
       " 'перебой': 1262,\n",
       " 'сердце': 1733,\n",
       " 'дёргать': 490,\n",
       " 'бессонница': 164,\n",
       " 'низкий': 1048,\n",
       " 'перистальтика': 1302,\n",
       " 'обычный': 1115,\n",
       " 'патологический': 1250,\n",
       " 'метеоризм': 867,\n",
       " 'сидеть': 1743,\n",
       " 'мазаться': 814,\n",
       " 'сукровичный': 1897,\n",
       " 'акт': 109,\n",
       " 'более': 178,\n",
       " 'сдача': 1721,\n",
       " 'лёгкий': 809,\n",
       " 'пульсация': 1588,\n",
       " 'неуверенность': 1033,\n",
       " 'себя': 1723,\n",
       " 'парестезия': 1247,\n",
       " 'локоть': 795,\n",
       " 'приступообразный': 1526,\n",
       " 'щемить': 2173,\n",
       " 'подъём': 1381,\n",
       " 'лодыжка': 791,\n",
       " 'слух': 1782,\n",
       " 'макс': 820,\n",
       " '5с': 87,\n",
       " 'эмоциональный': 2183,\n",
       " 'лабильность': 758,\n",
       " 'субфебрилитет': 1889,\n",
       " 'светобоязнь': 1701,\n",
       " 'страх': 1877,\n",
       " 'пазуха': 1235,\n",
       " 'обложенность': 1095,\n",
       " 'затяжной': 569,\n",
       " 'инородный': 608,\n",
       " 'мц': 921,\n",
       " 'затруднить': 563,\n",
       " 'порция': 1436,\n",
       " '1п': 39,\n",
       " 'нормализоваться': 1067,\n",
       " 'особенность': 1171,\n",
       " '14': 22,\n",
       " 'полный': 1414,\n",
       " 'здоровье': 577,\n",
       " 'появиться': 1466,\n",
       " 'понос': 1431,\n",
       " 'принимать': 1518,\n",
       " 'эффект': 2204,\n",
       " 'невозможность': 985,\n",
       " 'похуделый': 1460,\n",
       " 'диетотерапия': 437,\n",
       " 'обращение': 1105,\n",
       " 'сметанообразный': 1788,\n",
       " 'наличный': 952,\n",
       " 'расчёт': 1638,\n",
       " 'висок': 246,\n",
       " 'шум': 2168,\n",
       " 'дважды': 413,\n",
       " 'перенести': 1273,\n",
       " 'ангина': 125,\n",
       " 'обследоваться': 1109,\n",
       " 'лор': 803,\n",
       " 'планировать': 1318,\n",
       " 'данный': 410,\n",
       " 'ом': 1133,\n",
       " 'бег': 144,\n",
       " 'минута': 881,\n",
       " 'отведение': 1181,\n",
       " 'нерегулярный': 1021,\n",
       " 'позвончоника': 1389,\n",
       " 'купироваться': 752,\n",
       " 'появляться': 1468,\n",
       " 'засыпание': 559,\n",
       " 'существенный': 1912,\n",
       " 'пупок': 1590,\n",
       " 'отмена': 1199,\n",
       " 'препарат': 1499,\n",
       " 'еда': 491,\n",
       " 'час': 2131,\n",
       " 'нестабильный': 1031,\n",
       " 'очень': 1228,\n",
       " 'оставаться': 1172,\n",
       " 'носить': 1071,\n",
       " 'компрессионный': 691,\n",
       " 'прокалывать': 1551,\n",
       " 'застревание': 558,\n",
       " 'горячее': 386,\n",
       " 'пяточный': 1596,\n",
       " 'аллергия': 118,\n",
       " 'вино': 244,\n",
       " 'значительно': 580,\n",
       " 'гинеколог': 345,\n",
       " 'мурашка': 916,\n",
       " 'вид': 239,\n",
       " 'режущий': 1656,\n",
       " 'поднятие': 1369,\n",
       " 'вверх': 214,\n",
       " 'расплывчатый': 1627,\n",
       " 'вечерний': 234,\n",
       " 'схваткообразный': 1913,\n",
       " 'фланк': 2089,\n",
       " '11': 14,\n",
       " 'ребро': 1646,\n",
       " 'посещение': 1439,\n",
       " 'кале': 641,\n",
       " 'опоясывать': 1149,\n",
       " 'непродолжительный': 1015,\n",
       " 'период': 1292,\n",
       " 'сжимать': 1740,\n",
       " 'причина': 1529,\n",
       " 'переодический': 1277,\n",
       " 'кс': 749,\n",
       " 'копчиковый': 710,\n",
       " 'позовночник': 1394,\n",
       " 'улучшиться': 2021,\n",
       " 'зябкость': 589,\n",
       " 'ночь': 1078,\n",
       " 'низ': 1047,\n",
       " 'фактор': 2072,\n",
       " 'венозный': 224,\n",
       " 'рисунок': 1671,\n",
       " 'вялый': 331,\n",
       " 'струя': 1882,\n",
       " 'ночной': 1077,\n",
       " 'ареола': 134,\n",
       " 'сосковый': 1810,\n",
       " 'мочеиспускательный': 904,\n",
       " 'канал': 643,\n",
       " 'жгучий': 505,\n",
       " 'сумеречный': 1899,\n",
       " 'коричневый': 712,\n",
       " 'лоно': 800,\n",
       " 'накануне': 948,\n",
       " 'вечером': 235,\n",
       " 'иметь': 602,\n",
       " 'место': 862,\n",
       " '145': 24,\n",
       " '95': 97,\n",
       " 'повыситься': 1347,\n",
       " 'шкала': 2165,\n",
       " 'распирать': 1625,\n",
       " 'заглазничный': 534,\n",
       " 'выраженность': 318,\n",
       " 'кровотечение': 739,\n",
       " 'гистология': 351,\n",
       " 'грыжевый': 400,\n",
       " 'выпячивание': 317,\n",
       " 'тот': 1951,\n",
       " 'же': 506,\n",
       " 'эпигатсрия': 2194,\n",
       " 'урчание': 2041,\n",
       " 'анальгетик': 122,\n",
       " 'периодичёкий': 1299,\n",
       " 'нервозность': 1020,\n",
       " 'депрессивный': 425,\n",
       " 'массаж': 832,\n",
       " 'простата': 1556,\n",
       " 'проблема': 1533,\n",
       " 'пульсировать': 1589,\n",
       " 'динамический': 442,\n",
       " 'наступление': 972,\n",
       " 'жизнь': 518,\n",
       " 'применение': 1515,\n",
       " 'средство': 1846,\n",
       " 'контрацепция': 701,\n",
       " 'сохранный': 1820,\n",
       " 'лимфатический': 776,\n",
       " 'межлопаточный': 842,\n",
       " 'так': 1918,\n",
       " 'отдавать': 1183,\n",
       " 'корпус': 716,\n",
       " 'кларитромицин': 664,\n",
       " 'аллергический': 117,\n",
       " 'сыпь': 1915,\n",
       " 'беседа': 157,\n",
       " 'предоставить': 1485,\n",
       " 'позной': 1392,\n",
       " 'чёрный': 2155,\n",
       " 'плавать': 1314,\n",
       " 'точка': 1953,\n",
       " 'сверкание': 1697,\n",
       " 'молния': 893,\n",
       " 'необходимость': 1006,\n",
       " 'частота': 2134,\n",
       " 'обить': 1091,\n",
       " 'шоп': 2167,\n",
       " 'объесть': 1111,\n",
       " '200': 43,\n",
       " '20': 42,\n",
       " 'декабрь': 421,\n",
       " 'возникнуть': 277,\n",
       " 'мрт': 912,\n",
       " '01': 1,\n",
       " '2016': 47,\n",
       " 'внутренний': 264,\n",
       " 'подошва': 1373,\n",
       " 'фациальный': 2075,\n",
       " 'герпес': 342,\n",
       " 'кола': 676,\n",
       " 'слюна': 1784,\n",
       " 'воротников': 286,\n",
       " 'зона': 582,\n",
       " 'кратковременный': 730,\n",
       " 'опор': 1146,\n",
       " 'этот': 2203,\n",
       " 'подколенный': 1365,\n",
       " 'анус': 129,\n",
       " 'кретцовый': 735,\n",
       " 'мышечный': 922,\n",
       " 'воспалительный': 288,\n",
       " 'недомогание': 992,\n",
       " 'межменструальный': 843,\n",
       " 'градус': 391,\n",
       " 'апатия': 130,\n",
       " 'кость': 718,\n",
       " 'судорога': 1895,\n",
       " 'икроножный': 600,\n",
       " 'саднение': 1687,\n",
       " 'вязкий': 329,\n",
       " 'комок': 689,\n",
       " 'открывание': 1195,\n",
       " 'фото': 2097,\n",
       " 'фонофобия': 2094,\n",
       " 'темп': 1931,\n",
       " '1гр': 38,\n",
       " ...}"
      ]
     },
     "execution_count": 44,
     "metadata": {
      "tags": []
     },
     "output_type": "execute_result"
    }
   ],
   "source": [
    "pipe_symptom.named_steps[\"tfidf\"].vocabulary_"
   ]
  },
  {
   "cell_type": "markdown",
   "metadata": {
    "colab_type": "text",
    "id": "LEstpE-kgztp"
   },
   "source": [
    "## Клиника"
   ]
  },
  {
   "cell_type": "code",
   "execution_count": 45,
   "metadata": {
    "colab": {
     "base_uri": "https://localhost:8080/",
     "height": 154
    },
    "colab_type": "code",
    "id": "COX7H0xrgztq",
    "outputId": "1eee1c57-17e7-46da-f486-431f2b3f59ac"
   },
   "outputs": [
    {
     "data": {
      "text/plain": [
       "3     34436\n",
       "6      5547\n",
       "5      5409\n",
       "2      3128\n",
       "15      159\n",
       "19        2\n",
       "Name: Клиника, dtype: int64"
      ]
     },
     "execution_count": 45,
     "metadata": {
      "tags": []
     },
     "output_type": "execute_result"
    }
   ],
   "source": [
    "X[\"Клиника\"].value_counts()"
   ]
  },
  {
   "cell_type": "code",
   "execution_count": 0,
   "metadata": {
    "colab": {},
    "colab_type": "code",
    "collapsed": true,
    "id": "2Vu7ixsPgztu"
   },
   "outputs": [],
   "source": [
    "from sklearn.preprocessing import OneHotEncoder"
   ]
  },
  {
   "cell_type": "code",
   "execution_count": 0,
   "metadata": {
    "colab": {},
    "colab_type": "code",
    "collapsed": true,
    "id": "zFmwnU6bgztx"
   },
   "outputs": [],
   "source": [
    "pipe_clinic = Pipeline([\n",
    "    ('select', ColumnSelector([\"Клиника\"])),\n",
    "    ('ohe', OneHotEncoder(sparse=False, categories='auto', handle_unknown=\"ignore\")),\n",
    "])"
   ]
  },
  {
   "cell_type": "code",
   "execution_count": 0,
   "metadata": {
    "colab": {},
    "colab_type": "code",
    "collapsed": true,
    "id": "6r4Uebuwgzt4"
   },
   "outputs": [],
   "source": [
    "X_clinic = pipe_clinic.fit_transform(X)"
   ]
  },
  {
   "cell_type": "code",
   "execution_count": 49,
   "metadata": {
    "colab": {
     "base_uri": "https://localhost:8080/",
     "height": 54
    },
    "colab_type": "code",
    "id": "H7qxCvxzgzt6",
    "outputId": "f54033a3-3b6f-4ef3-b96f-0754b63b66ea"
   },
   "outputs": [
    {
     "data": {
      "text/plain": [
       "(48681, 6)"
      ]
     },
     "execution_count": 49,
     "metadata": {
      "tags": []
     },
     "output_type": "execute_result"
    }
   ],
   "source": [
    "X_clinic.shape"
   ]
  },
  {
   "cell_type": "code",
   "execution_count": 50,
   "metadata": {
    "colab": {
     "base_uri": "https://localhost:8080/",
     "height": 154
    },
    "colab_type": "code",
    "id": "XQy-1hzZgzt9",
    "outputId": "66aa19df-c2c3-448c-ef3c-ff8663181c20"
   },
   "outputs": [
    {
     "data": {
      "text/plain": [
       "array([[0., 0., 1., 0., 0., 0.],\n",
       "       [0., 1., 0., 0., 0., 0.],\n",
       "       [0., 0., 0., 1., 0., 0.],\n",
       "       ...,\n",
       "       [0., 1., 0., 0., 0., 0.],\n",
       "       [0., 1., 0., 0., 0., 0.],\n",
       "       [0., 1., 0., 0., 0., 0.]])"
      ]
     },
     "execution_count": 50,
     "metadata": {
      "tags": []
     },
     "output_type": "execute_result"
    }
   ],
   "source": [
    "X_clinic"
   ]
  },
  {
   "cell_type": "markdown",
   "metadata": {
    "colab_type": "text",
    "id": "Xa-Z_DamgzuA"
   },
   "source": [
    "## Пол"
   ]
  },
  {
   "cell_type": "code",
   "execution_count": 51,
   "metadata": {
    "colab": {
     "base_uri": "https://localhost:8080/",
     "height": 87
    },
    "colab_type": "code",
    "id": "08J4v_DTgzuA",
    "outputId": "b54efff3-e3a4-4115-e2cc-d7b582b58c06"
   },
   "outputs": [
    {
     "data": {
      "text/plain": [
       "2    33750\n",
       "1    14931\n",
       "Name: Пол, dtype: int64"
      ]
     },
     "execution_count": 51,
     "metadata": {
      "tags": []
     },
     "output_type": "execute_result"
    }
   ],
   "source": [
    "X[\"Пол\"].value_counts()"
   ]
  },
  {
   "cell_type": "code",
   "execution_count": 0,
   "metadata": {
    "colab": {},
    "colab_type": "code",
    "collapsed": true,
    "id": "DFnToE0xgzuD"
   },
   "outputs": [],
   "source": [
    "from sklearn.preprocessing import OneHotEncoder"
   ]
  },
  {
   "cell_type": "code",
   "execution_count": 0,
   "metadata": {
    "colab": {},
    "colab_type": "code",
    "collapsed": true,
    "id": "YwKRVsw0gzuF"
   },
   "outputs": [],
   "source": [
    "pipe_sex = Pipeline([\n",
    "    ('select', ColumnSelector([\"Пол\"])),\n",
    "    ('ohe', OneHotEncoder(sparse=False, categories='auto', handle_unknown=\"ignore\")),\n",
    "])"
   ]
  },
  {
   "cell_type": "code",
   "execution_count": 0,
   "metadata": {
    "colab": {},
    "colab_type": "code",
    "collapsed": true,
    "id": "9zwa2E6TgzuH"
   },
   "outputs": [],
   "source": [
    "X_sex = pipe_sex.fit_transform(X)"
   ]
  },
  {
   "cell_type": "code",
   "execution_count": 55,
   "metadata": {
    "colab": {
     "base_uri": "https://localhost:8080/",
     "height": 54
    },
    "colab_type": "code",
    "id": "pJUZMdFugzuL",
    "outputId": "537b78d0-5c57-4430-f2d7-9e1ef59d604d"
   },
   "outputs": [
    {
     "data": {
      "text/plain": [
       "(48681, 2)"
      ]
     },
     "execution_count": 55,
     "metadata": {
      "tags": []
     },
     "output_type": "execute_result"
    }
   ],
   "source": [
    "X_sex.shape"
   ]
  },
  {
   "cell_type": "code",
   "execution_count": 56,
   "metadata": {
    "colab": {
     "base_uri": "https://localhost:8080/",
     "height": 154
    },
    "colab_type": "code",
    "id": "sPuUY49AgzuO",
    "outputId": "4bc2145a-09e8-43c0-9a5c-8fcfbb491c99"
   },
   "outputs": [
    {
     "data": {
      "text/plain": [
       "array([[0., 1.],\n",
       "       [0., 1.],\n",
       "       [0., 1.],\n",
       "       ...,\n",
       "       [0., 1.],\n",
       "       [0., 1.],\n",
       "       [0., 1.]])"
      ]
     },
     "execution_count": 56,
     "metadata": {
      "tags": []
     },
     "output_type": "execute_result"
    }
   ],
   "source": [
    "X_sex"
   ]
  },
  {
   "cell_type": "markdown",
   "metadata": {
    "colab_type": "text",
    "id": "0GRDMw06gzuS"
   },
   "source": [
    "## Возраст"
   ]
  },
  {
   "cell_type": "code",
   "execution_count": 57,
   "metadata": {
    "colab": {
     "base_uri": "https://localhost:8080/",
     "height": 302
    },
    "colab_type": "code",
    "id": "CYCUw1e2gzuT",
    "outputId": "c6891b70-39e4-410b-e90b-fa03d69cd4b9",
    "scrolled": true
   },
   "outputs": [
    {
     "data": {
      "text/plain": [
       "<matplotlib.axes._subplots.AxesSubplot at 0x7f117576c1d0>"
      ]
     },
     "execution_count": 57,
     "metadata": {
      "tags": []
     },
     "output_type": "execute_result"
    },
    {
     "data": {
      "image/png": "[encoded data removed]",
      "text/plain": [
       "<Figure size 432x288 with 1 Axes>"
      ]
     },
     "metadata": {
      "tags": []
     },
     "output_type": "display_data"
    }
   ],
   "source": [
    "X[\"Возраст\"].clip(0, 100).hist()"
   ]
  },
  {
   "cell_type": "code",
   "execution_count": 0,
   "metadata": {
    "colab": {},
    "colab_type": "code",
    "collapsed": true,
    "id": "TZOkXyopgzuW"
   },
   "outputs": [],
   "source": [
    "class ClipTransformer(BaseEstimator, TransformerMixin):\n",
    "    def __init__(self):\n",
    "        pass\n",
    "        \n",
    "    def fit(self, X, y=None):\n",
    "        return self\n",
    "    \n",
    "    def transform(self, X, y=None):\n",
    "        return np.clip(X, 0, 100)"
   ]
  },
  {
   "cell_type": "code",
   "execution_count": 0,
   "metadata": {
    "colab": {},
    "colab_type": "code",
    "collapsed": true,
    "id": "sxL7TQ35gzuY"
   },
   "outputs": [],
   "source": [
    "from sklearn.preprocessing import MinMaxScaler"
   ]
  },
  {
   "cell_type": "code",
   "execution_count": 0,
   "metadata": {
    "colab": {},
    "colab_type": "code",
    "collapsed": true,
    "id": "4VaCj5zhgzua"
   },
   "outputs": [],
   "source": [
    "pipe_age = Pipeline([\n",
    "    ('select', ColumnSelector([\"Возраст\"])),\n",
    "    ('clip', ClipTransformer()),\n",
    "    ('norm', MinMaxScaler()),\n",
    "])"
   ]
  },
  {
   "cell_type": "code",
   "execution_count": 61,
   "metadata": {
    "colab": {
     "base_uri": "https://localhost:8080/",
     "height": 70
    },
    "colab_type": "code",
    "id": "VAOgyQgTgzuc",
    "outputId": "e853769a-d3b6-4b87-ac25-1b3e02cf40e2"
   },
   "outputs": [
    {
     "name": "stderr",
     "output_type": "stream",
     "text": [
      "/usr/local/lib/python3.6/dist-packages/sklearn/utils/validation.py:595: DataConversionWarning: Data with input dtype int64 was converted to float64 by MinMaxScaler.\n",
      "  warnings.warn(msg, DataConversionWarning)\n"
     ]
    }
   ],
   "source": [
    "X_age = pipe_age.fit_transform(X)"
   ]
  },
  {
   "cell_type": "code",
   "execution_count": 62,
   "metadata": {
    "colab": {
     "base_uri": "https://localhost:8080/",
     "height": 54
    },
    "colab_type": "code",
    "id": "MrPmDeyVgzuf",
    "outputId": "18094abc-f3a2-4fcf-d61f-d525ee234d16"
   },
   "outputs": [
    {
     "data": {
      "text/plain": [
       "(48681, 1)"
      ]
     },
     "execution_count": 62,
     "metadata": {
      "tags": []
     },
     "output_type": "execute_result"
    }
   ],
   "source": [
    "X_age.shape"
   ]
  },
  {
   "cell_type": "code",
   "execution_count": 63,
   "metadata": {
    "colab": {
     "base_uri": "https://localhost:8080/",
     "height": 154
    },
    "colab_type": "code",
    "id": "U3HpaxjAgzui",
    "outputId": "204aa186-e171-45b6-e282-21f8deca7003"
   },
   "outputs": [
    {
     "data": {
      "text/plain": [
       "array([[0.53535354],\n",
       "       [0.31313131],\n",
       "       [0.71717172],\n",
       "       ...,\n",
       "       [0.67676768],\n",
       "       [0.29292929],\n",
       "       [0.24242424]])"
      ]
     },
     "execution_count": 63,
     "metadata": {
      "tags": []
     },
     "output_type": "execute_result"
    }
   ],
   "source": [
    "X_age"
   ]
  },
  {
   "cell_type": "markdown",
   "metadata": {
    "colab_type": "text",
    "id": "kAFseCTQgzuk"
   },
   "source": [
    "## Источник_рекламы"
   ]
  },
  {
   "cell_type": "code",
   "execution_count": 64,
   "metadata": {
    "colab": {
     "base_uri": "https://localhost:8080/",
     "height": 1078
    },
    "colab_type": "code",
    "id": "JL51Xv9kgzul",
    "outputId": "821965f6-0ed9-4e74-eec6-275b416e6d10",
    "scrolled": true
   },
   "outputs": [
    {
     "data": {
      "text/plain": [
       "Другое                                 29031\n",
       "Интернет                                8586\n",
       "Рекомендации знакомых                   7053\n",
       "Зарегистрировался на сайте              1263\n",
       "Живет-работает рядом                     842\n",
       "Страховая                                420\n",
       "Щиты,уличная реклама                     389\n",
       "Рекомендации к доктору                   318\n",
       "Кутузовский                              158\n",
       "Гефест                                   115\n",
       "Врач Бегма Андрей Николаевич              49\n",
       "Листовки                                  33\n",
       "Кунцево                                   30\n",
       "дельта                                    23\n",
       "не назвала                                23\n",
       "ДМС                                       21\n",
       "ООО Дельта                                21\n",
       "Врач Суван-оол Марина Анатольевна         20\n",
       "Уклеина Наталья Григорьевна               15\n",
       "Радио                                     14\n",
       "Сайт ИП Веревошников                      14\n",
       "МедЭлит                                   13\n",
       "Врач Чабан Ольга Васильевна               11\n",
       "Лосиный остров ,Беляево                    9\n",
       "сл                                         8\n",
       "алиханова                                  8\n",
       "добромед                                   8\n",
       "дск-1                                      8\n",
       "Врач Кулик Наталья Леонидовна              7\n",
       "медоблако                                  7\n",
       "                                       ...  \n",
       "147                                        1\n",
       "моц                                        1\n",
       "поликлиника 47                             1\n",
       "клиника Парамита                           1\n",
       "поликлиника.ру                             1\n",
       "ордиянц                                    1\n",
       "Руденко А.А,                               1\n",
       "пармита                                    1\n",
       "Гемостаз                                   1\n",
       "Врач Соболева Мария Михайловна             1\n",
       "доктор рядом                               1\n",
       "медДиагностика.проф                        1\n",
       "Веллнес 365                                1\n",
       "Врач Стерхов Роман Викторович              1\n",
       "кардиологический центр                     1\n",
       "свой доктор                                1\n",
       "Врач Руденко Алексей Александрович         1\n",
       "Врач nevlabs врач тест                     1\n",
       "Врач 1                                     1\n",
       "Врач Галкин Петр Всеволодович              1\n",
       "Врач Миронов Антон Александрович           1\n",
       "Врач Хандешин Сергей Иванович              1\n",
       "Институт Склифосовского                    1\n",
       "Врач Трунев Евгений Валериевич             1\n",
       "Врач Рахманин Виталий Александрович        1\n",
       "Врач Хряков Евгений Владимирович           1\n",
       "Врач Охорзина Наталья Анатольевна          1\n",
       "Бегма А.Н.                                 1\n",
       "оао медецина                               1\n",
       "миленин                                    1\n",
       "Name: Источник_рекламы, Length: 115, dtype: int64"
      ]
     },
     "execution_count": 64,
     "metadata": {
      "tags": []
     },
     "output_type": "execute_result"
    }
   ],
   "source": [
    "X[\"Источник_рекламы\"].value_counts()"
   ]
  },
  {
   "cell_type": "code",
   "execution_count": 0,
   "metadata": {
    "colab": {},
    "colab_type": "code",
    "collapsed": true,
    "id": "zvypaNqTgzup"
   },
   "outputs": [],
   "source": [
    "from sklearn.preprocessing import OneHotEncoder"
   ]
  },
  {
   "cell_type": "code",
   "execution_count": 0,
   "metadata": {
    "colab": {},
    "colab_type": "code",
    "collapsed": true,
    "id": "fiX4Hj_6gzur"
   },
   "outputs": [],
   "source": [
    "pipe_adv = Pipeline([\n",
    "    ('select', ColumnSelector([\"Источник_рекламы\"])),\n",
    "    ('ohe', OneHotEncoder(sparse=False, handle_unknown=\"ignore\")),\n",
    "])"
   ]
  },
  {
   "cell_type": "code",
   "execution_count": 0,
   "metadata": {
    "colab": {},
    "colab_type": "code",
    "collapsed": true,
    "id": "zBAhuvDKgzuu"
   },
   "outputs": [],
   "source": [
    "X_adv = pipe_adv.fit_transform(X)"
   ]
  },
  {
   "cell_type": "code",
   "execution_count": 68,
   "metadata": {
    "colab": {
     "base_uri": "https://localhost:8080/",
     "height": 154
    },
    "colab_type": "code",
    "id": "DNCL1KcSgzux",
    "outputId": "87f4361d-f0b3-46ce-ec89-ea792a76e421"
   },
   "outputs": [
    {
     "data": {
      "text/plain": [
       "array([[0., 0., 0., ..., 0., 0., 0.],\n",
       "       [0., 0., 0., ..., 0., 0., 0.],\n",
       "       [0., 0., 0., ..., 0., 0., 0.],\n",
       "       ...,\n",
       "       [0., 0., 0., ..., 0., 0., 0.],\n",
       "       [0., 0., 0., ..., 0., 0., 0.],\n",
       "       [0., 0., 0., ..., 0., 0., 0.]])"
      ]
     },
     "execution_count": 68,
     "metadata": {
      "tags": []
     },
     "output_type": "execute_result"
    }
   ],
   "source": [
    "X_adv"
   ]
  },
  {
   "cell_type": "code",
   "execution_count": 69,
   "metadata": {
    "colab": {
     "base_uri": "https://localhost:8080/",
     "height": 54
    },
    "colab_type": "code",
    "id": "Sh0ikO5rgzu0",
    "outputId": "079b6c2e-f450-42fb-cd70-deebe98876e2"
   },
   "outputs": [
    {
     "data": {
      "text/plain": [
       "(48681, 115)"
      ]
     },
     "execution_count": 69,
     "metadata": {
      "tags": []
     },
     "output_type": "execute_result"
    }
   ],
   "source": [
    "X_adv.shape"
   ]
  },
  {
   "cell_type": "code",
   "execution_count": 0,
   "metadata": {
    "colab": {},
    "colab_type": "code",
    "collapsed": true,
    "id": "CIJXUi3Pgzu1"
   },
   "outputs": [],
   "source": []
  },
  {
   "cell_type": "code",
   "execution_count": 0,
   "metadata": {
    "colab": {},
    "colab_type": "code",
    "collapsed": true,
    "id": "7lAr7KTWgzu3"
   },
   "outputs": [],
   "source": []
  },
  {
   "cell_type": "code",
   "execution_count": 0,
   "metadata": {
    "colab": {},
    "colab_type": "code",
    "collapsed": true,
    "id": "Hjug7Qprgzu5"
   },
   "outputs": [],
   "source": []
  },
  {
   "cell_type": "code",
   "execution_count": 0,
   "metadata": {
    "colab": {},
    "colab_type": "code",
    "collapsed": true,
    "id": "QvnY5iapgzvA"
   },
   "outputs": [],
   "source": []
  },
  {
   "cell_type": "markdown",
   "metadata": {
    "colab_type": "text",
    "collapsed": true,
    "id": "EePpYQyxgzvD"
   },
   "source": [
    "# NN"
   ]
  },
  {
   "cell_type": "code",
   "execution_count": 70,
   "metadata": {
    "colab": {
     "base_uri": "https://localhost:8080/",
     "height": 34
    },
    "colab_type": "code",
    "id": "iCCwcm79gzvD",
    "outputId": "5852445e-90a2-43da-f2f1-0669d10eec93"
   },
   "outputs": [
    {
     "name": "stderr",
     "output_type": "stream",
     "text": [
      "Using TensorFlow backend.\n"
     ]
    }
   ],
   "source": [
    "import keras\n",
    "import keras.backend as K\n",
    "from keras import layers\n",
    "from keras import Model"
   ]
  },
  {
   "cell_type": "code",
   "execution_count": 0,
   "metadata": {
    "colab": {},
    "colab_type": "code",
    "collapsed": true,
    "id": "FNAfkAu7gzvG"
   },
   "outputs": [],
   "source": [
    "from IPython.display import SVG\n",
    "from keras.utils.vis_utils import model_to_dot"
   ]
  },
  {
   "cell_type": "code",
   "execution_count": 0,
   "metadata": {
    "colab": {},
    "colab_type": "code",
    "collapsed": true,
    "id": "SiUJ6fz8gzvH"
   },
   "outputs": [],
   "source": [
    "def get_model():\n",
    "    i_service = layers.Input(shape=(X_service.shape[1],), name=\"service\")\n",
    "    i_clinic = layers.Input(shape=(X_clinic.shape[1],), name=\"clinic\")\n",
    "\n",
    "    i_adv = layers.Input(shape=(X_adv.shape[1],), name=\"adv\")\n",
    "    l_adv = layers.Dense(32, activation=\"relu\")(i_adv)\n",
    "    l_adv = layers.BatchNormalization()(l_adv)\n",
    "\n",
    "    i_sex = layers.Input(shape=(X_sex.shape[1],), name=\"sex\")\n",
    "    i_age = layers.Input(shape=(X_age.shape[1],), name=\"age\")\n",
    "\n",
    "    i_symptom = layers.Input(shape=(X_symptom.shape[1],), name=\"symptom\")\n",
    "    l_symptom = layers.Dropout(0.2)(i_symptom)\n",
    "    l_symptom = layers.Dense(256, activation=\"relu\")(l_symptom)\n",
    "\n",
    "    h_m1 = layers.concatenate([i_service, i_clinic])\n",
    "    h_m1 = layers.Dense(64)(h_m1)\n",
    "    h_m1 = layers.BatchNormalization()(h_m1)\n",
    "    \n",
    "    h_m2 = layers.concatenate([i_sex, i_age])\n",
    "    h_m2 = layers.Dense(64)(h_m2)\n",
    "    h_m2 = layers.BatchNormalization()(h_m2)\n",
    "    \n",
    "    h_merge = layers.concatenate([h_m1, l_adv, h_m2])\n",
    "    h_merge = layers.Dropout(0.2)(h_merge)\n",
    "    h_merge = layers.Dense(256, activation=\"relu\")(h_merge)\n",
    "\n",
    "    h_merge2 = layers.concatenate([h_merge, l_symptom])\n",
    "    h_merge2 = layers.BatchNormalization()(h_merge2)\n",
    "    h_merge2 = layers.Dropout(0.2)(h_merge2)\n",
    "    h_merge2 = layers.Dense(512, activation=\"relu\")(h_merge2)\n",
    "    h_merge2 = layers.Dropout(0.2)(h_merge2)\n",
    "\n",
    "    o_diagnosis = layers.Dense(1200, activation=\"softmax\")(h_merge2)\n",
    "\n",
    "    model = Model(inputs=[i_service, i_clinic, i_adv, i_sex, i_age, i_symptom], outputs=[o_diagnosis])\n",
    "    \n",
    "    model.compile(optimizer=keras.optimizers.adam(lr=0.0005 / 2, decay=0.0001),\n",
    "              metrics=[\"categorical_accuracy\"], loss=\"categorical_crossentropy\")\n",
    "    \n",
    "    return model"
   ]
  },
  {
   "cell_type": "code",
   "execution_count": 73,
   "metadata": {
    "colab": {
     "base_uri": "https://localhost:8080/",
     "height": 138
    },
    "colab_type": "code",
    "id": "U_fy7MilgzvJ",
    "outputId": "42859d88-1276-4490-bfb4-9d132795f765"
   },
   "outputs": [
    {
     "name": "stdout",
     "output_type": "stream",
     "text": [
      "WARNING:tensorflow:From /usr/local/lib/python3.6/dist-packages/tensorflow/python/framework/op_def_library.py:263: colocate_with (from tensorflow.python.framework.ops) is deprecated and will be removed in a future version.\n",
      "Instructions for updating:\n",
      "Colocations handled automatically by placer.\n",
      "WARNING:tensorflow:From /usr/local/lib/python3.6/dist-packages/keras/backend/tensorflow_backend.py:3445: calling dropout (from tensorflow.python.ops.nn_ops) with keep_prob is deprecated and will be removed in a future version.\n",
      "Instructions for updating:\n",
      "Please use `rate` instead of `keep_prob`. Rate should be set to `rate = 1 - keep_prob`.\n"
     ]
    }
   ],
   "source": [
    "model = get_model()"
   ]
  },
  {
   "cell_type": "code",
   "execution_count": 74,
   "metadata": {
    "colab": {
     "base_uri": "https://localhost:8080/",
     "height": 1058
    },
    "colab_type": "code",
    "id": "JA5TSK62gzvK",
    "outputId": "89a284f2-22b2-4696-b483-3b0204eaeef0",
    "scrolled": true
   },
   "outputs": [
    {
     "name": "stdout",
     "output_type": "stream",
     "text": [
      "__________________________________________________________________________________________________\n",
      "Layer (type)                    Output Shape         Param #     Connected to                     \n",
      "==================================================================================================\n",
      "service (InputLayer)            (None, 241)          0                                            \n",
      "__________________________________________________________________________________________________\n",
      "clinic (InputLayer)             (None, 6)            0                                            \n",
      "__________________________________________________________________________________________________\n",
      "sex (InputLayer)                (None, 2)            0                                            \n",
      "__________________________________________________________________________________________________\n",
      "age (InputLayer)                (None, 1)            0                                            \n",
      "__________________________________________________________________________________________________\n",
      "concatenate_1 (Concatenate)     (None, 247)          0           service[0][0]                    \n",
      "                                                                 clinic[0][0]                     \n",
      "__________________________________________________________________________________________________\n",
      "adv (InputLayer)                (None, 115)          0                                            \n",
      "__________________________________________________________________________________________________\n",
      "concatenate_2 (Concatenate)     (None, 3)            0           sex[0][0]                        \n",
      "                                                                 age[0][0]                        \n",
      "__________________________________________________________________________________________________\n",
      "dense_3 (Dense)                 (None, 64)           15872       concatenate_1[0][0]              \n",
      "__________________________________________________________________________________________________\n",
      "dense_1 (Dense)                 (None, 32)           3712        adv[0][0]                        \n",
      "__________________________________________________________________________________________________\n",
      "dense_4 (Dense)                 (None, 64)           256         concatenate_2[0][0]              \n",
      "__________________________________________________________________________________________________\n",
      "batch_normalization_2 (BatchNor (None, 64)           256         dense_3[0][0]                    \n",
      "__________________________________________________________________________________________________\n",
      "batch_normalization_1 (BatchNor (None, 32)           128         dense_1[0][0]                    \n",
      "__________________________________________________________________________________________________\n",
      "batch_normalization_3 (BatchNor (None, 64)           256         dense_4[0][0]                    \n",
      "__________________________________________________________________________________________________\n",
      "concatenate_3 (Concatenate)     (None, 160)          0           batch_normalization_2[0][0]      \n",
      "                                                                 batch_normalization_1[0][0]      \n",
      "                                                                 batch_normalization_3[0][0]      \n",
      "__________________________________________________________________________________________________\n",
      "symptom (InputLayer)            (None, 2222)         0                                            \n",
      "__________________________________________________________________________________________________\n",
      "dropout_2 (Dropout)             (None, 160)          0           concatenate_3[0][0]              \n",
      "__________________________________________________________________________________________________\n",
      "dropout_1 (Dropout)             (None, 2222)         0           symptom[0][0]                    \n",
      "__________________________________________________________________________________________________\n",
      "dense_5 (Dense)                 (None, 256)          41216       dropout_2[0][0]                  \n",
      "__________________________________________________________________________________________________\n",
      "dense_2 (Dense)                 (None, 256)          569088      dropout_1[0][0]                  \n",
      "__________________________________________________________________________________________________\n",
      "concatenate_4 (Concatenate)     (None, 512)          0           dense_5[0][0]                    \n",
      "                                                                 dense_2[0][0]                    \n",
      "__________________________________________________________________________________________________\n",
      "batch_normalization_4 (BatchNor (None, 512)          2048        concatenate_4[0][0]              \n",
      "__________________________________________________________________________________________________\n",
      "dropout_3 (Dropout)             (None, 512)          0           batch_normalization_4[0][0]      \n",
      "__________________________________________________________________________________________________\n",
      "dense_6 (Dense)                 (None, 512)          262656      dropout_3[0][0]                  \n",
      "__________________________________________________________________________________________________\n",
      "dropout_4 (Dropout)             (None, 512)          0           dense_6[0][0]                    \n",
      "__________________________________________________________________________________________________\n",
      "dense_7 (Dense)                 (None, 1200)         615600      dropout_4[0][0]                  \n",
      "==================================================================================================\n",
      "Total params: 1,511,088\n",
      "Trainable params: 1,509,744\n",
      "Non-trainable params: 1,344\n",
      "__________________________________________________________________________________________________\n"
     ]
    }
   ],
   "source": [
    "model.summary()"
   ]
  },
  {
   "cell_type": "code",
   "execution_count": 75,
   "metadata": {
    "colab": {
     "base_uri": "https://localhost:8080/",
     "height": 1442
    },
    "colab_type": "code",
    "id": "vISq8eTrgzvM",
    "outputId": "1e5c25a0-1121-4084-aa39-3e456cb2f96c",
    "scrolled": false
   },
   "outputs": [
    {
     "data": {
      "image/svg+xml": [
       "<svg height=\"1051pt\" viewBox=\"0.00 0.00 1382.50 1051.00\" width=\"1383pt\" xmlns=\"http://www.w3.org/2000/svg\" xmlns:xlink=\"http://www.w3.org/1999/xlink\">\n",
       "<g class=\"graph\" id=\"graph0\" transform=\"scale(1 1) rotate(0) translate(4 1047)\">\n",
       "<title>G</title>\n",
       "<polygon fill=\"#ffffff\" points=\"-4,4 -4,-1047 1378.5,-1047 1378.5,4 -4,4\" stroke=\"transparent\"/>\n",
       "<!-- 139712968964136 -->\n",
       "<g class=\"node\" id=\"node1\">\n",
       "<title>139712968964136</title>\n",
       "<polygon fill=\"none\" points=\"0,-996.5 0,-1042.5 272,-1042.5 272,-996.5 0,-996.5\" stroke=\"#000000\"/>\n",
       "<text fill=\"#000000\" font-family=\"Times,serif\" font-size=\"14.00\" text-anchor=\"middle\" x=\"63.5\" y=\"-1015.8\">service: InputLayer</text>\n",
       "<polyline fill=\"none\" points=\"127,-996.5 127,-1042.5 \" stroke=\"#000000\"/>\n",
       "<text fill=\"#000000\" font-family=\"Times,serif\" font-size=\"14.00\" text-anchor=\"middle\" x=\"156\" y=\"-1027.3\">input:</text>\n",
       "<polyline fill=\"none\" points=\"127,-1019.5 185,-1019.5 \" stroke=\"#000000\"/>\n",
       "<text fill=\"#000000\" font-family=\"Times,serif\" font-size=\"14.00\" text-anchor=\"middle\" x=\"156\" y=\"-1004.3\">output:</text>\n",
       "<polyline fill=\"none\" points=\"185,-996.5 185,-1042.5 \" stroke=\"#000000\"/>\n",
       "<text fill=\"#000000\" font-family=\"Times,serif\" font-size=\"14.00\" text-anchor=\"middle\" x=\"228.5\" y=\"-1027.3\">(None, 241)</text>\n",
       "<polyline fill=\"none\" points=\"185,-1019.5 272,-1019.5 \" stroke=\"#000000\"/>\n",
       "<text fill=\"#000000\" font-family=\"Times,serif\" font-size=\"14.00\" text-anchor=\"middle\" x=\"228.5\" y=\"-1004.3\">(None, 241)</text>\n",
       "</g>\n",
       "<!-- 139711831582984 -->\n",
       "<g class=\"node\" id=\"node5\">\n",
       "<title>139711831582984</title>\n",
       "<polygon fill=\"none\" points=\"79,-913.5 79,-959.5 471,-959.5 471,-913.5 79,-913.5\" stroke=\"#000000\"/>\n",
       "<text fill=\"#000000\" font-family=\"Times,serif\" font-size=\"14.00\" text-anchor=\"middle\" x=\"166.5\" y=\"-932.8\">concatenate_1: Concatenate</text>\n",
       "<polyline fill=\"none\" points=\"254,-913.5 254,-959.5 \" stroke=\"#000000\"/>\n",
       "<text fill=\"#000000\" font-family=\"Times,serif\" font-size=\"14.00\" text-anchor=\"middle\" x=\"283\" y=\"-944.3\">input:</text>\n",
       "<polyline fill=\"none\" points=\"254,-936.5 312,-936.5 \" stroke=\"#000000\"/>\n",
       "<text fill=\"#000000\" font-family=\"Times,serif\" font-size=\"14.00\" text-anchor=\"middle\" x=\"283\" y=\"-921.3\">output:</text>\n",
       "<polyline fill=\"none\" points=\"312,-913.5 312,-959.5 \" stroke=\"#000000\"/>\n",
       "<text fill=\"#000000\" font-family=\"Times,serif\" font-size=\"14.00\" text-anchor=\"middle\" x=\"391.5\" y=\"-944.3\">[(None, 241), (None, 6)]</text>\n",
       "<polyline fill=\"none\" points=\"312,-936.5 471,-936.5 \" stroke=\"#000000\"/>\n",
       "<text fill=\"#000000\" font-family=\"Times,serif\" font-size=\"14.00\" text-anchor=\"middle\" x=\"391.5\" y=\"-921.3\">(None, 247)</text>\n",
       "</g>\n",
       "<!-- 139712968964136&#45;&gt;139711831582984 -->\n",
       "<g class=\"edge\" id=\"edge1\">\n",
       "<title>139712968964136-&gt;139711831582984</title>\n",
       "<path d=\"M174.7192,-996.3799C190.9999,-986.6583 210.1046,-975.2505 227.2465,-965.0147\" fill=\"none\" stroke=\"#000000\"/>\n",
       "<polygon fill=\"#000000\" points=\"229.2149,-967.9159 236.0063,-959.784 225.6261,-961.9058 229.2149,-967.9159\" stroke=\"#000000\"/>\n",
       "</g>\n",
       "<!-- 139711840925288 -->\n",
       "<g class=\"node\" id=\"node2\">\n",
       "<title>139711840925288</title>\n",
       "<polygon fill=\"none\" points=\"290.5,-996.5 290.5,-1042.5 539.5,-1042.5 539.5,-996.5 290.5,-996.5\" stroke=\"#000000\"/>\n",
       "<text fill=\"#000000\" font-family=\"Times,serif\" font-size=\"14.00\" text-anchor=\"middle\" x=\"350\" y=\"-1015.8\">clinic: InputLayer</text>\n",
       "<polyline fill=\"none\" points=\"409.5,-996.5 409.5,-1042.5 \" stroke=\"#000000\"/>\n",
       "<text fill=\"#000000\" font-family=\"Times,serif\" font-size=\"14.00\" text-anchor=\"middle\" x=\"438.5\" y=\"-1027.3\">input:</text>\n",
       "<polyline fill=\"none\" points=\"409.5,-1019.5 467.5,-1019.5 \" stroke=\"#000000\"/>\n",
       "<text fill=\"#000000\" font-family=\"Times,serif\" font-size=\"14.00\" text-anchor=\"middle\" x=\"438.5\" y=\"-1004.3\">output:</text>\n",
       "<polyline fill=\"none\" points=\"467.5,-996.5 467.5,-1042.5 \" stroke=\"#000000\"/>\n",
       "<text fill=\"#000000\" font-family=\"Times,serif\" font-size=\"14.00\" text-anchor=\"middle\" x=\"503.5\" y=\"-1027.3\">(None, 6)</text>\n",
       "<polyline fill=\"none\" points=\"467.5,-1019.5 539.5,-1019.5 \" stroke=\"#000000\"/>\n",
       "<text fill=\"#000000\" font-family=\"Times,serif\" font-size=\"14.00\" text-anchor=\"middle\" x=\"503.5\" y=\"-1004.3\">(None, 6)</text>\n",
       "</g>\n",
       "<!-- 139711840925288&#45;&gt;139711831582984 -->\n",
       "<g class=\"edge\" id=\"edge2\">\n",
       "<title>139711840925288-&gt;139711831582984</title>\n",
       "<path d=\"M376.0022,-996.3799C359.6044,-986.6583 340.3623,-975.2505 323.0971,-965.0147\" fill=\"none\" stroke=\"#000000\"/>\n",
       "<polygon fill=\"#000000\" points=\"324.6611,-961.8731 314.2742,-959.784 321.0912,-967.8944 324.6611,-961.8731\" stroke=\"#000000\"/>\n",
       "</g>\n",
       "<!-- 139711840926912 -->\n",
       "<g class=\"node\" id=\"node3\">\n",
       "<title>139711840926912</title>\n",
       "<polygon fill=\"none\" points=\"882.5,-996.5 882.5,-1042.5 1119.5,-1042.5 1119.5,-996.5 882.5,-996.5\" stroke=\"#000000\"/>\n",
       "<text fill=\"#000000\" font-family=\"Times,serif\" font-size=\"14.00\" text-anchor=\"middle\" x=\"936\" y=\"-1015.8\">sex: InputLayer</text>\n",
       "<polyline fill=\"none\" points=\"989.5,-996.5 989.5,-1042.5 \" stroke=\"#000000\"/>\n",
       "<text fill=\"#000000\" font-family=\"Times,serif\" font-size=\"14.00\" text-anchor=\"middle\" x=\"1018.5\" y=\"-1027.3\">input:</text>\n",
       "<polyline fill=\"none\" points=\"989.5,-1019.5 1047.5,-1019.5 \" stroke=\"#000000\"/>\n",
       "<text fill=\"#000000\" font-family=\"Times,serif\" font-size=\"14.00\" text-anchor=\"middle\" x=\"1018.5\" y=\"-1004.3\">output:</text>\n",
       "<polyline fill=\"none\" points=\"1047.5,-996.5 1047.5,-1042.5 \" stroke=\"#000000\"/>\n",
       "<text fill=\"#000000\" font-family=\"Times,serif\" font-size=\"14.00\" text-anchor=\"middle\" x=\"1083.5\" y=\"-1027.3\">(None, 2)</text>\n",
       "<polyline fill=\"none\" points=\"1047.5,-1019.5 1119.5,-1019.5 \" stroke=\"#000000\"/>\n",
       "<text fill=\"#000000\" font-family=\"Times,serif\" font-size=\"14.00\" text-anchor=\"middle\" x=\"1083.5\" y=\"-1004.3\">(None, 2)</text>\n",
       "</g>\n",
       "<!-- 139711831069528 -->\n",
       "<g class=\"node\" id=\"node7\">\n",
       "<title>139711831069528</title>\n",
       "<polygon fill=\"none\" points=\"940.5,-913.5 940.5,-959.5 1317.5,-959.5 1317.5,-913.5 940.5,-913.5\" stroke=\"#000000\"/>\n",
       "<text fill=\"#000000\" font-family=\"Times,serif\" font-size=\"14.00\" text-anchor=\"middle\" x=\"1028\" y=\"-932.8\">concatenate_2: Concatenate</text>\n",
       "<polyline fill=\"none\" points=\"1115.5,-913.5 1115.5,-959.5 \" stroke=\"#000000\"/>\n",
       "<text fill=\"#000000\" font-family=\"Times,serif\" font-size=\"14.00\" text-anchor=\"middle\" x=\"1144.5\" y=\"-944.3\">input:</text>\n",
       "<polyline fill=\"none\" points=\"1115.5,-936.5 1173.5,-936.5 \" stroke=\"#000000\"/>\n",
       "<text fill=\"#000000\" font-family=\"Times,serif\" font-size=\"14.00\" text-anchor=\"middle\" x=\"1144.5\" y=\"-921.3\">output:</text>\n",
       "<polyline fill=\"none\" points=\"1173.5,-913.5 1173.5,-959.5 \" stroke=\"#000000\"/>\n",
       "<text fill=\"#000000\" font-family=\"Times,serif\" font-size=\"14.00\" text-anchor=\"middle\" x=\"1245.5\" y=\"-944.3\">[(None, 2), (None, 1)]</text>\n",
       "<polyline fill=\"none\" points=\"1173.5,-936.5 1317.5,-936.5 \" stroke=\"#000000\"/>\n",
       "<text fill=\"#000000\" font-family=\"Times,serif\" font-size=\"14.00\" text-anchor=\"middle\" x=\"1245.5\" y=\"-921.3\">(None, 3)</text>\n",
       "</g>\n",
       "<!-- 139711840926912&#45;&gt;139711831069528 -->\n",
       "<g class=\"edge\" id=\"edge3\">\n",
       "<title>139711840926912-&gt;139711831069528</title>\n",
       "<path d=\"M1036.6551,-996.3799C1051.5098,-986.7475 1068.9176,-975.4597 1084.5906,-965.2967\" fill=\"none\" stroke=\"#000000\"/>\n",
       "<polygon fill=\"#000000\" points=\"1086.6059,-968.1614 1093.0921,-959.784 1082.7975,-962.2881 1086.6059,-968.1614\" stroke=\"#000000\"/>\n",
       "</g>\n",
       "<!-- 139711840971912 -->\n",
       "<g class=\"node\" id=\"node4\">\n",
       "<title>139711840971912</title>\n",
       "<polygon fill=\"none\" points=\"1137.5,-996.5 1137.5,-1042.5 1374.5,-1042.5 1374.5,-996.5 1137.5,-996.5\" stroke=\"#000000\"/>\n",
       "<text fill=\"#000000\" font-family=\"Times,serif\" font-size=\"14.00\" text-anchor=\"middle\" x=\"1191\" y=\"-1015.8\">age: InputLayer</text>\n",
       "<polyline fill=\"none\" points=\"1244.5,-996.5 1244.5,-1042.5 \" stroke=\"#000000\"/>\n",
       "<text fill=\"#000000\" font-family=\"Times,serif\" font-size=\"14.00\" text-anchor=\"middle\" x=\"1273.5\" y=\"-1027.3\">input:</text>\n",
       "<polyline fill=\"none\" points=\"1244.5,-1019.5 1302.5,-1019.5 \" stroke=\"#000000\"/>\n",
       "<text fill=\"#000000\" font-family=\"Times,serif\" font-size=\"14.00\" text-anchor=\"middle\" x=\"1273.5\" y=\"-1004.3\">output:</text>\n",
       "<polyline fill=\"none\" points=\"1302.5,-996.5 1302.5,-1042.5 \" stroke=\"#000000\"/>\n",
       "<text fill=\"#000000\" font-family=\"Times,serif\" font-size=\"14.00\" text-anchor=\"middle\" x=\"1338.5\" y=\"-1027.3\">(None, 1)</text>\n",
       "<polyline fill=\"none\" points=\"1302.5,-1019.5 1374.5,-1019.5 \" stroke=\"#000000\"/>\n",
       "<text fill=\"#000000\" font-family=\"Times,serif\" font-size=\"14.00\" text-anchor=\"middle\" x=\"1338.5\" y=\"-1004.3\">(None, 1)</text>\n",
       "</g>\n",
       "<!-- 139711840971912&#45;&gt;139711831069528 -->\n",
       "<g class=\"edge\" id=\"edge4\">\n",
       "<title>139711840971912-&gt;139711831069528</title>\n",
       "<path d=\"M1220.6234,-996.3799C1205.8848,-986.7475 1188.613,-975.4597 1173.0625,-965.2967\" fill=\"none\" stroke=\"#000000\"/>\n",
       "<polygon fill=\"#000000\" points=\"1174.913,-962.325 1164.6273,-959.784 1171.0834,-968.1846 1174.913,-962.325\" stroke=\"#000000\"/>\n",
       "</g>\n",
       "<!-- 139711831339808 -->\n",
       "<g class=\"node\" id=\"node8\">\n",
       "<title>139711831339808</title>\n",
       "<polygon fill=\"none\" points=\"149,-830.5 149,-876.5 401,-876.5 401,-830.5 149,-830.5\" stroke=\"#000000\"/>\n",
       "<text fill=\"#000000\" font-family=\"Times,serif\" font-size=\"14.00\" text-anchor=\"middle\" x=\"202.5\" y=\"-849.8\">dense_3: Dense</text>\n",
       "<polyline fill=\"none\" points=\"256,-830.5 256,-876.5 \" stroke=\"#000000\"/>\n",
       "<text fill=\"#000000\" font-family=\"Times,serif\" font-size=\"14.00\" text-anchor=\"middle\" x=\"285\" y=\"-861.3\">input:</text>\n",
       "<polyline fill=\"none\" points=\"256,-853.5 314,-853.5 \" stroke=\"#000000\"/>\n",
       "<text fill=\"#000000\" font-family=\"Times,serif\" font-size=\"14.00\" text-anchor=\"middle\" x=\"285\" y=\"-838.3\">output:</text>\n",
       "<polyline fill=\"none\" points=\"314,-830.5 314,-876.5 \" stroke=\"#000000\"/>\n",
       "<text fill=\"#000000\" font-family=\"Times,serif\" font-size=\"14.00\" text-anchor=\"middle\" x=\"357.5\" y=\"-861.3\">(None, 247)</text>\n",
       "<polyline fill=\"none\" points=\"314,-853.5 401,-853.5 \" stroke=\"#000000\"/>\n",
       "<text fill=\"#000000\" font-family=\"Times,serif\" font-size=\"14.00\" text-anchor=\"middle\" x=\"357.5\" y=\"-838.3\">(None, 64)</text>\n",
       "</g>\n",
       "<!-- 139711831582984&#45;&gt;139711831339808 -->\n",
       "<g class=\"edge\" id=\"edge5\">\n",
       "<title>139711831582984-&gt;139711831339808</title>\n",
       "<path d=\"M275,-913.3799C275,-905.1745 275,-895.7679 275,-886.8786\" fill=\"none\" stroke=\"#000000\"/>\n",
       "<polygon fill=\"#000000\" points=\"278.5001,-886.784 275,-876.784 271.5001,-886.784 278.5001,-886.784\" stroke=\"#000000\"/>\n",
       "</g>\n",
       "<!-- 139711840926408 -->\n",
       "<g class=\"node\" id=\"node6\">\n",
       "<title>139711840926408</title>\n",
       "<polygon fill=\"none\" points=\"575.5,-913.5 575.5,-959.5 828.5,-959.5 828.5,-913.5 575.5,-913.5\" stroke=\"#000000\"/>\n",
       "<text fill=\"#000000\" font-family=\"Times,serif\" font-size=\"14.00\" text-anchor=\"middle\" x=\"630\" y=\"-932.8\">adv: InputLayer</text>\n",
       "<polyline fill=\"none\" points=\"684.5,-913.5 684.5,-959.5 \" stroke=\"#000000\"/>\n",
       "<text fill=\"#000000\" font-family=\"Times,serif\" font-size=\"14.00\" text-anchor=\"middle\" x=\"713.5\" y=\"-944.3\">input:</text>\n",
       "<polyline fill=\"none\" points=\"684.5,-936.5 742.5,-936.5 \" stroke=\"#000000\"/>\n",
       "<text fill=\"#000000\" font-family=\"Times,serif\" font-size=\"14.00\" text-anchor=\"middle\" x=\"713.5\" y=\"-921.3\">output:</text>\n",
       "<polyline fill=\"none\" points=\"742.5,-913.5 742.5,-959.5 \" stroke=\"#000000\"/>\n",
       "<text fill=\"#000000\" font-family=\"Times,serif\" font-size=\"14.00\" text-anchor=\"middle\" x=\"785.5\" y=\"-944.3\">(None, 115)</text>\n",
       "<polyline fill=\"none\" points=\"742.5,-936.5 828.5,-936.5 \" stroke=\"#000000\"/>\n",
       "<text fill=\"#000000\" font-family=\"Times,serif\" font-size=\"14.00\" text-anchor=\"middle\" x=\"785.5\" y=\"-921.3\">(None, 115)</text>\n",
       "</g>\n",
       "<!-- 139711840927080 -->\n",
       "<g class=\"node\" id=\"node9\">\n",
       "<title>139711840927080</title>\n",
       "<polygon fill=\"none\" points=\"576.5,-830.5 576.5,-876.5 827.5,-876.5 827.5,-830.5 576.5,-830.5\" stroke=\"#000000\"/>\n",
       "<text fill=\"#000000\" font-family=\"Times,serif\" font-size=\"14.00\" text-anchor=\"middle\" x=\"630\" y=\"-849.8\">dense_1: Dense</text>\n",
       "<polyline fill=\"none\" points=\"683.5,-830.5 683.5,-876.5 \" stroke=\"#000000\"/>\n",
       "<text fill=\"#000000\" font-family=\"Times,serif\" font-size=\"14.00\" text-anchor=\"middle\" x=\"712.5\" y=\"-861.3\">input:</text>\n",
       "<polyline fill=\"none\" points=\"683.5,-853.5 741.5,-853.5 \" stroke=\"#000000\"/>\n",
       "<text fill=\"#000000\" font-family=\"Times,serif\" font-size=\"14.00\" text-anchor=\"middle\" x=\"712.5\" y=\"-838.3\">output:</text>\n",
       "<polyline fill=\"none\" points=\"741.5,-830.5 741.5,-876.5 \" stroke=\"#000000\"/>\n",
       "<text fill=\"#000000\" font-family=\"Times,serif\" font-size=\"14.00\" text-anchor=\"middle\" x=\"784.5\" y=\"-861.3\">(None, 115)</text>\n",
       "<polyline fill=\"none\" points=\"741.5,-853.5 827.5,-853.5 \" stroke=\"#000000\"/>\n",
       "<text fill=\"#000000\" font-family=\"Times,serif\" font-size=\"14.00\" text-anchor=\"middle\" x=\"784.5\" y=\"-838.3\">(None, 32)</text>\n",
       "</g>\n",
       "<!-- 139711840926408&#45;&gt;139711840927080 -->\n",
       "<g class=\"edge\" id=\"edge6\">\n",
       "<title>139711840926408-&gt;139711840927080</title>\n",
       "<path d=\"M702,-913.3799C702,-905.1745 702,-895.7679 702,-886.8786\" fill=\"none\" stroke=\"#000000\"/>\n",
       "<polygon fill=\"#000000\" points=\"705.5001,-886.784 702,-876.784 698.5001,-886.784 705.5001,-886.784\" stroke=\"#000000\"/>\n",
       "</g>\n",
       "<!-- 139711830735616 -->\n",
       "<g class=\"node\" id=\"node10\">\n",
       "<title>139711830735616</title>\n",
       "<polygon fill=\"none\" points=\"1006.5,-830.5 1006.5,-876.5 1251.5,-876.5 1251.5,-830.5 1006.5,-830.5\" stroke=\"#000000\"/>\n",
       "<text fill=\"#000000\" font-family=\"Times,serif\" font-size=\"14.00\" text-anchor=\"middle\" x=\"1060\" y=\"-849.8\">dense_4: Dense</text>\n",
       "<polyline fill=\"none\" points=\"1113.5,-830.5 1113.5,-876.5 \" stroke=\"#000000\"/>\n",
       "<text fill=\"#000000\" font-family=\"Times,serif\" font-size=\"14.00\" text-anchor=\"middle\" x=\"1142.5\" y=\"-861.3\">input:</text>\n",
       "<polyline fill=\"none\" points=\"1113.5,-853.5 1171.5,-853.5 \" stroke=\"#000000\"/>\n",
       "<text fill=\"#000000\" font-family=\"Times,serif\" font-size=\"14.00\" text-anchor=\"middle\" x=\"1142.5\" y=\"-838.3\">output:</text>\n",
       "<polyline fill=\"none\" points=\"1171.5,-830.5 1171.5,-876.5 \" stroke=\"#000000\"/>\n",
       "<text fill=\"#000000\" font-family=\"Times,serif\" font-size=\"14.00\" text-anchor=\"middle\" x=\"1211.5\" y=\"-861.3\">(None, 3)</text>\n",
       "<polyline fill=\"none\" points=\"1171.5,-853.5 1251.5,-853.5 \" stroke=\"#000000\"/>\n",
       "<text fill=\"#000000\" font-family=\"Times,serif\" font-size=\"14.00\" text-anchor=\"middle\" x=\"1211.5\" y=\"-838.3\">(None, 64)</text>\n",
       "</g>\n",
       "<!-- 139711831069528&#45;&gt;139711830735616 -->\n",
       "<g class=\"edge\" id=\"edge7\">\n",
       "<title>139711831069528-&gt;139711830735616</title>\n",
       "<path d=\"M1129,-913.3799C1129,-905.1745 1129,-895.7679 1129,-886.8786\" fill=\"none\" stroke=\"#000000\"/>\n",
       "<polygon fill=\"#000000\" points=\"1132.5001,-886.784 1129,-876.784 1125.5001,-886.784 1132.5001,-886.784\" stroke=\"#000000\"/>\n",
       "</g>\n",
       "<!-- 139711831071992 -->\n",
       "<g class=\"node\" id=\"node11\">\n",
       "<title>139711831071992</title>\n",
       "<polygon fill=\"none\" points=\"70.5,-747.5 70.5,-793.5 479.5,-793.5 479.5,-747.5 70.5,-747.5\" stroke=\"#000000\"/>\n",
       "<text fill=\"#000000\" font-family=\"Times,serif\" font-size=\"14.00\" text-anchor=\"middle\" x=\"206\" y=\"-766.8\">batch_normalization_2: BatchNormalization</text>\n",
       "<polyline fill=\"none\" points=\"341.5,-747.5 341.5,-793.5 \" stroke=\"#000000\"/>\n",
       "<text fill=\"#000000\" font-family=\"Times,serif\" font-size=\"14.00\" text-anchor=\"middle\" x=\"370.5\" y=\"-778.3\">input:</text>\n",
       "<polyline fill=\"none\" points=\"341.5,-770.5 399.5,-770.5 \" stroke=\"#000000\"/>\n",
       "<text fill=\"#000000\" font-family=\"Times,serif\" font-size=\"14.00\" text-anchor=\"middle\" x=\"370.5\" y=\"-755.3\">output:</text>\n",
       "<polyline fill=\"none\" points=\"399.5,-747.5 399.5,-793.5 \" stroke=\"#000000\"/>\n",
       "<text fill=\"#000000\" font-family=\"Times,serif\" font-size=\"14.00\" text-anchor=\"middle\" x=\"439.5\" y=\"-778.3\">(None, 64)</text>\n",
       "<polyline fill=\"none\" points=\"399.5,-770.5 479.5,-770.5 \" stroke=\"#000000\"/>\n",
       "<text fill=\"#000000\" font-family=\"Times,serif\" font-size=\"14.00\" text-anchor=\"middle\" x=\"439.5\" y=\"-755.3\">(None, 64)</text>\n",
       "</g>\n",
       "<!-- 139711831339808&#45;&gt;139711831071992 -->\n",
       "<g class=\"edge\" id=\"edge8\">\n",
       "<title>139711831339808-&gt;139711831071992</title>\n",
       "<path d=\"M275,-830.3799C275,-822.1745 275,-812.7679 275,-803.8786\" fill=\"none\" stroke=\"#000000\"/>\n",
       "<polygon fill=\"#000000\" points=\"278.5001,-803.784 275,-793.784 271.5001,-803.784 278.5001,-803.784\" stroke=\"#000000\"/>\n",
       "</g>\n",
       "<!-- 139711840926632 -->\n",
       "<g class=\"node\" id=\"node12\">\n",
       "<title>139711840926632</title>\n",
       "<polygon fill=\"none\" points=\"497.5,-747.5 497.5,-793.5 906.5,-793.5 906.5,-747.5 497.5,-747.5\" stroke=\"#000000\"/>\n",
       "<text fill=\"#000000\" font-family=\"Times,serif\" font-size=\"14.00\" text-anchor=\"middle\" x=\"633\" y=\"-766.8\">batch_normalization_1: BatchNormalization</text>\n",
       "<polyline fill=\"none\" points=\"768.5,-747.5 768.5,-793.5 \" stroke=\"#000000\"/>\n",
       "<text fill=\"#000000\" font-family=\"Times,serif\" font-size=\"14.00\" text-anchor=\"middle\" x=\"797.5\" y=\"-778.3\">input:</text>\n",
       "<polyline fill=\"none\" points=\"768.5,-770.5 826.5,-770.5 \" stroke=\"#000000\"/>\n",
       "<text fill=\"#000000\" font-family=\"Times,serif\" font-size=\"14.00\" text-anchor=\"middle\" x=\"797.5\" y=\"-755.3\">output:</text>\n",
       "<polyline fill=\"none\" points=\"826.5,-747.5 826.5,-793.5 \" stroke=\"#000000\"/>\n",
       "<text fill=\"#000000\" font-family=\"Times,serif\" font-size=\"14.00\" text-anchor=\"middle\" x=\"866.5\" y=\"-778.3\">(None, 32)</text>\n",
       "<polyline fill=\"none\" points=\"826.5,-770.5 906.5,-770.5 \" stroke=\"#000000\"/>\n",
       "<text fill=\"#000000\" font-family=\"Times,serif\" font-size=\"14.00\" text-anchor=\"middle\" x=\"866.5\" y=\"-755.3\">(None, 32)</text>\n",
       "</g>\n",
       "<!-- 139711840927080&#45;&gt;139711840926632 -->\n",
       "<g class=\"edge\" id=\"edge9\">\n",
       "<title>139711840927080-&gt;139711840926632</title>\n",
       "<path d=\"M702,-830.3799C702,-822.1745 702,-812.7679 702,-803.8786\" fill=\"none\" stroke=\"#000000\"/>\n",
       "<polygon fill=\"#000000\" points=\"705.5001,-803.784 702,-793.784 698.5001,-803.784 705.5001,-803.784\" stroke=\"#000000\"/>\n",
       "</g>\n",
       "<!-- 139711830582328 -->\n",
       "<g class=\"node\" id=\"node13\">\n",
       "<title>139711830582328</title>\n",
       "<polygon fill=\"none\" points=\"924.5,-747.5 924.5,-793.5 1333.5,-793.5 1333.5,-747.5 924.5,-747.5\" stroke=\"#000000\"/>\n",
       "<text fill=\"#000000\" font-family=\"Times,serif\" font-size=\"14.00\" text-anchor=\"middle\" x=\"1060\" y=\"-766.8\">batch_normalization_3: BatchNormalization</text>\n",
       "<polyline fill=\"none\" points=\"1195.5,-747.5 1195.5,-793.5 \" stroke=\"#000000\"/>\n",
       "<text fill=\"#000000\" font-family=\"Times,serif\" font-size=\"14.00\" text-anchor=\"middle\" x=\"1224.5\" y=\"-778.3\">input:</text>\n",
       "<polyline fill=\"none\" points=\"1195.5,-770.5 1253.5,-770.5 \" stroke=\"#000000\"/>\n",
       "<text fill=\"#000000\" font-family=\"Times,serif\" font-size=\"14.00\" text-anchor=\"middle\" x=\"1224.5\" y=\"-755.3\">output:</text>\n",
       "<polyline fill=\"none\" points=\"1253.5,-747.5 1253.5,-793.5 \" stroke=\"#000000\"/>\n",
       "<text fill=\"#000000\" font-family=\"Times,serif\" font-size=\"14.00\" text-anchor=\"middle\" x=\"1293.5\" y=\"-778.3\">(None, 64)</text>\n",
       "<polyline fill=\"none\" points=\"1253.5,-770.5 1333.5,-770.5 \" stroke=\"#000000\"/>\n",
       "<text fill=\"#000000\" font-family=\"Times,serif\" font-size=\"14.00\" text-anchor=\"middle\" x=\"1293.5\" y=\"-755.3\">(None, 64)</text>\n",
       "</g>\n",
       "<!-- 139711830735616&#45;&gt;139711830582328 -->\n",
       "<g class=\"edge\" id=\"edge10\">\n",
       "<title>139711830735616-&gt;139711830582328</title>\n",
       "<path d=\"M1129,-830.3799C1129,-822.1745 1129,-812.7679 1129,-803.8786\" fill=\"none\" stroke=\"#000000\"/>\n",
       "<polygon fill=\"#000000\" points=\"1132.5001,-803.784 1129,-793.784 1125.5001,-803.784 1132.5001,-803.784\" stroke=\"#000000\"/>\n",
       "</g>\n",
       "<!-- 139711829618024 -->\n",
       "<g class=\"node\" id=\"node14\">\n",
       "<title>139711829618024</title>\n",
       "<polygon fill=\"none\" points=\"470.5,-664.5 470.5,-710.5 933.5,-710.5 933.5,-664.5 470.5,-664.5\" stroke=\"#000000\"/>\n",
       "<text fill=\"#000000\" font-family=\"Times,serif\" font-size=\"14.00\" text-anchor=\"middle\" x=\"558\" y=\"-683.8\">concatenate_3: Concatenate</text>\n",
       "<polyline fill=\"none\" points=\"645.5,-664.5 645.5,-710.5 \" stroke=\"#000000\"/>\n",
       "<text fill=\"#000000\" font-family=\"Times,serif\" font-size=\"14.00\" text-anchor=\"middle\" x=\"674.5\" y=\"-695.3\">input:</text>\n",
       "<polyline fill=\"none\" points=\"645.5,-687.5 703.5,-687.5 \" stroke=\"#000000\"/>\n",
       "<text fill=\"#000000\" font-family=\"Times,serif\" font-size=\"14.00\" text-anchor=\"middle\" x=\"674.5\" y=\"-672.3\">output:</text>\n",
       "<polyline fill=\"none\" points=\"703.5,-664.5 703.5,-710.5 \" stroke=\"#000000\"/>\n",
       "<text fill=\"#000000\" font-family=\"Times,serif\" font-size=\"14.00\" text-anchor=\"middle\" x=\"818.5\" y=\"-695.3\">[(None, 64), (None, 32), (None, 64)]</text>\n",
       "<polyline fill=\"none\" points=\"703.5,-687.5 933.5,-687.5 \" stroke=\"#000000\"/>\n",
       "<text fill=\"#000000\" font-family=\"Times,serif\" font-size=\"14.00\" text-anchor=\"middle\" x=\"818.5\" y=\"-672.3\">(None, 160)</text>\n",
       "</g>\n",
       "<!-- 139711831071992&#45;&gt;139711829618024 -->\n",
       "<g class=\"edge\" id=\"edge11\">\n",
       "<title>139711831071992-&gt;139711829618024</title>\n",
       "<path d=\"M393.3763,-747.4901C449.372,-736.6057 516.3413,-723.5882 573.5641,-712.4653\" fill=\"none\" stroke=\"#000000\"/>\n",
       "<polygon fill=\"#000000\" points=\"574.2451,-715.8985 583.3935,-710.5547 572.9093,-709.0271 574.2451,-715.8985\" stroke=\"#000000\"/>\n",
       "</g>\n",
       "<!-- 139711840926632&#45;&gt;139711829618024 -->\n",
       "<g class=\"edge\" id=\"edge12\">\n",
       "<title>139711840926632-&gt;139711829618024</title>\n",
       "<path d=\"M702,-747.3799C702,-739.1745 702,-729.7679 702,-720.8786\" fill=\"none\" stroke=\"#000000\"/>\n",
       "<polygon fill=\"#000000\" points=\"705.5001,-720.784 702,-710.784 698.5001,-720.784 705.5001,-720.784\" stroke=\"#000000\"/>\n",
       "</g>\n",
       "<!-- 139711830582328&#45;&gt;139711829618024 -->\n",
       "<g class=\"edge\" id=\"edge13\">\n",
       "<title>139711830582328-&gt;139711829618024</title>\n",
       "<path d=\"M1010.6237,-747.4901C954.628,-736.6057 887.6587,-723.5882 830.4359,-712.4653\" fill=\"none\" stroke=\"#000000\"/>\n",
       "<polygon fill=\"#000000\" points=\"831.0907,-709.0271 820.6065,-710.5547 829.7549,-715.8985 831.0907,-709.0271\" stroke=\"#000000\"/>\n",
       "</g>\n",
       "<!-- 139711829341352 -->\n",
       "<g class=\"node\" id=\"node16\">\n",
       "<title>139711829341352</title>\n",
       "<polygon fill=\"none\" points=\"610.5,-581.5 610.5,-627.5 889.5,-627.5 889.5,-581.5 610.5,-581.5\" stroke=\"#000000\"/>\n",
       "<text fill=\"#000000\" font-family=\"Times,serif\" font-size=\"14.00\" text-anchor=\"middle\" x=\"677.5\" y=\"-600.8\">dropout_2: Dropout</text>\n",
       "<polyline fill=\"none\" points=\"744.5,-581.5 744.5,-627.5 \" stroke=\"#000000\"/>\n",
       "<text fill=\"#000000\" font-family=\"Times,serif\" font-size=\"14.00\" text-anchor=\"middle\" x=\"773.5\" y=\"-612.3\">input:</text>\n",
       "<polyline fill=\"none\" points=\"744.5,-604.5 802.5,-604.5 \" stroke=\"#000000\"/>\n",
       "<text fill=\"#000000\" font-family=\"Times,serif\" font-size=\"14.00\" text-anchor=\"middle\" x=\"773.5\" y=\"-589.3\">output:</text>\n",
       "<polyline fill=\"none\" points=\"802.5,-581.5 802.5,-627.5 \" stroke=\"#000000\"/>\n",
       "<text fill=\"#000000\" font-family=\"Times,serif\" font-size=\"14.00\" text-anchor=\"middle\" x=\"846\" y=\"-612.3\">(None, 160)</text>\n",
       "<polyline fill=\"none\" points=\"802.5,-604.5 889.5,-604.5 \" stroke=\"#000000\"/>\n",
       "<text fill=\"#000000\" font-family=\"Times,serif\" font-size=\"14.00\" text-anchor=\"middle\" x=\"846\" y=\"-589.3\">(None, 160)</text>\n",
       "</g>\n",
       "<!-- 139711829618024&#45;&gt;139711829341352 -->\n",
       "<g class=\"edge\" id=\"edge14\">\n",
       "<title>139711829618024-&gt;139711829341352</title>\n",
       "<path d=\"M715.3707,-664.3799C720.3222,-655.8178 726.0303,-645.9477 731.3655,-636.7222\" fill=\"none\" stroke=\"#000000\"/>\n",
       "<polygon fill=\"#000000\" points=\"734.5581,-638.1929 736.5346,-627.784 728.4984,-634.6885 734.5581,-638.1929\" stroke=\"#000000\"/>\n",
       "</g>\n",
       "<!-- 139711832283736 -->\n",
       "<g class=\"node\" id=\"node15\">\n",
       "<title>139711832283736</title>\n",
       "<polygon fill=\"none\" points=\"951.5,-664.5 951.5,-710.5 1246.5,-710.5 1246.5,-664.5 951.5,-664.5\" stroke=\"#000000\"/>\n",
       "<text fill=\"#000000\" font-family=\"Times,serif\" font-size=\"14.00\" text-anchor=\"middle\" x=\"1022.5\" y=\"-683.8\">symptom: InputLayer</text>\n",
       "<polyline fill=\"none\" points=\"1093.5,-664.5 1093.5,-710.5 \" stroke=\"#000000\"/>\n",
       "<text fill=\"#000000\" font-family=\"Times,serif\" font-size=\"14.00\" text-anchor=\"middle\" x=\"1122.5\" y=\"-695.3\">input:</text>\n",
       "<polyline fill=\"none\" points=\"1093.5,-687.5 1151.5,-687.5 \" stroke=\"#000000\"/>\n",
       "<text fill=\"#000000\" font-family=\"Times,serif\" font-size=\"14.00\" text-anchor=\"middle\" x=\"1122.5\" y=\"-672.3\">output:</text>\n",
       "<polyline fill=\"none\" points=\"1151.5,-664.5 1151.5,-710.5 \" stroke=\"#000000\"/>\n",
       "<text fill=\"#000000\" font-family=\"Times,serif\" font-size=\"14.00\" text-anchor=\"middle\" x=\"1199\" y=\"-695.3\">(None, 2222)</text>\n",
       "<polyline fill=\"none\" points=\"1151.5,-687.5 1246.5,-687.5 \" stroke=\"#000000\"/>\n",
       "<text fill=\"#000000\" font-family=\"Times,serif\" font-size=\"14.00\" text-anchor=\"middle\" x=\"1199\" y=\"-672.3\">(None, 2222)</text>\n",
       "</g>\n",
       "<!-- 139711840971576 -->\n",
       "<g class=\"node\" id=\"node17\">\n",
       "<title>139711840971576</title>\n",
       "<polygon fill=\"none\" points=\"931.5,-581.5 931.5,-627.5 1218.5,-627.5 1218.5,-581.5 931.5,-581.5\" stroke=\"#000000\"/>\n",
       "<text fill=\"#000000\" font-family=\"Times,serif\" font-size=\"14.00\" text-anchor=\"middle\" x=\"998.5\" y=\"-600.8\">dropout_1: Dropout</text>\n",
       "<polyline fill=\"none\" points=\"1065.5,-581.5 1065.5,-627.5 \" stroke=\"#000000\"/>\n",
       "<text fill=\"#000000\" font-family=\"Times,serif\" font-size=\"14.00\" text-anchor=\"middle\" x=\"1094.5\" y=\"-612.3\">input:</text>\n",
       "<polyline fill=\"none\" points=\"1065.5,-604.5 1123.5,-604.5 \" stroke=\"#000000\"/>\n",
       "<text fill=\"#000000\" font-family=\"Times,serif\" font-size=\"14.00\" text-anchor=\"middle\" x=\"1094.5\" y=\"-589.3\">output:</text>\n",
       "<polyline fill=\"none\" points=\"1123.5,-581.5 1123.5,-627.5 \" stroke=\"#000000\"/>\n",
       "<text fill=\"#000000\" font-family=\"Times,serif\" font-size=\"14.00\" text-anchor=\"middle\" x=\"1171\" y=\"-612.3\">(None, 2222)</text>\n",
       "<polyline fill=\"none\" points=\"1123.5,-604.5 1218.5,-604.5 \" stroke=\"#000000\"/>\n",
       "<text fill=\"#000000\" font-family=\"Times,serif\" font-size=\"14.00\" text-anchor=\"middle\" x=\"1171\" y=\"-589.3\">(None, 2222)</text>\n",
       "</g>\n",
       "<!-- 139711832283736&#45;&gt;139711840971576 -->\n",
       "<g class=\"edge\" id=\"edge15\">\n",
       "<title>139711832283736-&gt;139711840971576</title>\n",
       "<path d=\"M1092.3147,-664.3799C1089.9162,-656.0854 1087.1629,-646.5633 1084.5679,-637.5889\" fill=\"none\" stroke=\"#000000\"/>\n",
       "<polygon fill=\"#000000\" points=\"1087.8728,-636.4182 1081.7327,-627.784 1081.1483,-638.3627 1087.8728,-636.4182\" stroke=\"#000000\"/>\n",
       "</g>\n",
       "<!-- 139711829763464 -->\n",
       "<g class=\"node\" id=\"node18\">\n",
       "<title>139711829763464</title>\n",
       "<polygon fill=\"none\" points=\"637,-498.5 637,-544.5 889,-544.5 889,-498.5 637,-498.5\" stroke=\"#000000\"/>\n",
       "<text fill=\"#000000\" font-family=\"Times,serif\" font-size=\"14.00\" text-anchor=\"middle\" x=\"690.5\" y=\"-517.8\">dense_5: Dense</text>\n",
       "<polyline fill=\"none\" points=\"744,-498.5 744,-544.5 \" stroke=\"#000000\"/>\n",
       "<text fill=\"#000000\" font-family=\"Times,serif\" font-size=\"14.00\" text-anchor=\"middle\" x=\"773\" y=\"-529.3\">input:</text>\n",
       "<polyline fill=\"none\" points=\"744,-521.5 802,-521.5 \" stroke=\"#000000\"/>\n",
       "<text fill=\"#000000\" font-family=\"Times,serif\" font-size=\"14.00\" text-anchor=\"middle\" x=\"773\" y=\"-506.3\">output:</text>\n",
       "<polyline fill=\"none\" points=\"802,-498.5 802,-544.5 \" stroke=\"#000000\"/>\n",
       "<text fill=\"#000000\" font-family=\"Times,serif\" font-size=\"14.00\" text-anchor=\"middle\" x=\"845.5\" y=\"-529.3\">(None, 160)</text>\n",
       "<polyline fill=\"none\" points=\"802,-521.5 889,-521.5 \" stroke=\"#000000\"/>\n",
       "<text fill=\"#000000\" font-family=\"Times,serif\" font-size=\"14.00\" text-anchor=\"middle\" x=\"845.5\" y=\"-506.3\">(None, 256)</text>\n",
       "</g>\n",
       "<!-- 139711829341352&#45;&gt;139711829763464 -->\n",
       "<g class=\"edge\" id=\"edge16\">\n",
       "<title>139711829341352-&gt;139711829763464</title>\n",
       "<path d=\"M753.6212,-581.3799C754.9064,-573.1745 756.3797,-563.7679 757.772,-554.8786\" fill=\"none\" stroke=\"#000000\"/>\n",
       "<polygon fill=\"#000000\" points=\"761.2635,-555.2052 759.3531,-544.784 754.3478,-554.1219 761.2635,-555.2052\" stroke=\"#000000\"/>\n",
       "</g>\n",
       "<!-- 139711840972528 -->\n",
       "<g class=\"node\" id=\"node19\">\n",
       "<title>139711840972528</title>\n",
       "<polygon fill=\"none\" points=\"914,-498.5 914,-544.5 1174,-544.5 1174,-498.5 914,-498.5\" stroke=\"#000000\"/>\n",
       "<text fill=\"#000000\" font-family=\"Times,serif\" font-size=\"14.00\" text-anchor=\"middle\" x=\"967.5\" y=\"-517.8\">dense_2: Dense</text>\n",
       "<polyline fill=\"none\" points=\"1021,-498.5 1021,-544.5 \" stroke=\"#000000\"/>\n",
       "<text fill=\"#000000\" font-family=\"Times,serif\" font-size=\"14.00\" text-anchor=\"middle\" x=\"1050\" y=\"-529.3\">input:</text>\n",
       "<polyline fill=\"none\" points=\"1021,-521.5 1079,-521.5 \" stroke=\"#000000\"/>\n",
       "<text fill=\"#000000\" font-family=\"Times,serif\" font-size=\"14.00\" text-anchor=\"middle\" x=\"1050\" y=\"-506.3\">output:</text>\n",
       "<polyline fill=\"none\" points=\"1079,-498.5 1079,-544.5 \" stroke=\"#000000\"/>\n",
       "<text fill=\"#000000\" font-family=\"Times,serif\" font-size=\"14.00\" text-anchor=\"middle\" x=\"1126.5\" y=\"-529.3\">(None, 2222)</text>\n",
       "<polyline fill=\"none\" points=\"1079,-521.5 1174,-521.5 \" stroke=\"#000000\"/>\n",
       "<text fill=\"#000000\" font-family=\"Times,serif\" font-size=\"14.00\" text-anchor=\"middle\" x=\"1126.5\" y=\"-506.3\">(None, 256)</text>\n",
       "</g>\n",
       "<!-- 139711840971576&#45;&gt;139711840972528 -->\n",
       "<g class=\"edge\" id=\"edge17\">\n",
       "<title>139711840971576-&gt;139711840972528</title>\n",
       "<path d=\"M1066.3648,-581.3799C1063.2335,-572.9962 1059.6338,-563.3584 1056.2505,-554.2996\" fill=\"none\" stroke=\"#000000\"/>\n",
       "<polygon fill=\"#000000\" points=\"1059.4741,-552.9273 1052.6964,-544.784 1052.9166,-555.3766 1059.4741,-552.9273\" stroke=\"#000000\"/>\n",
       "</g>\n",
       "<!-- 139711829172968 -->\n",
       "<g class=\"node\" id=\"node20\">\n",
       "<title>139711829172968</title>\n",
       "<polygon fill=\"none\" points=\"696.5,-415.5 696.5,-461.5 1103.5,-461.5 1103.5,-415.5 696.5,-415.5\" stroke=\"#000000\"/>\n",
       "<text fill=\"#000000\" font-family=\"Times,serif\" font-size=\"14.00\" text-anchor=\"middle\" x=\"784\" y=\"-434.8\">concatenate_4: Concatenate</text>\n",
       "<polyline fill=\"none\" points=\"871.5,-415.5 871.5,-461.5 \" stroke=\"#000000\"/>\n",
       "<text fill=\"#000000\" font-family=\"Times,serif\" font-size=\"14.00\" text-anchor=\"middle\" x=\"900.5\" y=\"-446.3\">input:</text>\n",
       "<polyline fill=\"none\" points=\"871.5,-438.5 929.5,-438.5 \" stroke=\"#000000\"/>\n",
       "<text fill=\"#000000\" font-family=\"Times,serif\" font-size=\"14.00\" text-anchor=\"middle\" x=\"900.5\" y=\"-423.3\">output:</text>\n",
       "<polyline fill=\"none\" points=\"929.5,-415.5 929.5,-461.5 \" stroke=\"#000000\"/>\n",
       "<text fill=\"#000000\" font-family=\"Times,serif\" font-size=\"14.00\" text-anchor=\"middle\" x=\"1016.5\" y=\"-446.3\">[(None, 256), (None, 256)]</text>\n",
       "<polyline fill=\"none\" points=\"929.5,-438.5 1103.5,-438.5 \" stroke=\"#000000\"/>\n",
       "<text fill=\"#000000\" font-family=\"Times,serif\" font-size=\"14.00\" text-anchor=\"middle\" x=\"1016.5\" y=\"-423.3\">(None, 512)</text>\n",
       "</g>\n",
       "<!-- 139711829763464&#45;&gt;139711829172968 -->\n",
       "<g class=\"edge\" id=\"edge18\">\n",
       "<title>139711829763464-&gt;139711829172968</title>\n",
       "<path d=\"M801.1621,-498.3799C817.2085,-488.6583 836.0383,-477.2505 852.9336,-467.0147\" fill=\"none\" stroke=\"#000000\"/>\n",
       "<polygon fill=\"#000000\" points=\"854.8281,-469.9592 861.5674,-461.784 851.2009,-463.9722 854.8281,-469.9592\" stroke=\"#000000\"/>\n",
       "</g>\n",
       "<!-- 139711840972528&#45;&gt;139711829172968 -->\n",
       "<g class=\"edge\" id=\"edge19\">\n",
       "<title>139711840972528-&gt;139711829172968</title>\n",
       "<path d=\"M1003.888,-498.3799C986.9508,-488.6175 967.0634,-477.1546 949.2476,-466.8857\" fill=\"none\" stroke=\"#000000\"/>\n",
       "<polygon fill=\"#000000\" points=\"950.5581,-463.6014 940.1464,-461.6399 947.0625,-469.6661 950.5581,-463.6014\" stroke=\"#000000\"/>\n",
       "</g>\n",
       "<!-- 139711829173472 -->\n",
       "<g class=\"node\" id=\"node21\">\n",
       "<title>139711829173472</title>\n",
       "<polygon fill=\"none\" points=\"692,-332.5 692,-378.5 1108,-378.5 1108,-332.5 692,-332.5\" stroke=\"#000000\"/>\n",
       "<text fill=\"#000000\" font-family=\"Times,serif\" font-size=\"14.00\" text-anchor=\"middle\" x=\"827.5\" y=\"-351.8\">batch_normalization_4: BatchNormalization</text>\n",
       "<polyline fill=\"none\" points=\"963,-332.5 963,-378.5 \" stroke=\"#000000\"/>\n",
       "<text fill=\"#000000\" font-family=\"Times,serif\" font-size=\"14.00\" text-anchor=\"middle\" x=\"992\" y=\"-363.3\">input:</text>\n",
       "<polyline fill=\"none\" points=\"963,-355.5 1021,-355.5 \" stroke=\"#000000\"/>\n",
       "<text fill=\"#000000\" font-family=\"Times,serif\" font-size=\"14.00\" text-anchor=\"middle\" x=\"992\" y=\"-340.3\">output:</text>\n",
       "<polyline fill=\"none\" points=\"1021,-332.5 1021,-378.5 \" stroke=\"#000000\"/>\n",
       "<text fill=\"#000000\" font-family=\"Times,serif\" font-size=\"14.00\" text-anchor=\"middle\" x=\"1064.5\" y=\"-363.3\">(None, 512)</text>\n",
       "<polyline fill=\"none\" points=\"1021,-355.5 1108,-355.5 \" stroke=\"#000000\"/>\n",
       "<text fill=\"#000000\" font-family=\"Times,serif\" font-size=\"14.00\" text-anchor=\"middle\" x=\"1064.5\" y=\"-340.3\">(None, 512)</text>\n",
       "</g>\n",
       "<!-- 139711829172968&#45;&gt;139711829173472 -->\n",
       "<g class=\"edge\" id=\"edge20\">\n",
       "<title>139711829172968-&gt;139711829173472</title>\n",
       "<path d=\"M900,-415.3799C900,-407.1745 900,-397.7679 900,-388.8786\" fill=\"none\" stroke=\"#000000\"/>\n",
       "<polygon fill=\"#000000\" points=\"903.5001,-388.784 900,-378.784 896.5001,-388.784 903.5001,-388.784\" stroke=\"#000000\"/>\n",
       "</g>\n",
       "<!-- 139711828959184 -->\n",
       "<g class=\"node\" id=\"node22\">\n",
       "<title>139711828959184</title>\n",
       "<polygon fill=\"none\" points=\"760.5,-249.5 760.5,-295.5 1039.5,-295.5 1039.5,-249.5 760.5,-249.5\" stroke=\"#000000\"/>\n",
       "<text fill=\"#000000\" font-family=\"Times,serif\" font-size=\"14.00\" text-anchor=\"middle\" x=\"827.5\" y=\"-268.8\">dropout_3: Dropout</text>\n",
       "<polyline fill=\"none\" points=\"894.5,-249.5 894.5,-295.5 \" stroke=\"#000000\"/>\n",
       "<text fill=\"#000000\" font-family=\"Times,serif\" font-size=\"14.00\" text-anchor=\"middle\" x=\"923.5\" y=\"-280.3\">input:</text>\n",
       "<polyline fill=\"none\" points=\"894.5,-272.5 952.5,-272.5 \" stroke=\"#000000\"/>\n",
       "<text fill=\"#000000\" font-family=\"Times,serif\" font-size=\"14.00\" text-anchor=\"middle\" x=\"923.5\" y=\"-257.3\">output:</text>\n",
       "<polyline fill=\"none\" points=\"952.5,-249.5 952.5,-295.5 \" stroke=\"#000000\"/>\n",
       "<text fill=\"#000000\" font-family=\"Times,serif\" font-size=\"14.00\" text-anchor=\"middle\" x=\"996\" y=\"-280.3\">(None, 512)</text>\n",
       "<polyline fill=\"none\" points=\"952.5,-272.5 1039.5,-272.5 \" stroke=\"#000000\"/>\n",
       "<text fill=\"#000000\" font-family=\"Times,serif\" font-size=\"14.00\" text-anchor=\"middle\" x=\"996\" y=\"-257.3\">(None, 512)</text>\n",
       "</g>\n",
       "<!-- 139711829173472&#45;&gt;139711828959184 -->\n",
       "<g class=\"edge\" id=\"edge21\">\n",
       "<title>139711829173472-&gt;139711828959184</title>\n",
       "<path d=\"M900,-332.3799C900,-324.1745 900,-314.7679 900,-305.8786\" fill=\"none\" stroke=\"#000000\"/>\n",
       "<polygon fill=\"#000000\" points=\"903.5001,-305.784 900,-295.784 896.5001,-305.784 903.5001,-305.784\" stroke=\"#000000\"/>\n",
       "</g>\n",
       "<!-- 139711828068896 -->\n",
       "<g class=\"node\" id=\"node23\">\n",
       "<title>139711828068896</title>\n",
       "<polygon fill=\"none\" points=\"774,-166.5 774,-212.5 1026,-212.5 1026,-166.5 774,-166.5\" stroke=\"#000000\"/>\n",
       "<text fill=\"#000000\" font-family=\"Times,serif\" font-size=\"14.00\" text-anchor=\"middle\" x=\"827.5\" y=\"-185.8\">dense_6: Dense</text>\n",
       "<polyline fill=\"none\" points=\"881,-166.5 881,-212.5 \" stroke=\"#000000\"/>\n",
       "<text fill=\"#000000\" font-family=\"Times,serif\" font-size=\"14.00\" text-anchor=\"middle\" x=\"910\" y=\"-197.3\">input:</text>\n",
       "<polyline fill=\"none\" points=\"881,-189.5 939,-189.5 \" stroke=\"#000000\"/>\n",
       "<text fill=\"#000000\" font-family=\"Times,serif\" font-size=\"14.00\" text-anchor=\"middle\" x=\"910\" y=\"-174.3\">output:</text>\n",
       "<polyline fill=\"none\" points=\"939,-166.5 939,-212.5 \" stroke=\"#000000\"/>\n",
       "<text fill=\"#000000\" font-family=\"Times,serif\" font-size=\"14.00\" text-anchor=\"middle\" x=\"982.5\" y=\"-197.3\">(None, 512)</text>\n",
       "<polyline fill=\"none\" points=\"939,-189.5 1026,-189.5 \" stroke=\"#000000\"/>\n",
       "<text fill=\"#000000\" font-family=\"Times,serif\" font-size=\"14.00\" text-anchor=\"middle\" x=\"982.5\" y=\"-174.3\">(None, 512)</text>\n",
       "</g>\n",
       "<!-- 139711828959184&#45;&gt;139711828068896 -->\n",
       "<g class=\"edge\" id=\"edge22\">\n",
       "<title>139711828959184-&gt;139711828068896</title>\n",
       "<path d=\"M900,-249.3799C900,-241.1745 900,-231.7679 900,-222.8786\" fill=\"none\" stroke=\"#000000\"/>\n",
       "<polygon fill=\"#000000\" points=\"903.5001,-222.784 900,-212.784 896.5001,-222.784 903.5001,-222.784\" stroke=\"#000000\"/>\n",
       "</g>\n",
       "<!-- 139711827770112 -->\n",
       "<g class=\"node\" id=\"node24\">\n",
       "<title>139711827770112</title>\n",
       "<polygon fill=\"none\" points=\"760.5,-83.5 760.5,-129.5 1039.5,-129.5 1039.5,-83.5 760.5,-83.5\" stroke=\"#000000\"/>\n",
       "<text fill=\"#000000\" font-family=\"Times,serif\" font-size=\"14.00\" text-anchor=\"middle\" x=\"827.5\" y=\"-102.8\">dropout_4: Dropout</text>\n",
       "<polyline fill=\"none\" points=\"894.5,-83.5 894.5,-129.5 \" stroke=\"#000000\"/>\n",
       "<text fill=\"#000000\" font-family=\"Times,serif\" font-size=\"14.00\" text-anchor=\"middle\" x=\"923.5\" y=\"-114.3\">input:</text>\n",
       "<polyline fill=\"none\" points=\"894.5,-106.5 952.5,-106.5 \" stroke=\"#000000\"/>\n",
       "<text fill=\"#000000\" font-family=\"Times,serif\" font-size=\"14.00\" text-anchor=\"middle\" x=\"923.5\" y=\"-91.3\">output:</text>\n",
       "<polyline fill=\"none\" points=\"952.5,-83.5 952.5,-129.5 \" stroke=\"#000000\"/>\n",
       "<text fill=\"#000000\" font-family=\"Times,serif\" font-size=\"14.00\" text-anchor=\"middle\" x=\"996\" y=\"-114.3\">(None, 512)</text>\n",
       "<polyline fill=\"none\" points=\"952.5,-106.5 1039.5,-106.5 \" stroke=\"#000000\"/>\n",
       "<text fill=\"#000000\" font-family=\"Times,serif\" font-size=\"14.00\" text-anchor=\"middle\" x=\"996\" y=\"-91.3\">(None, 512)</text>\n",
       "</g>\n",
       "<!-- 139711828068896&#45;&gt;139711827770112 -->\n",
       "<g class=\"edge\" id=\"edge23\">\n",
       "<title>139711828068896-&gt;139711827770112</title>\n",
       "<path d=\"M900,-166.3799C900,-158.1745 900,-148.7679 900,-139.8786\" fill=\"none\" stroke=\"#000000\"/>\n",
       "<polygon fill=\"#000000\" points=\"903.5001,-139.784 900,-129.784 896.5001,-139.784 903.5001,-139.784\" stroke=\"#000000\"/>\n",
       "</g>\n",
       "<!-- 139711827770784 -->\n",
       "<g class=\"node\" id=\"node25\">\n",
       "<title>139711827770784</title>\n",
       "<polygon fill=\"none\" points=\"770,-.5 770,-46.5 1030,-46.5 1030,-.5 770,-.5\" stroke=\"#000000\"/>\n",
       "<text fill=\"#000000\" font-family=\"Times,serif\" font-size=\"14.00\" text-anchor=\"middle\" x=\"823.5\" y=\"-19.8\">dense_7: Dense</text>\n",
       "<polyline fill=\"none\" points=\"877,-.5 877,-46.5 \" stroke=\"#000000\"/>\n",
       "<text fill=\"#000000\" font-family=\"Times,serif\" font-size=\"14.00\" text-anchor=\"middle\" x=\"906\" y=\"-31.3\">input:</text>\n",
       "<polyline fill=\"none\" points=\"877,-23.5 935,-23.5 \" stroke=\"#000000\"/>\n",
       "<text fill=\"#000000\" font-family=\"Times,serif\" font-size=\"14.00\" text-anchor=\"middle\" x=\"906\" y=\"-8.3\">output:</text>\n",
       "<polyline fill=\"none\" points=\"935,-.5 935,-46.5 \" stroke=\"#000000\"/>\n",
       "<text fill=\"#000000\" font-family=\"Times,serif\" font-size=\"14.00\" text-anchor=\"middle\" x=\"982.5\" y=\"-31.3\">(None, 512)</text>\n",
       "<polyline fill=\"none\" points=\"935,-23.5 1030,-23.5 \" stroke=\"#000000\"/>\n",
       "<text fill=\"#000000\" font-family=\"Times,serif\" font-size=\"14.00\" text-anchor=\"middle\" x=\"982.5\" y=\"-8.3\">(None, 1200)</text>\n",
       "</g>\n",
       "<!-- 139711827770112&#45;&gt;139711827770784 -->\n",
       "<g class=\"edge\" id=\"edge24\">\n",
       "<title>139711827770112-&gt;139711827770784</title>\n",
       "<path d=\"M900,-83.3799C900,-75.1745 900,-65.7679 900,-56.8786\" fill=\"none\" stroke=\"#000000\"/>\n",
       "<polygon fill=\"#000000\" points=\"903.5001,-56.784 900,-46.784 896.5001,-56.784 903.5001,-56.784\" stroke=\"#000000\"/>\n",
       "</g>\n",
       "</g>\n",
       "</svg>"
      ],
      "text/plain": [
       "<IPython.core.display.SVG object>"
      ]
     },
     "execution_count": 75,
     "metadata": {
      "tags": []
     },
     "output_type": "execute_result"
    }
   ],
   "source": [
    "SVG(model_to_dot(model, show_shapes=True).create(prog='dot', format='svg'))"
   ]
  },
  {
   "cell_type": "code",
   "execution_count": 0,
   "metadata": {
    "colab": {},
    "colab_type": "code",
    "collapsed": true,
    "id": "freXdqhbgzvN"
   },
   "outputs": [],
   "source": [
    "X_input = [X_service, X_clinic, X_adv, X_sex, X_age, X_symptom]\n",
    "\n",
    "X_train = [m[i_train] for m in X_input]\n",
    "X_test = [m[i_test] for m in X_input]\n",
    "\n",
    "y_train = [keras.utils.to_categorical(y)[i_train]]\n",
    "y_test = [keras.utils.to_categorical(y)[i_test]]"
   ]
  },
  {
   "cell_type": "code",
   "execution_count": 77,
   "metadata": {
    "colab": {
     "base_uri": "https://localhost:8080/",
     "height": 776
    },
    "colab_type": "code",
    "id": "A2QlSur4gzvO",
    "outputId": "391d008b-9c9e-41cd-ee94-82d74871bcf1",
    "scrolled": false
   },
   "outputs": [
    {
     "name": "stdout",
     "output_type": "stream",
     "text": [
      "WARNING:tensorflow:From /usr/local/lib/python3.6/dist-packages/tensorflow/python/ops/math_ops.py:3066: to_int32 (from tensorflow.python.ops.math_ops) is deprecated and will be removed in a future version.\n",
      "Instructions for updating:\n",
      "Use tf.cast instead.\n",
      "Train on 34076 samples, validate on 14605 samples\n",
      "Epoch 1/20\n",
      " - 7s - loss: 4.3976 - categorical_accuracy: 0.2244 - val_loss: 3.2592 - val_categorical_accuracy: 0.3115\n",
      "Epoch 2/20\n",
      " - 5s - loss: 3.1304 - categorical_accuracy: 0.3156 - val_loss: 2.8694 - val_categorical_accuracy: 0.3456\n",
      "Epoch 3/20\n",
      " - 6s - loss: 2.7821 - categorical_accuracy: 0.3436 - val_loss: 2.6957 - val_categorical_accuracy: 0.3604\n",
      "Epoch 4/20\n",
      " - 6s - loss: 2.5844 - categorical_accuracy: 0.3616 - val_loss: 2.6044 - val_categorical_accuracy: 0.3684\n",
      "Epoch 5/20\n",
      " - 6s - loss: 2.4339 - categorical_accuracy: 0.3788 - val_loss: 2.5544 - val_categorical_accuracy: 0.3734\n",
      "Epoch 6/20\n",
      " - 6s - loss: 2.3121 - categorical_accuracy: 0.3932 - val_loss: 2.5209 - val_categorical_accuracy: 0.3771\n",
      "Epoch 7/20\n",
      " - 5s - loss: 2.2103 - categorical_accuracy: 0.4091 - val_loss: 2.5029 - val_categorical_accuracy: 0.3826\n",
      "Epoch 8/20\n",
      " - 5s - loss: 2.1281 - categorical_accuracy: 0.4224 - val_loss: 2.4936 - val_categorical_accuracy: 0.3811\n",
      "Epoch 9/20\n",
      " - 6s - loss: 2.0456 - categorical_accuracy: 0.4345 - val_loss: 2.4992 - val_categorical_accuracy: 0.3810\n",
      "Epoch 10/20\n",
      " - 5s - loss: 1.9783 - categorical_accuracy: 0.4478 - val_loss: 2.4994 - val_categorical_accuracy: 0.3830\n",
      "Epoch 11/20\n",
      " - 5s - loss: 1.9110 - categorical_accuracy: 0.4608 - val_loss: 2.5039 - val_categorical_accuracy: 0.3851\n",
      "Epoch 12/20\n",
      " - 5s - loss: 1.8611 - categorical_accuracy: 0.4713 - val_loss: 2.5194 - val_categorical_accuracy: 0.3868\n",
      "Epoch 13/20\n",
      " - 5s - loss: 1.8097 - categorical_accuracy: 0.4800 - val_loss: 2.5342 - val_categorical_accuracy: 0.3819\n",
      "Epoch 14/20\n",
      " - 5s - loss: 1.7699 - categorical_accuracy: 0.4897 - val_loss: 2.5489 - val_categorical_accuracy: 0.3840\n",
      "Epoch 15/20\n",
      " - 5s - loss: 1.7299 - categorical_accuracy: 0.5002 - val_loss: 2.5627 - val_categorical_accuracy: 0.3853\n",
      "Epoch 16/20\n",
      " - 5s - loss: 1.6982 - categorical_accuracy: 0.5050 - val_loss: 2.5748 - val_categorical_accuracy: 0.3797\n",
      "Epoch 17/20\n",
      " - 5s - loss: 1.6629 - categorical_accuracy: 0.5143 - val_loss: 2.5914 - val_categorical_accuracy: 0.3860\n",
      "Epoch 18/20\n",
      " - 5s - loss: 1.6468 - categorical_accuracy: 0.5184 - val_loss: 2.6067 - val_categorical_accuracy: 0.3832\n",
      "Epoch 19/20\n",
      " - 5s - loss: 1.6129 - categorical_accuracy: 0.5257 - val_loss: 2.6206 - val_categorical_accuracy: 0.3803\n",
      "Epoch 20/20\n",
      " - 5s - loss: 1.5908 - categorical_accuracy: 0.5299 - val_loss: 2.6342 - val_categorical_accuracy: 0.3818\n"
     ]
    }
   ],
   "source": [
    "history = model.fit(X_train, y_train, batch_size=128, epochs=20, verbose=2, validation_data=(X_test, y_test))"
   ]
  },
  {
   "cell_type": "code",
   "execution_count": 78,
   "metadata": {
    "colab": {
     "base_uri": "https://localhost:8080/",
     "height": 282
    },
    "colab_type": "code",
    "id": "MpGmklpggzvQ",
    "outputId": "bcf15069-11fa-49ae-d4c0-d2f78262eb38"
   },
   "outputs": [
    {
     "data": {
      "text/plain": [
       "<matplotlib.axes._subplots.AxesSubplot at 0x7f1129c719b0>"
      ]
     },
     "execution_count": 78,
     "metadata": {
      "tags": []
     },
     "output_type": "execute_result"
    },
    {
     "data": {
      "image/png": "[encoded data removed]",
      "text/plain": [
       "<Figure size 432x288 with 1 Axes>"
      ]
     },
     "metadata": {
      "tags": []
     },
     "output_type": "display_data"
    }
   ],
   "source": [
    "pd.DataFrame(history.history)[[\"categorical_accuracy\", \"val_categorical_accuracy\"]] \\\n",
    "    .plot(grid=True)"
   ]
  },
  {
   "cell_type": "code",
   "execution_count": 0,
   "metadata": {
    "colab": {},
    "colab_type": "code",
    "collapsed": true,
    "id": "2fOpPioOgzvS"
   },
   "outputs": [],
   "source": []
  },
  {
   "cell_type": "code",
   "execution_count": 79,
   "metadata": {
    "colab": {
     "base_uri": "https://localhost:8080/",
     "height": 7913
    },
    "colab_type": "code",
    "id": "Vt6jTyVIgzvT",
    "outputId": "3dcba329-7217-4ef1-a84a-80ffdcde6580"
   },
   "outputs": [
    {
     "data": {
      "image/png": "[encoded data removed]",
      "text/plain": [
       "<Figure size 432x288 with 1 Axes>"
      ]
     },
     "metadata": {
      "tags": []
     },
     "output_type": "display_data"
    },
    {
     "data": {
      "image/png": "[encoded data removed]",
      "text/plain": [
       "<Figure size 432x288 with 1 Axes>"
      ]
     },
     "metadata": {
      "tags": []
     },
     "output_type": "display_data"
    },
    {
     "data": {
      "image/png": "[encoded data removed]",
      "text/plain": [
       "<Figure size 432x288 with 1 Axes>"
      ]
     },
     "metadata": {
      "tags": []
     },
     "output_type": "display_data"
    },
    {
     "data": {
      "image/png": "[encoded data removed]",
      "text/plain": [
       "<Figure size 432x288 with 1 Axes>"
      ]
     },
     "metadata": {
      "tags": []
     },
     "output_type": "display_data"
    },
    {
     "data": {
      "image/png": "[encoded data removed]",
      "text/plain": [
       "<Figure size 432x288 with 1 Axes>"
      ]
     },
     "metadata": {
      "tags": []
     },
     "output_type": "display_data"
    },
    {
     "data": {
      "image/png": "[encoded data removed]",
      "text/plain": [
       "<Figure size 432x288 with 1 Axes>"
      ]
     },
     "metadata": {
      "tags": []
     },
     "output_type": "display_data"
    },
    {
     "data": {
      "image/png": "[encoded data removed]",
      "text/plain": [
       "<Figure size 432x288 with 1 Axes>"
      ]
     },
     "metadata": {
      "tags": []
     },
     "output_type": "display_data"
    },
    {
     "data": {
      "image/png": "[encoded data removed]",
      "text/plain": [
       "<Figure size 432x288 with 1 Axes>"
      ]
     },
     "metadata": {
      "tags": []
     },
     "output_type": "display_data"
    },
    {
     "data": {
      "image/png": "[encoded data removed]",
      "text/plain": [
       "<Figure size 432x288 with 1 Axes>"
      ]
     },
     "metadata": {
      "tags": []
     },
     "output_type": "display_data"
    },
    {
     "data": {
      "image/png": "[encoded data removed]",
      "text/plain": [
       "<Figure size 432x288 with 1 Axes>"
      ]
     },
     "metadata": {
      "tags": []
     },
     "output_type": "display_data"
    },
    {
     "data": {
      "image/png": "[encoded data removed]",
      "text/plain": [
       "<Figure size 432x288 with 1 Axes>"
      ]
     },
     "metadata": {
      "tags": []
     },
     "output_type": "display_data"
    },
    {
     "data": {
      "image/png": "[encoded data removed]",
      "text/plain": [
       "<Figure size 432x288 with 1 Axes>"
      ]
     },
     "metadata": {
      "tags": []
     },
     "output_type": "display_data"
    },
    {
     "data": {
      "image/png": "[encoded data removed]",
      "text/plain": [
       "<Figure size 432x288 with 1 Axes>"
      ]
     },
     "metadata": {
      "tags": []
     },
     "output_type": "display_data"
    },
    {
     "data": {
      "image/png": "[encoded data removed]",
      "text/plain": [
       "<Figure size 432x288 with 1 Axes>"
      ]
     },
     "metadata": {
      "tags": []
     },
     "output_type": "display_data"
    },
    {
     "data": {
      "image/png": "[encoded data removed]",
      "text/plain": [
       "<Figure size 432x288 with 1 Axes>"
      ]
     },
     "metadata": {
      "tags": []
     },
     "output_type": "display_data"
    },
    {
     "data": {
      "image/png": "[encoded data removed]",
      "text/plain": [
       "<Figure size 432x288 with 1 Axes>"
      ]
     },
     "metadata": {
      "tags": []
     },
     "output_type": "display_data"
    },
    {
     "data": {
      "image/png": "[encoded data removed]",
      "text/plain": [
       "<Figure size 432x288 with 1 Axes>"
      ]
     },
     "metadata": {
      "tags": []
     },
     "output_type": "display_data"
    },
    {
     "data": {
      "image/png": "[encoded data removed]",
      "text/plain": [
       "<Figure size 432x288 with 1 Axes>"
      ]
     },
     "metadata": {
      "tags": []
     },
     "output_type": "display_data"
    },
    {
     "data": {
      "image/png": "[encoded data removed]",
      "text/plain": [
       "<Figure size 432x288 with 1 Axes>"
      ]
     },
     "metadata": {
      "tags": []
     },
     "output_type": "display_data"
    },
    {
     "data": {
      "image/png": "[encoded data removed]",
      "text/plain": [
       "<Figure size 432x288 with 1 Axes>"
      ]
     },
     "metadata": {
      "tags": []
     },
     "output_type": "display_data"
    },
    {
     "data": {
      "image/png": "[encoded data removed]",
      "text/plain": [
       "<Figure size 432x288 with 1 Axes>"
      ]
     },
     "metadata": {
      "tags": []
     },
     "output_type": "display_data"
    },
    {
     "data": {
      "image/png": "[encoded data removed]",
      "text/plain": [
       "<Figure size 432x288 with 1 Axes>"
      ]
     },
     "metadata": {
      "tags": []
     },
     "output_type": "display_data"
    },
    {
     "data": {
      "image/png": "[encoded data removed]",
      "text/plain": [
       "<Figure size 432x288 with 1 Axes>"
      ]
     },
     "metadata": {
      "tags": []
     },
     "output_type": "display_data"
    },
    {
     "data": {
      "image/png": "[encoded data removed]",
      "text/plain": [
       "<Figure size 432x288 with 1 Axes>"
      ]
     },
     "metadata": {
      "tags": []
     },
     "output_type": "display_data"
    },
    {
     "data": {
      "image/png": "[encoded data removed]",
      "text/plain": [
       "<Figure size 432x288 with 1 Axes>"
      ]
     },
     "metadata": {
      "tags": []
     },
     "output_type": "display_data"
    },
    {
     "data": {
      "image/png": "[encoded data removed]",
      "text/plain": [
       "<Figure size 432x288 with 1 Axes>"
      ]
     },
     "metadata": {
      "tags": []
     },
     "output_type": "display_data"
    },
    {
     "data": {
      "image/png": "[encoded data removed]",
      "text/plain": [
       "<Figure size 432x288 with 1 Axes>"
      ]
     },
     "metadata": {
      "tags": []
     },
     "output_type": "display_data"
    },
    {
     "data": {
      "image/png": "[encoded data removed]",
      "text/plain": [
       "<Figure size 432x288 with 1 Axes>"
      ]
     },
     "metadata": {
      "tags": []
     },
     "output_type": "display_data"
    },
    {
     "data": {
      "image/png": "[encoded data removed]",
      "text/plain": [
       "<Figure size 432x288 with 1 Axes>"
      ]
     },
     "metadata": {
      "tags": []
     },
     "output_type": "display_data"
    },
    {
     "data": {
      "image/png": "[encoded data removed]",
      "text/plain": [
       "<Figure size 432x288 with 1 Axes>"
      ]
     },
     "metadata": {
      "tags": []
     },
     "output_type": "display_data"
    }
   ],
   "source": [
    "for l in model.layers:\n",
    "    for i, w in enumerate(l.get_weights()):\n",
    "        _name = f\"{l.name}__{i}\"\n",
    "        plt.hist(w.flatten())\n",
    "        plt.title(_name)\n",
    "        plt.show()"
   ]
  },
  {
   "cell_type": "code",
   "execution_count": 0,
   "metadata": {
    "colab": {},
    "colab_type": "code",
    "collapsed": true,
    "id": "Thrh2dcUgzvU"
   },
   "outputs": [],
   "source": []
  },
  {
   "cell_type": "markdown",
   "metadata": {
    "colab_type": "text",
    "id": "_qIfPYz2gzvV"
   },
   "source": [
    "# Submit"
   ]
  },
  {
   "cell_type": "code",
   "execution_count": 0,
   "metadata": {
    "colab": {},
    "colab_type": "code",
    "collapsed": true,
    "id": "-KBmfSkpgzvW"
   },
   "outputs": [],
   "source": [
    "X_test_inp = [\n",
    "    pipe_service.transform(pd_test), \n",
    "    pipe_clinic.transform(pd_test), \n",
    "    pipe_adv.transform(pd_test),\n",
    "    pipe_sex.transform(pd_test),\n",
    "    pipe_age.transform(pd_test),\n",
    "    pipe_symptom.transform(pd_test),\n",
    "]"
   ]
  },
  {
   "cell_type": "code",
   "execution_count": 0,
   "metadata": {
    "colab": {},
    "colab_type": "code",
    "collapsed": true,
    "id": "5-cuV-CCgzvX"
   },
   "outputs": [],
   "source": [
    "model = get_model()"
   ]
  },
  {
   "cell_type": "code",
   "execution_count": 82,
   "metadata": {
    "colab": {
     "base_uri": "https://localhost:8080/",
     "height": 706
    },
    "colab_type": "code",
    "id": "rdkkQcMfgzvY",
    "outputId": "3d931ca4-830e-4873-ddb8-265da18cacb5"
   },
   "outputs": [
    {
     "name": "stdout",
     "output_type": "stream",
     "text": [
      "Epoch 1/20\n",
      " - 8s - loss: 4.0693 - categorical_accuracy: 0.2510\n",
      "Epoch 2/20\n",
      " - 7s - loss: 2.9516 - categorical_accuracy: 0.3261\n",
      "Epoch 3/20\n",
      " - 7s - loss: 2.6623 - categorical_accuracy: 0.3516\n",
      "Epoch 4/20\n",
      " - 7s - loss: 2.4882 - categorical_accuracy: 0.3689\n",
      "Epoch 5/20\n",
      " - 7s - loss: 2.3522 - categorical_accuracy: 0.3872\n",
      "Epoch 6/20\n",
      " - 7s - loss: 2.2532 - categorical_accuracy: 0.3998\n",
      "Epoch 7/20\n",
      " - 7s - loss: 2.1709 - categorical_accuracy: 0.4126\n",
      "Epoch 8/20\n",
      " - 7s - loss: 2.0984 - categorical_accuracy: 0.4222\n",
      "Epoch 9/20\n",
      " - 7s - loss: 2.0374 - categorical_accuracy: 0.4315\n",
      "Epoch 10/20\n",
      " - 7s - loss: 1.9822 - categorical_accuracy: 0.4433\n",
      "Epoch 11/20\n",
      " - 7s - loss: 1.9266 - categorical_accuracy: 0.4562\n",
      "Epoch 12/20\n",
      " - 7s - loss: 1.8778 - categorical_accuracy: 0.4643\n",
      "Epoch 13/20\n",
      " - 7s - loss: 1.8509 - categorical_accuracy: 0.4697\n",
      "Epoch 14/20\n",
      " - 7s - loss: 1.8149 - categorical_accuracy: 0.4798\n",
      "Epoch 15/20\n",
      " - 7s - loss: 1.7849 - categorical_accuracy: 0.4851\n",
      "Epoch 16/20\n",
      " - 7s - loss: 1.7508 - categorical_accuracy: 0.4899\n",
      "Epoch 17/20\n",
      " - 7s - loss: 1.7277 - categorical_accuracy: 0.4956\n",
      "Epoch 18/20\n",
      " - 7s - loss: 1.7073 - categorical_accuracy: 0.5016\n",
      "Epoch 19/20\n",
      " - 7s - loss: 1.6818 - categorical_accuracy: 0.5065\n",
      "Epoch 20/20\n",
      " - 7s - loss: 1.6640 - categorical_accuracy: 0.5097\n"
     ]
    },
    {
     "data": {
      "text/plain": [
       "<keras.callbacks.History at 0x7f1175990f28>"
      ]
     },
     "execution_count": 82,
     "metadata": {
      "tags": []
     },
     "output_type": "execute_result"
    }
   ],
   "source": [
    "model.fit(X_input, keras.utils.to_categorical(y), batch_size=128, epochs=20, verbose=2)"
   ]
  },
  {
   "cell_type": "code",
   "execution_count": 0,
   "metadata": {
    "colab": {},
    "colab_type": "code",
    "collapsed": true,
    "id": "MZszmN-agzva"
   },
   "outputs": [],
   "source": [
    "y_predict = model.predict(X_test_inp, batch_size=128)"
   ]
  },
  {
   "cell_type": "code",
   "execution_count": 0,
   "metadata": {
    "colab": {},
    "colab_type": "code",
    "collapsed": true,
    "id": "oGCMW9BEgzvb"
   },
   "outputs": [],
   "source": [
    "pd_submit = pd.DataFrame({\"index\": pd_test.index})\n",
    "pd_submit[\"y_predict\"] = y_predict.argmax(axis=1)\n",
    "pd_submit[\"Код_диагноза\"] = pd_submit[\"y_predict\"].map(target_dict_ix2code).fillna(target_dict_ix2code[0])"
   ]
  },
  {
   "cell_type": "code",
   "execution_count": 0,
   "metadata": {
    "colab": {},
    "colab_type": "code",
    "collapsed": true,
    "id": "JsfvFloziBSv"
   },
   "outputs": [],
   "source": [
    "submit_file_name = \"submit_a02.csv\""
   ]
  },
  {
   "cell_type": "code",
   "execution_count": 0,
   "metadata": {
    "colab": {},
    "colab_type": "code",
    "collapsed": true,
    "id": "lI96_AOPgzvc"
   },
   "outputs": [],
   "source": [
    "pd_submit[[\"index\", \"Код_диагноза\"]].to_csv(submit_file_name, index=None)"
   ]
  },
  {
   "cell_type": "code",
   "execution_count": 88,
   "metadata": {
    "colab": {
     "base_uri": "https://localhost:8080/",
     "height": 50
    },
    "colab_type": "code",
    "id": "x8fcZ7f6gzvd",
    "outputId": "91884939-452c-469f-b55e-6915226197a0"
   },
   "outputs": [
    {
     "name": "stdout",
     "output_type": "stream",
     "text": [
      "100% 125k/125k [00:07<00:00, 17.4kB/s]\n",
      "Successfully submitted to NLP workshop. Diagnosis prediction"
     ]
    }
   ],
   "source": [
    "!kaggle competitions submit -c nlp-workshop-diagnosis-prediction -f $submit_file_name -m \"With small tuning\""
   ]
  },
  {
   "cell_type": "code",
   "execution_count": 0,
   "metadata": {
    "colab": {},
    "colab_type": "code",
    "collapsed": true,
    "id": "0i1LH7EKif1R"
   },
   "outputs": [],
   "source": []
  }
 ],
 "metadata": {
  "accelerator": "GPU",
  "colab": {
   "name": "a02.ipynb",
   "provenance": [],
   "version": "0.3.2"
  },
  "kernelspec": {
   "display_name": "Python 3",
   "language": "python",
   "name": "python3"
  },
  "language_info": {
   "codemirror_mode": {
    "name": "ipython",
    "version": 3
   },
   "file_extension": ".py",
   "mimetype": "text/x-python",
   "name": "python",
   "nbconvert_exporter": "python",
   "pygments_lexer": "ipython3",
   "version": "3.6.3"
  }
 },
 "nbformat": 4,
 "nbformat_minor": 1
}
