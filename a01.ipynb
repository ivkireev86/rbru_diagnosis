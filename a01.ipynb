{
 "cells": [
  {
   "cell_type": "code",
   "execution_count": 1,
   "metadata": {
    "collapsed": true
   },
   "outputs": [],
   "source": [
    "import zipfile"
   ]
  },
  {
   "cell_type": "code",
   "execution_count": 2,
   "metadata": {
    "collapsed": true
   },
   "outputs": [],
   "source": [
    "import numpy as np\n",
    "import pandas as pd"
   ]
  },
  {
   "cell_type": "code",
   "execution_count": 3,
   "metadata": {
    "collapsed": true
   },
   "outputs": [],
   "source": [
    "import matplotlib.pyplot as plt"
   ]
  },
  {
   "cell_type": "code",
   "execution_count": 4,
   "metadata": {
    "collapsed": true
   },
   "outputs": [],
   "source": [
    "%matplotlib inline"
   ]
  },
  {
   "cell_type": "code",
   "execution_count": 5,
   "metadata": {
    "collapsed": true
   },
   "outputs": [],
   "source": [
    "pd.options.display.max_columns = 50"
   ]
  },
  {
   "cell_type": "markdown",
   "metadata": {},
   "source": [
    "# Read data"
   ]
  },
  {
   "cell_type": "code",
   "execution_count": 6,
   "metadata": {},
   "outputs": [
    {
     "name": "stdout",
     "output_type": "stream",
     "text": [
      "names: ['train.csv']\n",
      "names: ['test.csv']\n"
     ]
    }
   ],
   "source": [
    "with zipfile.ZipFile(\"data/train.csv.zip\") as z:\n",
    "    names = z.namelist()\n",
    "    print(f\"names: {names}\")\n",
    "    with z.open(names[0]) as f:\n",
    "        pd_train = pd.read_csv(f, index_col=0)\n",
    "        \n",
    "with zipfile.ZipFile(\"data/test.csv.zip\") as z:\n",
    "    names = z.namelist()\n",
    "    print(f\"names: {names}\")\n",
    "    with z.open(names[0]) as f:\n",
    "        pd_test = pd.read_csv(f, index_col=0)\n",
    "        \n",
    "pd_sample = pd.read_csv(\"data/sample_submission.csv\")"
   ]
  },
  {
   "cell_type": "code",
   "execution_count": 7,
   "metadata": {},
   "outputs": [
    {
     "data": {
      "text/html": [
       "<div>\n",
       "<style scoped>\n",
       "    .dataframe tbody tr th:only-of-type {\n",
       "        vertical-align: middle;\n",
       "    }\n",
       "\n",
       "    .dataframe tbody tr th {\n",
       "        vertical-align: top;\n",
       "    }\n",
       "\n",
       "    .dataframe thead th {\n",
       "        text-align: right;\n",
       "    }\n",
       "</style>\n",
       "<table border=\"1\" class=\"dataframe\">\n",
       "  <thead>\n",
       "    <tr style=\"text-align: right;\">\n",
       "      <th></th>\n",
       "      <th>Id_Пациента</th>\n",
       "      <th>Возраст</th>\n",
       "      <th>Диагноз</th>\n",
       "      <th>Жалобы</th>\n",
       "      <th>Источник_рекламы</th>\n",
       "      <th>Клиника</th>\n",
       "      <th>Код_диагноза</th>\n",
       "      <th>Пол</th>\n",
       "      <th>Услуга</th>\n",
       "    </tr>\n",
       "  </thead>\n",
       "  <tbody>\n",
       "    <tr>\n",
       "      <th>0</th>\n",
       "      <td>115819</td>\n",
       "      <td>54</td>\n",
       "      <td>Гипертензивная болезнь сердца [гипертоническая...</td>\n",
       "      <td>на повышение ад утром до 140/90 мм.рт.ст., пер...</td>\n",
       "      <td>Другое</td>\n",
       "      <td>5</td>\n",
       "      <td>I11</td>\n",
       "      <td>2</td>\n",
       "      <td>Прием врача-кардиолога  повторный, амбулаторный</td>\n",
       "    </tr>\n",
       "    <tr>\n",
       "      <th>1</th>\n",
       "      <td>399973</td>\n",
       "      <td>32</td>\n",
       "      <td>Доброкачественное новообразование молочной железы</td>\n",
       "      <td>На наличие опухоли в левой молочной железе</td>\n",
       "      <td>Другое</td>\n",
       "      <td>3</td>\n",
       "      <td>D24</td>\n",
       "      <td>2</td>\n",
       "      <td>Прием врача-онколога (маммолога), повторный, а...</td>\n",
       "    </tr>\n",
       "  </tbody>\n",
       "</table>\n",
       "</div>"
      ],
      "text/plain": [
       "   Id_Пациента  Возраст                                            Диагноз  \\\n",
       "0       115819       54  Гипертензивная болезнь сердца [гипертоническая...   \n",
       "1       399973       32  Доброкачественное новообразование молочной железы   \n",
       "\n",
       "                                              Жалобы Источник_рекламы  \\\n",
       "0  на повышение ад утром до 140/90 мм.рт.ст., пер...           Другое   \n",
       "1         На наличие опухоли в левой молочной железе           Другое   \n",
       "\n",
       "   Клиника Код_диагноза  Пол  \\\n",
       "0        5          I11    2   \n",
       "1        3          D24    2   \n",
       "\n",
       "                                              Услуга  \n",
       "0    Прием врача-кардиолога  повторный, амбулаторный  \n",
       "1  Прием врача-онколога (маммолога), повторный, а...  "
      ]
     },
     "execution_count": 7,
     "metadata": {},
     "output_type": "execute_result"
    }
   ],
   "source": [
    "pd_train.head(2)"
   ]
  },
  {
   "cell_type": "code",
   "execution_count": 8,
   "metadata": {},
   "outputs": [
    {
     "data": {
      "text/html": [
       "<div>\n",
       "<style scoped>\n",
       "    .dataframe tbody tr th:only-of-type {\n",
       "        vertical-align: middle;\n",
       "    }\n",
       "\n",
       "    .dataframe tbody tr th {\n",
       "        vertical-align: top;\n",
       "    }\n",
       "\n",
       "    .dataframe thead th {\n",
       "        text-align: right;\n",
       "    }\n",
       "</style>\n",
       "<table border=\"1\" class=\"dataframe\">\n",
       "  <thead>\n",
       "    <tr style=\"text-align: right;\">\n",
       "      <th></th>\n",
       "      <th>Id_Пациента</th>\n",
       "      <th>Возраст</th>\n",
       "      <th>Жалобы</th>\n",
       "      <th>Источник_рекламы</th>\n",
       "      <th>Клиника</th>\n",
       "      <th>Пол</th>\n",
       "      <th>Услуга</th>\n",
       "    </tr>\n",
       "  </thead>\n",
       "  <tbody>\n",
       "    <tr>\n",
       "      <th>0</th>\n",
       "      <td>598841</td>\n",
       "      <td>43</td>\n",
       "      <td>на момент осмотра не предъявляет</td>\n",
       "      <td>Рекомендации знакомых</td>\n",
       "      <td>5</td>\n",
       "      <td>2</td>\n",
       "      <td>Прием врача-акушера-гинеколога повторный, амбу...</td>\n",
       "    </tr>\n",
       "    <tr>\n",
       "      <th>1</th>\n",
       "      <td>596613</td>\n",
       "      <td>37</td>\n",
       "      <td>На слабость, головную боль, на расфокусировку ...</td>\n",
       "      <td>Зарегистрировался на сайте</td>\n",
       "      <td>3</td>\n",
       "      <td>1</td>\n",
       "      <td>Прием врача-кардиолога  повторный, амбулаторный</td>\n",
       "    </tr>\n",
       "  </tbody>\n",
       "</table>\n",
       "</div>"
      ],
      "text/plain": [
       "   Id_Пациента  Возраст                                             Жалобы  \\\n",
       "0       598841       43                   на момент осмотра не предъявляет   \n",
       "1       596613       37  На слабость, головную боль, на расфокусировку ...   \n",
       "\n",
       "             Источник_рекламы  Клиника  Пол  \\\n",
       "0       Рекомендации знакомых        5    2   \n",
       "1  Зарегистрировался на сайте        3    1   \n",
       "\n",
       "                                              Услуга  \n",
       "0  Прием врача-акушера-гинеколога повторный, амбу...  \n",
       "1    Прием врача-кардиолога  повторный, амбулаторный  "
      ]
     },
     "execution_count": 8,
     "metadata": {},
     "output_type": "execute_result"
    }
   ],
   "source": [
    "pd_test.head(2)"
   ]
  },
  {
   "cell_type": "code",
   "execution_count": 9,
   "metadata": {},
   "outputs": [
    {
     "data": {
      "text/html": [
       "<div>\n",
       "<style scoped>\n",
       "    .dataframe tbody tr th:only-of-type {\n",
       "        vertical-align: middle;\n",
       "    }\n",
       "\n",
       "    .dataframe tbody tr th {\n",
       "        vertical-align: top;\n",
       "    }\n",
       "\n",
       "    .dataframe thead th {\n",
       "        text-align: right;\n",
       "    }\n",
       "</style>\n",
       "<table border=\"1\" class=\"dataframe\">\n",
       "  <thead>\n",
       "    <tr style=\"text-align: right;\">\n",
       "      <th></th>\n",
       "      <th>index</th>\n",
       "      <th>Код_диагноза</th>\n",
       "    </tr>\n",
       "  </thead>\n",
       "  <tbody>\n",
       "    <tr>\n",
       "      <th>0</th>\n",
       "      <td>0</td>\n",
       "      <td>J06.9</td>\n",
       "    </tr>\n",
       "    <tr>\n",
       "      <th>1</th>\n",
       "      <td>1</td>\n",
       "      <td>J06.9</td>\n",
       "    </tr>\n",
       "  </tbody>\n",
       "</table>\n",
       "</div>"
      ],
      "text/plain": [
       "   index Код_диагноза\n",
       "0      0        J06.9\n",
       "1      1        J06.9"
      ]
     },
     "execution_count": 9,
     "metadata": {},
     "output_type": "execute_result"
    }
   ],
   "source": [
    "pd_sample.head(2)"
   ]
  },
  {
   "cell_type": "code",
   "execution_count": 10,
   "metadata": {},
   "outputs": [
    {
     "data": {
      "text/plain": [
       "((49619, 9), (12021, 7), (12021, 2))"
      ]
     },
     "execution_count": 10,
     "metadata": {},
     "output_type": "execute_result"
    }
   ],
   "source": [
    "pd_train.shape, pd_test.shape, pd_sample.shape"
   ]
  },
  {
   "cell_type": "markdown",
   "metadata": {},
   "source": [
    "# Target"
   ]
  },
  {
   "cell_type": "code",
   "execution_count": 11,
   "metadata": {},
   "outputs": [
    {
     "data": {
      "text/plain": [
       "<matplotlib.axes._subplots.AxesSubplot at 0x14600925fd0>"
      ]
     },
     "execution_count": 11,
     "metadata": {},
     "output_type": "execute_result"
    },
    {
     "data": {
      "image/png": "[encoded data removed]",
      "text/plain": [
       "<Figure size 432x288 with 1 Axes>"
      ]
     },
     "metadata": {},
     "output_type": "display_data"
    }
   ],
   "source": [
    "pd_train[\"Код_диагноза\"].value_counts(normalize=True).cumsum().reset_index(drop=True) \\\n",
    "    .plot(grid=True, yticks=np.arange(0, 1.01, 0.1))"
   ]
  },
  {
   "cell_type": "code",
   "execution_count": 12,
   "metadata": {
    "collapsed": true
   },
   "outputs": [],
   "source": [
    "target_dict = pd_train[\"Код_диагноза\"].value_counts().reset_index()[\"index\"]\n",
    "target_dict = target_dict.reset_index().set_index(\"index\")\n",
    "target_dict.iloc[1200:] = -1\n",
    "target_dict_code2ix = target_dict['level_0'].to_dict()\n",
    "target_dict_ix2code = {v: k for k, v in target_dict_code2ix.items() if v >= 0}"
   ]
  },
  {
   "cell_type": "code",
   "execution_count": 13,
   "metadata": {
    "collapsed": true
   },
   "outputs": [],
   "source": [
    "pd_train[\"y\"] = pd_train[\"Код_диагноза\"].map(target_dict_code2ix)"
   ]
  },
  {
   "cell_type": "code",
   "execution_count": 14,
   "metadata": {
    "collapsed": true
   },
   "outputs": [],
   "source": [
    "X = pd_train.loc[pd_train[\"y\"].ge(0), [\"Id_Пациента\", \"Возраст\", \"Жалобы\", \"Источник_рекламы\", \"Клиника\", \"Пол\", \"Услуга\"]].copy()\n",
    "y = pd_train.loc[pd_train[\"y\"].ge(0), \"y\"].values"
   ]
  },
  {
   "cell_type": "code",
   "execution_count": 15,
   "metadata": {},
   "outputs": [
    {
     "data": {
      "text/plain": [
       "((48681, 7), (48681,))"
      ]
     },
     "execution_count": 15,
     "metadata": {},
     "output_type": "execute_result"
    }
   ],
   "source": [
    "X.shape, y.shape"
   ]
  },
  {
   "cell_type": "code",
   "execution_count": 16,
   "metadata": {},
   "outputs": [],
   "source": [
    "from sklearn.model_selection import train_test_split\n",
    "i_train, i_test = train_test_split(np.arange(y.shape[0]), test_size=0.3, stratify=y)"
   ]
  },
  {
   "cell_type": "markdown",
   "metadata": {},
   "source": [
    "# Model"
   ]
  },
  {
   "cell_type": "code",
   "execution_count": 17,
   "metadata": {},
   "outputs": [
    {
     "data": {
      "text/plain": [
       "'0.20.2'"
      ]
     },
     "execution_count": 17,
     "metadata": {},
     "output_type": "execute_result"
    }
   ],
   "source": [
    "import sklearn\n",
    "sklearn.__version__"
   ]
  },
  {
   "cell_type": "code",
   "execution_count": 18,
   "metadata": {
    "collapsed": true
   },
   "outputs": [],
   "source": [
    "from sklearn.model_selection import StratifiedKFold\n",
    "from tqdm import tqdm_notebook\n",
    "\n",
    "class StratifiedKFoldTqdm(StratifiedKFold):\n",
    "    def __init__(self, **kwargs):\n",
    "        super().__init__(**kwargs)\n",
    "    \n",
    "    def split(self, X, y, groups=None):\n",
    "        return tqdm_notebook(super().split(X, y, None), total=self.n_splits)    \n",
    "        \n",
    "cv_skf = StratifiedKFoldTqdm(n_splits=5, random_state=42)"
   ]
  },
  {
   "cell_type": "code",
   "execution_count": 19,
   "metadata": {
    "collapsed": true
   },
   "outputs": [],
   "source": [
    "from sklearn.model_selection import cross_val_score"
   ]
  },
  {
   "cell_type": "markdown",
   "metadata": {},
   "source": [
    "# Features"
   ]
  },
  {
   "cell_type": "code",
   "execution_count": 20,
   "metadata": {
    "collapsed": true
   },
   "outputs": [],
   "source": [
    "from sklearn.base import BaseEstimator, TransformerMixin"
   ]
  },
  {
   "cell_type": "code",
   "execution_count": 21,
   "metadata": {
    "collapsed": true
   },
   "outputs": [],
   "source": [
    "class ColumnSelector(BaseEstimator, TransformerMixin):\n",
    "    def __init__(self, col_name):\n",
    "        self.col_name = col_name\n",
    "        \n",
    "    def fit(self, X, y=None):\n",
    "        return self\n",
    "    \n",
    "    def transform(self, X, y=None):\n",
    "        return X[self.col_name].values"
   ]
  },
  {
   "cell_type": "markdown",
   "metadata": {},
   "source": [
    "## MorphAnalyzer"
   ]
  },
  {
   "cell_type": "code",
   "execution_count": 22,
   "metadata": {
    "collapsed": true
   },
   "outputs": [],
   "source": [
    "from pymorphy2 import MorphAnalyzer"
   ]
  },
  {
   "cell_type": "code",
   "execution_count": 23,
   "metadata": {
    "collapsed": true
   },
   "outputs": [],
   "source": [
    "morph = MorphAnalyzer()"
   ]
  },
  {
   "cell_type": "code",
   "execution_count": 24,
   "metadata": {},
   "outputs": [
    {
     "data": {
      "text/plain": [
       "[Parse(word='раму', tag=OpencorporaTag('NOUN,inan,masc,Geox sing,datv'), normal_form='рам', score=0.5, methods_stack=((<DictionaryAnalyzer>, 'раму', 32, 2),)),\n",
       " Parse(word='раму', tag=OpencorporaTag('NOUN,inan,femn sing,accs'), normal_form='рама', score=0.5, methods_stack=((<DictionaryAnalyzer>, 'раму', 55, 3),))]"
      ]
     },
     "execution_count": 24,
     "metadata": {},
     "output_type": "execute_result"
    }
   ],
   "source": [
    "morph.parse(\"раму\")"
   ]
  },
  {
   "cell_type": "code",
   "execution_count": 25,
   "metadata": {
    "collapsed": true
   },
   "outputs": [],
   "source": [
    "import re"
   ]
  },
  {
   "cell_type": "code",
   "execution_count": 26,
   "metadata": {
    "collapsed": true
   },
   "outputs": [],
   "source": [
    "class Normalizer(BaseEstimator, TransformerMixin):\n",
    "    _cache = {}\n",
    "    \n",
    "    @staticmethod\n",
    "    def _process(line):\n",
    "        def norm(word):\n",
    "            if word in Normalizer._cache:\n",
    "                return Normalizer._cache[word]\n",
    "            \n",
    "            n = morph.parse(word)[0].normal_form\n",
    "            Normalizer._cache[word] = n\n",
    "            \n",
    "            return n\n",
    "        \n",
    "        return \" \".join([norm(word) for word in re.findall(r\"\\w+\", line.lower())])\n",
    "    \n",
    "    def __init__(self):\n",
    "        pass\n",
    "        \n",
    "    def fit(self, X, y=None):\n",
    "        return self\n",
    "    \n",
    "    def transform(self, X, y=None):\n",
    "        return np.array([self._process(line) for line in X])"
   ]
  },
  {
   "cell_type": "code",
   "execution_count": 27,
   "metadata": {},
   "outputs": [
    {
     "data": {
      "text/plain": [
       "array(['мама мыло рам', 'папа чинить сапог'], dtype='<U17')"
      ]
     },
     "execution_count": 27,
     "metadata": {},
     "output_type": "execute_result"
    }
   ],
   "source": [
    "Normalizer().fit_transform([\"Мама мыла- раму\", \"Папа чинил сапоги\"])"
   ]
  },
  {
   "cell_type": "markdown",
   "metadata": {},
   "source": [
    "## Услуга"
   ]
  },
  {
   "cell_type": "code",
   "execution_count": 28,
   "metadata": {
    "collapsed": true
   },
   "outputs": [],
   "source": [
    "from sklearn.pipeline import Pipeline\n",
    "from sklearn.feature_extraction.text import TfidfVectorizer"
   ]
  },
  {
   "cell_type": "code",
   "execution_count": 29,
   "metadata": {
    "collapsed": true
   },
   "outputs": [],
   "source": [
    "pipe_service = Pipeline([\n",
    "    ('select', ColumnSelector(\"Услуга\")),\n",
    "    ('norm', Normalizer()),\n",
    "    ('tfidf', TfidfVectorizer()),\n",
    "])"
   ]
  },
  {
   "cell_type": "code",
   "execution_count": 30,
   "metadata": {},
   "outputs": [
    {
     "name": "stdout",
     "output_type": "stream",
     "text": [
      "Wall time: 717 ms\n"
     ]
    }
   ],
   "source": [
    "%%time\n",
    "# pipe_service.set_params(tfidf__token_pattern=r\"\\b\\w{,5}\")\n",
    "X_service = pipe_service.fit_transform(X)"
   ]
  },
  {
   "cell_type": "code",
   "execution_count": 31,
   "metadata": {},
   "outputs": [
    {
     "data": {
      "text/plain": [
       "(48681, 243)"
      ]
     },
     "execution_count": 31,
     "metadata": {},
     "output_type": "execute_result"
    }
   ],
   "source": [
    "X_service.shape"
   ]
  },
  {
   "cell_type": "code",
   "execution_count": 32,
   "metadata": {},
   "outputs": [
    {
     "data": {
      "text/plain": [
       "{'001': 0,\n",
       " '15': 1,\n",
       " '18': 2,\n",
       " '28': 3,\n",
       " 'air': 4,\n",
       " 'flow': 5,\n",
       " 'акушер': 6,\n",
       " 'акция': 7,\n",
       " 'аллерголог': 8,\n",
       " 'амбулаторный': 9,\n",
       " 'анатомический': 10,\n",
       " 'ангиохирург': 11,\n",
       " 'андролог': 12,\n",
       " 'анестезия': 13,\n",
       " 'апп': 14,\n",
       " 'аппарат': 15,\n",
       " 'аппликационный': 16,\n",
       " 'бассейн': 17,\n",
       " 'без': 18,\n",
       " 'беременный': 19,\n",
       " 'бесплатный': 20,\n",
       " 'бесплый': 21,\n",
       " 'бинокулярный': 22,\n",
       " 'биомикроскопия': 23,\n",
       " 'блокада': 24,\n",
       " 'более': 25,\n",
       " 'больший': 26,\n",
       " 'бца': 27,\n",
       " 'ваш': 28,\n",
       " 'ведущий': 29,\n",
       " 'весь': 30,\n",
       " 'водянка': 31,\n",
       " 'волновой': 32,\n",
       " 'восстановление': 33,\n",
       " 'врач': 34,\n",
       " 'врачебный': 35,\n",
       " 'временной': 36,\n",
       " 'выдача': 37,\n",
       " 'выписка': 38,\n",
       " 'гастроэнтеролог': 39,\n",
       " 'гастроэнтерологический': 40,\n",
       " 'гибдд': 41,\n",
       " 'гинеколог': 42,\n",
       " 'гипсовый': 43,\n",
       " 'главный': 44,\n",
       " 'глаз': 45,\n",
       " 'глазной': 46,\n",
       " 'гнойный': 47,\n",
       " 'гомеопатический': 48,\n",
       " 'гомеосиниатрия': 49,\n",
       " 'групон': 50,\n",
       " 'день': 51,\n",
       " 'дерматовенеролог': 52,\n",
       " 'детский': 53,\n",
       " 'диагноз': 54,\n",
       " 'диагностический': 55,\n",
       " 'диаметр': 56,\n",
       " 'динамический': 57,\n",
       " 'для': 58,\n",
       " 'дневник': 59,\n",
       " 'дно': 60,\n",
       " 'до': 61,\n",
       " 'за': 62,\n",
       " 'зав': 63,\n",
       " 'заключительный': 64,\n",
       " 'зам': 65,\n",
       " 'запись': 66,\n",
       " 'здоровье': 67,\n",
       " 'зона': 68,\n",
       " 'зрачок': 69,\n",
       " 'зрение': 70,\n",
       " 'зуб': 71,\n",
       " 'зубной': 72,\n",
       " 'из': 73,\n",
       " 'или': 74,\n",
       " 'иммунолог': 75,\n",
       " 'импортный': 76,\n",
       " 'инородный': 77,\n",
       " 'инфильтрационный': 78,\n",
       " 'исследование': 79,\n",
       " 'камень': 80,\n",
       " 'канал': 81,\n",
       " 'кардио': 82,\n",
       " 'кардиолог': 83,\n",
       " 'кардиотокография': 84,\n",
       " 'кариес': 85,\n",
       " 'карман': 86,\n",
       " 'карта': 87,\n",
       " 'колопроктолог': 88,\n",
       " 'кольпоскопия': 89,\n",
       " 'комплексный': 90,\n",
       " 'композит': 91,\n",
       " 'компрессия': 92,\n",
       " 'компьютерный': 93,\n",
       " 'конечность': 94,\n",
       " 'консилиум': 95,\n",
       " 'консультация': 96,\n",
       " 'контактный': 97,\n",
       " 'конъюнктив': 98,\n",
       " 'коронка': 99,\n",
       " 'кровоток': 100,\n",
       " 'ктг': 101,\n",
       " 'курс': 102,\n",
       " 'лак': 103,\n",
       " 'лакуна': 104,\n",
       " 'лечебный': 105,\n",
       " 'лечение': 106,\n",
       " 'лечить': 107,\n",
       " 'линза': 108,\n",
       " 'лонгет': 109,\n",
       " 'лфк': 110,\n",
       " 'малое': 111,\n",
       " 'маммолога': 112,\n",
       " 'мануальный': 113,\n",
       " 'материал': 114,\n",
       " 'медикаментозный': 115,\n",
       " 'медицинский': 116,\n",
       " 'метод': 117,\n",
       " 'метр': 118,\n",
       " 'миндалина': 119,\n",
       " 'мрт': 120,\n",
       " 'мртпо': 121,\n",
       " 'мхц': 122,\n",
       " 'мягкий': 123,\n",
       " 'на': 124,\n",
       " 'наблюдение': 125,\n",
       " 'наличный': 126,\n",
       " 'наложение': 127,\n",
       " 'налёт': 128,\n",
       " 'наш': 129,\n",
       " 'ндс': 130,\n",
       " 'невролог': 131,\n",
       " 'неврологоа': 132,\n",
       " 'нейрохирург': 133,\n",
       " 'нижний': 134,\n",
       " 'новообразование': 135,\n",
       " 'нос': 136,\n",
       " 'область': 137,\n",
       " 'оболочка': 138,\n",
       " 'обработка': 139,\n",
       " 'обследование': 140,\n",
       " 'ожог': 141,\n",
       " 'онколог': 142,\n",
       " 'операция': 143,\n",
       " 'ортопед': 144,\n",
       " 'осмотр': 145,\n",
       " 'отделение': 146,\n",
       " 'отечественный': 147,\n",
       " 'отоларинголог': 148,\n",
       " 'оториноларинголог': 149,\n",
       " 'отрезка': 150,\n",
       " 'оформление': 151,\n",
       " 'офтальмолог': 152,\n",
       " 'оценка': 153,\n",
       " 'паравертебральный': 154,\n",
       " 'пародонтальный': 155,\n",
       " 'паста': 156,\n",
       " 'патологический': 157,\n",
       " 'педиатр': 158,\n",
       " 'первичный': 159,\n",
       " 'перевязка': 160,\n",
       " 'передний': 161,\n",
       " 'перемещение': 162,\n",
       " 'пигментировать': 163,\n",
       " 'пластический': 164,\n",
       " 'плод': 165,\n",
       " 'пломба': 166,\n",
       " 'пломбировка': 167,\n",
       " 'по': 168,\n",
       " 'повторный': 169,\n",
       " 'повязка': 170,\n",
       " 'подбор': 171,\n",
       " 'покрытие': 172,\n",
       " 'полимерный': 173,\n",
       " 'полировка': 174,\n",
       " 'полость': 175,\n",
       " 'после': 176,\n",
       " 'последующий': 177,\n",
       " 'послеоперационный': 178,\n",
       " 'пр': 179,\n",
       " 'предвакцинальный': 180,\n",
       " 'препарат': 181,\n",
       " 'при': 182,\n",
       " 'приемврач': 183,\n",
       " 'приём': 184,\n",
       " 'программа': 185,\n",
       " 'пройтец': 186,\n",
       " 'промывание': 187,\n",
       " 'простой': 188,\n",
       " 'профилактический': 189,\n",
       " 'процедура': 190,\n",
       " 'психотерапевт': 191,\n",
       " 'пульмонолог': 192,\n",
       " 'пульпит': 193,\n",
       " 'пункция': 194,\n",
       " 'радиовизиография': 195,\n",
       " 'рамка': 196,\n",
       " 'рана': 197,\n",
       " 'расширеный': 198,\n",
       " 'расширить': 199,\n",
       " 'реабилитация': 200,\n",
       " 'реабилитолог': 201,\n",
       " 'ревматолог': 202,\n",
       " 'рефлексотерапевт': 203,\n",
       " 'рефлексотерапия': 204,\n",
       " 'рефрактометрия': 205,\n",
       " 'рот': 206,\n",
       " 'сантиметр': 207,\n",
       " 'светоотверждать': 208,\n",
       " 'светоотверждаюший': 209,\n",
       " 'снятие': 210,\n",
       " 'специалист': 211,\n",
       " 'справка': 212,\n",
       " 'стома': 213,\n",
       " 'стоматит': 214,\n",
       " 'стоматолог': 215,\n",
       " 'сумка': 216,\n",
       " 'сустав': 217,\n",
       " 'суставный': 218,\n",
       " 'тело': 219,\n",
       " 'терапевт': 220,\n",
       " 'терапия': 221,\n",
       " 'травматолог': 222,\n",
       " 'травмотолог': 223,\n",
       " 'трихолог': 224,\n",
       " 'удаление': 225,\n",
       " 'ударно': 226,\n",
       " 'узи': 227,\n",
       " 'ультразвук': 228,\n",
       " 'уролог': 229,\n",
       " 'учёт': 230,\n",
       " 'физкультура': 231,\n",
       " 'флеболог': 232,\n",
       " 'фтор': 233,\n",
       " 'хирург': 234,\n",
       " 'хирургический': 235,\n",
       " 'цикл': 236,\n",
       " 'четыре': 237,\n",
       " 'чистый': 238,\n",
       " 'шов': 239,\n",
       " 'эластический': 240,\n",
       " 'эндокринолог': 241,\n",
       " 'яичко': 242}"
      ]
     },
     "execution_count": 32,
     "metadata": {},
     "output_type": "execute_result"
    }
   ],
   "source": [
    "pipe_service.named_steps[\"tfidf\"].vocabulary_"
   ]
  },
  {
   "cell_type": "markdown",
   "metadata": {},
   "source": [
    "## Жалоба"
   ]
  },
  {
   "cell_type": "code",
   "execution_count": 33,
   "metadata": {
    "collapsed": true
   },
   "outputs": [],
   "source": [
    "from sklearn.pipeline import Pipeline\n",
    "from sklearn.feature_extraction.text import TfidfVectorizer"
   ]
  },
  {
   "cell_type": "code",
   "execution_count": 34,
   "metadata": {
    "collapsed": true
   },
   "outputs": [],
   "source": [
    "pipe_symptom = Pipeline([\n",
    "    ('select', ColumnSelector(\"Жалобы\")),\n",
    "    ('norm', Normalizer()),\n",
    "    ('tfidf', TfidfVectorizer(min_df=4, max_df=0.6, max_features=10000)),\n",
    "])"
   ]
  },
  {
   "cell_type": "code",
   "execution_count": 35,
   "metadata": {},
   "outputs": [
    {
     "name": "stdout",
     "output_type": "stream",
     "text": [
      "Wall time: 3.44 s\n"
     ]
    }
   ],
   "source": [
    "%%time\n",
    "# pipe_service.set_params(tfidf__token_pattern=r\"\\b\\w{,5}\")\n",
    "X_symptom = pipe_symptom.fit_transform(X)"
   ]
  },
  {
   "cell_type": "code",
   "execution_count": 36,
   "metadata": {},
   "outputs": [
    {
     "data": {
      "text/plain": [
       "(48681, 2219)"
      ]
     },
     "execution_count": 36,
     "metadata": {},
     "output_type": "execute_result"
    }
   ],
   "source": [
    "X_symptom.shape"
   ]
  },
  {
   "cell_type": "code",
   "execution_count": 37,
   "metadata": {},
   "outputs": [
    {
     "data": {
      "text/plain": [
       "<48681x2219 sparse matrix of type '<class 'numpy.float64'>'\n",
       "\twith 333416 stored elements in Compressed Sparse Row format>"
      ]
     },
     "execution_count": 37,
     "metadata": {},
     "output_type": "execute_result"
    }
   ],
   "source": [
    "X_symptom"
   ]
  },
  {
   "cell_type": "code",
   "execution_count": 38,
   "metadata": {},
   "outputs": [
    {
     "data": {
      "text/plain": [
       "{'повышение': 1348,\n",
       " 'ада': 106,\n",
       " 'утром': 2055,\n",
       " 'до': 467,\n",
       " '140': 23,\n",
       " '90': 96,\n",
       " 'мм': 886,\n",
       " 'рт': 1679,\n",
       " 'ст': 1848,\n",
       " 'периодич': 1292,\n",
       " 'головокружение': 377,\n",
       " 'наличие': 951,\n",
       " 'опухоль': 1155,\n",
       " 'левый': 764,\n",
       " 'молочный': 894,\n",
       " 'железо': 510,\n",
       " 'активный': 112,\n",
       " 'жалоба': 499,\n",
       " 'нет': 1033,\n",
       " 'сохраняться': 1821,\n",
       " 'боль': 187,\n",
       " 'спина': 1830,\n",
       " 'поясница': 1471,\n",
       " 'скованность': 1760,\n",
       " 'она': 1136,\n",
       " 'дискомфорт': 445,\n",
       " 'горло': 386,\n",
       " 'слабый': 1770,\n",
       " 'першение': 1303,\n",
       " 'слабость': 1768,\n",
       " 'палец': 1235,\n",
       " 'правый': 1477,\n",
       " 'кисть': 661,\n",
       " 'не': 983,\n",
       " 'измениться': 596,\n",
       " 'момент': 895,\n",
       " 'первое': 1260,\n",
       " 'приём': 1530,\n",
       " 'по': 1334,\n",
       " 'цикл': 2125,\n",
       " 'паховый': 1254,\n",
       " 'подвздошный': 1356,\n",
       " 'область': 1093,\n",
       " 'фон': 2090,\n",
       " 'лечение': 772,\n",
       " 'самочувствие': 1691,\n",
       " 'улучшение': 2018,\n",
       " 'болевой': 177,\n",
       " 'диспептический': 450,\n",
       " 'синдром': 1748,\n",
       " 'выразить': 320,\n",
       " 'аппетит': 132,\n",
       " 'норма': 1066,\n",
       " 'переносить': 1274,\n",
       " 'хорошо': 2111,\n",
       " 'отмечаться': 1203,\n",
       " 'положительный': 1417,\n",
       " 'клинико': 668,\n",
       " 'эндоскопический': 2184,\n",
       " 'динамик': 441,\n",
       " 'осмотр': 1165,\n",
       " 'предъявлять': 1487,\n",
       " 'повышенный': 1349,\n",
       " 'слюноотделение': 1784,\n",
       " 'настоящее': 968,\n",
       " 'время': 297,\n",
       " 'лечиться': 773,\n",
       " 'стоматолог': 1867,\n",
       " 'тошнота': 1952,\n",
       " 'тяжесть': 1986,\n",
       " 'после': 1440,\n",
       " 'диета': 437,\n",
       " 'стул': 1881,\n",
       " 'кашица': 653,\n",
       " 'иногда': 607,\n",
       " 'примесь': 1516,\n",
       " 'слизь': 1777,\n",
       " 'живот': 515,\n",
       " 'стопа': 1869,\n",
       " 'иррадиировать': 619,\n",
       " 'интенсивность': 610,\n",
       " 'ваш': 211,\n",
       " 'балл': 143,\n",
       " 'периодический': 1294,\n",
       " 'головной': 376,\n",
       " 'лобный': 788,\n",
       " 'часть': 2133,\n",
       " 'при': 1503,\n",
       " 'цифра': 2127,\n",
       " 'активно': 110,\n",
       " 'учащённый': 2065,\n",
       " 'мочеиспускание': 903,\n",
       " 'чувство': 2148,\n",
       " 'неполный': 1011,\n",
       " 'опорожнение': 1147,\n",
       " 'мочевой': 900,\n",
       " 'пузырь': 1583,\n",
       " 'поясничный': 1472,\n",
       " 'ночью': 1080,\n",
       " 'мочиться': 906,\n",
       " 'подташнивать': 1376,\n",
       " 'голов': 372,\n",
       " 'напряжённость': 960,\n",
       " 'раздражительность': 1609,\n",
       " 'сухость': 1908,\n",
       " 'рот': 1676,\n",
       " 'трудность': 1976,\n",
       " 'пища': 1308,\n",
       " 'отдел': 1185,\n",
       " 'позвоночник': 1385,\n",
       " 'без': 147,\n",
       " 'иррадиация': 618,\n",
       " 'покашливание': 1402,\n",
       " 'провести': 1535,\n",
       " 'выделение': 305,\n",
       " 'стать': 1856,\n",
       " 'маленький': 823,\n",
       " 'казеозный': 637,\n",
       " 'пробка': 1531,\n",
       " 'из': 590,\n",
       " 'высыпание': 324,\n",
       " 'кожа': 673,\n",
       " 'туловище': 1979,\n",
       " 'плечо': 1324,\n",
       " 'редко': 1652,\n",
       " 'онемение': 1137,\n",
       " 'немой': 1004,\n",
       " 'хотеть': 2112,\n",
       " 'ведение': 220,\n",
       " 'беременность': 155,\n",
       " 'впервые': 291,\n",
       " 'указанный': 2014,\n",
       " 'неделя': 990,\n",
       " 'назад': 944,\n",
       " 'полгода': 1406,\n",
       " 'отмечать': 1202,\n",
       " 'появление': 1466,\n",
       " 'опухолевидный': 1154,\n",
       " 'образование': 1103,\n",
       " 'самостоятельно': 1689,\n",
       " 'мазь': 818,\n",
       " 'течение': 1937,\n",
       " 'длительный': 459,\n",
       " 'страдать': 1874,\n",
       " 'анамнез': 124,\n",
       " 'год': 367,\n",
       " 'уровень': 2036,\n",
       " 'чсс': 2144,\n",
       " 'особенно': 1170,\n",
       " 'физический': 2081,\n",
       " 'нагрузка': 932,\n",
       " 'покраснение': 1404,\n",
       " 'глаз': 354,\n",
       " 'небольшой': 984,\n",
       " 'заложенность': 546,\n",
       " 'нос': 1071,\n",
       " 'вечер': 234,\n",
       " 'незначительный': 996,\n",
       " 'давление': 405,\n",
       " 'усталость': 2048,\n",
       " 'снижение': 1789,\n",
       " 'зрение': 583,\n",
       " 'вблизи': 212,\n",
       " 'быстрый': 204,\n",
       " 'утомляемость': 2051,\n",
       " 'работа': 1596,\n",
       " 'за': 525,\n",
       " 'пк': 1311,\n",
       " 'шея': 2161,\n",
       " 'несистемный': 1026,\n",
       " 'характер': 2099,\n",
       " 'нарушение': 966,\n",
       " 'сон': 1803,\n",
       " 'тип': 1940,\n",
       " 'ночное': 1077,\n",
       " 'пробуждение': 1533,\n",
       " 'слово': 1779,\n",
       " 'память': 1237,\n",
       " 'деликатный': 424,\n",
       " 'тянущий': 1988,\n",
       " 'проекция': 1546,\n",
       " 'слева': 1772,\n",
       " 'боков': 175,\n",
       " 'наклон': 949,\n",
       " 'зудеть': 588,\n",
       " 'нога': 1059,\n",
       " 'день': 425,\n",
       " 'отделение': 1186,\n",
       " 'лакуна': 762,\n",
       " 'миндалина': 879,\n",
       " 'слизистый': 1776,\n",
       " 'насморк': 967,\n",
       " 'сухой': 1907,\n",
       " 'надсадный': 943,\n",
       " 'кашель': 651,\n",
       " 'температура': 1930,\n",
       " 'тело': 1924,\n",
       " '37': 71,\n",
       " 'гр': 389,\n",
       " 'общий': 1111,\n",
       " 'усиливаться': 2044,\n",
       " 'движение': 415,\n",
       " 'явка': 2207,\n",
       " 'профилактический': 1568,\n",
       " 'плата': 1322,\n",
       " 'крестцовый': 732,\n",
       " 'бель': 154,\n",
       " 'обильный': 1091,\n",
       " 'месячный': 864,\n",
       " 'пятка': 1593,\n",
       " 'тенденция': 1932,\n",
       " 'нормализация': 1067,\n",
       " 'кома': 688,\n",
       " 'частый': 2132,\n",
       " 'изжога': 593,\n",
       " 'отрыжка': 1210,\n",
       " 'воздух': 274,\n",
       " 'срыгивание': 1846,\n",
       " 'ощущение': 1231,\n",
       " 'нехватка': 1040,\n",
       " 'сопровождаться': 1805,\n",
       " 'сердцебиение': 1733,\n",
       " 'делать': 423,\n",
       " 'глубокий': 359,\n",
       " 'вдох': 218,\n",
       " 'болезненность': 180,\n",
       " 'большой': 193,\n",
       " 'справа': 1836,\n",
       " 'глотание': 357,\n",
       " 'теменной': 1926,\n",
       " 'локализация': 793,\n",
       " 'нестабильность': 1031,\n",
       " '160': 28,\n",
       " '100': 12,\n",
       " 'сильный': 1745,\n",
       " 'литр': 782,\n",
       " 'том': 1947,\n",
       " 'град': 391,\n",
       " 'задний': 539,\n",
       " 'поверхность': 1338,\n",
       " 'результат': 1660,\n",
       " 'анализ': 121,\n",
       " '38': 74,\n",
       " 'вздутие': 238,\n",
       " 'газообразование': 334,\n",
       " 'околопупочный': 1129,\n",
       " 'эпизодический': 2195,\n",
       " 'грудь': 396,\n",
       " 'затруднение': 562,\n",
       " 'носовой': 1074,\n",
       " 'дыхание': 486,\n",
       " 'скудный': 1763,\n",
       " 'отделять': 1187,\n",
       " 'полость': 1419,\n",
       " 'проводить': 1536,\n",
       " 'беспокоить': 161,\n",
       " 'метеозависимость': 865,\n",
       " 'периодически': 1293,\n",
       " 'возникать': 276,\n",
       " 'ход': 2105,\n",
       " 'прежний': 1492,\n",
       " 'отекание': 1189,\n",
       " 'стоп': 1868,\n",
       " 'нижний': 1047,\n",
       " 'запор': 555,\n",
       " 'много': 888,\n",
       " 'менструальный': 855,\n",
       " 'последний': 1441,\n",
       " 'от': 1180,\n",
       " '24': 55,\n",
       " 'далее': 407,\n",
       " 'метр': 868,\n",
       " '22': 52,\n",
       " 'июнь': 633,\n",
       " 'задержка': 537,\n",
       " 'мес': 860,\n",
       " 'продолжаться': 1542,\n",
       " 'июль': 632,\n",
       " 'обильно': 1090,\n",
       " 'начало': 978,\n",
       " 'дюфастон': 489,\n",
       " '12': 16,\n",
       " 'раз': 1602,\n",
       " 'мазать': 813,\n",
       " 'болезненный': 181,\n",
       " 'внизу': 262,\n",
       " 'невыраженный': 988,\n",
       " 'кр': 722,\n",
       " 'физ': 2079,\n",
       " 'кишечник': 662,\n",
       " 'вновь': 264,\n",
       " 'склонность': 1759,\n",
       " 'тугой': 1977,\n",
       " 'затуманивание': 566,\n",
       " 'зрительный': 584,\n",
       " 'утомление': 2050,\n",
       " 'рука': 1682,\n",
       " 'дрожь': 480,\n",
       " 'вес': 231,\n",
       " 'килограмм': 657,\n",
       " 'трещина': 1969,\n",
       " 'редкий': 1651,\n",
       " 'возможно': 275,\n",
       " 'пятно': 1594,\n",
       " 'шелушение': 2159,\n",
       " 'число': 2140,\n",
       " 'тревога': 1961,\n",
       " 'неустойчивость': 1038,\n",
       " 'настроение': 970,\n",
       " 'гол': 368,\n",
       " 'блокада': 171,\n",
       " 'медикаментозный': 838,\n",
       " '80': 92,\n",
       " 'мама': 828,\n",
       " 'февраль': 2075,\n",
       " '2015': 45,\n",
       " 'консультация': 699,\n",
       " 'обследование': 1108,\n",
       " 'умеренный': 2025,\n",
       " 'затруднённость': 565,\n",
       " 'тупой': 1981,\n",
       " 'лобок': 789,\n",
       " 'разбитость': 1603,\n",
       " 'увеличение': 1990,\n",
       " 'шейный': 2158,\n",
       " 'подчелюстной': 1378,\n",
       " 'ломота': 799,\n",
       " 'мышца': 923,\n",
       " 'оба': 1087,\n",
       " 'ухо': 2057,\n",
       " 'связывать': 1711,\n",
       " 'антибиотик': 127,\n",
       " 'подойти': 1371,\n",
       " 'фгдс': 2074,\n",
       " 'малопродуктивный': 827,\n",
       " 'кашлеь': 655,\n",
       " 'мокрота': 892,\n",
       " 'утро': 2054,\n",
       " 'зеленоватый': 578,\n",
       " 'сгусток': 1716,\n",
       " 'осиплость': 1161,\n",
       " 'голос': 380,\n",
       " 'лицо': 784,\n",
       " 'право': 1476,\n",
       " 'коленный': 679,\n",
       " 'сустав': 1902,\n",
       " 'ходьба': 2107,\n",
       " 'половый': 1415,\n",
       " 'путь': 1591,\n",
       " 'жжение': 514,\n",
       " 'влагалище': 252,\n",
       " 'височный': 248,\n",
       " 'прострел': 1557,\n",
       " 'горизонтальный': 385,\n",
       " 'положение': 1416,\n",
       " 'физй': 2082,\n",
       " 'спортивный': 1835,\n",
       " 'занятие': 552,\n",
       " 'менструация': 856,\n",
       " 'обратиться': 1104,\n",
       " 'мхц': 920,\n",
       " 'врач': 295,\n",
       " 'уролог': 2037,\n",
       " 'через': 2139,\n",
       " 'месяц': 863,\n",
       " 'сдать': 1719,\n",
       " 'он': 1135,\n",
       " 'клиника': 667,\n",
       " 'мазка': 815,\n",
       " 'выявить': 328,\n",
       " 'гарднерелла': 336,\n",
       " 'посев': 1436,\n",
       " 'флор': 2087,\n",
       " 'уретра': 2035,\n",
       " 'повторный': 1343,\n",
       " 'цель': 2122,\n",
       " 'проведение': 1534,\n",
       " 'расширить': 1639,\n",
       " 'кольпоскопия': 684,\n",
       " 'грудной': 394,\n",
       " 'клетка': 665,\n",
       " 'перегрузка': 1263,\n",
       " 'резкий': 1658,\n",
       " 'острый': 1179,\n",
       " 'утолщение': 2049,\n",
       " 'век': 221,\n",
       " 'плотный': 1326,\n",
       " 'вдали': 215,\n",
       " 'потливость': 1453,\n",
       " 'ноющий': 1082,\n",
       " 'ограничение': 1119,\n",
       " 'настоящий': 969,\n",
       " 'дообследование': 472,\n",
       " 'ягодица': 2210,\n",
       " 'бедро': 146,\n",
       " 'динамика': 442,\n",
       " 'состояние': 1811,\n",
       " 'удовлетворительный': 2002,\n",
       " 'интенсивный': 611,\n",
       " 'эпигастральный': 2189,\n",
       " 'натощак': 974,\n",
       " '39': 76,\n",
       " 'осмтр': 1167,\n",
       " 'приступ': 1524,\n",
       " 'рвота': 1640,\n",
       " 'умеренно': 2024,\n",
       " 'уплотнение': 2029,\n",
       " 'бок': 174,\n",
       " 'также': 1917,\n",
       " 'покой': 1403,\n",
       " 'самоконтроль': 1687,\n",
       " 'пульс': 1586,\n",
       " '120': 17,\n",
       " 'уд': 1996,\n",
       " 'мина': 878,\n",
       " 'неустойчивый': 1039,\n",
       " '180': 35,\n",
       " 'затылочный': 568,\n",
       " 'пациент': 1255,\n",
       " 'контроль': 702,\n",
       " 'кровянистый': 743,\n",
       " 'неприятный': 1015,\n",
       " 'запах': 553,\n",
       " 'подъесть': 1379,\n",
       " 'кожный': 674,\n",
       " 'покров': 1405,\n",
       " 'нагрубание': 931,\n",
       " 'пальпация': 1236,\n",
       " 'гиперемия': 348,\n",
       " 'для': 462,\n",
       " 'постановка': 1444,\n",
       " 'учёт': 2067,\n",
       " 'жёлтый': 523,\n",
       " 'зелёный': 579,\n",
       " 'цвет': 2119,\n",
       " 'прозрачный': 1548,\n",
       " 'количество': 683,\n",
       " 'близкий': 169,\n",
       " 'расстояние': 1631,\n",
       " 'инфильтрат': 613,\n",
       " 'отечь': 1190,\n",
       " 'надбровный': 936,\n",
       " 'дуга': 483,\n",
       " 'ухудшение': 2059,\n",
       " 'концентрация': 704,\n",
       " 'внимание': 263,\n",
       " 'текущий': 1923,\n",
       " 'событие': 1794,\n",
       " 'звон': 572,\n",
       " 'бессоница': 163,\n",
       " 'перед': 1264,\n",
       " 'операция': 1144,\n",
       " 'повод': 1339,\n",
       " 'предьявлять': 1489,\n",
       " 'субфебрильный': 1888,\n",
       " 'голеностопный': 369,\n",
       " 'затылок': 567,\n",
       " 'конс': 697,\n",
       " 'объём': 1113,\n",
       " 'отсутствие': 1212,\n",
       " 'брак': 194,\n",
       " 'зубной': 586,\n",
       " 'камень': 642,\n",
       " 'кровоточивость': 740,\n",
       " 'десна': 429,\n",
       " 'кариозный': 647,\n",
       " 'сладкое': 1771,\n",
       " 'холодное': 2109,\n",
       " 'фронтальный': 2095,\n",
       " 'зуб': 585,\n",
       " 'верхний': 230,\n",
       " 'челюсть': 2136,\n",
       " 'новый': 1058,\n",
       " '150': 26,\n",
       " 'днём': 466,\n",
       " '10': 11,\n",
       " '15': 25,\n",
       " 'покалывание': 1398,\n",
       " 'язык': 2213,\n",
       " 'системный': 1754,\n",
       " 'жидкий': 516,\n",
       " 'продуктивный': 1545,\n",
       " 'подошвенный': 1373,\n",
       " 'ти': 1938,\n",
       " 'лоб': 786,\n",
       " 'поворот': 1340,\n",
       " 'лопатка': 801,\n",
       " 'связать': 1710,\n",
       " 'почти': 1462,\n",
       " 'ягодичный': 2211,\n",
       " 'локтевой': 796,\n",
       " 'отросток': 1209,\n",
       " 'прямая': 1580,\n",
       " 'кишка': 663,\n",
       " 'кровь': 742,\n",
       " 'бумага': 200,\n",
       " 'регулярный': 1650,\n",
       " 'подреберье': 1374,\n",
       " 'эпигастрия': 2190,\n",
       " 'погрешность': 1352,\n",
       " 'неоформленный': 1009,\n",
       " 'слабо': 1766,\n",
       " '26': 57,\n",
       " '16г': 30,\n",
       " 'дальний': 409,\n",
       " 'зуд': 587,\n",
       " 'родинка': 1673,\n",
       " 'сутки': 1904,\n",
       " 'выпадение': 312,\n",
       " 'волос': 284,\n",
       " 'уменьшение': 2021,\n",
       " 'узел': 2007,\n",
       " 'подбородок': 1355,\n",
       " 'выспаний': 323,\n",
       " 'тазобедренный': 1915,\n",
       " 'светлый': 1699,\n",
       " 'свободный': 1705,\n",
       " 'работоспособность': 1598,\n",
       " 'хороший': 2110,\n",
       " 'постоянный': 1448,\n",
       " 'хронический': 2116,\n",
       " 'летучий': 771,\n",
       " 'бл': 168,\n",
       " 'ваха': 210,\n",
       " 'учащение': 2063,\n",
       " 'рецидивировать': 1666,\n",
       " 'корочка': 715,\n",
       " 'покачивание': 1400,\n",
       " 'предплечье': 1485,\n",
       " 'перхоть': 1302,\n",
       " 'прыщ': 1579,\n",
       " 'усидивающийся': 2040,\n",
       " 'статический': 1855,\n",
       " 'щитовидный': 2171,\n",
       " 'железа': 509,\n",
       " 'вялость': 331,\n",
       " 'голень': 370,\n",
       " 'сонливость': 1804,\n",
       " 'жажда': 498,\n",
       " 'уха': 2056,\n",
       " 'беспокойство': 162,\n",
       " 'направить': 957,\n",
       " 'дерматолог': 428,\n",
       " 'наблюдаться': 927,\n",
       " 'миома': 882,\n",
       " 'матка': 834,\n",
       " 'друг': 481,\n",
       " 'лпу': 804,\n",
       " 'нервный': 1020,\n",
       " 'перенапряжение': 1271,\n",
       " 'желудок': 512,\n",
       " 'сочленение': 1822,\n",
       " 'заложенносить': 545,\n",
       " 'тахикардия': 1920,\n",
       " 'одышка': 1126,\n",
       " 'пациентка': 1256,\n",
       " 'простреливать': 1558,\n",
       " 'копчик': 709,\n",
       " 'периорбитальный': 1300,\n",
       " 'перидоический': 1290,\n",
       " 'плечевой': 1323,\n",
       " 'отёчность': 1220,\n",
       " 'изменение': 595,\n",
       " 'ногтевой': 1061,\n",
       " 'пластина': 1320,\n",
       " 'подмышечный': 1366,\n",
       " 'впадина': 290,\n",
       " 'несколько': 1028,\n",
       " 'внезапный': 260,\n",
       " 'диффузный': 456,\n",
       " 'эпизод': 2193,\n",
       " 'сознание': 1798,\n",
       " 'однако': 1122,\n",
       " 'менее': 852,\n",
       " 'увеличиться': 1992,\n",
       " 'подвижность': 1357,\n",
       " 'транспорт': 1957,\n",
       " 'смена': 1785,\n",
       " 'запрокидывание': 556,\n",
       " 'завершить': 531,\n",
       " 'курс': 756,\n",
       " 'медикоментозный': 839,\n",
       " 'терапия': 1934,\n",
       " 'исчезнуть': 630,\n",
       " 'дизурия': 439,\n",
       " 'поллакиурия': 1411,\n",
       " 'малое': 825,\n",
       " 'таз': 1914,\n",
       " 'уменьшиться': 2023,\n",
       " 'вдаль': 216,\n",
       " 'песок': 1304,\n",
       " 'стекание': 1858,\n",
       " 'стенка': 1861,\n",
       " 'глотка': 358,\n",
       " 'слезотечение': 1775,\n",
       " 'около': 1128,\n",
       " 'грудина': 393,\n",
       " 'проходить': 1570,\n",
       " 'два': 413,\n",
       " 'сторона': 1871,\n",
       " 'перемена': 1270,\n",
       " 'тренировка': 1965,\n",
       " 'протяжение': 1567,\n",
       " 'конечность': 695,\n",
       " 'давящий': 406,\n",
       " 'глазной': 355,\n",
       " 'яблоко': 2205,\n",
       " 'половина': 1414,\n",
       " 'двоение': 416,\n",
       " 'предмет': 1481,\n",
       " 'резь': 1661,\n",
       " 'визит': 243,\n",
       " 'предоперационный': 1483,\n",
       " 'терапевт': 1933,\n",
       " 'взятие': 239,\n",
       " 'контрольный': 703,\n",
       " 'прижигание': 1510,\n",
       " 'подташнивание': 1375,\n",
       " 'снизить': 1790,\n",
       " 'покалывать': 1399,\n",
       " 'промежность': 1553,\n",
       " 'варикозный': 209,\n",
       " 'расширение': 1638,\n",
       " 'вено': 224,\n",
       " 'наш': 982,\n",
       " 'лучезапястный': 806,\n",
       " 'гнойный': 364,\n",
       " 'менстраница': 854,\n",
       " 'учащенность': 2064,\n",
       " 'ослабление': 1163,\n",
       " 'эрекция': 2197,\n",
       " 'что': 2146,\n",
       " 'нерв': 1019,\n",
       " 'наружное': 964,\n",
       " 'орган': 1158,\n",
       " '1раз': 40,\n",
       " 'двукратный': 417,\n",
       " 'блуждать': 172,\n",
       " 'весь': 233,\n",
       " 'горечь': 384,\n",
       " 'ротовой': 1678,\n",
       " 'утренний': 2053,\n",
       " 'часы': 2134,\n",
       " 'густой': 404,\n",
       " 'носоглотка': 1075,\n",
       " 'погода': 1351,\n",
       " 'перелом': 1269,\n",
       " 'послеоперационный': 1443,\n",
       " 'рана': 1618,\n",
       " 'чёткий': 2153,\n",
       " 'связь': 1712,\n",
       " 'различный': 1611,\n",
       " 'спин': 1829,\n",
       " '170': 32,\n",
       " 'максимально': 821,\n",
       " 'мл': 884,\n",
       " 'купирование': 750,\n",
       " 'подёргивание': 1382,\n",
       " 'процедура': 1572,\n",
       " 'определение': 1150,\n",
       " 'над': 934,\n",
       " 'сосок': 1809,\n",
       " 'нормальный': 1069,\n",
       " 'преимущественно': 1493,\n",
       " 'голодный': 379,\n",
       " 'чувствительность': 2147,\n",
       " 'заболеваемость': 526,\n",
       " 'простуда': 1559,\n",
       " 'респираторный': 1665,\n",
       " 'инфекция': 612,\n",
       " 'осложнение': 1164,\n",
       " 'потребность': 1455,\n",
       " 'переход': 1286,\n",
       " '60': 88,\n",
       " 'послабление': 1439,\n",
       " 'анальный': 123,\n",
       " 'неинтенсивный': 998,\n",
       " 'единичный': 492,\n",
       " 'императивный': 605,\n",
       " 'позыв': 1395,\n",
       " 'преходящий': 1502,\n",
       " 'наружный': 965,\n",
       " 'поп': 1431,\n",
       " 'под': 1353,\n",
       " 'гнойничковый': 363,\n",
       " 'загноение': 535,\n",
       " 'воспаление': 288,\n",
       " 'но': 1055,\n",
       " 'между': 841,\n",
       " 'колющий': 686,\n",
       " 'переднебоков': 1265,\n",
       " 'конец': 694,\n",
       " 'рабочий': 1599,\n",
       " 'управление': 2033,\n",
       " 'автомобиль': 105,\n",
       " 'эпизодически': 2194,\n",
       " 'удушье': 2003,\n",
       " 'плаксивость': 1314,\n",
       " 'передний': 1266,\n",
       " 'отсутствовать': 1213,\n",
       " 'лёгкое': 810,\n",
       " 'вправо': 293,\n",
       " 'охриплость': 1223,\n",
       " 'вокруг': 282,\n",
       " 'губа': 402,\n",
       " 'мочеипускание': 901,\n",
       " 'адаптировать': 107,\n",
       " 'повышеный': 1350,\n",
       " 'середина': 1734,\n",
       " 'щека': 2167,\n",
       " 'угол': 1993,\n",
       " 'ii': 98,\n",
       " 'несмотря': 1029,\n",
       " 'продолжать': 1541,\n",
       " 'немотивированный': 1005,\n",
       " 'чихание': 2142,\n",
       " 'яичко': 2214,\n",
       " 'сидение': 1741,\n",
       " 'надплечий': 941,\n",
       " 'хгч': 2101,\n",
       " '08': 8,\n",
       " '2016г': 48,\n",
       " 'мёд': 926,\n",
       " 'желтоватый': 511,\n",
       " 'практически': 1478,\n",
       " 'возобновление': 280,\n",
       " 'они': 1139,\n",
       " 'острота': 1178,\n",
       " 'масса': 831,\n",
       " 'стабильный': 1851,\n",
       " 'спорт': 1834,\n",
       " 'питание': 1307,\n",
       " 'мошонка': 910,\n",
       " 'тревожность': 1962,\n",
       " 'жара': 503,\n",
       " 'или': 601,\n",
       " 'холод': 2108,\n",
       " 'оценивать': 1225,\n",
       " 'озноб': 1127,\n",
       " 'пришлый': 1529,\n",
       " 'начать': 979,\n",
       " 'познабливание': 1390,\n",
       " 'размытость': 1614,\n",
       " 'мушка': 919,\n",
       " 'напряжение': 959,\n",
       " 'проводиться': 1537,\n",
       " 'бесплатный': 159,\n",
       " 'выписка': 314,\n",
       " 'который': 720,\n",
       " 'диагноз': 434,\n",
       " 'сантиметр': 1693,\n",
       " 'минимальный': 880,\n",
       " 'стрелять': 1876,\n",
       " 'рост': 1675,\n",
       " 'новообразование': 1057,\n",
       " 'желание': 508,\n",
       " 'вмс': 257,\n",
       " '4с': 84,\n",
       " 'кресцов': 733,\n",
       " 'напор': 956,\n",
       " 'струить': 1879,\n",
       " 'достаточный': 475,\n",
       " 'быть': 206,\n",
       " 'однократный': 1124,\n",
       " 'пройти': 1549,\n",
       " 'недержание': 991,\n",
       " 'мочить': 905,\n",
       " 'биохимический': 167,\n",
       " 'предел': 1480,\n",
       " 'усиление': 2041,\n",
       " 'обострение': 1101,\n",
       " 'бронхит': 196,\n",
       " 'перебой': 1261,\n",
       " 'сердце': 1732,\n",
       " 'дёргать': 490,\n",
       " 'бессонница': 164,\n",
       " 'низкий': 1049,\n",
       " 'перистальтика': 1301,\n",
       " 'обычный': 1116,\n",
       " 'патологический': 1249,\n",
       " 'метеоризм': 867,\n",
       " 'сидеть': 1742,\n",
       " 'мазаться': 814,\n",
       " 'сукровичный': 1895,\n",
       " 'акт': 109,\n",
       " 'более': 178,\n",
       " 'сдача': 1720,\n",
       " 'лёгкий': 809,\n",
       " 'пульсация': 1587,\n",
       " 'неуверенность': 1034,\n",
       " 'себя': 1722,\n",
       " 'парестезия': 1246,\n",
       " 'локоть': 795,\n",
       " 'приступообразный': 1525,\n",
       " 'щемить': 2170,\n",
       " 'подъём': 1380,\n",
       " 'лодыжка': 791,\n",
       " 'слух': 1781,\n",
       " 'макс': 820,\n",
       " '5с': 87,\n",
       " 'эмоциональный': 2180,\n",
       " 'лабильность': 758,\n",
       " 'субфебрилитет': 1887,\n",
       " 'светобоязнь': 1700,\n",
       " 'страх': 1875,\n",
       " 'обложенность': 1096,\n",
       " 'затяжной': 569,\n",
       " 'инородный': 608,\n",
       " 'мц': 921,\n",
       " 'затруднить': 563,\n",
       " 'порция': 1435,\n",
       " '1п': 39,\n",
       " 'нормализоваться': 1068,\n",
       " 'особенность': 1171,\n",
       " '14': 22,\n",
       " 'полный': 1413,\n",
       " 'здоровье': 577,\n",
       " 'появиться': 1465,\n",
       " 'понос': 1430,\n",
       " 'принимать': 1517,\n",
       " 'эффект': 2201,\n",
       " 'невозможность': 985,\n",
       " 'похуделый': 1459,\n",
       " 'диетотерапия': 438,\n",
       " 'обращение': 1106,\n",
       " 'сметанообразный': 1787,\n",
       " 'наличный': 952,\n",
       " 'расчёт': 1637,\n",
       " 'висок': 247,\n",
       " 'шум': 2165,\n",
       " 'дважды': 414,\n",
       " 'перенести': 1272,\n",
       " 'ангина': 125,\n",
       " 'обследоваться': 1110,\n",
       " 'лор': 803,\n",
       " 'планировать': 1317,\n",
       " 'данный': 411,\n",
       " 'ом': 1134,\n",
       " 'бег': 144,\n",
       " 'минута': 881,\n",
       " 'отведение': 1181,\n",
       " 'нерегулярный': 1022,\n",
       " 'позвончоника': 1388,\n",
       " 'купироваться': 752,\n",
       " 'появляться': 1467,\n",
       " 'засыпание': 559,\n",
       " 'существенный': 1910,\n",
       " 'пупок': 1589,\n",
       " 'отмена': 1198,\n",
       " 'препарат': 1498,\n",
       " 'еда': 491,\n",
       " 'час': 2128,\n",
       " 'нестабильный': 1032,\n",
       " 'очень': 1227,\n",
       " 'оставаться': 1172,\n",
       " 'носить': 1072,\n",
       " 'компрессионный': 691,\n",
       " 'прокалывать': 1550,\n",
       " 'застревание': 558,\n",
       " 'горячее': 387,\n",
       " 'пяточный': 1595,\n",
       " 'аллергия': 118,\n",
       " 'вино': 245,\n",
       " 'значительно': 580,\n",
       " 'гинеколог': 346,\n",
       " 'мурашка': 916,\n",
       " 'вид': 240,\n",
       " 'режущий': 1655,\n",
       " 'поднятие': 1368,\n",
       " 'вверх': 214,\n",
       " 'расплывчатый': 1626,\n",
       " 'вечерний': 235,\n",
       " 'схваткообразный': 1911,\n",
       " 'фланк': 2086,\n",
       " '11': 14,\n",
       " 'ребро': 1645,\n",
       " 'посещение': 1438,\n",
       " 'кале': 641,\n",
       " 'опоясывать': 1149,\n",
       " 'непродолжительный': 1016,\n",
       " 'период': 1291,\n",
       " 'сжимать': 1739,\n",
       " 'причина': 1528,\n",
       " 'переодический': 1276,\n",
       " 'кс': 749,\n",
       " 'копчиковый': 710,\n",
       " 'позовночник': 1393,\n",
       " 'улучшиться': 2019,\n",
       " 'зябкость': 589,\n",
       " 'ночь': 1079,\n",
       " 'низ': 1048,\n",
       " 'фактор': 2070,\n",
       " 'венозный': 225,\n",
       " 'рисунок': 1670,\n",
       " 'вялый': 332,\n",
       " 'струя': 1880,\n",
       " 'ночной': 1078,\n",
       " 'ареола': 134,\n",
       " 'сосковый': 1808,\n",
       " 'мочеиспускательный': 904,\n",
       " 'канал': 643,\n",
       " 'жгучий': 505,\n",
       " 'сумеречный': 1897,\n",
       " 'коричневый': 712,\n",
       " 'лоно': 800,\n",
       " 'накануне': 948,\n",
       " 'вечером': 236,\n",
       " 'иметь': 602,\n",
       " 'место': 862,\n",
       " '145': 24,\n",
       " '95': 97,\n",
       " 'повыситься': 1346,\n",
       " 'шкала': 2162,\n",
       " 'распирать': 1624,\n",
       " 'заглазничный': 534,\n",
       " 'выраженность': 319,\n",
       " 'кровотечение': 739,\n",
       " 'гистология': 352,\n",
       " 'грыжевый': 401,\n",
       " 'выпячивание': 318,\n",
       " 'тот': 1949,\n",
       " 'же': 506,\n",
       " 'эпигатсрия': 2191,\n",
       " 'урчание': 2039,\n",
       " 'анальгетик': 122,\n",
       " 'периодичёкий': 1298,\n",
       " 'нервозность': 1021,\n",
       " 'депрессивный': 426,\n",
       " 'массаж': 832,\n",
       " 'простата': 1555,\n",
       " 'проблема': 1532,\n",
       " 'пульсировать': 1588,\n",
       " 'динамический': 443,\n",
       " 'наступление': 972,\n",
       " 'жизнь': 518,\n",
       " 'применение': 1514,\n",
       " 'средство': 1844,\n",
       " 'контрацепция': 701,\n",
       " 'сохранный': 1818,\n",
       " 'лимфатический': 776,\n",
       " 'межлопаточный': 842,\n",
       " 'так': 1916,\n",
       " 'отдавать': 1183,\n",
       " 'корпус': 716,\n",
       " 'кларитромицин': 664,\n",
       " 'аллергический': 117,\n",
       " 'сыпь': 1913,\n",
       " 'беседа': 157,\n",
       " 'предоставить': 1484,\n",
       " 'позной': 1391,\n",
       " 'чёрный': 2152,\n",
       " 'плавать': 1313,\n",
       " 'точка': 1951,\n",
       " 'сверкание': 1696,\n",
       " 'молния': 893,\n",
       " 'необходимость': 1007,\n",
       " 'частота': 2131,\n",
       " 'обить': 1092,\n",
       " 'шоп': 2164,\n",
       " 'объесть': 1112,\n",
       " '200': 43,\n",
       " '20': 42,\n",
       " 'декабрь': 422,\n",
       " 'возникнуть': 278,\n",
       " 'мрт': 912,\n",
       " '01': 1,\n",
       " '2016': 47,\n",
       " 'внутренний': 265,\n",
       " 'подошва': 1372,\n",
       " 'фациальный': 2073,\n",
       " 'герпес': 343,\n",
       " 'кола': 676,\n",
       " 'слюна': 1783,\n",
       " 'воротников': 287,\n",
       " 'зона': 582,\n",
       " 'кратковременный': 730,\n",
       " 'опор': 1146,\n",
       " 'этот': 2200,\n",
       " 'подколенный': 1364,\n",
       " 'анус': 129,\n",
       " 'пазуха': 1234,\n",
       " 'кретцовый': 735,\n",
       " 'мышечный': 922,\n",
       " 'воспалительный': 289,\n",
       " 'недомогание': 992,\n",
       " 'межменструальный': 843,\n",
       " 'градус': 392,\n",
       " 'апатия': 130,\n",
       " 'кость': 718,\n",
       " 'судорога': 1893,\n",
       " 'икроножный': 600,\n",
       " 'саднение': 1686,\n",
       " 'вязкий': 330,\n",
       " 'комок': 689,\n",
       " 'открывание': 1194,\n",
       " 'фото': 2094,\n",
       " 'фонофобия': 2091,\n",
       " 'темп': 1929,\n",
       " '1гр': 38,\n",
       " 'творожистый': 1921,\n",
       " ...}"
      ]
     },
     "execution_count": 38,
     "metadata": {},
     "output_type": "execute_result"
    }
   ],
   "source": [
    "pipe_symptom.named_steps[\"tfidf\"].vocabulary_"
   ]
  },
  {
   "cell_type": "markdown",
   "metadata": {},
   "source": [
    "## Клиника"
   ]
  },
  {
   "cell_type": "code",
   "execution_count": 39,
   "metadata": {},
   "outputs": [
    {
     "data": {
      "text/plain": [
       "3     34456\n",
       "6      5526\n",
       "5      5408\n",
       "2      3130\n",
       "15      159\n",
       "19        2\n",
       "Name: Клиника, dtype: int64"
      ]
     },
     "execution_count": 39,
     "metadata": {},
     "output_type": "execute_result"
    }
   ],
   "source": [
    "X[\"Клиника\"].value_counts()"
   ]
  },
  {
   "cell_type": "code",
   "execution_count": 40,
   "metadata": {
    "collapsed": true
   },
   "outputs": [],
   "source": [
    "from sklearn.preprocessing import OneHotEncoder"
   ]
  },
  {
   "cell_type": "code",
   "execution_count": 41,
   "metadata": {
    "collapsed": true
   },
   "outputs": [],
   "source": [
    "pipe_clinic = Pipeline([\n",
    "    ('select', ColumnSelector([\"Клиника\"])),\n",
    "    ('ohe', OneHotEncoder(sparse=False, categories='auto', handle_unknown=\"ignore\")),\n",
    "])"
   ]
  },
  {
   "cell_type": "code",
   "execution_count": 42,
   "metadata": {
    "collapsed": true
   },
   "outputs": [],
   "source": [
    "X_clinic = pipe_clinic.fit_transform(X)"
   ]
  },
  {
   "cell_type": "code",
   "execution_count": 43,
   "metadata": {},
   "outputs": [
    {
     "data": {
      "text/plain": [
       "(48681, 6)"
      ]
     },
     "execution_count": 43,
     "metadata": {},
     "output_type": "execute_result"
    }
   ],
   "source": [
    "X_clinic.shape"
   ]
  },
  {
   "cell_type": "code",
   "execution_count": 44,
   "metadata": {},
   "outputs": [
    {
     "data": {
      "text/plain": [
       "array([[0., 0., 1., 0., 0., 0.],\n",
       "       [0., 1., 0., 0., 0., 0.],\n",
       "       [0., 0., 0., 1., 0., 0.],\n",
       "       ...,\n",
       "       [0., 1., 0., 0., 0., 0.],\n",
       "       [0., 1., 0., 0., 0., 0.],\n",
       "       [0., 1., 0., 0., 0., 0.]])"
      ]
     },
     "execution_count": 44,
     "metadata": {},
     "output_type": "execute_result"
    }
   ],
   "source": [
    "X_clinic"
   ]
  },
  {
   "cell_type": "markdown",
   "metadata": {},
   "source": [
    "## Пол"
   ]
  },
  {
   "cell_type": "code",
   "execution_count": 45,
   "metadata": {},
   "outputs": [
    {
     "data": {
      "text/plain": [
       "2    33751\n",
       "1    14930\n",
       "Name: Пол, dtype: int64"
      ]
     },
     "execution_count": 45,
     "metadata": {},
     "output_type": "execute_result"
    }
   ],
   "source": [
    "X[\"Пол\"].value_counts()"
   ]
  },
  {
   "cell_type": "code",
   "execution_count": 46,
   "metadata": {
    "collapsed": true
   },
   "outputs": [],
   "source": [
    "from sklearn.preprocessing import OneHotEncoder"
   ]
  },
  {
   "cell_type": "code",
   "execution_count": 47,
   "metadata": {
    "collapsed": true
   },
   "outputs": [],
   "source": [
    "pipe_sex = Pipeline([\n",
    "    ('select', ColumnSelector([\"Пол\"])),\n",
    "    ('ohe', OneHotEncoder(sparse=False, categories='auto', handle_unknown=\"ignore\")),\n",
    "])"
   ]
  },
  {
   "cell_type": "code",
   "execution_count": 48,
   "metadata": {
    "collapsed": true
   },
   "outputs": [],
   "source": [
    "X_sex = pipe_sex.fit_transform(X)"
   ]
  },
  {
   "cell_type": "code",
   "execution_count": 49,
   "metadata": {},
   "outputs": [
    {
     "data": {
      "text/plain": [
       "(48681, 2)"
      ]
     },
     "execution_count": 49,
     "metadata": {},
     "output_type": "execute_result"
    }
   ],
   "source": [
    "X_sex.shape"
   ]
  },
  {
   "cell_type": "code",
   "execution_count": 50,
   "metadata": {},
   "outputs": [
    {
     "data": {
      "text/plain": [
       "array([[0., 1.],\n",
       "       [0., 1.],\n",
       "       [0., 1.],\n",
       "       ...,\n",
       "       [0., 1.],\n",
       "       [0., 1.],\n",
       "       [0., 1.]])"
      ]
     },
     "execution_count": 50,
     "metadata": {},
     "output_type": "execute_result"
    }
   ],
   "source": [
    "X_sex"
   ]
  },
  {
   "cell_type": "markdown",
   "metadata": {},
   "source": [
    "## Возраст"
   ]
  },
  {
   "cell_type": "code",
   "execution_count": 51,
   "metadata": {
    "scrolled": true
   },
   "outputs": [
    {
     "data": {
      "text/plain": [
       "<matplotlib.axes._subplots.AxesSubplot at 0x146028dc128>"
      ]
     },
     "execution_count": 51,
     "metadata": {},
     "output_type": "execute_result"
    },
    {
     "data": {
      "image/png": "[encoded data removed]",
      "text/plain": [
       "<Figure size 432x288 with 1 Axes>"
      ]
     },
     "metadata": {},
     "output_type": "display_data"
    }
   ],
   "source": [
    "X[\"Возраст\"].clip(0, 100).hist()"
   ]
  },
  {
   "cell_type": "code",
   "execution_count": 52,
   "metadata": {
    "collapsed": true
   },
   "outputs": [],
   "source": [
    "class ClipTransformer(BaseEstimator, TransformerMixin):\n",
    "    def __init__(self):\n",
    "        pass\n",
    "        \n",
    "    def fit(self, X, y=None):\n",
    "        return self\n",
    "    \n",
    "    def transform(self, X, y=None):\n",
    "        return np.clip(X, 0, 100)"
   ]
  },
  {
   "cell_type": "code",
   "execution_count": 53,
   "metadata": {
    "collapsed": true
   },
   "outputs": [],
   "source": [
    "from sklearn.preprocessing import MinMaxScaler"
   ]
  },
  {
   "cell_type": "code",
   "execution_count": 54,
   "metadata": {
    "collapsed": true
   },
   "outputs": [],
   "source": [
    "pipe_age = Pipeline([\n",
    "    ('select', ColumnSelector([\"Возраст\"])),\n",
    "    ('clip', ClipTransformer()),\n",
    "    ('norm', MinMaxScaler()),\n",
    "])"
   ]
  },
  {
   "cell_type": "code",
   "execution_count": 55,
   "metadata": {},
   "outputs": [
    {
     "name": "stderr",
     "output_type": "stream",
     "text": [
      "C:\\ProgramData\\Anaconda3\\lib\\site-packages\\sklearn\\utils\\validation.py:595: DataConversionWarning: Data with input dtype int64 was converted to float64 by MinMaxScaler.\n",
      "  warnings.warn(msg, DataConversionWarning)\n"
     ]
    }
   ],
   "source": [
    "X_age = pipe_age.fit_transform(X)"
   ]
  },
  {
   "cell_type": "code",
   "execution_count": 56,
   "metadata": {},
   "outputs": [
    {
     "data": {
      "text/plain": [
       "(48681, 1)"
      ]
     },
     "execution_count": 56,
     "metadata": {},
     "output_type": "execute_result"
    }
   ],
   "source": [
    "X_age.shape"
   ]
  },
  {
   "cell_type": "code",
   "execution_count": 57,
   "metadata": {},
   "outputs": [
    {
     "data": {
      "text/plain": [
       "array([[0.53535354],\n",
       "       [0.31313131],\n",
       "       [0.71717172],\n",
       "       ...,\n",
       "       [0.67676768],\n",
       "       [0.29292929],\n",
       "       [0.24242424]])"
      ]
     },
     "execution_count": 57,
     "metadata": {},
     "output_type": "execute_result"
    }
   ],
   "source": [
    "X_age"
   ]
  },
  {
   "cell_type": "markdown",
   "metadata": {},
   "source": [
    "## Источник_рекламы"
   ]
  },
  {
   "cell_type": "code",
   "execution_count": 58,
   "metadata": {
    "scrolled": true
   },
   "outputs": [
    {
     "data": {
      "text/plain": [
       "Другое                                29036\n",
       "Интернет                               8582\n",
       "Рекомендации знакомых                  7054\n",
       "Зарегистрировался на сайте             1262\n",
       "Живет-работает рядом                    844\n",
       "Страховая                               422\n",
       "Щиты,уличная реклама                    389\n",
       "Рекомендации к доктору                  317\n",
       "Кутузовский                             156\n",
       "Гефест                                  117\n",
       "Врач Бегма Андрей Николаевич             49\n",
       "Листовки                                 33\n",
       "Кунцево                                  30\n",
       "не назвала                               23\n",
       "дельта                                   23\n",
       "ООО Дельта                               21\n",
       "ДМС                                      21\n",
       "Врач Суван-оол Марина Анатольевна        19\n",
       "Уклеина Наталья Григорьевна              15\n",
       "Сайт ИП Веревошников                     14\n",
       "МедЭлит                                  13\n",
       "Радио                                    13\n",
       "Врач Чабан Ольга Васильевна              11\n",
       "Лосиный остров ,Беляево                   9\n",
       "дск-1                                     8\n",
       "добромед                                  8\n",
       "алиханова                                 8\n",
       "сл                                        8\n",
       "медоблако                                 7\n",
       "Врач Кулик Наталья Леонидовна             7\n",
       "                                      ...  \n",
       "40 П-КА                                   1\n",
       "поликлиника.ру                            1\n",
       "Бегма А.Н.                                1\n",
       "Врач Хандешин Сергей Иванович             1\n",
       "Врач Сёмин Евгений Владимирович           1\n",
       "Врач Соколов Дмитрий Александрович        1\n",
       "пармита                                   1\n",
       "Гемостаз                                  1\n",
       "Врач Мезин Андрей Николаевич              1\n",
       "оао медецина                              1\n",
       "миленин                                   1\n",
       "Врач Соболева Мария Михайловна            1\n",
       "ордиянц                                   1\n",
       "Веллнес 365                               1\n",
       "Абдулаев Гусен Магомедович                1\n",
       "кардиологический центр                    1\n",
       "Врач Хряков Евгений Владимирович          1\n",
       "мед лайн сервис                           1\n",
       "смклиник                                  1\n",
       "скорая помощь                             1\n",
       "поликлиника 47                            1\n",
       "Врач Егорчев Алексей Юрьевич              1\n",
       "медДиагностпроф                           1\n",
       "Врач Трунев Евгений Валериевич            1\n",
       "Дягилев                                   1\n",
       "моц                                       1\n",
       "Врач Галкин Петр Всеволодович             1\n",
       "Руденко А.А,                              1\n",
       "Врач Абрамова Ирина Петровна              1\n",
       "медДиагностика.проф                       1\n",
       "Name: Источник_рекламы, Length: 114, dtype: int64"
      ]
     },
     "execution_count": 58,
     "metadata": {},
     "output_type": "execute_result"
    }
   ],
   "source": [
    "X[\"Источник_рекламы\"].value_counts()"
   ]
  },
  {
   "cell_type": "code",
   "execution_count": 59,
   "metadata": {
    "collapsed": true
   },
   "outputs": [],
   "source": [
    "from sklearn.preprocessing import OneHotEncoder"
   ]
  },
  {
   "cell_type": "code",
   "execution_count": 60,
   "metadata": {
    "collapsed": true
   },
   "outputs": [],
   "source": [
    "pipe_adv = Pipeline([\n",
    "    ('select', ColumnSelector([\"Источник_рекламы\"])),\n",
    "    ('ohe', OneHotEncoder(sparse=False, handle_unknown=\"ignore\")),\n",
    "])"
   ]
  },
  {
   "cell_type": "code",
   "execution_count": 61,
   "metadata": {
    "collapsed": true
   },
   "outputs": [],
   "source": [
    "X_adv = pipe_adv.fit_transform(X)"
   ]
  },
  {
   "cell_type": "code",
   "execution_count": 62,
   "metadata": {},
   "outputs": [
    {
     "data": {
      "text/plain": [
       "array([[0., 0., 0., ..., 0., 0., 0.],\n",
       "       [0., 0., 0., ..., 0., 0., 0.],\n",
       "       [0., 0., 0., ..., 0., 0., 0.],\n",
       "       ...,\n",
       "       [0., 0., 0., ..., 0., 0., 0.],\n",
       "       [0., 0., 0., ..., 0., 0., 0.],\n",
       "       [0., 0., 0., ..., 0., 0., 0.]])"
      ]
     },
     "execution_count": 62,
     "metadata": {},
     "output_type": "execute_result"
    }
   ],
   "source": [
    "X_adv"
   ]
  },
  {
   "cell_type": "code",
   "execution_count": 63,
   "metadata": {},
   "outputs": [
    {
     "data": {
      "text/plain": [
       "(48681, 114)"
      ]
     },
     "execution_count": 63,
     "metadata": {},
     "output_type": "execute_result"
    }
   ],
   "source": [
    "X_adv.shape"
   ]
  },
  {
   "cell_type": "code",
   "execution_count": null,
   "metadata": {
    "collapsed": true
   },
   "outputs": [],
   "source": []
  },
  {
   "cell_type": "code",
   "execution_count": null,
   "metadata": {
    "collapsed": true
   },
   "outputs": [],
   "source": []
  },
  {
   "cell_type": "code",
   "execution_count": null,
   "metadata": {
    "collapsed": true
   },
   "outputs": [],
   "source": []
  },
  {
   "cell_type": "code",
   "execution_count": null,
   "metadata": {
    "collapsed": true
   },
   "outputs": [],
   "source": []
  },
  {
   "cell_type": "markdown",
   "metadata": {
    "collapsed": true
   },
   "source": [
    "# NN"
   ]
  },
  {
   "cell_type": "code",
   "execution_count": 64,
   "metadata": {},
   "outputs": [
    {
     "name": "stderr",
     "output_type": "stream",
     "text": [
      "C:\\ProgramData\\Anaconda3\\lib\\site-packages\\h5py\\__init__.py:34: FutureWarning: Conversion of the second argument of issubdtype from `float` to `np.floating` is deprecated. In future, it will be treated as `np.float64 == np.dtype(float).type`.\n",
      "  from ._conv import register_converters as _register_converters\n",
      "Using TensorFlow backend.\n"
     ]
    }
   ],
   "source": [
    "import keras\n",
    "import keras.backend as K\n",
    "from keras import layers\n",
    "from keras import Model"
   ]
  },
  {
   "cell_type": "code",
   "execution_count": 65,
   "metadata": {
    "collapsed": true
   },
   "outputs": [],
   "source": [
    "from IPython.display import SVG\n",
    "from keras.utils.vis_utils import model_to_dot"
   ]
  },
  {
   "cell_type": "code",
   "execution_count": 66,
   "metadata": {},
   "outputs": [],
   "source": [
    "def get_model():\n",
    "    i_service = layers.Input(shape=(X_service.shape[1],), name=\"service\")\n",
    "    l_service = layers.Dense(32, activation='relu')(i_service)\n",
    "\n",
    "    i_clinic = layers.Input(shape=(X_clinic.shape[1],), name=\"clinic\")\n",
    "    l_clinic = layers.Dense(4, activation=\"relu\")(i_clinic)\n",
    "\n",
    "    i_adv = layers.Input(shape=(X_adv.shape[1],), name=\"adv\")\n",
    "    l_adv = layers.Dense(32, activation=\"relu\")(i_adv)\n",
    "\n",
    "    i_sex = layers.Input(shape=(X_sex.shape[1],), name=\"sex\")\n",
    "    l_sex = layers.Dense(4, activation=\"relu\")(i_sex)\n",
    "\n",
    "    i_age = layers.Input(shape=(X_age.shape[1],), name=\"age\")\n",
    "    l_age = layers.Dense(16, activation=\"relu\")(i_age)\n",
    "\n",
    "    i_symptom = layers.Input(shape=(X_symptom.shape[1],), name=\"symptom\")\n",
    "    l_symptom = layers.Dense(128, activation=\"relu\")(i_symptom)\n",
    "\n",
    "    h_merge = layers.concatenate([l_service, l_clinic, l_adv, l_sex, l_age])\n",
    "    h_merge = layers.Dropout(0.2)(h_merge)\n",
    "    h_merge = layers.Dense(128, activation=\"relu\")(h_merge)\n",
    "\n",
    "    h_merge2 = layers.concatenate([h_merge, l_symptom])\n",
    "    h_merge2 = layers.Dropout(0.1)(h_merge2)\n",
    "    h_merge2 = layers.Dense(512, activation=\"relu\")(h_merge2)\n",
    "    h_merge2 = layers.Dropout(0.1)(h_merge2)\n",
    "\n",
    "    o_diagnosis = layers.Dense(1200, activation=\"softmax\")(h_merge2)\n",
    "\n",
    "    model = Model(inputs=[i_service, i_clinic, i_adv, i_sex, i_age, i_symptom], outputs=[o_diagnosis])\n",
    "    \n",
    "    model.compile(optimizer=keras.optimizers.adam(lr=0.0005, decay=0.0001),\n",
    "              metrics=[\"categorical_accuracy\"], loss=\"categorical_crossentropy\")\n",
    "    \n",
    "    return model"
   ]
  },
  {
   "cell_type": "code",
   "execution_count": 67,
   "metadata": {
    "collapsed": true
   },
   "outputs": [],
   "source": [
    "model = get_model()"
   ]
  },
  {
   "cell_type": "code",
   "execution_count": 68,
   "metadata": {},
   "outputs": [
    {
     "name": "stdout",
     "output_type": "stream",
     "text": [
      "__________________________________________________________________________________________________\n",
      "Layer (type)                    Output Shape         Param #     Connected to                     \n",
      "==================================================================================================\n",
      "service (InputLayer)            (None, 243)          0                                            \n",
      "__________________________________________________________________________________________________\n",
      "clinic (InputLayer)             (None, 6)            0                                            \n",
      "__________________________________________________________________________________________________\n",
      "adv (InputLayer)                (None, 114)          0                                            \n",
      "__________________________________________________________________________________________________\n",
      "sex (InputLayer)                (None, 2)            0                                            \n",
      "__________________________________________________________________________________________________\n",
      "age (InputLayer)                (None, 1)            0                                            \n",
      "__________________________________________________________________________________________________\n",
      "dense_1 (Dense)                 (None, 32)           7808        service[0][0]                    \n",
      "__________________________________________________________________________________________________\n",
      "dense_2 (Dense)                 (None, 4)            28          clinic[0][0]                     \n",
      "__________________________________________________________________________________________________\n",
      "dense_3 (Dense)                 (None, 32)           3680        adv[0][0]                        \n",
      "__________________________________________________________________________________________________\n",
      "dense_4 (Dense)                 (None, 4)            12          sex[0][0]                        \n",
      "__________________________________________________________________________________________________\n",
      "dense_5 (Dense)                 (None, 16)           32          age[0][0]                        \n",
      "__________________________________________________________________________________________________\n",
      "concatenate_1 (Concatenate)     (None, 88)           0           dense_1[0][0]                    \n",
      "                                                                 dense_2[0][0]                    \n",
      "                                                                 dense_3[0][0]                    \n",
      "                                                                 dense_4[0][0]                    \n",
      "                                                                 dense_5[0][0]                    \n",
      "__________________________________________________________________________________________________\n",
      "dropout_1 (Dropout)             (None, 88)           0           concatenate_1[0][0]              \n",
      "__________________________________________________________________________________________________\n",
      "symptom (InputLayer)            (None, 2219)         0                                            \n",
      "__________________________________________________________________________________________________\n",
      "dense_7 (Dense)                 (None, 128)          11392       dropout_1[0][0]                  \n",
      "__________________________________________________________________________________________________\n",
      "dense_6 (Dense)                 (None, 128)          284160      symptom[0][0]                    \n",
      "__________________________________________________________________________________________________\n",
      "concatenate_2 (Concatenate)     (None, 256)          0           dense_7[0][0]                    \n",
      "                                                                 dense_6[0][0]                    \n",
      "__________________________________________________________________________________________________\n",
      "dropout_2 (Dropout)             (None, 256)          0           concatenate_2[0][0]              \n",
      "__________________________________________________________________________________________________\n",
      "dense_8 (Dense)                 (None, 512)          131584      dropout_2[0][0]                  \n",
      "__________________________________________________________________________________________________\n",
      "dropout_3 (Dropout)             (None, 512)          0           dense_8[0][0]                    \n",
      "__________________________________________________________________________________________________\n",
      "dense_9 (Dense)                 (None, 1200)         615600      dropout_3[0][0]                  \n",
      "==================================================================================================\n",
      "Total params: 1,054,296\n",
      "Trainable params: 1,054,296\n",
      "Non-trainable params: 0\n",
      "__________________________________________________________________________________________________\n"
     ]
    }
   ],
   "source": [
    "model.summary()"
   ]
  },
  {
   "cell_type": "code",
   "execution_count": 69,
   "metadata": {},
   "outputs": [
    {
     "data": {
      "image/svg+xml": [
       "<svg height=\"802pt\" viewBox=\"0.00 0.00 1290.50 802.00\" width=\"1291pt\" xmlns=\"http://www.w3.org/2000/svg\" xmlns:xlink=\"http://www.w3.org/1999/xlink\">\n",
       "<g class=\"graph\" id=\"graph0\" transform=\"scale(1 1) rotate(0) translate(4 798)\">\n",
       "<title>G</title>\n",
       "<polygon fill=\"white\" points=\"-4,4 -4,-798 1286.5,-798 1286.5,4 -4,4\" stroke=\"none\"/>\n",
       "<!-- 1400359885736 -->\n",
       "<g class=\"node\" id=\"node1\"><title>1400359885736</title>\n",
       "<polygon fill=\"none\" points=\"0,-747.5 0,-793.5 262,-793.5 262,-747.5 0,-747.5\" stroke=\"black\"/>\n",
       "<text font-family=\"Times New Roman,serif\" font-size=\"14.00\" text-anchor=\"middle\" x=\"61.5\" y=\"-766.8\">service: InputLayer</text>\n",
       "<polyline fill=\"none\" points=\"123,-747.5 123,-793.5 \" stroke=\"black\"/>\n",
       "<text font-family=\"Times New Roman,serif\" font-size=\"14.00\" text-anchor=\"middle\" x=\"151\" y=\"-778.3\">input:</text>\n",
       "<polyline fill=\"none\" points=\"123,-770.5 179,-770.5 \" stroke=\"black\"/>\n",
       "<text font-family=\"Times New Roman,serif\" font-size=\"14.00\" text-anchor=\"middle\" x=\"151\" y=\"-755.3\">output:</text>\n",
       "<polyline fill=\"none\" points=\"179,-747.5 179,-793.5 \" stroke=\"black\"/>\n",
       "<text font-family=\"Times New Roman,serif\" font-size=\"14.00\" text-anchor=\"middle\" x=\"220.5\" y=\"-778.3\">(None, 243)</text>\n",
       "<polyline fill=\"none\" points=\"179,-770.5 262,-770.5 \" stroke=\"black\"/>\n",
       "<text font-family=\"Times New Roman,serif\" font-size=\"14.00\" text-anchor=\"middle\" x=\"220.5\" y=\"-755.3\">(None, 243)</text>\n",
       "</g>\n",
       "<!-- 1400360133464 -->\n",
       "<g class=\"node\" id=\"node6\"><title>1400360133464</title>\n",
       "<polygon fill=\"none\" points=\"17.5,-664.5 17.5,-710.5 260.5,-710.5 260.5,-664.5 17.5,-664.5\" stroke=\"black\"/>\n",
       "<text font-family=\"Times New Roman,serif\" font-size=\"14.00\" text-anchor=\"middle\" x=\"69.5\" y=\"-683.8\">dense_1: Dense</text>\n",
       "<polyline fill=\"none\" points=\"121.5,-664.5 121.5,-710.5 \" stroke=\"black\"/>\n",
       "<text font-family=\"Times New Roman,serif\" font-size=\"14.00\" text-anchor=\"middle\" x=\"149.5\" y=\"-695.3\">input:</text>\n",
       "<polyline fill=\"none\" points=\"121.5,-687.5 177.5,-687.5 \" stroke=\"black\"/>\n",
       "<text font-family=\"Times New Roman,serif\" font-size=\"14.00\" text-anchor=\"middle\" x=\"149.5\" y=\"-672.3\">output:</text>\n",
       "<polyline fill=\"none\" points=\"177.5,-664.5 177.5,-710.5 \" stroke=\"black\"/>\n",
       "<text font-family=\"Times New Roman,serif\" font-size=\"14.00\" text-anchor=\"middle\" x=\"219\" y=\"-695.3\">(None, 243)</text>\n",
       "<polyline fill=\"none\" points=\"177.5,-687.5 260.5,-687.5 \" stroke=\"black\"/>\n",
       "<text font-family=\"Times New Roman,serif\" font-size=\"14.00\" text-anchor=\"middle\" x=\"219\" y=\"-672.3\">(None, 32)</text>\n",
       "</g>\n",
       "<!-- 1400359885736&#45;&gt;1400360133464 -->\n",
       "<g class=\"edge\" id=\"edge1\"><title>1400359885736-&gt;1400360133464</title>\n",
       "<path d=\"M133.186,-747.366C133.997,-739.152 134.935,-729.658 135.817,-720.725\" fill=\"none\" stroke=\"black\"/>\n",
       "<polygon fill=\"black\" points=\"139.317,-720.902 136.817,-710.607 132.351,-720.214 139.317,-720.902\" stroke=\"black\"/>\n",
       "</g>\n",
       "<!-- 1400360134248 -->\n",
       "<g class=\"node\" id=\"node2\"><title>1400360134248</title>\n",
       "<polygon fill=\"none\" points=\"280.5,-747.5 280.5,-793.5 519.5,-793.5 519.5,-747.5 280.5,-747.5\" stroke=\"black\"/>\n",
       "<text font-family=\"Times New Roman,serif\" font-size=\"14.00\" text-anchor=\"middle\" x=\"337\" y=\"-766.8\">clinic: InputLayer</text>\n",
       "<polyline fill=\"none\" points=\"393.5,-747.5 393.5,-793.5 \" stroke=\"black\"/>\n",
       "<text font-family=\"Times New Roman,serif\" font-size=\"14.00\" text-anchor=\"middle\" x=\"421.5\" y=\"-778.3\">input:</text>\n",
       "<polyline fill=\"none\" points=\"393.5,-770.5 449.5,-770.5 \" stroke=\"black\"/>\n",
       "<text font-family=\"Times New Roman,serif\" font-size=\"14.00\" text-anchor=\"middle\" x=\"421.5\" y=\"-755.3\">output:</text>\n",
       "<polyline fill=\"none\" points=\"449.5,-747.5 449.5,-793.5 \" stroke=\"black\"/>\n",
       "<text font-family=\"Times New Roman,serif\" font-size=\"14.00\" text-anchor=\"middle\" x=\"484.5\" y=\"-778.3\">(None, 6)</text>\n",
       "<polyline fill=\"none\" points=\"449.5,-770.5 519.5,-770.5 \" stroke=\"black\"/>\n",
       "<text font-family=\"Times New Roman,serif\" font-size=\"14.00\" text-anchor=\"middle\" x=\"484.5\" y=\"-755.3\">(None, 6)</text>\n",
       "</g>\n",
       "<!-- 1400360133800 -->\n",
       "<g class=\"node\" id=\"node7\"><title>1400360133800</title>\n",
       "<polygon fill=\"none\" points=\"286,-664.5 286,-710.5 516,-710.5 516,-664.5 286,-664.5\" stroke=\"black\"/>\n",
       "<text font-family=\"Times New Roman,serif\" font-size=\"14.00\" text-anchor=\"middle\" x=\"338\" y=\"-683.8\">dense_2: Dense</text>\n",
       "<polyline fill=\"none\" points=\"390,-664.5 390,-710.5 \" stroke=\"black\"/>\n",
       "<text font-family=\"Times New Roman,serif\" font-size=\"14.00\" text-anchor=\"middle\" x=\"418\" y=\"-695.3\">input:</text>\n",
       "<polyline fill=\"none\" points=\"390,-687.5 446,-687.5 \" stroke=\"black\"/>\n",
       "<text font-family=\"Times New Roman,serif\" font-size=\"14.00\" text-anchor=\"middle\" x=\"418\" y=\"-672.3\">output:</text>\n",
       "<polyline fill=\"none\" points=\"446,-664.5 446,-710.5 \" stroke=\"black\"/>\n",
       "<text font-family=\"Times New Roman,serif\" font-size=\"14.00\" text-anchor=\"middle\" x=\"481\" y=\"-695.3\">(None, 6)</text>\n",
       "<polyline fill=\"none\" points=\"446,-687.5 516,-687.5 \" stroke=\"black\"/>\n",
       "<text font-family=\"Times New Roman,serif\" font-size=\"14.00\" text-anchor=\"middle\" x=\"481\" y=\"-672.3\">(None, 4)</text>\n",
       "</g>\n",
       "<!-- 1400360134248&#45;&gt;1400360133800 -->\n",
       "<g class=\"edge\" id=\"edge2\"><title>1400360134248-&gt;1400360133800</title>\n",
       "<path d=\"M400.273,-747.366C400.375,-739.152 400.492,-729.658 400.602,-720.725\" fill=\"none\" stroke=\"black\"/>\n",
       "<polygon fill=\"black\" points=\"404.103,-720.649 400.727,-710.607 397.104,-720.563 404.103,-720.649\" stroke=\"black\"/>\n",
       "</g>\n",
       "<!-- 1400360121792 -->\n",
       "<g class=\"node\" id=\"node3\"><title>1400360121792</title>\n",
       "<polygon fill=\"none\" points=\"537.5,-747.5 537.5,-793.5 780.5,-793.5 780.5,-747.5 537.5,-747.5\" stroke=\"black\"/>\n",
       "<text font-family=\"Times New Roman,serif\" font-size=\"14.00\" text-anchor=\"middle\" x=\"589.5\" y=\"-766.8\">adv: InputLayer</text>\n",
       "<polyline fill=\"none\" points=\"641.5,-747.5 641.5,-793.5 \" stroke=\"black\"/>\n",
       "<text font-family=\"Times New Roman,serif\" font-size=\"14.00\" text-anchor=\"middle\" x=\"669.5\" y=\"-778.3\">input:</text>\n",
       "<polyline fill=\"none\" points=\"641.5,-770.5 697.5,-770.5 \" stroke=\"black\"/>\n",
       "<text font-family=\"Times New Roman,serif\" font-size=\"14.00\" text-anchor=\"middle\" x=\"669.5\" y=\"-755.3\">output:</text>\n",
       "<polyline fill=\"none\" points=\"697.5,-747.5 697.5,-793.5 \" stroke=\"black\"/>\n",
       "<text font-family=\"Times New Roman,serif\" font-size=\"14.00\" text-anchor=\"middle\" x=\"739\" y=\"-778.3\">(None, 114)</text>\n",
       "<polyline fill=\"none\" points=\"697.5,-770.5 780.5,-770.5 \" stroke=\"black\"/>\n",
       "<text font-family=\"Times New Roman,serif\" font-size=\"14.00\" text-anchor=\"middle\" x=\"739\" y=\"-755.3\">(None, 114)</text>\n",
       "</g>\n",
       "<!-- 1400360123528 -->\n",
       "<g class=\"node\" id=\"node8\"><title>1400360123528</title>\n",
       "<polygon fill=\"none\" points=\"535.5,-664.5 535.5,-710.5 778.5,-710.5 778.5,-664.5 535.5,-664.5\" stroke=\"black\"/>\n",
       "<text font-family=\"Times New Roman,serif\" font-size=\"14.00\" text-anchor=\"middle\" x=\"587.5\" y=\"-683.8\">dense_3: Dense</text>\n",
       "<polyline fill=\"none\" points=\"639.5,-664.5 639.5,-710.5 \" stroke=\"black\"/>\n",
       "<text font-family=\"Times New Roman,serif\" font-size=\"14.00\" text-anchor=\"middle\" x=\"667.5\" y=\"-695.3\">input:</text>\n",
       "<polyline fill=\"none\" points=\"639.5,-687.5 695.5,-687.5 \" stroke=\"black\"/>\n",
       "<text font-family=\"Times New Roman,serif\" font-size=\"14.00\" text-anchor=\"middle\" x=\"667.5\" y=\"-672.3\">output:</text>\n",
       "<polyline fill=\"none\" points=\"695.5,-664.5 695.5,-710.5 \" stroke=\"black\"/>\n",
       "<text font-family=\"Times New Roman,serif\" font-size=\"14.00\" text-anchor=\"middle\" x=\"737\" y=\"-695.3\">(None, 114)</text>\n",
       "<polyline fill=\"none\" points=\"695.5,-687.5 778.5,-687.5 \" stroke=\"black\"/>\n",
       "<text font-family=\"Times New Roman,serif\" font-size=\"14.00\" text-anchor=\"middle\" x=\"737\" y=\"-672.3\">(None, 32)</text>\n",
       "</g>\n",
       "<!-- 1400360121792&#45;&gt;1400360123528 -->\n",
       "<g class=\"edge\" id=\"edge3\"><title>1400360121792-&gt;1400360123528</title>\n",
       "<path d=\"M658.453,-747.366C658.251,-739.152 658.016,-729.658 657.796,-720.725\" fill=\"none\" stroke=\"black\"/>\n",
       "<polygon fill=\"black\" points=\"661.292,-720.517 657.546,-710.607 654.294,-720.69 661.292,-720.517\" stroke=\"black\"/>\n",
       "</g>\n",
       "<!-- 1400360314752 -->\n",
       "<g class=\"node\" id=\"node4\"><title>1400360314752</title>\n",
       "<polygon fill=\"none\" points=\"798.5,-747.5 798.5,-793.5 1027.5,-793.5 1027.5,-747.5 798.5,-747.5\" stroke=\"black\"/>\n",
       "<text font-family=\"Times New Roman,serif\" font-size=\"14.00\" text-anchor=\"middle\" x=\"850\" y=\"-766.8\">sex: InputLayer</text>\n",
       "<polyline fill=\"none\" points=\"901.5,-747.5 901.5,-793.5 \" stroke=\"black\"/>\n",
       "<text font-family=\"Times New Roman,serif\" font-size=\"14.00\" text-anchor=\"middle\" x=\"929.5\" y=\"-778.3\">input:</text>\n",
       "<polyline fill=\"none\" points=\"901.5,-770.5 957.5,-770.5 \" stroke=\"black\"/>\n",
       "<text font-family=\"Times New Roman,serif\" font-size=\"14.00\" text-anchor=\"middle\" x=\"929.5\" y=\"-755.3\">output:</text>\n",
       "<polyline fill=\"none\" points=\"957.5,-747.5 957.5,-793.5 \" stroke=\"black\"/>\n",
       "<text font-family=\"Times New Roman,serif\" font-size=\"14.00\" text-anchor=\"middle\" x=\"992.5\" y=\"-778.3\">(None, 2)</text>\n",
       "<polyline fill=\"none\" points=\"957.5,-770.5 1027.5,-770.5 \" stroke=\"black\"/>\n",
       "<text font-family=\"Times New Roman,serif\" font-size=\"14.00\" text-anchor=\"middle\" x=\"992.5\" y=\"-755.3\">(None, 2)</text>\n",
       "</g>\n",
       "<!-- 1400360315872 -->\n",
       "<g class=\"node\" id=\"node9\"><title>1400360315872</title>\n",
       "<polygon fill=\"none\" points=\"797,-664.5 797,-710.5 1027,-710.5 1027,-664.5 797,-664.5\" stroke=\"black\"/>\n",
       "<text font-family=\"Times New Roman,serif\" font-size=\"14.00\" text-anchor=\"middle\" x=\"849\" y=\"-683.8\">dense_4: Dense</text>\n",
       "<polyline fill=\"none\" points=\"901,-664.5 901,-710.5 \" stroke=\"black\"/>\n",
       "<text font-family=\"Times New Roman,serif\" font-size=\"14.00\" text-anchor=\"middle\" x=\"929\" y=\"-695.3\">input:</text>\n",
       "<polyline fill=\"none\" points=\"901,-687.5 957,-687.5 \" stroke=\"black\"/>\n",
       "<text font-family=\"Times New Roman,serif\" font-size=\"14.00\" text-anchor=\"middle\" x=\"929\" y=\"-672.3\">output:</text>\n",
       "<polyline fill=\"none\" points=\"957,-664.5 957,-710.5 \" stroke=\"black\"/>\n",
       "<text font-family=\"Times New Roman,serif\" font-size=\"14.00\" text-anchor=\"middle\" x=\"992\" y=\"-695.3\">(None, 2)</text>\n",
       "<polyline fill=\"none\" points=\"957,-687.5 1027,-687.5 \" stroke=\"black\"/>\n",
       "<text font-family=\"Times New Roman,serif\" font-size=\"14.00\" text-anchor=\"middle\" x=\"992\" y=\"-672.3\">(None, 4)</text>\n",
       "</g>\n",
       "<!-- 1400360314752&#45;&gt;1400360315872 -->\n",
       "<g class=\"edge\" id=\"edge4\"><title>1400360314752-&gt;1400360315872</title>\n",
       "<path d=\"M912.727,-747.366C912.625,-739.152 912.508,-729.658 912.398,-720.725\" fill=\"none\" stroke=\"black\"/>\n",
       "<polygon fill=\"black\" points=\"915.896,-720.563 912.273,-710.607 908.897,-720.649 915.896,-720.563\" stroke=\"black\"/>\n",
       "</g>\n",
       "<!-- 1400360397624 -->\n",
       "<g class=\"node\" id=\"node5\"><title>1400360397624</title>\n",
       "<polygon fill=\"none\" points=\"1049.5,-747.5 1049.5,-793.5 1278.5,-793.5 1278.5,-747.5 1049.5,-747.5\" stroke=\"black\"/>\n",
       "<text font-family=\"Times New Roman,serif\" font-size=\"14.00\" text-anchor=\"middle\" x=\"1101\" y=\"-766.8\">age: InputLayer</text>\n",
       "<polyline fill=\"none\" points=\"1152.5,-747.5 1152.5,-793.5 \" stroke=\"black\"/>\n",
       "<text font-family=\"Times New Roman,serif\" font-size=\"14.00\" text-anchor=\"middle\" x=\"1180.5\" y=\"-778.3\">input:</text>\n",
       "<polyline fill=\"none\" points=\"1152.5,-770.5 1208.5,-770.5 \" stroke=\"black\"/>\n",
       "<text font-family=\"Times New Roman,serif\" font-size=\"14.00\" text-anchor=\"middle\" x=\"1180.5\" y=\"-755.3\">output:</text>\n",
       "<polyline fill=\"none\" points=\"1208.5,-747.5 1208.5,-793.5 \" stroke=\"black\"/>\n",
       "<text font-family=\"Times New Roman,serif\" font-size=\"14.00\" text-anchor=\"middle\" x=\"1243.5\" y=\"-778.3\">(None, 1)</text>\n",
       "<polyline fill=\"none\" points=\"1208.5,-770.5 1278.5,-770.5 \" stroke=\"black\"/>\n",
       "<text font-family=\"Times New Roman,serif\" font-size=\"14.00\" text-anchor=\"middle\" x=\"1243.5\" y=\"-755.3\">(None, 1)</text>\n",
       "</g>\n",
       "<!-- 1400360396728 -->\n",
       "<g class=\"node\" id=\"node10\"><title>1400360396728</title>\n",
       "<polygon fill=\"none\" points=\"1045.5,-664.5 1045.5,-710.5 1282.5,-710.5 1282.5,-664.5 1045.5,-664.5\" stroke=\"black\"/>\n",
       "<text font-family=\"Times New Roman,serif\" font-size=\"14.00\" text-anchor=\"middle\" x=\"1097.5\" y=\"-683.8\">dense_5: Dense</text>\n",
       "<polyline fill=\"none\" points=\"1149.5,-664.5 1149.5,-710.5 \" stroke=\"black\"/>\n",
       "<text font-family=\"Times New Roman,serif\" font-size=\"14.00\" text-anchor=\"middle\" x=\"1177.5\" y=\"-695.3\">input:</text>\n",
       "<polyline fill=\"none\" points=\"1149.5,-687.5 1205.5,-687.5 \" stroke=\"black\"/>\n",
       "<text font-family=\"Times New Roman,serif\" font-size=\"14.00\" text-anchor=\"middle\" x=\"1177.5\" y=\"-672.3\">output:</text>\n",
       "<polyline fill=\"none\" points=\"1205.5,-664.5 1205.5,-710.5 \" stroke=\"black\"/>\n",
       "<text font-family=\"Times New Roman,serif\" font-size=\"14.00\" text-anchor=\"middle\" x=\"1244\" y=\"-695.3\">(None, 1)</text>\n",
       "<polyline fill=\"none\" points=\"1205.5,-687.5 1282.5,-687.5 \" stroke=\"black\"/>\n",
       "<text font-family=\"Times New Roman,serif\" font-size=\"14.00\" text-anchor=\"middle\" x=\"1244\" y=\"-672.3\">(None, 16)</text>\n",
       "</g>\n",
       "<!-- 1400360397624&#45;&gt;1400360396728 -->\n",
       "<g class=\"edge\" id=\"edge5\"><title>1400360397624-&gt;1400360396728</title>\n",
       "<path d=\"M1164,-747.366C1164,-739.152 1164,-729.658 1164,-720.725\" fill=\"none\" stroke=\"black\"/>\n",
       "<polygon fill=\"black\" points=\"1167.5,-720.607 1164,-710.607 1160.5,-720.607 1167.5,-720.607\" stroke=\"black\"/>\n",
       "</g>\n",
       "<!-- 1400360724296 -->\n",
       "<g class=\"node\" id=\"node11\"><title>1400360724296</title>\n",
       "<polygon fill=\"none\" points=\"371.5,-581.5 371.5,-627.5 942.5,-627.5 942.5,-581.5 371.5,-581.5\" stroke=\"black\"/>\n",
       "<text font-family=\"Times New Roman,serif\" font-size=\"14.00\" text-anchor=\"middle\" x=\"458\" y=\"-600.8\">concatenate_1: Concatenate</text>\n",
       "<polyline fill=\"none\" points=\"544.5,-581.5 544.5,-627.5 \" stroke=\"black\"/>\n",
       "<text font-family=\"Times New Roman,serif\" font-size=\"14.00\" text-anchor=\"middle\" x=\"572.5\" y=\"-612.3\">input:</text>\n",
       "<polyline fill=\"none\" points=\"544.5,-604.5 600.5,-604.5 \" stroke=\"black\"/>\n",
       "<text font-family=\"Times New Roman,serif\" font-size=\"14.00\" text-anchor=\"middle\" x=\"572.5\" y=\"-589.3\">output:</text>\n",
       "<polyline fill=\"none\" points=\"600.5,-581.5 600.5,-627.5 \" stroke=\"black\"/>\n",
       "<text font-family=\"Times New Roman,serif\" font-size=\"14.00\" text-anchor=\"middle\" x=\"771.5\" y=\"-612.3\">[(None, 32), (None, 4), (None, 32), (None, 4), (None, 16)]</text>\n",
       "<polyline fill=\"none\" points=\"600.5,-604.5 942.5,-604.5 \" stroke=\"black\"/>\n",
       "<text font-family=\"Times New Roman,serif\" font-size=\"14.00\" text-anchor=\"middle\" x=\"771.5\" y=\"-589.3\">(None, 88)</text>\n",
       "</g>\n",
       "<!-- 1400360133464&#45;&gt;1400360724296 -->\n",
       "<g class=\"edge\" id=\"edge6\"><title>1400360133464-&gt;1400360724296</title>\n",
       "<path d=\"M260.526,-666.625C266.093,-665.733 271.606,-664.855 277,-664 350.833,-652.298 432.79,-639.639 501.634,-629.1\" fill=\"none\" stroke=\"black\"/>\n",
       "<polygon fill=\"black\" points=\"502.338,-632.533 511.694,-627.56 501.28,-625.613 502.338,-632.533\" stroke=\"black\"/>\n",
       "</g>\n",
       "<!-- 1400360133800&#45;&gt;1400360724296 -->\n",
       "<g class=\"edge\" id=\"edge7\"><title>1400360133800-&gt;1400360724296</title>\n",
       "<path d=\"M470.615,-664.473C503.631,-654.027 543.242,-641.494 577.441,-630.673\" fill=\"none\" stroke=\"black\"/>\n",
       "<polygon fill=\"black\" points=\"578.921,-633.876 587.399,-627.522 576.809,-627.202 578.921,-633.876\" stroke=\"black\"/>\n",
       "</g>\n",
       "<!-- 1400360123528&#45;&gt;1400360724296 -->\n",
       "<g class=\"edge\" id=\"edge8\"><title>1400360123528-&gt;1400360724296</title>\n",
       "<path d=\"M657,-664.366C657,-656.152 657,-646.658 657,-637.725\" fill=\"none\" stroke=\"black\"/>\n",
       "<polygon fill=\"black\" points=\"660.5,-637.607 657,-627.607 653.5,-637.607 660.5,-637.607\" stroke=\"black\"/>\n",
       "</g>\n",
       "<!-- 1400360315872&#45;&gt;1400360724296 -->\n",
       "<g class=\"edge\" id=\"edge9\"><title>1400360315872-&gt;1400360724296</title>\n",
       "<path d=\"M842.657,-664.473C809.77,-654.027 770.314,-641.494 736.248,-630.673\" fill=\"none\" stroke=\"black\"/>\n",
       "<polygon fill=\"black\" points=\"736.92,-627.214 726.329,-627.522 734.8,-633.885 736.92,-627.214\" stroke=\"black\"/>\n",
       "</g>\n",
       "<!-- 1400360396728&#45;&gt;1400360724296 -->\n",
       "<g class=\"edge\" id=\"edge10\"><title>1400360396728-&gt;1400360724296</title>\n",
       "<path d=\"M1045.46,-665.574C1042.28,-665.04 1039.12,-664.514 1036,-664 963.372,-652.013 882.786,-639.468 814.661,-629.083\" fill=\"none\" stroke=\"black\"/>\n",
       "<polygon fill=\"black\" points=\"815.116,-625.612 804.703,-627.567 814.062,-632.533 815.116,-625.612\" stroke=\"black\"/>\n",
       "</g>\n",
       "<!-- 1400360725920 -->\n",
       "<g class=\"node\" id=\"node12\"><title>1400360725920</title>\n",
       "<polygon fill=\"none\" points=\"525.5,-498.5 525.5,-544.5 788.5,-544.5 788.5,-498.5 525.5,-498.5\" stroke=\"black\"/>\n",
       "<text font-family=\"Times New Roman,serif\" font-size=\"14.00\" text-anchor=\"middle\" x=\"590.5\" y=\"-517.8\">dropout_1: Dropout</text>\n",
       "<polyline fill=\"none\" points=\"655.5,-498.5 655.5,-544.5 \" stroke=\"black\"/>\n",
       "<text font-family=\"Times New Roman,serif\" font-size=\"14.00\" text-anchor=\"middle\" x=\"683.5\" y=\"-529.3\">input:</text>\n",
       "<polyline fill=\"none\" points=\"655.5,-521.5 711.5,-521.5 \" stroke=\"black\"/>\n",
       "<text font-family=\"Times New Roman,serif\" font-size=\"14.00\" text-anchor=\"middle\" x=\"683.5\" y=\"-506.3\">output:</text>\n",
       "<polyline fill=\"none\" points=\"711.5,-498.5 711.5,-544.5 \" stroke=\"black\"/>\n",
       "<text font-family=\"Times New Roman,serif\" font-size=\"14.00\" text-anchor=\"middle\" x=\"750\" y=\"-529.3\">(None, 88)</text>\n",
       "<polyline fill=\"none\" points=\"711.5,-521.5 788.5,-521.5 \" stroke=\"black\"/>\n",
       "<text font-family=\"Times New Roman,serif\" font-size=\"14.00\" text-anchor=\"middle\" x=\"750\" y=\"-506.3\">(None, 88)</text>\n",
       "</g>\n",
       "<!-- 1400360724296&#45;&gt;1400360725920 -->\n",
       "<g class=\"edge\" id=\"edge11\"><title>1400360724296-&gt;1400360725920</title>\n",
       "<path d=\"M657,-581.366C657,-573.152 657,-563.658 657,-554.725\" fill=\"none\" stroke=\"black\"/>\n",
       "<polygon fill=\"black\" points=\"660.5,-554.607 657,-544.607 653.5,-554.607 660.5,-554.607\" stroke=\"black\"/>\n",
       "</g>\n",
       "<!-- 1400360724072 -->\n",
       "<g class=\"node\" id=\"node14\"><title>1400360724072</title>\n",
       "<polygon fill=\"none\" points=\"548.5,-415.5 548.5,-461.5 791.5,-461.5 791.5,-415.5 548.5,-415.5\" stroke=\"black\"/>\n",
       "<text font-family=\"Times New Roman,serif\" font-size=\"14.00\" text-anchor=\"middle\" x=\"600.5\" y=\"-434.8\">dense_7: Dense</text>\n",
       "<polyline fill=\"none\" points=\"652.5,-415.5 652.5,-461.5 \" stroke=\"black\"/>\n",
       "<text font-family=\"Times New Roman,serif\" font-size=\"14.00\" text-anchor=\"middle\" x=\"680.5\" y=\"-446.3\">input:</text>\n",
       "<polyline fill=\"none\" points=\"652.5,-438.5 708.5,-438.5 \" stroke=\"black\"/>\n",
       "<text font-family=\"Times New Roman,serif\" font-size=\"14.00\" text-anchor=\"middle\" x=\"680.5\" y=\"-423.3\">output:</text>\n",
       "<polyline fill=\"none\" points=\"708.5,-415.5 708.5,-461.5 \" stroke=\"black\"/>\n",
       "<text font-family=\"Times New Roman,serif\" font-size=\"14.00\" text-anchor=\"middle\" x=\"750\" y=\"-446.3\">(None, 88)</text>\n",
       "<polyline fill=\"none\" points=\"708.5,-438.5 791.5,-438.5 \" stroke=\"black\"/>\n",
       "<text font-family=\"Times New Roman,serif\" font-size=\"14.00\" text-anchor=\"middle\" x=\"750\" y=\"-423.3\">(None, 128)</text>\n",
       "</g>\n",
       "<!-- 1400360725920&#45;&gt;1400360724072 -->\n",
       "<g class=\"edge\" id=\"edge12\"><title>1400360725920-&gt;1400360724072</title>\n",
       "<path d=\"M660.552,-498.366C661.871,-490.152 663.394,-480.658 664.828,-471.725\" fill=\"none\" stroke=\"black\"/>\n",
       "<polygon fill=\"black\" points=\"668.323,-472.035 666.452,-461.607 661.411,-470.926 668.323,-472.035\" stroke=\"black\"/>\n",
       "</g>\n",
       "<!-- 1400360516800 -->\n",
       "<g class=\"node\" id=\"node13\"><title>1400360516800</title>\n",
       "<polygon fill=\"none\" points=\"806.5,-498.5 806.5,-544.5 1089.5,-544.5 1089.5,-498.5 806.5,-498.5\" stroke=\"black\"/>\n",
       "<text font-family=\"Times New Roman,serif\" font-size=\"14.00\" text-anchor=\"middle\" x=\"875\" y=\"-517.8\">symptom: InputLayer</text>\n",
       "<polyline fill=\"none\" points=\"943.5,-498.5 943.5,-544.5 \" stroke=\"black\"/>\n",
       "<text font-family=\"Times New Roman,serif\" font-size=\"14.00\" text-anchor=\"middle\" x=\"971.5\" y=\"-529.3\">input:</text>\n",
       "<polyline fill=\"none\" points=\"943.5,-521.5 999.5,-521.5 \" stroke=\"black\"/>\n",
       "<text font-family=\"Times New Roman,serif\" font-size=\"14.00\" text-anchor=\"middle\" x=\"971.5\" y=\"-506.3\">output:</text>\n",
       "<polyline fill=\"none\" points=\"999.5,-498.5 999.5,-544.5 \" stroke=\"black\"/>\n",
       "<text font-family=\"Times New Roman,serif\" font-size=\"14.00\" text-anchor=\"middle\" x=\"1044.5\" y=\"-529.3\">(None, 2219)</text>\n",
       "<polyline fill=\"none\" points=\"999.5,-521.5 1089.5,-521.5 \" stroke=\"black\"/>\n",
       "<text font-family=\"Times New Roman,serif\" font-size=\"14.00\" text-anchor=\"middle\" x=\"1044.5\" y=\"-506.3\">(None, 2219)</text>\n",
       "</g>\n",
       "<!-- 1400360593896 -->\n",
       "<g class=\"node\" id=\"node15\"><title>1400360593896</title>\n",
       "<polygon fill=\"none\" points=\"816,-415.5 816,-461.5 1066,-461.5 1066,-415.5 816,-415.5\" stroke=\"black\"/>\n",
       "<text font-family=\"Times New Roman,serif\" font-size=\"14.00\" text-anchor=\"middle\" x=\"868\" y=\"-434.8\">dense_6: Dense</text>\n",
       "<polyline fill=\"none\" points=\"920,-415.5 920,-461.5 \" stroke=\"black\"/>\n",
       "<text font-family=\"Times New Roman,serif\" font-size=\"14.00\" text-anchor=\"middle\" x=\"948\" y=\"-446.3\">input:</text>\n",
       "<polyline fill=\"none\" points=\"920,-438.5 976,-438.5 \" stroke=\"black\"/>\n",
       "<text font-family=\"Times New Roman,serif\" font-size=\"14.00\" text-anchor=\"middle\" x=\"948\" y=\"-423.3\">output:</text>\n",
       "<polyline fill=\"none\" points=\"976,-415.5 976,-461.5 \" stroke=\"black\"/>\n",
       "<text font-family=\"Times New Roman,serif\" font-size=\"14.00\" text-anchor=\"middle\" x=\"1021\" y=\"-446.3\">(None, 2219)</text>\n",
       "<polyline fill=\"none\" points=\"976,-438.5 1066,-438.5 \" stroke=\"black\"/>\n",
       "<text font-family=\"Times New Roman,serif\" font-size=\"14.00\" text-anchor=\"middle\" x=\"1021\" y=\"-423.3\">(None, 128)</text>\n",
       "</g>\n",
       "<!-- 1400360516800&#45;&gt;1400360593896 -->\n",
       "<g class=\"edge\" id=\"edge13\"><title>1400360516800-&gt;1400360593896</title>\n",
       "<path d=\"M946.087,-498.366C945.377,-490.152 944.557,-480.658 943.785,-471.725\" fill=\"none\" stroke=\"black\"/>\n",
       "<polygon fill=\"black\" points=\"947.259,-471.268 942.91,-461.607 940.285,-471.871 947.259,-471.268\" stroke=\"black\"/>\n",
       "</g>\n",
       "<!-- 1400221040088 -->\n",
       "<g class=\"node\" id=\"node16\"><title>1400221040088</title>\n",
       "<polygon fill=\"none\" points=\"607,-332.5 607,-378.5 1003,-378.5 1003,-332.5 607,-332.5\" stroke=\"black\"/>\n",
       "<text font-family=\"Times New Roman,serif\" font-size=\"14.00\" text-anchor=\"middle\" x=\"693.5\" y=\"-351.8\">concatenate_2: Concatenate</text>\n",
       "<polyline fill=\"none\" points=\"780,-332.5 780,-378.5 \" stroke=\"black\"/>\n",
       "<text font-family=\"Times New Roman,serif\" font-size=\"14.00\" text-anchor=\"middle\" x=\"808\" y=\"-363.3\">input:</text>\n",
       "<polyline fill=\"none\" points=\"780,-355.5 836,-355.5 \" stroke=\"black\"/>\n",
       "<text font-family=\"Times New Roman,serif\" font-size=\"14.00\" text-anchor=\"middle\" x=\"808\" y=\"-340.3\">output:</text>\n",
       "<polyline fill=\"none\" points=\"836,-332.5 836,-378.5 \" stroke=\"black\"/>\n",
       "<text font-family=\"Times New Roman,serif\" font-size=\"14.00\" text-anchor=\"middle\" x=\"919.5\" y=\"-363.3\">[(None, 128), (None, 128)]</text>\n",
       "<polyline fill=\"none\" points=\"836,-355.5 1003,-355.5 \" stroke=\"black\"/>\n",
       "<text font-family=\"Times New Roman,serif\" font-size=\"14.00\" text-anchor=\"middle\" x=\"919.5\" y=\"-340.3\">(None, 256)</text>\n",
       "</g>\n",
       "<!-- 1400360724072&#45;&gt;1400221040088 -->\n",
       "<g class=\"edge\" id=\"edge14\"><title>1400360724072-&gt;1400221040088</title>\n",
       "<path d=\"M706.889,-415.366C723.11,-405.634 742.324,-394.106 759.429,-383.842\" fill=\"none\" stroke=\"black\"/>\n",
       "<polygon fill=\"black\" points=\"761.381,-386.753 768.155,-378.607 757.78,-380.751 761.381,-386.753\" stroke=\"black\"/>\n",
       "</g>\n",
       "<!-- 1400360593896&#45;&gt;1400221040088 -->\n",
       "<g class=\"edge\" id=\"edge15\"><title>1400360593896-&gt;1400221040088</title>\n",
       "<path d=\"M903.837,-415.366C887.496,-405.634 868.14,-394.106 850.908,-383.842\" fill=\"none\" stroke=\"black\"/>\n",
       "<polygon fill=\"black\" points=\"852.5,-380.717 842.118,-378.607 848.918,-386.731 852.5,-380.717\" stroke=\"black\"/>\n",
       "</g>\n",
       "<!-- 1400361084184 -->\n",
       "<g class=\"node\" id=\"node17\"><title>1400361084184</title>\n",
       "<polygon fill=\"none\" points=\"670.5,-249.5 670.5,-295.5 939.5,-295.5 939.5,-249.5 670.5,-249.5\" stroke=\"black\"/>\n",
       "<text font-family=\"Times New Roman,serif\" font-size=\"14.00\" text-anchor=\"middle\" x=\"735.5\" y=\"-268.8\">dropout_2: Dropout</text>\n",
       "<polyline fill=\"none\" points=\"800.5,-249.5 800.5,-295.5 \" stroke=\"black\"/>\n",
       "<text font-family=\"Times New Roman,serif\" font-size=\"14.00\" text-anchor=\"middle\" x=\"828.5\" y=\"-280.3\">input:</text>\n",
       "<polyline fill=\"none\" points=\"800.5,-272.5 856.5,-272.5 \" stroke=\"black\"/>\n",
       "<text font-family=\"Times New Roman,serif\" font-size=\"14.00\" text-anchor=\"middle\" x=\"828.5\" y=\"-257.3\">output:</text>\n",
       "<polyline fill=\"none\" points=\"856.5,-249.5 856.5,-295.5 \" stroke=\"black\"/>\n",
       "<text font-family=\"Times New Roman,serif\" font-size=\"14.00\" text-anchor=\"middle\" x=\"898\" y=\"-280.3\">(None, 256)</text>\n",
       "<polyline fill=\"none\" points=\"856.5,-272.5 939.5,-272.5 \" stroke=\"black\"/>\n",
       "<text font-family=\"Times New Roman,serif\" font-size=\"14.00\" text-anchor=\"middle\" x=\"898\" y=\"-257.3\">(None, 256)</text>\n",
       "</g>\n",
       "<!-- 1400221040088&#45;&gt;1400361084184 -->\n",
       "<g class=\"edge\" id=\"edge16\"><title>1400221040088-&gt;1400361084184</title>\n",
       "<path d=\"M805,-332.366C805,-324.152 805,-314.658 805,-305.725\" fill=\"none\" stroke=\"black\"/>\n",
       "<polygon fill=\"black\" points=\"808.5,-305.607 805,-295.607 801.5,-305.607 808.5,-305.607\" stroke=\"black\"/>\n",
       "</g>\n",
       "<!-- 1400361083400 -->\n",
       "<g class=\"node\" id=\"node18\"><title>1400361083400</title>\n",
       "<polygon fill=\"none\" points=\"683.5,-166.5 683.5,-212.5 926.5,-212.5 926.5,-166.5 683.5,-166.5\" stroke=\"black\"/>\n",
       "<text font-family=\"Times New Roman,serif\" font-size=\"14.00\" text-anchor=\"middle\" x=\"735.5\" y=\"-185.8\">dense_8: Dense</text>\n",
       "<polyline fill=\"none\" points=\"787.5,-166.5 787.5,-212.5 \" stroke=\"black\"/>\n",
       "<text font-family=\"Times New Roman,serif\" font-size=\"14.00\" text-anchor=\"middle\" x=\"815.5\" y=\"-197.3\">input:</text>\n",
       "<polyline fill=\"none\" points=\"787.5,-189.5 843.5,-189.5 \" stroke=\"black\"/>\n",
       "<text font-family=\"Times New Roman,serif\" font-size=\"14.00\" text-anchor=\"middle\" x=\"815.5\" y=\"-174.3\">output:</text>\n",
       "<polyline fill=\"none\" points=\"843.5,-166.5 843.5,-212.5 \" stroke=\"black\"/>\n",
       "<text font-family=\"Times New Roman,serif\" font-size=\"14.00\" text-anchor=\"middle\" x=\"885\" y=\"-197.3\">(None, 256)</text>\n",
       "<polyline fill=\"none\" points=\"843.5,-189.5 926.5,-189.5 \" stroke=\"black\"/>\n",
       "<text font-family=\"Times New Roman,serif\" font-size=\"14.00\" text-anchor=\"middle\" x=\"885\" y=\"-174.3\">(None, 512)</text>\n",
       "</g>\n",
       "<!-- 1400361084184&#45;&gt;1400361083400 -->\n",
       "<g class=\"edge\" id=\"edge17\"><title>1400361084184-&gt;1400361083400</title>\n",
       "<path d=\"M805,-249.366C805,-241.152 805,-231.658 805,-222.725\" fill=\"none\" stroke=\"black\"/>\n",
       "<polygon fill=\"black\" points=\"808.5,-222.607 805,-212.607 801.5,-222.607 808.5,-222.607\" stroke=\"black\"/>\n",
       "</g>\n",
       "<!-- 1400361449456 -->\n",
       "<g class=\"node\" id=\"node19\"><title>1400361449456</title>\n",
       "<polygon fill=\"none\" points=\"670.5,-83.5 670.5,-129.5 939.5,-129.5 939.5,-83.5 670.5,-83.5\" stroke=\"black\"/>\n",
       "<text font-family=\"Times New Roman,serif\" font-size=\"14.00\" text-anchor=\"middle\" x=\"735.5\" y=\"-102.8\">dropout_3: Dropout</text>\n",
       "<polyline fill=\"none\" points=\"800.5,-83.5 800.5,-129.5 \" stroke=\"black\"/>\n",
       "<text font-family=\"Times New Roman,serif\" font-size=\"14.00\" text-anchor=\"middle\" x=\"828.5\" y=\"-114.3\">input:</text>\n",
       "<polyline fill=\"none\" points=\"800.5,-106.5 856.5,-106.5 \" stroke=\"black\"/>\n",
       "<text font-family=\"Times New Roman,serif\" font-size=\"14.00\" text-anchor=\"middle\" x=\"828.5\" y=\"-91.3\">output:</text>\n",
       "<polyline fill=\"none\" points=\"856.5,-83.5 856.5,-129.5 \" stroke=\"black\"/>\n",
       "<text font-family=\"Times New Roman,serif\" font-size=\"14.00\" text-anchor=\"middle\" x=\"898\" y=\"-114.3\">(None, 512)</text>\n",
       "<polyline fill=\"none\" points=\"856.5,-106.5 939.5,-106.5 \" stroke=\"black\"/>\n",
       "<text font-family=\"Times New Roman,serif\" font-size=\"14.00\" text-anchor=\"middle\" x=\"898\" y=\"-91.3\">(None, 512)</text>\n",
       "</g>\n",
       "<!-- 1400361083400&#45;&gt;1400361449456 -->\n",
       "<g class=\"edge\" id=\"edge18\"><title>1400361083400-&gt;1400361449456</title>\n",
       "<path d=\"M805,-166.366C805,-158.152 805,-148.658 805,-139.725\" fill=\"none\" stroke=\"black\"/>\n",
       "<polygon fill=\"black\" points=\"808.5,-139.607 805,-129.607 801.5,-139.607 808.5,-139.607\" stroke=\"black\"/>\n",
       "</g>\n",
       "<!-- 1400361449120 -->\n",
       "<g class=\"node\" id=\"node20\"><title>1400361449120</title>\n",
       "<polygon fill=\"none\" points=\"680,-0.5 680,-46.5 930,-46.5 930,-0.5 680,-0.5\" stroke=\"black\"/>\n",
       "<text font-family=\"Times New Roman,serif\" font-size=\"14.00\" text-anchor=\"middle\" x=\"732\" y=\"-19.8\">dense_9: Dense</text>\n",
       "<polyline fill=\"none\" points=\"784,-0.5 784,-46.5 \" stroke=\"black\"/>\n",
       "<text font-family=\"Times New Roman,serif\" font-size=\"14.00\" text-anchor=\"middle\" x=\"812\" y=\"-31.3\">input:</text>\n",
       "<polyline fill=\"none\" points=\"784,-23.5 840,-23.5 \" stroke=\"black\"/>\n",
       "<text font-family=\"Times New Roman,serif\" font-size=\"14.00\" text-anchor=\"middle\" x=\"812\" y=\"-8.3\">output:</text>\n",
       "<polyline fill=\"none\" points=\"840,-0.5 840,-46.5 \" stroke=\"black\"/>\n",
       "<text font-family=\"Times New Roman,serif\" font-size=\"14.00\" text-anchor=\"middle\" x=\"885\" y=\"-31.3\">(None, 512)</text>\n",
       "<polyline fill=\"none\" points=\"840,-23.5 930,-23.5 \" stroke=\"black\"/>\n",
       "<text font-family=\"Times New Roman,serif\" font-size=\"14.00\" text-anchor=\"middle\" x=\"885\" y=\"-8.3\">(None, 1200)</text>\n",
       "</g>\n",
       "<!-- 1400361449456&#45;&gt;1400361449120 -->\n",
       "<g class=\"edge\" id=\"edge19\"><title>1400361449456-&gt;1400361449120</title>\n",
       "<path d=\"M805,-83.3664C805,-75.1516 805,-65.6579 805,-56.7252\" fill=\"none\" stroke=\"black\"/>\n",
       "<polygon fill=\"black\" points=\"808.5,-56.6068 805,-46.6068 801.5,-56.6069 808.5,-56.6068\" stroke=\"black\"/>\n",
       "</g>\n",
       "</g>\n",
       "</svg>"
      ],
      "text/plain": [
       "<IPython.core.display.SVG object>"
      ]
     },
     "execution_count": 69,
     "metadata": {},
     "output_type": "execute_result"
    }
   ],
   "source": [
    "SVG(model_to_dot(model, show_shapes=True).create(prog='dot', format='svg'))"
   ]
  },
  {
   "cell_type": "code",
   "execution_count": 70,
   "metadata": {},
   "outputs": [],
   "source": [
    "X_input = [X_service, X_clinic, X_adv, X_sex, X_age, X_symptom]\n",
    "\n",
    "X_train = [m[i_train] for m in X_input]\n",
    "X_test = [m[i_test] for m in X_input]\n",
    "\n",
    "y_train = [keras.utils.to_categorical(y)[i_train]]\n",
    "y_test = [keras.utils.to_categorical(y)[i_test]]"
   ]
  },
  {
   "cell_type": "code",
   "execution_count": 71,
   "metadata": {},
   "outputs": [
    {
     "name": "stdout",
     "output_type": "stream",
     "text": [
      "Train on 34076 samples, validate on 14605 samples\n",
      "Epoch 1/50\n",
      " - 20s - loss: 5.1166 - categorical_accuracy: 0.1427 - val_loss: 3.9287 - val_categorical_accuracy: 0.2459\n",
      "Epoch 2/50\n",
      " - 18s - loss: 3.5925 - categorical_accuracy: 0.2598 - val_loss: 3.2782 - val_categorical_accuracy: 0.2872\n",
      "Epoch 3/50\n",
      " - 19s - loss: 3.1600 - categorical_accuracy: 0.2907 - val_loss: 3.0267 - val_categorical_accuracy: 0.3158\n",
      "Epoch 4/50\n",
      " - 18s - loss: 2.9274 - categorical_accuracy: 0.3129 - val_loss: 2.8844 - val_categorical_accuracy: 0.3283\n",
      "Epoch 5/50\n",
      " - 18s - loss: 2.7690 - categorical_accuracy: 0.3305 - val_loss: 2.7889 - val_categorical_accuracy: 0.3408\n",
      "Epoch 6/50\n",
      " - 17s - loss: 2.6536 - categorical_accuracy: 0.3473 - val_loss: 2.7195 - val_categorical_accuracy: 0.3469\n",
      "Epoch 7/50\n",
      " - 20s - loss: 2.5499 - categorical_accuracy: 0.3594 - val_loss: 2.6805 - val_categorical_accuracy: 0.3578\n",
      "Epoch 8/50\n",
      " - 21s - loss: 2.4724 - categorical_accuracy: 0.3669 - val_loss: 2.6452 - val_categorical_accuracy: 0.3591\n",
      "Epoch 9/50\n",
      " - 19s - loss: 2.3979 - categorical_accuracy: 0.3767 - val_loss: 2.6200 - val_categorical_accuracy: 0.3655\n",
      "Epoch 10/50\n",
      " - 19s - loss: 2.3370 - categorical_accuracy: 0.3889 - val_loss: 2.6126 - val_categorical_accuracy: 0.3651\n",
      "Epoch 11/50\n",
      " - 18s - loss: 2.2804 - categorical_accuracy: 0.3942 - val_loss: 2.5934 - val_categorical_accuracy: 0.3693\n",
      "Epoch 12/50\n",
      " - 18s - loss: 2.2298 - categorical_accuracy: 0.3999 - val_loss: 2.5939 - val_categorical_accuracy: 0.3699\n",
      "Epoch 13/50\n",
      " - 20s - loss: 2.1834 - categorical_accuracy: 0.4068 - val_loss: 2.5950 - val_categorical_accuracy: 0.3715\n",
      "Epoch 14/50\n",
      " - 20s - loss: 2.1448 - categorical_accuracy: 0.4165 - val_loss: 2.5939 - val_categorical_accuracy: 0.3740\n",
      "Epoch 15/50\n",
      " - 21s - loss: 2.1025 - categorical_accuracy: 0.4238 - val_loss: 2.5956 - val_categorical_accuracy: 0.3747\n",
      "Epoch 16/50\n",
      " - 19s - loss: 2.0714 - categorical_accuracy: 0.4283 - val_loss: 2.6047 - val_categorical_accuracy: 0.3730\n",
      "Epoch 17/50\n",
      " - 18s - loss: 2.0364 - categorical_accuracy: 0.4349 - val_loss: 2.6096 - val_categorical_accuracy: 0.3732\n",
      "Epoch 18/50\n",
      " - 18s - loss: 1.9997 - categorical_accuracy: 0.4416 - val_loss: 2.6209 - val_categorical_accuracy: 0.3741\n",
      "Epoch 19/50\n",
      " - 18s - loss: 1.9740 - categorical_accuracy: 0.4472 - val_loss: 2.6263 - val_categorical_accuracy: 0.3732\n",
      "Epoch 20/50\n",
      " - 19s - loss: 1.9515 - categorical_accuracy: 0.4494 - val_loss: 2.6293 - val_categorical_accuracy: 0.3740\n",
      "Epoch 21/50\n",
      " - 18s - loss: 1.9223 - categorical_accuracy: 0.4571 - val_loss: 2.6429 - val_categorical_accuracy: 0.3736\n",
      "Epoch 22/50\n",
      " - 18s - loss: 1.9008 - categorical_accuracy: 0.4621 - val_loss: 2.6521 - val_categorical_accuracy: 0.3768\n",
      "Epoch 23/50\n",
      " - 21s - loss: 1.8762 - categorical_accuracy: 0.4695 - val_loss: 2.6654 - val_categorical_accuracy: 0.3786\n",
      "Epoch 24/50\n",
      " - 19s - loss: 1.8569 - categorical_accuracy: 0.4715 - val_loss: 2.6682 - val_categorical_accuracy: 0.3749\n",
      "Epoch 25/50\n",
      " - 29s - loss: 1.8319 - categorical_accuracy: 0.4748 - val_loss: 2.6832 - val_categorical_accuracy: 0.3758\n",
      "Epoch 26/50\n",
      " - 34s - loss: 1.8130 - categorical_accuracy: 0.4823 - val_loss: 2.6865 - val_categorical_accuracy: 0.3752\n",
      "Epoch 27/50\n",
      " - 33s - loss: 1.7882 - categorical_accuracy: 0.4867 - val_loss: 2.6999 - val_categorical_accuracy: 0.3754\n",
      "Epoch 28/50\n",
      " - 32s - loss: 1.7764 - categorical_accuracy: 0.4902 - val_loss: 2.7108 - val_categorical_accuracy: 0.3735\n",
      "Epoch 29/50\n",
      " - 33s - loss: 1.7568 - categorical_accuracy: 0.4952 - val_loss: 2.7172 - val_categorical_accuracy: 0.3762\n",
      "Epoch 30/50\n",
      " - 33s - loss: 1.7414 - categorical_accuracy: 0.4965 - val_loss: 2.7284 - val_categorical_accuracy: 0.3775\n",
      "Epoch 31/50\n",
      " - 32s - loss: 1.7220 - categorical_accuracy: 0.5049 - val_loss: 2.7448 - val_categorical_accuracy: 0.3731\n",
      "Epoch 32/50\n",
      " - 32s - loss: 1.7032 - categorical_accuracy: 0.5055 - val_loss: 2.7578 - val_categorical_accuracy: 0.3748\n",
      "Epoch 33/50\n",
      " - 32s - loss: 1.6875 - categorical_accuracy: 0.5128 - val_loss: 2.7685 - val_categorical_accuracy: 0.3737\n",
      "Epoch 34/50\n",
      " - 32s - loss: 1.6772 - categorical_accuracy: 0.5118 - val_loss: 2.7765 - val_categorical_accuracy: 0.3742\n",
      "Epoch 35/50\n",
      " - 33s - loss: 1.6617 - categorical_accuracy: 0.5158 - val_loss: 2.7823 - val_categorical_accuracy: 0.3736\n",
      "Epoch 36/50\n",
      " - 32s - loss: 1.6470 - categorical_accuracy: 0.5187 - val_loss: 2.7909 - val_categorical_accuracy: 0.3705\n",
      "Epoch 37/50\n",
      " - 32s - loss: 1.6377 - categorical_accuracy: 0.5211 - val_loss: 2.8020 - val_categorical_accuracy: 0.3697\n",
      "Epoch 38/50\n",
      " - 32s - loss: 1.6241 - categorical_accuracy: 0.5249 - val_loss: 2.8129 - val_categorical_accuracy: 0.3714\n",
      "Epoch 39/50\n",
      " - 32s - loss: 1.6082 - categorical_accuracy: 0.5304 - val_loss: 2.8175 - val_categorical_accuracy: 0.3744\n",
      "Epoch 40/50\n",
      " - 33s - loss: 1.5889 - categorical_accuracy: 0.5338 - val_loss: 2.8296 - val_categorical_accuracy: 0.3718\n",
      "Epoch 41/50\n",
      " - 33s - loss: 1.5892 - categorical_accuracy: 0.5318 - val_loss: 2.8360 - val_categorical_accuracy: 0.3711\n",
      "Epoch 42/50\n",
      " - 33s - loss: 1.5781 - categorical_accuracy: 0.5374 - val_loss: 2.8517 - val_categorical_accuracy: 0.3740\n",
      "Epoch 43/50\n",
      " - 33s - loss: 1.5668 - categorical_accuracy: 0.5372 - val_loss: 2.8628 - val_categorical_accuracy: 0.3704\n",
      "Epoch 44/50\n",
      " - 33s - loss: 1.5524 - categorical_accuracy: 0.5401 - val_loss: 2.8664 - val_categorical_accuracy: 0.3703\n",
      "Epoch 45/50\n",
      " - 32s - loss: 1.5404 - categorical_accuracy: 0.5450 - val_loss: 2.8791 - val_categorical_accuracy: 0.3702\n",
      "Epoch 46/50\n",
      " - 33s - loss: 1.5321 - categorical_accuracy: 0.5454 - val_loss: 2.8886 - val_categorical_accuracy: 0.3675\n",
      "Epoch 47/50\n",
      " - 32s - loss: 1.5185 - categorical_accuracy: 0.5528 - val_loss: 2.8924 - val_categorical_accuracy: 0.3709\n",
      "Epoch 48/50\n",
      " - 32s - loss: 1.5093 - categorical_accuracy: 0.5536 - val_loss: 2.9019 - val_categorical_accuracy: 0.3708\n",
      "Epoch 49/50\n",
      " - 32s - loss: 1.5030 - categorical_accuracy: 0.5513 - val_loss: 2.9070 - val_categorical_accuracy: 0.3688\n",
      "Epoch 50/50\n",
      " - 31s - loss: 1.4937 - categorical_accuracy: 0.5534 - val_loss: 2.9142 - val_categorical_accuracy: 0.3696\n"
     ]
    }
   ],
   "source": [
    "history = model.fit(X_train, y_train, batch_size=128, epochs=50, verbose=2, validation_data=(X_test, y_test))"
   ]
  },
  {
   "cell_type": "code",
   "execution_count": 72,
   "metadata": {},
   "outputs": [
    {
     "data": {
      "text/plain": [
       "<matplotlib.axes._subplots.AxesSubplot at 0x1460c217b00>"
      ]
     },
     "execution_count": 72,
     "metadata": {},
     "output_type": "execute_result"
    },
    {
     "data": {
      "image/png": "[encoded data removed]",
      "text/plain": [
       "<Figure size 432x288 with 1 Axes>"
      ]
     },
     "metadata": {},
     "output_type": "display_data"
    }
   ],
   "source": [
    "pd.DataFrame(history.history)[[\"categorical_accuracy\", \"val_categorical_accuracy\"]] \\\n",
    "    .plot(grid=True)"
   ]
  },
  {
   "cell_type": "code",
   "execution_count": null,
   "metadata": {
    "collapsed": true
   },
   "outputs": [],
   "source": []
  },
  {
   "cell_type": "markdown",
   "metadata": {},
   "source": [
    "# Submit"
   ]
  },
  {
   "cell_type": "code",
   "execution_count": 76,
   "metadata": {},
   "outputs": [],
   "source": [
    "X_test_inp = [\n",
    "    pipe_service.transform(pd_test), \n",
    "    pipe_clinic.transform(pd_test), \n",
    "    pipe_adv.transform(pd_test),\n",
    "    pipe_sex.transform(pd_test),\n",
    "    pipe_age.transform(pd_test),\n",
    "    pipe_symptom.transform(pd_test),\n",
    "]"
   ]
  },
  {
   "cell_type": "code",
   "execution_count": 80,
   "metadata": {
    "collapsed": true
   },
   "outputs": [],
   "source": [
    "model = get_model()"
   ]
  },
  {
   "cell_type": "code",
   "execution_count": 81,
   "metadata": {},
   "outputs": [
    {
     "name": "stdout",
     "output_type": "stream",
     "text": [
      "Epoch 1/20\n",
      " - 23s - loss: 4.7658 - categorical_accuracy: 0.1691\n",
      "Epoch 2/20\n",
      " - 25s - loss: 3.3033 - categorical_accuracy: 0.2773\n",
      "Epoch 3/20\n",
      " - 24s - loss: 2.9629 - categorical_accuracy: 0.3083\n",
      "Epoch 4/20\n",
      " - 26s - loss: 2.7647 - categorical_accuracy: 0.3321\n",
      "Epoch 5/20\n",
      " - 25s - loss: 2.6314 - categorical_accuracy: 0.3488\n",
      "Epoch 6/20\n",
      " - 24s - loss: 2.5324 - categorical_accuracy: 0.3611\n",
      "Epoch 7/20\n",
      " - 22s - loss: 2.4452 - categorical_accuracy: 0.3712\n",
      "Epoch 8/20\n",
      " - 22s - loss: 2.3801 - categorical_accuracy: 0.3807\n",
      "Epoch 9/20\n",
      " - 22s - loss: 2.3238 - categorical_accuracy: 0.3886\n",
      "Epoch 10/20\n",
      " - 22s - loss: 2.2676 - categorical_accuracy: 0.3967\n",
      "Epoch 11/20\n",
      " - 22s - loss: 2.2289 - categorical_accuracy: 0.4009\n",
      "Epoch 12/20\n",
      " - 22s - loss: 2.1873 - categorical_accuracy: 0.4083\n",
      "Epoch 13/20\n",
      " - 22s - loss: 2.1509 - categorical_accuracy: 0.4142\n",
      "Epoch 14/20\n",
      " - 22s - loss: 2.1190 - categorical_accuracy: 0.4201\n",
      "Epoch 15/20\n",
      " - 23s - loss: 2.0842 - categorical_accuracy: 0.4268\n",
      "Epoch 16/20\n",
      " - 23s - loss: 2.0555 - categorical_accuracy: 0.4313\n",
      "Epoch 17/20\n",
      " - 22s - loss: 2.0307 - categorical_accuracy: 0.4347\n",
      "Epoch 18/20\n",
      " - 22s - loss: 2.0024 - categorical_accuracy: 0.4405\n",
      "Epoch 19/20\n",
      " - 22s - loss: 1.9743 - categorical_accuracy: 0.4461\n",
      "Epoch 20/20\n",
      " - 22s - loss: 1.9526 - categorical_accuracy: 0.4504\n"
     ]
    },
    {
     "data": {
      "text/plain": [
       "<keras.callbacks.History at 0x146144d7dd8>"
      ]
     },
     "execution_count": 81,
     "metadata": {},
     "output_type": "execute_result"
    }
   ],
   "source": [
    "model.fit(X_input, keras.utils.to_categorical(y), batch_size=128, epochs=20, verbose=2)"
   ]
  },
  {
   "cell_type": "code",
   "execution_count": 82,
   "metadata": {},
   "outputs": [],
   "source": [
    "y_predict = model.predict(X_test_inp, batch_size=128)"
   ]
  },
  {
   "cell_type": "code",
   "execution_count": 83,
   "metadata": {
    "collapsed": true
   },
   "outputs": [],
   "source": [
    "pd_submit = pd.DataFrame({\"index\": pd_test.index})\n",
    "pd_submit[\"y_predict\"] = y_predict.argmax(axis=1)\n",
    "pd_submit[\"Код_диагноза\"] = pd_submit[\"y_predict\"].map(target_dict_ix2code).fillna(target_dict_ix2code[0])"
   ]
  },
  {
   "cell_type": "code",
   "execution_count": 84,
   "metadata": {
    "collapsed": true
   },
   "outputs": [],
   "source": [
    "pd_submit[[\"index\", \"Код_диагноза\"]].to_csv(\"submit_a01_1200.csv\", index=None)"
   ]
  },
  {
   "cell_type": "code",
   "execution_count": null,
   "metadata": {
    "collapsed": true
   },
   "outputs": [],
   "source": []
  }
 ],
 "metadata": {
  "kernelspec": {
   "display_name": "Python 3",
   "language": "python",
   "name": "python3"
  },
  "language_info": {
   "codemirror_mode": {
    "name": "ipython",
    "version": 3
   },
   "file_extension": ".py",
   "mimetype": "text/x-python",
   "name": "python",
   "nbconvert_exporter": "python",
   "pygments_lexer": "ipython3",
   "version": "3.6.3"
  }
 },
 "nbformat": 4,
 "nbformat_minor": 2
}
